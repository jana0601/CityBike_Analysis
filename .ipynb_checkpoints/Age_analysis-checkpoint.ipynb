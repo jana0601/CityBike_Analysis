{
 "cells": [
  {
   "cell_type": "code",
   "execution_count": 1,
   "id": "3de2150e",
   "metadata": {},
   "outputs": [
    {
     "name": "stdout",
     "output_type": "stream",
     "text": [
      "📂 Processing: results\\dataAnalysis\\2013\\age_distribution.csv\n",
      "📂 Processing: results\\dataAnalysis\\2014\\age_distribution.csv\n",
      "📂 Processing: results\\dataAnalysis\\2015\\age_distribution.csv\n",
      "📂 Processing: results\\dataAnalysis\\2016\\age_distribution.csv\n",
      "📂 Processing: results\\dataAnalysis\\2017\\age_distribution.csv\n",
      "📂 Processing: results\\dataAnalysis\\2018\\age_distribution.csv\n",
      "📂 Processing: results\\dataAnalysis\\2019\\age_distribution.csv\n",
      "📂 Processing: results\\dataAnalysis\\2020\\age_distribution.csv\n",
      "📂 Processing: results\\dataAnalysis\\2021\\age_distribution.csv\n",
      "✅ Saved combined age distribution → results\\age_distribution\\all_years_usage_age_distribution.csv\n"
     ]
    }
   ],
   "source": [
    "import pandas as pd\n",
    "import os\n",
    "\n",
    "def combine_age_distributions(input_root, output_file):\n",
    "    total_counts = pd.Series(dtype=int)\n",
    "\n",
    "    # Traverse each year's subfolder\n",
    "    for folder_name in os.listdir(input_root):\n",
    "        folder_path = os.path.join(input_root, folder_name)\n",
    "        age_file = os.path.join(folder_path, 'age_distribution.csv')\n",
    "\n",
    "        if os.path.isfile(age_file):\n",
    "            print(f\"📂 Processing: {age_file}\")\n",
    "            try:\n",
    "                df = pd.read_csv(age_file)\n",
    "                # Handle columns: assume first column is age, second is count\n",
    "                df.columns = ['age', 'count']\n",
    "                df = df.dropna()\n",
    "                #df['age'] = pd.to_numeric(df['age'], errors='coerce')\n",
    "                #df['count'] = pd.to_numeric(df['count'], errors='coerce')\n",
    "                df = df.dropna()\n",
    "\n",
    "                age_counts = df.groupby('age')['count'].sum()\n",
    "                total_counts = total_counts.add(age_counts, fill_value=0)\n",
    "\n",
    "            except Exception as e:\n",
    "                print(f\"❌ Failed to process {age_file}: {e}\")\n",
    "\n",
    "    # Final combined DataFrame\n",
    "    combined_df = total_counts.astype(int).sort_index().reset_index()\n",
    "    combined_df.columns = ['age', 'total_usage_count']\n",
    "\n",
    "    # Save to file\n",
    "    os.makedirs(os.path.dirname(output_file), exist_ok=True)\n",
    "    combined_df.to_csv(output_file, index=False)\n",
    "    print(f\"✅ Saved combined age distribution → {output_file}\")\n",
    "\n",
    "# === CONFIG ===\n",
    "input_root = r\"results\\dataAnalysis\"\n",
    "output_file = r\"results\\age_distribution\\all_years_usage_age_distribution.csv\"\n",
    "\n",
    "combine_age_distributions(input_root, output_file)\n"
   ]
  },
  {
   "cell_type": "code",
   "execution_count": null,
   "id": "fb25c861",
   "metadata": {},
   "outputs": [],
   "source": [
    "import pandas as pd\n",
    "import matplotlib.pyplot as plt\n",
    "import seaborn as sns\n",
    "from pathlib import Path\n",
    "\n",
    "# Load combined age distribution\n",
    "input_file = Path(\"results/age_distribution/all_years_usage_age_distribution.csv\")\n",
    "df = pd.read_csv(input_file)\n",
    "\n",
    "# Set up style\n",
    "sns.set(style=\"whitegrid\", font_scale=1.5)\n",
    "\n",
    "# Plot\n",
    "plt.figure(figsize=(16, 8))\n",
    "sns.barplot(data=df, x=\"age\", y=\"total_usage_count\", color=\"skyblue\")\n",
    "\n",
    "plt.title(\"Total Bike Usage by Age Group (All Years)\", fontsize=20)\n",
    "plt.xlabel(\"Age\", fontsize=16)\n",
    "plt.ylabel(\"Total Usage Count\", fontsize=16)\n",
    "plt.xticks(rotation=45)\n",
    "plt.tight_layout()\n",
    "\n",
    "# Save the plot\n",
    "output_path = Path(\"results/dataAnalysis/extra_analysis/age_distribution_presentation.png\")\n",
    "plt.savefig(output_path, dpi=300)\n",
    "plt.show()\n"
   ]
  }
 ],
 "metadata": {
  "kernelspec": {
   "display_name": "Python 3 (ipykernel)",
   "language": "python",
   "name": "python3"
  },
  "language_info": {
   "codemirror_mode": {
    "name": "ipython",
    "version": 3
   },
   "file_extension": ".py",
   "mimetype": "text/x-python",
   "name": "python",
   "nbconvert_exporter": "python",
   "pygments_lexer": "ipython3",
   "version": "3.10.2"
  }
 },
 "nbformat": 4,
 "nbformat_minor": 5
}
