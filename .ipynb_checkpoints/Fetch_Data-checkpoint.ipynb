{
 "cells": [
  {
   "cell_type": "code",
   "execution_count": 1,
   "id": "508fb241-9d61-4608-8d64-824075574fb6",
   "metadata": {},
   "outputs": [],
   "source": []
  },
  {
   "cell_type": "code",
   "execution_count": null,
   "id": "36c044f4-c3a8-4ab1-a760-eb5f3a0195d2",
   "metadata": {},
   "outputs": [],
   "source": []
  },
  {
   "cell_type": "code",
   "execution_count": null,
   "id": "6291d04d-fe4a-4c7a-ac25-c988c136f39f",
   "metadata": {},
   "outputs": [],
   "source": [
    "\n"
   ]
  },
  {
   "cell_type": "code",
   "execution_count": null,
   "id": "488fc20b-1011-49b8-94c2-9d103e696d2b",
   "metadata": {},
   "outputs": [],
   "source": []
  },
  {
   "cell_type": "code",
   "execution_count": null,
   "id": "ee71661f-4601-4ab0-82a7-58b45bc3f599",
   "metadata": {},
   "outputs": [
    {
     "name": "stdout",
     "output_type": "stream",
     "text": [
      "Found 153 .zip files.\n",
      "Downloading https://s3.amazonaws.com/tripdata/2013-citibike-tripdata.zip\n",
      "Saved to tripdata_zips\\2013-citibike-tripdata.zip\n",
      "Downloading https://s3.amazonaws.com/tripdata/2014-citibike-tripdata.zip\n",
      "Saved to tripdata_zips\\2014-citibike-tripdata.zip\n",
      "Downloading https://s3.amazonaws.com/tripdata/2015-citibike-tripdata.zip\n",
      "Saved to tripdata_zips\\2015-citibike-tripdata.zip\n",
      "Downloading https://s3.amazonaws.com/tripdata/2016-citibike-tripdata.zip\n"
     ]
    }
   ],
   "source": [
    "import requests\n",
    "import xml.etree.ElementTree as ET\n",
    "import os\n",
    "\n",
    "# Base URL of the S3 bucket\n",
    "BUCKET_URL = \"https://s3.amazonaws.com/tripdata\"\n",
    "\n",
    "# Where to save downloaded files\n",
    "DOWNLOAD_FOLDER = \"tripdata_zips\"\n",
    "os.makedirs(DOWNLOAD_FOLDER, exist_ok=True)\n",
    "\n",
    "def get_zip_file_list():\n",
    "    \"\"\"Fetch all .zip file names from the S3 bucket listing.\"\"\"\n",
    "    response = requests.get(BUCKET_URL + \"/\")\n",
    "    response.raise_for_status()\n",
    "\n",
    "    root = ET.fromstring(response.text)\n",
    "    zip_files = []\n",
    "\n",
    "    # Look for all <Key> tags\n",
    "    for contents in root.findall(\".//{http://s3.amazonaws.com/doc/2006-03-01/}Contents\"):\n",
    "        key = contents.find(\"{http://s3.amazonaws.com/doc/2006-03-01/}Key\")\n",
    "        if key is not None and key.text.endswith(\".zip\"):\n",
    "            zip_files.append(key.text)\n",
    "\n",
    "    return zip_files\n",
    "\n",
    "def download_file(key):\n",
    "    \"\"\"Download a single zip file given the S3 key.\"\"\"\n",
    "    url = f\"{BUCKET_URL}/{key}\"\n",
    "    local_path = os.path.join(DOWNLOAD_FOLDER, os.path.basename(key))\n",
    "\n",
    "    if os.path.exists(local_path):\n",
    "        print(f\"Already downloaded: {local_path}\")\n",
    "        return\n",
    "\n",
    "    print(f\"Downloading {url}\")\n",
    "    with requests.get(url, stream=True) as r:\n",
    "        r.raise_for_status()\n",
    "        with open(local_path, 'wb') as f:\n",
    "            for chunk in r.iter_content(chunk_size=8192):\n",
    "                f.write(chunk)\n",
    "    print(f\"Saved to {local_path}\")\n",
    "\n",
    "def main():\n",
    "    zip_files = get_zip_file_list()\n",
    "    print(f\"Found {len(zip_files)} .zip files.\")\n",
    "    \n",
    "    for zip_file in zip_files:\n",
    "        download_file(zip_file)\n",
    "\n",
    "if __name__ == \"__main__\":\n",
    "    main()\n"
   ]
  },
  {
   "cell_type": "code",
   "execution_count": null,
   "id": "1c1b7b17-b95f-4f5e-bcdd-04dbaf71acca",
   "metadata": {},
   "outputs": [],
   "source": []
  }
 ],
 "metadata": {
  "kernelspec": {
   "display_name": "Python 3 (ipykernel)",
   "language": "python",
   "name": "python3"
  },
  "language_info": {
   "codemirror_mode": {
    "name": "ipython",
    "version": 3
   },
   "file_extension": ".py",
   "mimetype": "text/x-python",
   "name": "python",
   "nbconvert_exporter": "python",
   "pygments_lexer": "ipython3",
   "version": "3.10.2"
  }
 },
 "nbformat": 4,
 "nbformat_minor": 5
}
