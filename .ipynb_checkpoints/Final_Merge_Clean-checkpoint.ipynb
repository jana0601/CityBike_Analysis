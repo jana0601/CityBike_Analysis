{
 "cells": [
  {
   "cell_type": "code",
   "execution_count": 7,
   "id": "59da9a25",
   "metadata": {},
   "outputs": [
    {
     "ename": "SyntaxError",
     "evalue": "invalid syntax (683482057.py, line 63)",
     "output_type": "error",
     "traceback": [
      "\u001b[1;36m  Input \u001b[1;32mIn [7]\u001b[1;36m\u001b[0m\n\u001b[1;33m    'start station latitude': 'start station latitude',\u001b[0m\n\u001b[1;37m                            ^\u001b[0m\n\u001b[1;31mSyntaxError\u001b[0m\u001b[1;31m:\u001b[0m invalid syntax\n"
     ]
    }
   ],
   "source": [
    "# Helper function: convert only if not already datetime\n",
    "def safe_convert_to_datetime(series):\n",
    "    if not pd.api.types.is_datetime64_any_dtype(series):\n",
    "        # Clean multiple spaces, strip whitespace\n",
    "        series = series.astype(str).str.replace(r\"\\s+\", \" \", regex=True).str.strip()\n",
    "        return pd.to_datetime(series, errors='coerce', infer_datetime_format=True)\n",
    "    return series\n",
    "\n",
    "# === Step 2: Normalize different schemas to common format ===\n",
    "def normalize_columns(df):\n",
    "    col_map = {\n",
    "        # Time columns\n",
    "        'starttime': 'starttime',\n",
    "        'Start Time': 'starttime',\n",
    "        'started_at': 'starttime',\n",
    "\n",
    "        'stoptime': 'stoptime',\n",
    "        'Stop Time': 'stoptime',\n",
    "        'ended_at': 'stoptime',\n",
    "\n",
    "        # Optional: unify naming for trip duration or other fields\n",
    "        'tripduration': 'tripduration',\n",
    "        'Trip Duration': 'tripduration',\n",
    "\n",
    "        # User type\n",
    "        'usertype': 'usertype',\n",
    "        'User Type': 'usertype',\n",
    "        'member_casual': 'usertype',\n",
    "\n",
    "        # Start station ID\n",
    "        'start station id': 'start_station_id',\n",
    "        'Start Station ID': 'start_station_id',\n",
    "        'start_station_id': 'start_station_id',\n",
    "\n",
    "        # End station ID\n",
    "        'end station id': 'end_station_id',\n",
    "        'End Station ID': 'end_station_id',\n",
    "        'end_station_id': 'end_station_id',\n",
    "\n",
    "        # Optional: bike id\n",
    "        'bikeid': 'bike_id',\n",
    "        'Bike ID': 'bike_id',\n",
    "\n",
    "        # Ride ID (Divvy)\n",
    "        'ride_id': 'ride_id',\n",
    "        'rideable_type': 'rideable_type',\n",
    "        \n",
    "        'start station name': 'start station name' ,\n",
    "        'start_station_name': 'start station name' ,\n",
    "        'end station name':  'end station name',\n",
    "        'end_station_name':  'end station name',\n",
    "        \n",
    "        'end station latitude': 'end station latitude',\n",
    "        'end_lat':'end station latitude',\n",
    "        'end station longitude': 'end station longitude',\n",
    "        'end_lng':'end station longitude',\n",
    "        \n",
    "        \n",
    "        \n",
    "        'bike_type': 'bike_type',\n",
    "        'rideable_type': 'bike_type',\n",
    "        \n",
    "        'start station latitude': 'start station latitude',\n",
    "        'start_lat':'start station latitude',\n",
    "        'start station longitude': 'start station longitude',\n",
    "        'start_lng':'start station longitude'\n",
    "\n",
    "        \n",
    "    }\n",
    "\n",
    "    # Rename columns based on known mappings\n",
    "    df = df.rename(columns={k: v for k, v in col_map.items() if k in df.columns})\n",
    "\n",
    "    return df\n"
   ]
  },
  {
   "cell_type": "code",
   "execution_count": 5,
   "id": "a4f2c784",
   "metadata": {},
   "outputs": [
    {
     "name": "stdout",
     "output_type": "stream",
     "text": [
      "\n",
      "📁 Found 12 CSV files in extracted_tripdata\\2022\n",
      "  📖 Reading: extracted_tripdata\\2022\\JC-202201-citibike-tripdata.csv\n",
      "  📖 Reading: extracted_tripdata\\2022\\JC-202202-citibike-tripdata.csv\n",
      "  📖 Reading: extracted_tripdata\\2022\\JC-202203-citibike-tripdata.csv\n",
      "  📖 Reading: extracted_tripdata\\2022\\JC-202204-citibike-tripdata.csv\n",
      "  📖 Reading: extracted_tripdata\\2022\\JC-202205-citibike-tripdata.csv\n",
      "  📖 Reading: extracted_tripdata\\2022\\JC-202206-citibike-tripdata.csv\n",
      "  📖 Reading: extracted_tripdata\\2022\\JC-202207-citbike-tripdata.csv\n",
      "  📖 Reading: extracted_tripdata\\2022\\JC-202208-citibike-tripdata.csv\n",
      "  📖 Reading: extracted_tripdata\\2022\\JC-202209-citibike-tripdata.csv\n",
      "  📖 Reading: extracted_tripdata\\2022\\JC-202210-citibike-tripdata.csv\n",
      "  📖 Reading: extracted_tripdata\\2022\\JC-202211-citibike-tripdata.csv\n",
      "  📖 Reading: extracted_tripdata\\2022\\JC-202212-citibike-tripdata.csv\n",
      "Original rows: 895485\n",
      "  ✅ Merged CSV saved to: merged_tripdata3\\2022_merged.csv\n",
      "\n",
      "📁 Found 12 CSV files in extracted_tripdata\\2023\n",
      "  📖 Reading: extracted_tripdata\\2023\\JC-202301-citibike-tripdata.csv\n",
      "  📖 Reading: extracted_tripdata\\2023\\JC-202302-citibike-tripdata.csv\n",
      "  📖 Reading: extracted_tripdata\\2023\\JC-202303-citibike-tripdata.csv\n",
      "  📖 Reading: extracted_tripdata\\2023\\JC-202304-citibike-tripdata.csv\n",
      "  📖 Reading: extracted_tripdata\\2023\\JC-202305-citibike-tripdata.csv\n",
      "  📖 Reading: extracted_tripdata\\2023\\JC-202306-citibike-tripdata.csv\n",
      "  📖 Reading: extracted_tripdata\\2023\\JC-202307-citibike-tripdata.csv\n",
      "  📖 Reading: extracted_tripdata\\2023\\JC-202308-citibike-tripdata.csv\n",
      "  📖 Reading: extracted_tripdata\\2023\\JC-202309-citibike-tripdata.csv\n",
      "  📖 Reading: extracted_tripdata\\2023\\JC-202310-citibike-tripdata.csv\n",
      "  📖 Reading: extracted_tripdata\\2023\\JC-202311-citibike-tripdata.csv\n",
      "  📖 Reading: extracted_tripdata\\2023\\JC-202312-citibike-tripdata.csv\n",
      "Original rows: 988851\n",
      "  ✅ Merged CSV saved to: merged_tripdata3\\2023_merged.csv\n",
      "\n",
      "📁 Found 62 CSV files in extracted_tripdata\\2024\n",
      "  📖 Reading: extracted_tripdata\\2024\\202401-citibike-tripdata_1.csv\n"
     ]
    },
    {
     "name": "stderr",
     "output_type": "stream",
     "text": [
      "C:\\Users\\yanhu\\AppData\\Local\\Temp\\ipykernel_11664\\640971883.py:17: DtypeWarning: Columns (5) have mixed types. Specify dtype option on import or set low_memory=False.\n",
      "  df = pd.read_csv(file)\n"
     ]
    },
    {
     "name": "stdout",
     "output_type": "stream",
     "text": [
      "  📖 Reading: extracted_tripdata\\2024\\202401-citibike-tripdata_2.csv\n"
     ]
    },
    {
     "name": "stderr",
     "output_type": "stream",
     "text": [
      "C:\\Users\\yanhu\\AppData\\Local\\Temp\\ipykernel_11664\\640971883.py:17: DtypeWarning: Columns (5,7) have mixed types. Specify dtype option on import or set low_memory=False.\n",
      "  df = pd.read_csv(file)\n"
     ]
    },
    {
     "name": "stdout",
     "output_type": "stream",
     "text": [
      "  📖 Reading: extracted_tripdata\\2024\\202402-citibike-tripdata_1.csv\n"
     ]
    },
    {
     "name": "stderr",
     "output_type": "stream",
     "text": [
      "C:\\Users\\yanhu\\AppData\\Local\\Temp\\ipykernel_11664\\640971883.py:17: DtypeWarning: Columns (5,7) have mixed types. Specify dtype option on import or set low_memory=False.\n",
      "  df = pd.read_csv(file)\n"
     ]
    },
    {
     "name": "stdout",
     "output_type": "stream",
     "text": [
      "  📖 Reading: extracted_tripdata\\2024\\202402-citibike-tripdata_2.csv\n"
     ]
    },
    {
     "name": "stderr",
     "output_type": "stream",
     "text": [
      "C:\\Users\\yanhu\\AppData\\Local\\Temp\\ipykernel_11664\\640971883.py:17: DtypeWarning: Columns (7) have mixed types. Specify dtype option on import or set low_memory=False.\n",
      "  df = pd.read_csv(file)\n"
     ]
    },
    {
     "name": "stdout",
     "output_type": "stream",
     "text": [
      "  📖 Reading: extracted_tripdata\\2024\\202402-citibike-tripdata_3.csv\n"
     ]
    },
    {
     "name": "stderr",
     "output_type": "stream",
     "text": [
      "C:\\Users\\yanhu\\AppData\\Local\\Temp\\ipykernel_11664\\640971883.py:17: DtypeWarning: Columns (7) have mixed types. Specify dtype option on import or set low_memory=False.\n",
      "  df = pd.read_csv(file)\n"
     ]
    },
    {
     "name": "stdout",
     "output_type": "stream",
     "text": [
      "  📖 Reading: extracted_tripdata\\2024\\202403-citibike-tripdata_1.csv\n"
     ]
    },
    {
     "name": "stderr",
     "output_type": "stream",
     "text": [
      "C:\\Users\\yanhu\\AppData\\Local\\Temp\\ipykernel_11664\\640971883.py:17: DtypeWarning: Columns (5,7) have mixed types. Specify dtype option on import or set low_memory=False.\n",
      "  df = pd.read_csv(file)\n"
     ]
    },
    {
     "name": "stdout",
     "output_type": "stream",
     "text": [
      "  📖 Reading: extracted_tripdata\\2024\\202403-citibike-tripdata_2.csv\n"
     ]
    },
    {
     "name": "stderr",
     "output_type": "stream",
     "text": [
      "C:\\Users\\yanhu\\AppData\\Local\\Temp\\ipykernel_11664\\640971883.py:17: DtypeWarning: Columns (5,7) have mixed types. Specify dtype option on import or set low_memory=False.\n",
      "  df = pd.read_csv(file)\n"
     ]
    },
    {
     "name": "stdout",
     "output_type": "stream",
     "text": [
      "  📖 Reading: extracted_tripdata\\2024\\202403-citibike-tripdata_3.csv\n"
     ]
    },
    {
     "name": "stderr",
     "output_type": "stream",
     "text": [
      "C:\\Users\\yanhu\\AppData\\Local\\Temp\\ipykernel_11664\\640971883.py:17: DtypeWarning: Columns (5,7) have mixed types. Specify dtype option on import or set low_memory=False.\n",
      "  df = pd.read_csv(file)\n"
     ]
    },
    {
     "name": "stdout",
     "output_type": "stream",
     "text": [
      "  📖 Reading: extracted_tripdata\\2024\\202404-citibike-tripdata_1.csv\n"
     ]
    },
    {
     "name": "stderr",
     "output_type": "stream",
     "text": [
      "C:\\Users\\yanhu\\AppData\\Local\\Temp\\ipykernel_11664\\640971883.py:17: DtypeWarning: Columns (5,7) have mixed types. Specify dtype option on import or set low_memory=False.\n",
      "  df = pd.read_csv(file)\n"
     ]
    },
    {
     "name": "stdout",
     "output_type": "stream",
     "text": [
      "  📖 Reading: extracted_tripdata\\2024\\202404-citibike-tripdata_2.csv\n"
     ]
    },
    {
     "name": "stderr",
     "output_type": "stream",
     "text": [
      "C:\\Users\\yanhu\\AppData\\Local\\Temp\\ipykernel_11664\\640971883.py:17: DtypeWarning: Columns (5) have mixed types. Specify dtype option on import or set low_memory=False.\n",
      "  df = pd.read_csv(file)\n"
     ]
    },
    {
     "name": "stdout",
     "output_type": "stream",
     "text": [
      "  📖 Reading: extracted_tripdata\\2024\\202404-citibike-tripdata_3.csv\n"
     ]
    },
    {
     "name": "stderr",
     "output_type": "stream",
     "text": [
      "C:\\Users\\yanhu\\AppData\\Local\\Temp\\ipykernel_11664\\640971883.py:17: DtypeWarning: Columns (5,7) have mixed types. Specify dtype option on import or set low_memory=False.\n",
      "  df = pd.read_csv(file)\n"
     ]
    },
    {
     "name": "stdout",
     "output_type": "stream",
     "text": [
      "  📖 Reading: extracted_tripdata\\2024\\202404-citibike-tripdata_4.csv\n",
      "  📖 Reading: extracted_tripdata\\2024\\202405-citibike-tripdata_1.csv\n"
     ]
    },
    {
     "name": "stderr",
     "output_type": "stream",
     "text": [
      "C:\\Users\\yanhu\\AppData\\Local\\Temp\\ipykernel_11664\\640971883.py:17: DtypeWarning: Columns (5,7) have mixed types. Specify dtype option on import or set low_memory=False.\n",
      "  df = pd.read_csv(file)\n"
     ]
    },
    {
     "name": "stdout",
     "output_type": "stream",
     "text": [
      "  📖 Reading: extracted_tripdata\\2024\\202405-citibike-tripdata_2.csv\n"
     ]
    },
    {
     "name": "stderr",
     "output_type": "stream",
     "text": [
      "C:\\Users\\yanhu\\AppData\\Local\\Temp\\ipykernel_11664\\640971883.py:17: DtypeWarning: Columns (5,7) have mixed types. Specify dtype option on import or set low_memory=False.\n",
      "  df = pd.read_csv(file)\n"
     ]
    },
    {
     "name": "stdout",
     "output_type": "stream",
     "text": [
      "  📖 Reading: extracted_tripdata\\2024\\202405-citibike-tripdata_3.csv\n"
     ]
    },
    {
     "name": "stderr",
     "output_type": "stream",
     "text": [
      "C:\\Users\\yanhu\\AppData\\Local\\Temp\\ipykernel_11664\\640971883.py:17: DtypeWarning: Columns (5,7) have mixed types. Specify dtype option on import or set low_memory=False.\n",
      "  df = pd.read_csv(file)\n"
     ]
    },
    {
     "name": "stdout",
     "output_type": "stream",
     "text": [
      "  📖 Reading: extracted_tripdata\\2024\\202405-citibike-tripdata_4.csv\n"
     ]
    },
    {
     "name": "stderr",
     "output_type": "stream",
     "text": [
      "C:\\Users\\yanhu\\AppData\\Local\\Temp\\ipykernel_11664\\640971883.py:17: DtypeWarning: Columns (5,7) have mixed types. Specify dtype option on import or set low_memory=False.\n",
      "  df = pd.read_csv(file)\n"
     ]
    },
    {
     "name": "stdout",
     "output_type": "stream",
     "text": [
      "  📖 Reading: extracted_tripdata\\2024\\202405-citibike-tripdata_5.csv\n"
     ]
    },
    {
     "name": "stderr",
     "output_type": "stream",
     "text": [
      "C:\\Users\\yanhu\\AppData\\Local\\Temp\\ipykernel_11664\\640971883.py:17: DtypeWarning: Columns (5) have mixed types. Specify dtype option on import or set low_memory=False.\n",
      "  df = pd.read_csv(file)\n"
     ]
    },
    {
     "name": "stdout",
     "output_type": "stream",
     "text": [
      "  📖 Reading: extracted_tripdata\\2024\\202406-citibike-tripdata_1.csv\n"
     ]
    },
    {
     "name": "stderr",
     "output_type": "stream",
     "text": [
      "C:\\Users\\yanhu\\AppData\\Local\\Temp\\ipykernel_11664\\640971883.py:17: DtypeWarning: Columns (5,7) have mixed types. Specify dtype option on import or set low_memory=False.\n",
      "  df = pd.read_csv(file)\n"
     ]
    },
    {
     "name": "stdout",
     "output_type": "stream",
     "text": [
      "  📖 Reading: extracted_tripdata\\2024\\202406-citibike-tripdata_2.csv\n"
     ]
    },
    {
     "name": "stderr",
     "output_type": "stream",
     "text": [
      "C:\\Users\\yanhu\\AppData\\Local\\Temp\\ipykernel_11664\\640971883.py:17: DtypeWarning: Columns (5,7) have mixed types. Specify dtype option on import or set low_memory=False.\n",
      "  df = pd.read_csv(file)\n"
     ]
    },
    {
     "name": "stdout",
     "output_type": "stream",
     "text": [
      "  📖 Reading: extracted_tripdata\\2024\\202406-citibike-tripdata_3.csv\n"
     ]
    },
    {
     "name": "stderr",
     "output_type": "stream",
     "text": [
      "C:\\Users\\yanhu\\AppData\\Local\\Temp\\ipykernel_11664\\640971883.py:17: DtypeWarning: Columns (5,7) have mixed types. Specify dtype option on import or set low_memory=False.\n",
      "  df = pd.read_csv(file)\n"
     ]
    },
    {
     "name": "stdout",
     "output_type": "stream",
     "text": [
      "  📖 Reading: extracted_tripdata\\2024\\202406-citibike-tripdata_4.csv\n"
     ]
    },
    {
     "name": "stderr",
     "output_type": "stream",
     "text": [
      "C:\\Users\\yanhu\\AppData\\Local\\Temp\\ipykernel_11664\\640971883.py:17: DtypeWarning: Columns (5,7) have mixed types. Specify dtype option on import or set low_memory=False.\n",
      "  df = pd.read_csv(file)\n"
     ]
    },
    {
     "name": "stdout",
     "output_type": "stream",
     "text": [
      "  📖 Reading: extracted_tripdata\\2024\\202406-citibike-tripdata_5.csv\n"
     ]
    },
    {
     "name": "stderr",
     "output_type": "stream",
     "text": [
      "C:\\Users\\yanhu\\AppData\\Local\\Temp\\ipykernel_11664\\640971883.py:17: DtypeWarning: Columns (5,7) have mixed types. Specify dtype option on import or set low_memory=False.\n",
      "  df = pd.read_csv(file)\n"
     ]
    },
    {
     "name": "stdout",
     "output_type": "stream",
     "text": [
      "  📖 Reading: extracted_tripdata\\2024\\202407-citibike-tripdata_1.csv\n"
     ]
    },
    {
     "name": "stderr",
     "output_type": "stream",
     "text": [
      "C:\\Users\\yanhu\\AppData\\Local\\Temp\\ipykernel_11664\\640971883.py:17: DtypeWarning: Columns (5,7) have mixed types. Specify dtype option on import or set low_memory=False.\n",
      "  df = pd.read_csv(file)\n"
     ]
    },
    {
     "name": "stdout",
     "output_type": "stream",
     "text": [
      "  📖 Reading: extracted_tripdata\\2024\\202407-citibike-tripdata_2.csv\n"
     ]
    },
    {
     "name": "stderr",
     "output_type": "stream",
     "text": [
      "C:\\Users\\yanhu\\AppData\\Local\\Temp\\ipykernel_11664\\640971883.py:17: DtypeWarning: Columns (7) have mixed types. Specify dtype option on import or set low_memory=False.\n",
      "  df = pd.read_csv(file)\n"
     ]
    },
    {
     "name": "stdout",
     "output_type": "stream",
     "text": [
      "  📖 Reading: extracted_tripdata\\2024\\202407-citibike-tripdata_3.csv\n"
     ]
    },
    {
     "name": "stderr",
     "output_type": "stream",
     "text": [
      "C:\\Users\\yanhu\\AppData\\Local\\Temp\\ipykernel_11664\\640971883.py:17: DtypeWarning: Columns (7) have mixed types. Specify dtype option on import or set low_memory=False.\n",
      "  df = pd.read_csv(file)\n"
     ]
    },
    {
     "name": "stdout",
     "output_type": "stream",
     "text": [
      "  📖 Reading: extracted_tripdata\\2024\\202407-citibike-tripdata_4.csv\n"
     ]
    },
    {
     "name": "stderr",
     "output_type": "stream",
     "text": [
      "C:\\Users\\yanhu\\AppData\\Local\\Temp\\ipykernel_11664\\640971883.py:17: DtypeWarning: Columns (7) have mixed types. Specify dtype option on import or set low_memory=False.\n",
      "  df = pd.read_csv(file)\n"
     ]
    },
    {
     "name": "stdout",
     "output_type": "stream",
     "text": [
      "  📖 Reading: extracted_tripdata\\2024\\202407-citibike-tripdata_5.csv\n"
     ]
    },
    {
     "name": "stderr",
     "output_type": "stream",
     "text": [
      "C:\\Users\\yanhu\\AppData\\Local\\Temp\\ipykernel_11664\\640971883.py:17: DtypeWarning: Columns (5,7) have mixed types. Specify dtype option on import or set low_memory=False.\n",
      "  df = pd.read_csv(file)\n"
     ]
    },
    {
     "name": "stdout",
     "output_type": "stream",
     "text": [
      "  📖 Reading: extracted_tripdata\\2024\\202408-citibike-tripdata_1.csv\n"
     ]
    },
    {
     "name": "stderr",
     "output_type": "stream",
     "text": [
      "C:\\Users\\yanhu\\AppData\\Local\\Temp\\ipykernel_11664\\640971883.py:17: DtypeWarning: Columns (7) have mixed types. Specify dtype option on import or set low_memory=False.\n",
      "  df = pd.read_csv(file)\n"
     ]
    },
    {
     "name": "stdout",
     "output_type": "stream",
     "text": [
      "  📖 Reading: extracted_tripdata\\2024\\202408-citibike-tripdata_2.csv\n"
     ]
    },
    {
     "name": "stderr",
     "output_type": "stream",
     "text": [
      "C:\\Users\\yanhu\\AppData\\Local\\Temp\\ipykernel_11664\\640971883.py:17: DtypeWarning: Columns (5,7) have mixed types. Specify dtype option on import or set low_memory=False.\n",
      "  df = pd.read_csv(file)\n"
     ]
    },
    {
     "name": "stdout",
     "output_type": "stream",
     "text": [
      "  📖 Reading: extracted_tripdata\\2024\\202408-citibike-tripdata_3.csv\n"
     ]
    },
    {
     "name": "stderr",
     "output_type": "stream",
     "text": [
      "C:\\Users\\yanhu\\AppData\\Local\\Temp\\ipykernel_11664\\640971883.py:17: DtypeWarning: Columns (5,7) have mixed types. Specify dtype option on import or set low_memory=False.\n",
      "  df = pd.read_csv(file)\n"
     ]
    },
    {
     "name": "stdout",
     "output_type": "stream",
     "text": [
      "  📖 Reading: extracted_tripdata\\2024\\202408-citibike-tripdata_4.csv\n"
     ]
    },
    {
     "name": "stderr",
     "output_type": "stream",
     "text": [
      "C:\\Users\\yanhu\\AppData\\Local\\Temp\\ipykernel_11664\\640971883.py:17: DtypeWarning: Columns (5,7) have mixed types. Specify dtype option on import or set low_memory=False.\n",
      "  df = pd.read_csv(file)\n"
     ]
    },
    {
     "name": "stdout",
     "output_type": "stream",
     "text": [
      "  📖 Reading: extracted_tripdata\\2024\\202408-citibike-tripdata_5.csv\n"
     ]
    },
    {
     "name": "stderr",
     "output_type": "stream",
     "text": [
      "C:\\Users\\yanhu\\AppData\\Local\\Temp\\ipykernel_11664\\640971883.py:17: DtypeWarning: Columns (5,7) have mixed types. Specify dtype option on import or set low_memory=False.\n",
      "  df = pd.read_csv(file)\n"
     ]
    },
    {
     "name": "stdout",
     "output_type": "stream",
     "text": [
      "  📖 Reading: extracted_tripdata\\2024\\202409-citibike-tripdata_1.csv\n"
     ]
    },
    {
     "name": "stderr",
     "output_type": "stream",
     "text": [
      "C:\\Users\\yanhu\\AppData\\Local\\Temp\\ipykernel_11664\\640971883.py:17: DtypeWarning: Columns (5,7) have mixed types. Specify dtype option on import or set low_memory=False.\n",
      "  df = pd.read_csv(file)\n"
     ]
    },
    {
     "name": "stdout",
     "output_type": "stream",
     "text": [
      "  📖 Reading: extracted_tripdata\\2024\\202409-citibike-tripdata_2.csv\n"
     ]
    },
    {
     "name": "stderr",
     "output_type": "stream",
     "text": [
      "C:\\Users\\yanhu\\AppData\\Local\\Temp\\ipykernel_11664\\640971883.py:17: DtypeWarning: Columns (7) have mixed types. Specify dtype option on import or set low_memory=False.\n",
      "  df = pd.read_csv(file)\n"
     ]
    },
    {
     "name": "stdout",
     "output_type": "stream",
     "text": [
      "  📖 Reading: extracted_tripdata\\2024\\202409-citibike-tripdata_3.csv\n"
     ]
    },
    {
     "name": "stderr",
     "output_type": "stream",
     "text": [
      "C:\\Users\\yanhu\\AppData\\Local\\Temp\\ipykernel_11664\\640971883.py:17: DtypeWarning: Columns (7) have mixed types. Specify dtype option on import or set low_memory=False.\n",
      "  df = pd.read_csv(file)\n"
     ]
    },
    {
     "name": "stdout",
     "output_type": "stream",
     "text": [
      "  📖 Reading: extracted_tripdata\\2024\\202409-citibike-tripdata_4.csv\n"
     ]
    },
    {
     "name": "stderr",
     "output_type": "stream",
     "text": [
      "C:\\Users\\yanhu\\AppData\\Local\\Temp\\ipykernel_11664\\640971883.py:17: DtypeWarning: Columns (7) have mixed types. Specify dtype option on import or set low_memory=False.\n",
      "  df = pd.read_csv(file)\n"
     ]
    },
    {
     "name": "stdout",
     "output_type": "stream",
     "text": [
      "  📖 Reading: extracted_tripdata\\2024\\202409-citibike-tripdata_5.csv\n"
     ]
    },
    {
     "name": "stderr",
     "output_type": "stream",
     "text": [
      "C:\\Users\\yanhu\\AppData\\Local\\Temp\\ipykernel_11664\\640971883.py:17: DtypeWarning: Columns (5,7) have mixed types. Specify dtype option on import or set low_memory=False.\n",
      "  df = pd.read_csv(file)\n"
     ]
    },
    {
     "name": "stdout",
     "output_type": "stream",
     "text": [
      "  📖 Reading: extracted_tripdata\\2024\\202410-citibike-tripdata_1.csv\n"
     ]
    },
    {
     "name": "stderr",
     "output_type": "stream",
     "text": [
      "C:\\Users\\yanhu\\AppData\\Local\\Temp\\ipykernel_11664\\640971883.py:17: DtypeWarning: Columns (5) have mixed types. Specify dtype option on import or set low_memory=False.\n",
      "  df = pd.read_csv(file)\n"
     ]
    },
    {
     "name": "stdout",
     "output_type": "stream",
     "text": [
      "  📖 Reading: extracted_tripdata\\2024\\202410-citibike-tripdata_2.csv\n"
     ]
    },
    {
     "name": "stderr",
     "output_type": "stream",
     "text": [
      "C:\\Users\\yanhu\\AppData\\Local\\Temp\\ipykernel_11664\\640971883.py:17: DtypeWarning: Columns (5,7) have mixed types. Specify dtype option on import or set low_memory=False.\n",
      "  df = pd.read_csv(file)\n"
     ]
    },
    {
     "name": "stdout",
     "output_type": "stream",
     "text": [
      "  📖 Reading: extracted_tripdata\\2024\\202410-citibike-tripdata_3.csv\n"
     ]
    },
    {
     "name": "stderr",
     "output_type": "stream",
     "text": [
      "C:\\Users\\yanhu\\AppData\\Local\\Temp\\ipykernel_11664\\640971883.py:17: DtypeWarning: Columns (7) have mixed types. Specify dtype option on import or set low_memory=False.\n",
      "  df = pd.read_csv(file)\n"
     ]
    },
    {
     "name": "stdout",
     "output_type": "stream",
     "text": [
      "  📖 Reading: extracted_tripdata\\2024\\202410-citibike-tripdata_4.csv\n"
     ]
    },
    {
     "name": "stderr",
     "output_type": "stream",
     "text": [
      "C:\\Users\\yanhu\\AppData\\Local\\Temp\\ipykernel_11664\\640971883.py:17: DtypeWarning: Columns (7) have mixed types. Specify dtype option on import or set low_memory=False.\n",
      "  df = pd.read_csv(file)\n"
     ]
    },
    {
     "name": "stdout",
     "output_type": "stream",
     "text": [
      "  📖 Reading: extracted_tripdata\\2024\\202410-citibike-tripdata_5.csv\n"
     ]
    },
    {
     "name": "stderr",
     "output_type": "stream",
     "text": [
      "C:\\Users\\yanhu\\AppData\\Local\\Temp\\ipykernel_11664\\640971883.py:17: DtypeWarning: Columns (5,7) have mixed types. Specify dtype option on import or set low_memory=False.\n",
      "  df = pd.read_csv(file)\n"
     ]
    },
    {
     "name": "stdout",
     "output_type": "stream",
     "text": [
      "  📖 Reading: extracted_tripdata\\2024\\202410-citibike-tripdata_6.csv\n"
     ]
    },
    {
     "name": "stderr",
     "output_type": "stream",
     "text": [
      "C:\\Users\\yanhu\\AppData\\Local\\Temp\\ipykernel_11664\\640971883.py:17: DtypeWarning: Columns (5,7) have mixed types. Specify dtype option on import or set low_memory=False.\n",
      "  df = pd.read_csv(file)\n"
     ]
    },
    {
     "name": "stdout",
     "output_type": "stream",
     "text": [
      "  📖 Reading: extracted_tripdata\\2024\\202411-citibike-tripdata_1.csv\n"
     ]
    },
    {
     "name": "stderr",
     "output_type": "stream",
     "text": [
      "C:\\Users\\yanhu\\AppData\\Local\\Temp\\ipykernel_11664\\640971883.py:17: DtypeWarning: Columns (5,7) have mixed types. Specify dtype option on import or set low_memory=False.\n",
      "  df = pd.read_csv(file)\n"
     ]
    },
    {
     "name": "stdout",
     "output_type": "stream",
     "text": [
      "  📖 Reading: extracted_tripdata\\2024\\202411-citibike-tripdata_2.csv\n"
     ]
    },
    {
     "name": "stderr",
     "output_type": "stream",
     "text": [
      "C:\\Users\\yanhu\\AppData\\Local\\Temp\\ipykernel_11664\\640971883.py:17: DtypeWarning: Columns (5,7) have mixed types. Specify dtype option on import or set low_memory=False.\n",
      "  df = pd.read_csv(file)\n"
     ]
    },
    {
     "name": "stdout",
     "output_type": "stream",
     "text": [
      "  📖 Reading: extracted_tripdata\\2024\\202411-citibike-tripdata_3.csv\n"
     ]
    },
    {
     "name": "stderr",
     "output_type": "stream",
     "text": [
      "C:\\Users\\yanhu\\AppData\\Local\\Temp\\ipykernel_11664\\640971883.py:17: DtypeWarning: Columns (5,7) have mixed types. Specify dtype option on import or set low_memory=False.\n",
      "  df = pd.read_csv(file)\n"
     ]
    },
    {
     "name": "stdout",
     "output_type": "stream",
     "text": [
      "  📖 Reading: extracted_tripdata\\2024\\202411-citibike-tripdata_4.csv\n",
      "  📖 Reading: extracted_tripdata\\2024\\202412-citibike-tripdata_1.csv\n"
     ]
    },
    {
     "name": "stderr",
     "output_type": "stream",
     "text": [
      "C:\\Users\\yanhu\\AppData\\Local\\Temp\\ipykernel_11664\\640971883.py:17: DtypeWarning: Columns (7) have mixed types. Specify dtype option on import or set low_memory=False.\n",
      "  df = pd.read_csv(file)\n"
     ]
    },
    {
     "name": "stdout",
     "output_type": "stream",
     "text": [
      "  📖 Reading: extracted_tripdata\\2024\\202412-citibike-tripdata_2.csv\n"
     ]
    },
    {
     "name": "stderr",
     "output_type": "stream",
     "text": [
      "C:\\Users\\yanhu\\AppData\\Local\\Temp\\ipykernel_11664\\640971883.py:17: DtypeWarning: Columns (5,7) have mixed types. Specify dtype option on import or set low_memory=False.\n",
      "  df = pd.read_csv(file)\n"
     ]
    },
    {
     "name": "stdout",
     "output_type": "stream",
     "text": [
      "  📖 Reading: extracted_tripdata\\2024\\202412-citibike-tripdata_3.csv\n",
      "  📖 Reading: extracted_tripdata\\2024\\JC-202401-citibike-tripdata.csv\n",
      "  📖 Reading: extracted_tripdata\\2024\\JC-202402-citibike-tripdata.csv\n",
      "  📖 Reading: extracted_tripdata\\2024\\JC-202403-citibike-tripdata.csv\n",
      "  📖 Reading: extracted_tripdata\\2024\\JC-202404-citibike-tripdata.csv\n",
      "  📖 Reading: extracted_tripdata\\2024\\JC-202405-citibike-tripdata.csv\n",
      "  📖 Reading: extracted_tripdata\\2024\\JC-202406-citibike-tripdata.csv\n",
      "  📖 Reading: extracted_tripdata\\2024\\JC-202407-citibike-tripdata.csv\n",
      "  📖 Reading: extracted_tripdata\\2024\\JC-202408-citibike-tripdata.csv\n",
      "  📖 Reading: extracted_tripdata\\2024\\JC-202409-citibike-tripdata.csv\n",
      "  📖 Reading: extracted_tripdata\\2024\\JC-202410-citibike-tripdata.csv\n",
      "  📖 Reading: extracted_tripdata\\2024\\JC-202411-citibike-tripdata.csv\n",
      "  📖 Reading: extracted_tripdata\\2024\\JC-202412-citibike-tripdata.csv\n",
      "Original rows: 45355660\n",
      "  ✅ Merged CSV saved to: merged_tripdata3\\2024_merged.csv\n",
      "\n",
      "📁 Found 50 CSV files in extracted_tripdata\\2025\n",
      "  📖 Reading: extracted_tripdata\\2025\\202501-citibike-tripdata_1.csv\n"
     ]
    },
    {
     "name": "stderr",
     "output_type": "stream",
     "text": [
      "C:\\Users\\yanhu\\AppData\\Local\\Temp\\ipykernel_11664\\640971883.py:17: DtypeWarning: Columns (5,7) have mixed types. Specify dtype option on import or set low_memory=False.\n",
      "  df = pd.read_csv(file)\n"
     ]
    },
    {
     "name": "stdout",
     "output_type": "stream",
     "text": [
      "  📖 Reading: extracted_tripdata\\2025\\202501-citibike-tripdata_2.csv\n"
     ]
    },
    {
     "name": "stderr",
     "output_type": "stream",
     "text": [
      "C:\\Users\\yanhu\\AppData\\Local\\Temp\\ipykernel_11664\\640971883.py:17: DtypeWarning: Columns (5,7) have mixed types. Specify dtype option on import or set low_memory=False.\n",
      "  df = pd.read_csv(file)\n"
     ]
    },
    {
     "name": "stdout",
     "output_type": "stream",
     "text": [
      "  📖 Reading: extracted_tripdata\\2025\\202501-citibike-tripdata_3.csv\n",
      "  📖 Reading: extracted_tripdata\\2025\\202502-citibike-tripdata_1.csv\n"
     ]
    },
    {
     "name": "stderr",
     "output_type": "stream",
     "text": [
      "C:\\Users\\yanhu\\AppData\\Local\\Temp\\ipykernel_11664\\640971883.py:17: DtypeWarning: Columns (7) have mixed types. Specify dtype option on import or set low_memory=False.\n",
      "  df = pd.read_csv(file)\n"
     ]
    },
    {
     "name": "stdout",
     "output_type": "stream",
     "text": [
      "  📖 Reading: extracted_tripdata\\2025\\202502-citibike-tripdata_2.csv\n"
     ]
    },
    {
     "name": "stderr",
     "output_type": "stream",
     "text": [
      "C:\\Users\\yanhu\\AppData\\Local\\Temp\\ipykernel_11664\\640971883.py:17: DtypeWarning: Columns (5,7) have mixed types. Specify dtype option on import or set low_memory=False.\n",
      "  df = pd.read_csv(file)\n"
     ]
    },
    {
     "name": "stdout",
     "output_type": "stream",
     "text": [
      "  📖 Reading: extracted_tripdata\\2025\\202502-citibike-tripdata_3.csv\n",
      "  📖 Reading: extracted_tripdata\\2025\\202503-citibike-tripdata_1.csv\n"
     ]
    },
    {
     "name": "stderr",
     "output_type": "stream",
     "text": [
      "C:\\Users\\yanhu\\AppData\\Local\\Temp\\ipykernel_11664\\640971883.py:17: DtypeWarning: Columns (5,7) have mixed types. Specify dtype option on import or set low_memory=False.\n",
      "  df = pd.read_csv(file)\n"
     ]
    },
    {
     "name": "stdout",
     "output_type": "stream",
     "text": [
      "  📖 Reading: extracted_tripdata\\2025\\202503-citibike-tripdata_2.csv\n"
     ]
    },
    {
     "name": "stderr",
     "output_type": "stream",
     "text": [
      "C:\\Users\\yanhu\\AppData\\Local\\Temp\\ipykernel_11664\\640971883.py:17: DtypeWarning: Columns (5,7) have mixed types. Specify dtype option on import or set low_memory=False.\n",
      "  df = pd.read_csv(file)\n"
     ]
    },
    {
     "name": "stdout",
     "output_type": "stream",
     "text": [
      "  📖 Reading: extracted_tripdata\\2025\\202503-citibike-tripdata_3.csv\n"
     ]
    },
    {
     "name": "stderr",
     "output_type": "stream",
     "text": [
      "C:\\Users\\yanhu\\AppData\\Local\\Temp\\ipykernel_11664\\640971883.py:17: DtypeWarning: Columns (5,7) have mixed types. Specify dtype option on import or set low_memory=False.\n",
      "  df = pd.read_csv(file)\n"
     ]
    },
    {
     "name": "stdout",
     "output_type": "stream",
     "text": [
      "  📖 Reading: extracted_tripdata\\2025\\202503-citibike-tripdata_4.csv\n"
     ]
    },
    {
     "name": "stderr",
     "output_type": "stream",
     "text": [
      "C:\\Users\\yanhu\\AppData\\Local\\Temp\\ipykernel_11664\\640971883.py:17: DtypeWarning: Columns (7) have mixed types. Specify dtype option on import or set low_memory=False.\n",
      "  df = pd.read_csv(file)\n"
     ]
    },
    {
     "name": "stdout",
     "output_type": "stream",
     "text": [
      "  📖 Reading: extracted_tripdata\\2025\\202504-citibike-tripdata_1.csv\n",
      "  📖 Reading: extracted_tripdata\\2025\\202504-citibike-tripdata_2.csv\n"
     ]
    },
    {
     "name": "stderr",
     "output_type": "stream",
     "text": [
      "C:\\Users\\yanhu\\AppData\\Local\\Temp\\ipykernel_11664\\640971883.py:17: DtypeWarning: Columns (7) have mixed types. Specify dtype option on import or set low_memory=False.\n",
      "  df = pd.read_csv(file)\n"
     ]
    },
    {
     "name": "stdout",
     "output_type": "stream",
     "text": [
      "  📖 Reading: extracted_tripdata\\2025\\202504-citibike-tripdata_3.csv\n"
     ]
    },
    {
     "name": "stderr",
     "output_type": "stream",
     "text": [
      "C:\\Users\\yanhu\\AppData\\Local\\Temp\\ipykernel_11664\\640971883.py:17: DtypeWarning: Columns (7) have mixed types. Specify dtype option on import or set low_memory=False.\n",
      "  df = pd.read_csv(file)\n"
     ]
    },
    {
     "name": "stdout",
     "output_type": "stream",
     "text": [
      "  📖 Reading: extracted_tripdata\\2025\\202504-citibike-tripdata_4.csv\n"
     ]
    },
    {
     "name": "stderr",
     "output_type": "stream",
     "text": [
      "C:\\Users\\yanhu\\AppData\\Local\\Temp\\ipykernel_11664\\640971883.py:17: DtypeWarning: Columns (5,7) have mixed types. Specify dtype option on import or set low_memory=False.\n",
      "  df = pd.read_csv(file)\n"
     ]
    },
    {
     "name": "stdout",
     "output_type": "stream",
     "text": [
      "  📖 Reading: extracted_tripdata\\2025\\202505-citibike-tripdata_1.csv\n"
     ]
    },
    {
     "name": "stderr",
     "output_type": "stream",
     "text": [
      "C:\\Users\\yanhu\\AppData\\Local\\Temp\\ipykernel_11664\\640971883.py:17: DtypeWarning: Columns (5,7) have mixed types. Specify dtype option on import or set low_memory=False.\n",
      "  df = pd.read_csv(file)\n"
     ]
    },
    {
     "name": "stdout",
     "output_type": "stream",
     "text": [
      "  📖 Reading: extracted_tripdata\\2025\\202505-citibike-tripdata_2.csv\n"
     ]
    },
    {
     "name": "stderr",
     "output_type": "stream",
     "text": [
      "C:\\Users\\yanhu\\AppData\\Local\\Temp\\ipykernel_11664\\640971883.py:17: DtypeWarning: Columns (7) have mixed types. Specify dtype option on import or set low_memory=False.\n",
      "  df = pd.read_csv(file)\n"
     ]
    },
    {
     "name": "stdout",
     "output_type": "stream",
     "text": [
      "  📖 Reading: extracted_tripdata\\2025\\202505-citibike-tripdata_3.csv\n"
     ]
    },
    {
     "name": "stderr",
     "output_type": "stream",
     "text": [
      "C:\\Users\\yanhu\\AppData\\Local\\Temp\\ipykernel_11664\\640971883.py:17: DtypeWarning: Columns (5,7) have mixed types. Specify dtype option on import or set low_memory=False.\n",
      "  df = pd.read_csv(file)\n"
     ]
    },
    {
     "name": "stdout",
     "output_type": "stream",
     "text": [
      "  📖 Reading: extracted_tripdata\\2025\\202505-citibike-tripdata_4.csv\n"
     ]
    },
    {
     "name": "stderr",
     "output_type": "stream",
     "text": [
      "C:\\Users\\yanhu\\AppData\\Local\\Temp\\ipykernel_11664\\640971883.py:17: DtypeWarning: Columns (5,7) have mixed types. Specify dtype option on import or set low_memory=False.\n",
      "  df = pd.read_csv(file)\n"
     ]
    },
    {
     "name": "stdout",
     "output_type": "stream",
     "text": [
      "  📖 Reading: extracted_tripdata\\2025\\202505-citibike-tripdata_5.csv\n"
     ]
    },
    {
     "name": "stderr",
     "output_type": "stream",
     "text": [
      "C:\\Users\\yanhu\\AppData\\Local\\Temp\\ipykernel_11664\\640971883.py:17: DtypeWarning: Columns (7) have mixed types. Specify dtype option on import or set low_memory=False.\n",
      "  df = pd.read_csv(file)\n"
     ]
    },
    {
     "name": "stdout",
     "output_type": "stream",
     "text": [
      "  📖 Reading: extracted_tripdata\\2025\\202506-citibike-tripdata_1.csv\n"
     ]
    },
    {
     "name": "stderr",
     "output_type": "stream",
     "text": [
      "C:\\Users\\yanhu\\AppData\\Local\\Temp\\ipykernel_11664\\640971883.py:17: DtypeWarning: Columns (7) have mixed types. Specify dtype option on import or set low_memory=False.\n",
      "  df = pd.read_csv(file)\n"
     ]
    },
    {
     "name": "stdout",
     "output_type": "stream",
     "text": [
      "  📖 Reading: extracted_tripdata\\2025\\202506-citibike-tripdata_2.csv\n"
     ]
    },
    {
     "name": "stderr",
     "output_type": "stream",
     "text": [
      "C:\\Users\\yanhu\\AppData\\Local\\Temp\\ipykernel_11664\\640971883.py:17: DtypeWarning: Columns (5,7) have mixed types. Specify dtype option on import or set low_memory=False.\n",
      "  df = pd.read_csv(file)\n"
     ]
    },
    {
     "name": "stdout",
     "output_type": "stream",
     "text": [
      "  📖 Reading: extracted_tripdata\\2025\\202506-citibike-tripdata_3.csv\n"
     ]
    },
    {
     "name": "stderr",
     "output_type": "stream",
     "text": [
      "C:\\Users\\yanhu\\AppData\\Local\\Temp\\ipykernel_11664\\640971883.py:17: DtypeWarning: Columns (7) have mixed types. Specify dtype option on import or set low_memory=False.\n",
      "  df = pd.read_csv(file)\n"
     ]
    },
    {
     "name": "stdout",
     "output_type": "stream",
     "text": [
      "  📖 Reading: extracted_tripdata\\2025\\202506-citibike-tripdata_4.csv\n"
     ]
    },
    {
     "name": "stderr",
     "output_type": "stream",
     "text": [
      "C:\\Users\\yanhu\\AppData\\Local\\Temp\\ipykernel_11664\\640971883.py:17: DtypeWarning: Columns (7) have mixed types. Specify dtype option on import or set low_memory=False.\n",
      "  df = pd.read_csv(file)\n"
     ]
    },
    {
     "name": "stdout",
     "output_type": "stream",
     "text": [
      "  📖 Reading: extracted_tripdata\\2025\\202506-citibike-tripdata_5.csv\n"
     ]
    },
    {
     "name": "stderr",
     "output_type": "stream",
     "text": [
      "C:\\Users\\yanhu\\AppData\\Local\\Temp\\ipykernel_11664\\640971883.py:17: DtypeWarning: Columns (7) have mixed types. Specify dtype option on import or set low_memory=False.\n",
      "  df = pd.read_csv(file)\n"
     ]
    },
    {
     "name": "stdout",
     "output_type": "stream",
     "text": [
      "  📖 Reading: extracted_tripdata\\2025\\202507-citibike-tripdata_1.csv\n"
     ]
    },
    {
     "name": "stderr",
     "output_type": "stream",
     "text": [
      "C:\\Users\\yanhu\\AppData\\Local\\Temp\\ipykernel_11664\\640971883.py:17: DtypeWarning: Columns (7) have mixed types. Specify dtype option on import or set low_memory=False.\n",
      "  df = pd.read_csv(file)\n"
     ]
    },
    {
     "name": "stdout",
     "output_type": "stream",
     "text": [
      "  📖 Reading: extracted_tripdata\\2025\\202507-citibike-tripdata_2.csv\n"
     ]
    },
    {
     "name": "stderr",
     "output_type": "stream",
     "text": [
      "C:\\Users\\yanhu\\AppData\\Local\\Temp\\ipykernel_11664\\640971883.py:17: DtypeWarning: Columns (7) have mixed types. Specify dtype option on import or set low_memory=False.\n",
      "  df = pd.read_csv(file)\n"
     ]
    },
    {
     "name": "stdout",
     "output_type": "stream",
     "text": [
      "  📖 Reading: extracted_tripdata\\2025\\202507-citibike-tripdata_3.csv\n"
     ]
    },
    {
     "name": "stderr",
     "output_type": "stream",
     "text": [
      "C:\\Users\\yanhu\\AppData\\Local\\Temp\\ipykernel_11664\\640971883.py:17: DtypeWarning: Columns (7) have mixed types. Specify dtype option on import or set low_memory=False.\n",
      "  df = pd.read_csv(file)\n"
     ]
    },
    {
     "name": "stdout",
     "output_type": "stream",
     "text": [
      "  📖 Reading: extracted_tripdata\\2025\\202507-citibike-tripdata_4.csv\n"
     ]
    },
    {
     "name": "stderr",
     "output_type": "stream",
     "text": [
      "C:\\Users\\yanhu\\AppData\\Local\\Temp\\ipykernel_11664\\640971883.py:17: DtypeWarning: Columns (7) have mixed types. Specify dtype option on import or set low_memory=False.\n",
      "  df = pd.read_csv(file)\n"
     ]
    },
    {
     "name": "stdout",
     "output_type": "stream",
     "text": [
      "  📖 Reading: extracted_tripdata\\2025\\202507-citibike-tripdata_5.csv\n"
     ]
    },
    {
     "name": "stderr",
     "output_type": "stream",
     "text": [
      "C:\\Users\\yanhu\\AppData\\Local\\Temp\\ipykernel_11664\\640971883.py:17: DtypeWarning: Columns (7) have mixed types. Specify dtype option on import or set low_memory=False.\n",
      "  df = pd.read_csv(file)\n"
     ]
    },
    {
     "name": "stdout",
     "output_type": "stream",
     "text": [
      "  📖 Reading: extracted_tripdata\\2025\\202508-citibike-tripdata_1.csv\n"
     ]
    },
    {
     "name": "stderr",
     "output_type": "stream",
     "text": [
      "C:\\Users\\yanhu\\AppData\\Local\\Temp\\ipykernel_11664\\640971883.py:17: DtypeWarning: Columns (7) have mixed types. Specify dtype option on import or set low_memory=False.\n",
      "  df = pd.read_csv(file)\n"
     ]
    },
    {
     "name": "stdout",
     "output_type": "stream",
     "text": [
      "  📖 Reading: extracted_tripdata\\2025\\202508-citibike-tripdata_2.csv\n"
     ]
    },
    {
     "name": "stderr",
     "output_type": "stream",
     "text": [
      "C:\\Users\\yanhu\\AppData\\Local\\Temp\\ipykernel_11664\\640971883.py:17: DtypeWarning: Columns (7) have mixed types. Specify dtype option on import or set low_memory=False.\n",
      "  df = pd.read_csv(file)\n"
     ]
    },
    {
     "name": "stdout",
     "output_type": "stream",
     "text": [
      "  📖 Reading: extracted_tripdata\\2025\\202508-citibike-tripdata_3.csv\n"
     ]
    },
    {
     "name": "stderr",
     "output_type": "stream",
     "text": [
      "C:\\Users\\yanhu\\AppData\\Local\\Temp\\ipykernel_11664\\640971883.py:17: DtypeWarning: Columns (7) have mixed types. Specify dtype option on import or set low_memory=False.\n",
      "  df = pd.read_csv(file)\n"
     ]
    },
    {
     "name": "stdout",
     "output_type": "stream",
     "text": [
      "  📖 Reading: extracted_tripdata\\2025\\202508-citibike-tripdata_4.csv\n"
     ]
    },
    {
     "name": "stderr",
     "output_type": "stream",
     "text": [
      "C:\\Users\\yanhu\\AppData\\Local\\Temp\\ipykernel_11664\\640971883.py:17: DtypeWarning: Columns (7) have mixed types. Specify dtype option on import or set low_memory=False.\n",
      "  df = pd.read_csv(file)\n"
     ]
    },
    {
     "name": "stdout",
     "output_type": "stream",
     "text": [
      "  📖 Reading: extracted_tripdata\\2025\\202508-citibike-tripdata_5.csv\n"
     ]
    },
    {
     "name": "stderr",
     "output_type": "stream",
     "text": [
      "C:\\Users\\yanhu\\AppData\\Local\\Temp\\ipykernel_11664\\640971883.py:17: DtypeWarning: Columns (7) have mixed types. Specify dtype option on import or set low_memory=False.\n",
      "  df = pd.read_csv(file)\n"
     ]
    },
    {
     "name": "stdout",
     "output_type": "stream",
     "text": [
      "  📖 Reading: extracted_tripdata\\2025\\202508-citibike-tripdata_6.csv\n"
     ]
    },
    {
     "name": "stderr",
     "output_type": "stream",
     "text": [
      "C:\\Users\\yanhu\\AppData\\Local\\Temp\\ipykernel_11664\\640971883.py:17: DtypeWarning: Columns (7) have mixed types. Specify dtype option on import or set low_memory=False.\n",
      "  df = pd.read_csv(file)\n"
     ]
    },
    {
     "name": "stdout",
     "output_type": "stream",
     "text": [
      "  📖 Reading: extracted_tripdata\\2025\\202509-citibike-tripdata_1.csv\n"
     ]
    },
    {
     "name": "stderr",
     "output_type": "stream",
     "text": [
      "C:\\Users\\yanhu\\AppData\\Local\\Temp\\ipykernel_11664\\640971883.py:17: DtypeWarning: Columns (7) have mixed types. Specify dtype option on import or set low_memory=False.\n",
      "  df = pd.read_csv(file)\n"
     ]
    },
    {
     "name": "stdout",
     "output_type": "stream",
     "text": [
      "  📖 Reading: extracted_tripdata\\2025\\202509-citibike-tripdata_2.csv\n"
     ]
    },
    {
     "name": "stderr",
     "output_type": "stream",
     "text": [
      "C:\\Users\\yanhu\\AppData\\Local\\Temp\\ipykernel_11664\\640971883.py:17: DtypeWarning: Columns (7) have mixed types. Specify dtype option on import or set low_memory=False.\n",
      "  df = pd.read_csv(file)\n"
     ]
    },
    {
     "name": "stdout",
     "output_type": "stream",
     "text": [
      "  📖 Reading: extracted_tripdata\\2025\\202509-citibike-tripdata_3.csv\n"
     ]
    },
    {
     "name": "stderr",
     "output_type": "stream",
     "text": [
      "C:\\Users\\yanhu\\AppData\\Local\\Temp\\ipykernel_11664\\640971883.py:17: DtypeWarning: Columns (7) have mixed types. Specify dtype option on import or set low_memory=False.\n",
      "  df = pd.read_csv(file)\n"
     ]
    },
    {
     "name": "stdout",
     "output_type": "stream",
     "text": [
      "  📖 Reading: extracted_tripdata\\2025\\202509-citibike-tripdata_4.csv\n"
     ]
    },
    {
     "name": "stderr",
     "output_type": "stream",
     "text": [
      "C:\\Users\\yanhu\\AppData\\Local\\Temp\\ipykernel_11664\\640971883.py:17: DtypeWarning: Columns (7) have mixed types. Specify dtype option on import or set low_memory=False.\n",
      "  df = pd.read_csv(file)\n"
     ]
    },
    {
     "name": "stdout",
     "output_type": "stream",
     "text": [
      "  📖 Reading: extracted_tripdata\\2025\\202509-citibike-tripdata_5.csv\n"
     ]
    },
    {
     "name": "stderr",
     "output_type": "stream",
     "text": [
      "C:\\Users\\yanhu\\AppData\\Local\\Temp\\ipykernel_11664\\640971883.py:17: DtypeWarning: Columns (7) have mixed types. Specify dtype option on import or set low_memory=False.\n",
      "  df = pd.read_csv(file)\n"
     ]
    },
    {
     "name": "stdout",
     "output_type": "stream",
     "text": [
      "  📖 Reading: extracted_tripdata\\2025\\202509-citibike-tripdata_6.csv\n",
      "  📖 Reading: extracted_tripdata\\2025\\JC-202501-citibike-tripdata.csv\n",
      "  📖 Reading: extracted_tripdata\\2025\\JC-202502-citibike-tripdata.csv\n",
      "  📖 Reading: extracted_tripdata\\2025\\JC-202503-citibike-tripdata.csv\n",
      "  📖 Reading: extracted_tripdata\\2025\\JC-202504-citibike-tripdata.csv\n",
      "  📖 Reading: extracted_tripdata\\2025\\JC-202505-citibike-tripdata.csv\n",
      "  📖 Reading: extracted_tripdata\\2025\\JC-202506-citibike-tripdata.csv\n",
      "  📖 Reading: extracted_tripdata\\2025\\JC-202507-citibike-tripdata.csv\n",
      "  📖 Reading: extracted_tripdata\\2025\\JC-202508-citibike-tripdata.csv\n",
      "  📖 Reading: extracted_tripdata\\2025\\JC-202509-citibike-tripdata.csv\n",
      "Original rows: 36303831\n",
      "  ✅ Merged CSV saved to: merged_tripdata3\\2025_merged.csv\n"
     ]
    }
   ],
   "source": [
    "import os\n",
    "import pandas as pd\n",
    "\n",
    "def merge_csv_files(input_dir, output_file):\n",
    "    all_csv_files = [\n",
    "        os.path.join(input_dir, f)\n",
    "        for f in os.listdir(input_dir)\n",
    "        if f.lower().endswith('.csv')\n",
    "    ]\n",
    "\n",
    "    print(f\"\\n📁 Found {len(all_csv_files)} CSV files in {input_dir}\")\n",
    "\n",
    "    df_list = []\n",
    "    for file in all_csv_files:\n",
    "        print(f\"  📖 Reading: {file}\")\n",
    "        try:\n",
    "            df = pd.read_csv(file)\n",
    "            # Normalize columns\n",
    "            df = normalize_columns(df)\n",
    "            # Apply safe conversion\n",
    "            df['starttime'] = safe_convert_to_datetime(df['starttime'])\n",
    "            df['stoptime'] = safe_convert_to_datetime(df['stoptime'])\n",
    "            df_list.append(df)\n",
    "        except Exception as e:\n",
    "            print(f\"  ❌ Error reading {file}: {e}\")\n",
    "\n",
    "    if df_list:\n",
    "        \n",
    "        merged_df = pd.concat(df_list, ignore_index=True)\n",
    "        #cleaning\n",
    "        print(f\"Original rows: {len(merged_df)}\")\n",
    "        # Remove duplicates (based on all columns)\n",
    "        merged_df = merged_df.drop_duplicates()\n",
    "        merged_df = merged_df.sort_values(by='starttime')\n",
    "\n",
    "    \t#print(f\"Rows after removing duplicates: {len(merged_df)}\")\n",
    "        os.makedirs(os.path.dirname(output_file), exist_ok=True)\n",
    "        merged_df.to_csv(output_file, index=False)\n",
    "        print(f\"  ✅ Merged CSV saved to: {output_file}\")\n",
    "    else:\n",
    "        print(\"  ⚠️ No valid CSV files to merge.\")\n",
    "\n",
    "# === CONFIG ===\n",
    "input_root = r\"extracted_tripdata\"              # Parent folder with year subfolders\n",
    "output_root = r\"merged_tripdata3\"                # Where to save merged CSVs\n",
    "os.makedirs(output_root, exist_ok=True)\n",
    "selected_years = ['2022','2023','2024','2025']\n",
    "\n",
    "for year in selected_years:\n",
    "# Loop over all subfolders (years)\n",
    "#for folder_name in os.listdir(input_root):\n",
    "    folder_path = os.path.join(input_root, year)\n",
    "    \n",
    "    if os.path.isdir(folder_path) and year.isdigit():\n",
    "        year = year\n",
    "        output_file = os.path.join(output_root, f\"{year}_merged.csv\")\n",
    "        merge_csv_files(folder_path, output_file)\n"
   ]
  },
  {
   "cell_type": "code",
   "execution_count": null,
   "id": "a54ff24d",
   "metadata": {},
   "outputs": [],
   "source": []
  }
 ],
 "metadata": {
  "kernelspec": {
   "display_name": "Python 3 (ipykernel)",
   "language": "python",
   "name": "python3"
  },
  "language_info": {
   "codemirror_mode": {
    "name": "ipython",
    "version": 3
   },
   "file_extension": ".py",
   "mimetype": "text/x-python",
   "name": "python",
   "nbconvert_exporter": "python",
   "pygments_lexer": "ipython3",
   "version": "3.10.2"
  }
 },
 "nbformat": 4,
 "nbformat_minor": 5
}
