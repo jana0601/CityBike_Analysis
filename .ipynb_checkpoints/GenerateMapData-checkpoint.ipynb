{
 "cells": [
  {
   "cell_type": "code",
   "execution_count": 9,
   "id": "d5335ecd",
   "metadata": {},
   "outputs": [],
   "source": [
    "import folium\n",
    "from folium.plugins import MarkerCluster\n",
    "from pathlib import Path\n",
    "import pandas as pd"
   ]
  },
  {
   "cell_type": "markdown",
   "id": "44c8f33b",
   "metadata": {},
   "source": [
    "# No year layer"
   ]
  },
  {
   "cell_type": "code",
   "execution_count": null,
   "id": "92939316",
   "metadata": {},
   "outputs": [],
   "source": []
  },
  {
   "cell_type": "code",
   "execution_count": null,
   "id": "0f399529",
   "metadata": {},
   "outputs": [],
   "source": []
  },
  {
   "cell_type": "markdown",
   "id": "995cdaeb",
   "metadata": {},
   "source": [
    "# Add year layers"
   ]
  },
  {
   "cell_type": "code",
   "execution_count": 14,
   "id": "1bb13997",
   "metadata": {},
   "outputs": [
    {
     "name": "stdout",
     "output_type": "stream",
     "text": [
      "✅ Crash map with year & month layers saved to: results\\matched_trips\\matched_crashes_all\\matched_crashes_map_by_month_and_year.html\n"
     ]
    }
   ],
   "source": [
    "import pandas as pd\n",
    "import folium\n",
    "from folium.plugins import MarkerCluster\n",
    "from pathlib import Path\n",
    "\n",
    "filePath = r\"results\\matched_trips\\matched_crashes_all\\all_years_matched_crashes.csv\"\n",
    "combined_crashes = pd.read_csv(filePath)\n",
    "\n",
    "# Convert crash date to datetime\n",
    "combined_crashes['CRASH_DATETIME'] = pd.to_datetime(combined_crashes['CRASH_DATETIME'], errors='coerce')\n",
    "\n",
    "# Filter for valid locations\n",
    "crashes = combined_crashes[\n",
    "    combined_crashes['CRASH_LATITUDE'].notna() & combined_crashes['CRASH_LONGITUDE'].notna()\n",
    "].copy()\n",
    "\n",
    "# Create year and year-month columns\n",
    "crashes['year'] = crashes['CRASH_DATETIME'].dt.year\n",
    "crashes['year_month'] = crashes['CRASH_DATETIME'].dt.to_period('M').astype(str)\n",
    "\n",
    "# Center map on average location\n",
    "map_center = [crashes['CRASH_LATITUDE'].mean(), crashes['CRASH_LONGITUDE'].mean()]\n",
    "m = folium.Map(location=map_center, zoom_start=12)\n",
    "\n",
    "# === Year-Based Layers ===\n",
    "for year, group in crashes.groupby('year'):\n",
    "    year_layer = folium.FeatureGroup(name=f\"Year: {year}\", show=False)\n",
    "    year_cluster = MarkerCluster().add_to(year_layer)\n",
    "    \n",
    "    for _, row in group.iterrows():\n",
    "        folium.Marker(\n",
    "            location=[row['CRASH_LATITUDE'], row['CRASH_LONGITUDE']],\n",
    "            popup=f\"Collision ID: {row['matched_crash_id']}<br>Date: {row['CRASH_DATETIME'].date()}\",\n",
    "        ).add_to(year_cluster)\n",
    "    \n",
    "    year_layer.add_to(m)\n",
    "\n",
    "# === Month-Based Layers ===\n",
    "for month, group in crashes.groupby('year_month'):\n",
    "    month_layer = folium.FeatureGroup(name=f\"Month: {month}\", show=False)\n",
    "    cluster = MarkerCluster().add_to(month_layer)\n",
    "\n",
    "    for _, row in group.iterrows():\n",
    "        folium.Marker(\n",
    "            location=[row['CRASH_LATITUDE'], row['CRASH_LONGITUDE']],\n",
    "            popup=f\"Collision ID: {row['matched_crash_id']}<br>Date: {row['CRASH_DATETIME'].date()}\",\n",
    "        ).add_to(cluster)\n",
    "\n",
    "    month_layer.add_to(m)\n",
    "\n",
    "# === All Crashes Layer ===\n",
    "all_layer = folium.FeatureGroup(name=\"All Crashes\", show=True)\n",
    "all_cluster = MarkerCluster().add_to(all_layer)\n",
    "\n",
    "for _, row in crashes.iterrows():\n",
    "    folium.Marker(\n",
    "        location=[row['CRASH_LATITUDE'], row['CRASH_LONGITUDE']],\n",
    "        popup=f\"Collision ID: {row['matched_crash_id']}<br>Date: {row['CRASH_DATETIME'].date()}\",\n",
    "    ).add_to(all_cluster)\n",
    "\n",
    "all_layer.add_to(m)\n",
    "\n",
    "# Add layer control\n",
    "folium.LayerControl(collapsed=False).add_to(m)\n",
    "\n",
    "# Save the map\n",
    "output_file = Path(\"results/matched_trips/matched_crashes_all/matched_crashes_map_by_month_and_year.html\")\n",
    "output_file.parent.mkdir(parents=True, exist_ok=True)\n",
    "m.save(str(output_file))\n",
    "\n",
    "print(f\"✅ Crash map with year & month layers saved to: {output_file}\")\n"
   ]
  },
  {
   "cell_type": "code",
   "execution_count": null,
   "id": "21731340",
   "metadata": {},
   "outputs": [],
   "source": []
  },
  {
   "cell_type": "code",
   "execution_count": null,
   "id": "e2645771",
   "metadata": {},
   "outputs": [],
   "source": []
  },
  {
   "cell_type": "code",
   "execution_count": null,
   "id": "014e04a4",
   "metadata": {},
   "outputs": [],
   "source": []
  },
  {
   "cell_type": "markdown",
   "id": "f3b229b6",
   "metadata": {},
   "source": [
    "# All bike crashes data from NYPD"
   ]
  },
  {
   "cell_type": "code",
   "execution_count": 12,
   "id": "e4172cb9",
   "metadata": {},
   "outputs": [],
   "source": [
    "#C:\\Users\\yanhu\\Documents\\Python_Notebook\\AXA_task\\\n",
    "crash_file = Path( r\"accident_data\\sorted_bike_crashes.csv\")  # or your processed crash file\n",
    "results_folder = Path(\"results\")\n",
    "results_folder.mkdir(exist_ok=True)\n",
    "\n",
    "# === LOAD CRASH DATA ===\n",
    "crash_df = pd.read_csv(crash_file)\n",
    "#crash_df['CRASH_DATETIME'] = pd.to_datetime(crash_df['CRASH_DATE'] + ' ' + crash_df['CRASH_TIME'])\n",
    "\n",
    "# Keep only necessary columns to speed up\n",
    "crash_df = crash_df[['COLLISION_ID', 'CRASH_DATETIME', 'LATITUDE', 'LONGITUDE']].dropna()"
   ]
  },
  {
   "cell_type": "code",
   "execution_count": 13,
   "id": "5d11d730",
   "metadata": {},
   "outputs": [
    {
     "name": "stdout",
     "output_type": "stream",
     "text": [
      "✅ Interactive map with CRASH_DATETIME saved to: results\\matched_trips\\matched_crashes_all\\All_bike_crash_map_by_time_layers.html\n"
     ]
    }
   ],
   "source": [
    "\n",
    "\n",
    "# === Ensure datetime is parsed ===\n",
    "crash_df['CRASH_DATETIME'] = pd.to_datetime(crash_df['CRASH_DATETIME'], errors='coerce')\n",
    "\n",
    "# === Filter rows with valid coordinates ===\n",
    "crashes = crash_df[\n",
    "    crash_df['LATITUDE'].notna() & crash_df['LONGITUDE'].notna()\n",
    "].copy()\n",
    "\n",
    "# === Extract time columns ===\n",
    "crashes['year'] = crashes['CRASH_DATETIME'].dt.year\n",
    "crashes['month'] = crashes['CRASH_DATETIME'].dt.month\n",
    "crashes['year_month'] = crashes['CRASH_DATETIME'].dt.to_period('M').astype(str)\n",
    "\n",
    "# === Setup map ===\n",
    "map_center = [crashes['LATITUDE'].mean(), crashes['LONGITUDE'].mean()]\n",
    "m = folium.Map(location=map_center, zoom_start=12)\n",
    "\n",
    "# === Add per-year layers ===\n",
    "for year, year_group in crashes.groupby('year'):\n",
    "    year_layer = folium.FeatureGroup(name=f\"Year: {year}\", show=False)\n",
    "    year_cluster = MarkerCluster().add_to(year_layer)\n",
    "\n",
    "    for _, row in year_group.iterrows():\n",
    "        folium.Marker(\n",
    "            location=[row['LATITUDE'], row['LONGITUDE']],\n",
    "            popup=f\"Collision ID: {row['COLLISION_ID']}<br>Date: {row['CRASH_DATETIME'].date()}\",\n",
    "        ).add_to(year_cluster)\n",
    "\n",
    "    year_layer.add_to(m)\n",
    "\n",
    "# === Add per-month layers ===\n",
    "for ym, group in crashes.groupby('year_month'):\n",
    "    month_layer = folium.FeatureGroup(name=f\"Month: {ym}\", show=False)\n",
    "    month_cluster = MarkerCluster().add_to(month_layer)\n",
    "\n",
    "    for _, row in group.iterrows():\n",
    "        folium.Marker(\n",
    "            location=[row['LATITUDE'], row['LONGITUDE']],\n",
    "            popup=f\"Collision ID: {row['COLLISION_ID']}<br>Date: {row['CRASH_DATETIME'].date()}\",\n",
    "        ).add_to(month_cluster)\n",
    "\n",
    "    month_layer.add_to(m)\n",
    "\n",
    "# === Add \"All Crashes\" layer ===\n",
    "all_layer = folium.FeatureGroup(name=\"All Crashes\", show=True)\n",
    "all_cluster = MarkerCluster().add_to(all_layer)\n",
    "for _, row in crashes.iterrows():\n",
    "    folium.Marker(\n",
    "        location=[row['LATITUDE'], row['LONGITUDE']],\n",
    "        popup=f\"Collision ID: {row['COLLISION_ID']}<br>Date: {row['CRASH_DATETIME'].date()}\",\n",
    "    ).add_to(all_cluster)\n",
    "all_layer.add_to(m)\n",
    "\n",
    "# === Add layer control ===\n",
    "folium.LayerControl(collapsed=False).add_to(m)\n",
    "\n",
    "# === Save the map ===\n",
    "output_file = Path(\"results/matched_trips/matched_crashes_all/All_bike_crash_map_by_time_layers.html\")\n",
    "output_file.parent.mkdir(parents=True, exist_ok=True)\n",
    "m.save(str(output_file))\n",
    "print(f\"✅ Interactive map with CRASH_DATETIME saved to: {output_file}\")\n"
   ]
  },
  {
   "cell_type": "code",
   "execution_count": null,
   "id": "dc58c01f",
   "metadata": {},
   "outputs": [],
   "source": []
  }
 ],
 "metadata": {
  "kernelspec": {
   "display_name": "Python 3 (ipykernel)",
   "language": "python",
   "name": "python3"
  },
  "language_info": {
   "codemirror_mode": {
    "name": "ipython",
    "version": 3
   },
   "file_extension": ".py",
   "mimetype": "text/x-python",
   "name": "python",
   "nbconvert_exporter": "python",
   "pygments_lexer": "ipython3",
   "version": "3.10.2"
  }
 },
 "nbformat": 4,
 "nbformat_minor": 5
}
