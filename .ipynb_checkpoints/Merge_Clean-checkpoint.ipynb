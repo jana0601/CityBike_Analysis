{
 "cells": [
  {
   "cell_type": "code",
   "execution_count": 1,
   "id": "abe34f75-88de-4222-baaf-78c58e3a2a3c",
   "metadata": {},
   "outputs": [],
   "source": [
    "from pathlib import Path\n",
    "\n",
    "# Base folder: where this script is located\n",
    "BASE_DIR = Path.cwd()"
   ]
  },
  {
   "cell_type": "code",
   "execution_count": null,
   "id": "f33f2067-1fed-4063-b700-543281c77694",
   "metadata": {},
   "outputs": [],
   "source": [
    "import os\n",
    "import pandas as pd\n",
    "\n",
    "def merge_csv_files(input_dir, output_file):\n",
    "    all_csv_files = [\n",
    "        os.path.join(input_dir, f)\n",
    "        for f in os.listdir(input_dir)\n",
    "        if f.lower().endswith('.csv')\n",
    "    ]\n",
    "\n",
    "    print(f\"Found {len(all_csv_files)} CSV files in {input_dir}\")\n",
    "\n",
    "    # Read and concatenate all DataFrames\n",
    "    df_list = []\n",
    "    for file in all_csv_files:\n",
    "        print(f\"Reading: {file}\")\n",
    "        try:\n",
    "            df = pd.read_csv(file)\n",
    "            df_list.append(df)\n",
    "        except Exception as e:\n",
    "            print(f\"Error reading {file}: {e}\")\n",
    "\n",
    "    if df_list:\n",
    "        merged_df = pd.concat(df_list, ignore_index=True)\n",
    "        merged_df.to_csv(output_file, index=False)\n",
    "        print(f\"\\n✅ Merged CSV saved to: {output_file}\")\n",
    "    else:\n",
    "        print(\"⚠️ No valid CSV files to merge.\")\n",
    "\n",
    "# Example usage\n",
    "input_folder = \"clean_data_bike/2013\"\n",
    "output_csv = \"clean_data_bike/2013_merged.csv\"\n",
    "\n",
    "merge_csv_files(input_folder, output_csv)\n"
   ]
  },
  {
   "cell_type": "code",
   "execution_count": null,
   "id": "b37ca7b1",
   "metadata": {},
   "outputs": [],
   "source": []
  },
  {
   "cell_type": "code",
   "execution_count": 9,
   "id": "70fb7c58",
   "metadata": {},
   "outputs": [],
   "source": [
    "\n",
    "import re\n",
    "# Define possible formats\n",
    "formats = [\n",
    "    \"%Y-%m-%d %H:%M:%S\",\n",
    "    \"%Y-%m-%d %H:%M\",\n",
    "    \"%m/%d/%Y %I:%M:%S %p\"\n",
    "]"
   ]
  },
  {
   "cell_type": "code",
   "execution_count": 12,
   "id": "d9aec8cb",
   "metadata": {},
   "outputs": [],
   "source": [
    "import pandas as pd\n",
    "import numpy as np\n",
    "\n",
    "# Load your DataFrame (example)\n",
    "# df = pd.read_csv(\"your_file.csv\")\n",
    "\n",
    "# Helper function: convert only if not already datetime\n",
    "def safe_convert_to_datetime(series):\n",
    "    if not pd.api.types.is_datetime64_any_dtype(series):\n",
    "        # Clean multiple spaces, strip whitespace\n",
    "        series = series.astype(str).str.replace(r\"\\s+\", \" \", regex=True).str.strip()\n",
    "        return pd.to_datetime(series, errors='coerce', infer_datetime_format=True)\n",
    "    return series"
   ]
  },
  {
   "cell_type": "markdown",
   "id": "3b40c3af",
   "metadata": {},
   "source": [
    "# this one\n"
   ]
  },
  {
   "cell_type": "code",
   "execution_count": 14,
   "id": "e4250dbc-2909-447b-ad32-1232ea9f6c6a",
   "metadata": {},
   "outputs": [
    {
     "name": "stdout",
     "output_type": "stream",
     "text": [
      "\n",
      "📁 Found 9 CSV files in extracted_tripdata\\2013\n",
      "  📖 Reading: extracted_tripdata\\2013\\201306-citibike-tripdata.csv\n",
      "  📖 Reading: extracted_tripdata\\2013\\201306-citibike-tripdata_1.csv\n",
      "  📖 Reading: extracted_tripdata\\2013\\201307-citibike-tripdata.csv\n",
      "  📖 Reading: extracted_tripdata\\2013\\201307-citibike-tripdata_1.csv\n",
      "  📖 Reading: extracted_tripdata\\2013\\201308-citibike-tripdata.csv\n",
      "  📖 Reading: extracted_tripdata\\2013\\201308-citibike-tripdata_1.csv\n",
      "  📖 Reading: extracted_tripdata\\2013\\201308-citibike-tripdata_2.csv\n",
      "  📖 Reading: extracted_tripdata\\2013\\201309-citibike-tripdata.csv\n",
      "  📖 Reading: extracted_tripdata\\2013\\201309-citibike-tripdata_1.csv\n",
      "Original rows: 6880513\n",
      "  ✅ Merged CSV saved to: merged_tripdata3\\2013_merged.csv\n",
      "\n",
      "📁 Found 0 CSV files in extracted_tripdata\\2014\n",
      "  ⚠️ No valid CSV files to merge.\n",
      "\n",
      "📁 Found 0 CSV files in extracted_tripdata\\2015\n",
      "  ⚠️ No valid CSV files to merge.\n",
      "\n",
      "📁 Found 0 CSV files in extracted_tripdata\\2016\n",
      "  ⚠️ No valid CSV files to merge.\n",
      "\n",
      "📁 Found 0 CSV files in extracted_tripdata\\2017\n",
      "  ⚠️ No valid CSV files to merge.\n",
      "\n",
      "📁 Found 0 CSV files in extracted_tripdata\\2018\n",
      "  ⚠️ No valid CSV files to merge.\n",
      "\n",
      "📁 Found 0 CSV files in extracted_tripdata\\2019\n",
      "  ⚠️ No valid CSV files to merge.\n",
      "\n",
      "📁 Found 0 CSV files in extracted_tripdata\\2020\n",
      "  ⚠️ No valid CSV files to merge.\n",
      "\n",
      "📁 Found 0 CSV files in extracted_tripdata\\2021\n",
      "  ⚠️ No valid CSV files to merge.\n",
      "\n",
      "📁 Found 0 CSV files in extracted_tripdata\\2022\n",
      "  ⚠️ No valid CSV files to merge.\n",
      "\n",
      "📁 Found 0 CSV files in extracted_tripdata\\2023\n",
      "  ⚠️ No valid CSV files to merge.\n"
     ]
    }
   ],
   "source": [
    "import os\n",
    "import pandas as pd\n",
    "\n",
    "def merge_csv_files(input_dir, output_file):\n",
    "    all_csv_files = [\n",
    "        os.path.join(input_dir, f)\n",
    "        for f in os.listdir(input_dir)\n",
    "        if f.lower().endswith('.csv')\n",
    "    ]\n",
    "\n",
    "    print(f\"\\n📁 Found {len(all_csv_files)} CSV files in {input_dir}\")\n",
    "\n",
    "    df_list = []\n",
    "    for file in all_csv_files:\n",
    "        print(f\"  📖 Reading: {file}\")\n",
    "        try:\n",
    "            df = pd.read_csv(file)\n",
    "            # Apply safe conversion\n",
    "            df['starttime'] = safe_convert_to_datetime(df['starttime'])\n",
    "            df['stoptime'] = safe_convert_to_datetime(df['stoptime'])\n",
    "            df_list.append(df)\n",
    "        except Exception as e:\n",
    "            print(f\"  ❌ Error reading {file}: {e}\")\n",
    "\n",
    "    if df_list:\n",
    "        \n",
    "        merged_df = pd.concat(df_list, ignore_index=True)\n",
    "        #cleaning\n",
    "        print(f\"Original rows: {len(merged_df)}\")\n",
    "        # Remove duplicates (based on all columns)\n",
    "        merged_df = merged_df.drop_duplicates()\n",
    "        merged_df = merged_df.sort_values(by='starttime')\n",
    "\n",
    "    \t#print(f\"Rows after removing duplicates: {len(merged_df)}\")\n",
    "        os.makedirs(os.path.dirname(output_file), exist_ok=True)\n",
    "        merged_df.to_csv(output_file, index=False)\n",
    "        print(f\"  ✅ Merged CSV saved to: {output_file}\")\n",
    "    else:\n",
    "        print(\"  ⚠️ No valid CSV files to merge.\")\n",
    "\n",
    "# === CONFIG ===\n",
    "input_root = r\"extracted_tripdata\"              # Parent folder with year subfolders\n",
    "output_root = r\"merged_tripdata3\"                # Where to save merged CSVs\n",
    "os.makedirs(output_root, exist_ok=True)\n",
    "\n",
    "# Loop over all subfolders (years)\n",
    "for folder_name in os.listdir(input_root):\n",
    "    folder_path = os.path.join(input_root, folder_name)\n",
    "    \n",
    "    if os.path.isdir(folder_path) and folder_name.isdigit():\n",
    "        year = folder_name\n",
    "        output_file = os.path.join(output_root, f\"{year}_merged.csv\")\n",
    "        merge_csv_files(folder_path, output_file)\n"
   ]
  },
  {
   "cell_type": "code",
   "execution_count": 8,
   "id": "e90193c3-9014-4a8e-9c6e-f4478a491a2d",
   "metadata": {
    "scrolled": true
   },
   "outputs": [
    {
     "name": "stdout",
     "output_type": "stream",
     "text": [
      "\n",
      "📁 Found 12 CSV files in extracted_tripdata\\2022\n",
      "  📖 Reading: extracted_tripdata\\2022\\JC-202201-citibike-tripdata.csv\n",
      "  📖 Reading: extracted_tripdata\\2022\\JC-202202-citibike-tripdata.csv\n",
      "  📖 Reading: extracted_tripdata\\2022\\JC-202203-citibike-tripdata.csv\n",
      "  📖 Reading: extracted_tripdata\\2022\\JC-202204-citibike-tripdata.csv\n",
      "  📖 Reading: extracted_tripdata\\2022\\JC-202205-citibike-tripdata.csv\n",
      "  📖 Reading: extracted_tripdata\\2022\\JC-202206-citibike-tripdata.csv\n",
      "  📖 Reading: extracted_tripdata\\2022\\JC-202207-citbike-tripdata.csv\n",
      "  📖 Reading: extracted_tripdata\\2022\\JC-202208-citibike-tripdata.csv\n",
      "  📖 Reading: extracted_tripdata\\2022\\JC-202209-citibike-tripdata.csv\n",
      "  📖 Reading: extracted_tripdata\\2022\\JC-202210-citibike-tripdata.csv\n",
      "  📖 Reading: extracted_tripdata\\2022\\JC-202211-citibike-tripdata.csv\n",
      "  📖 Reading: extracted_tripdata\\2022\\JC-202212-citibike-tripdata.csv\n",
      "  🔍 Original rows: 895485\n",
      "  ✅ Merged CSV saved to: merged_tripdata2\\2022_merged.csv\n",
      "\n",
      "📁 Found 12 CSV files in extracted_tripdata\\2023\n",
      "  📖 Reading: extracted_tripdata\\2023\\JC-202301-citibike-tripdata.csv\n",
      "  📖 Reading: extracted_tripdata\\2023\\JC-202302-citibike-tripdata.csv\n",
      "  📖 Reading: extracted_tripdata\\2023\\JC-202303-citibike-tripdata.csv\n",
      "  📖 Reading: extracted_tripdata\\2023\\JC-202304-citibike-tripdata.csv\n",
      "  📖 Reading: extracted_tripdata\\2023\\JC-202305-citibike-tripdata.csv\n",
      "  📖 Reading: extracted_tripdata\\2023\\JC-202306-citibike-tripdata.csv\n",
      "  📖 Reading: extracted_tripdata\\2023\\JC-202307-citibike-tripdata.csv\n",
      "  📖 Reading: extracted_tripdata\\2023\\JC-202308-citibike-tripdata.csv\n",
      "  📖 Reading: extracted_tripdata\\2023\\JC-202309-citibike-tripdata.csv\n",
      "  📖 Reading: extracted_tripdata\\2023\\JC-202310-citibike-tripdata.csv\n",
      "  📖 Reading: extracted_tripdata\\2023\\JC-202311-citibike-tripdata.csv\n",
      "  📖 Reading: extracted_tripdata\\2023\\JC-202312-citibike-tripdata.csv\n",
      "  🔍 Original rows: 988851\n",
      "  ✅ Merged CSV saved to: merged_tripdata2\\2023_merged.csv\n",
      "\n",
      "📁 Found 62 CSV files in extracted_tripdata\\2024\n",
      "  📖 Reading: extracted_tripdata\\2024\\202401-citibike-tripdata_1.csv\n"
     ]
    },
    {
     "name": "stderr",
     "output_type": "stream",
     "text": [
      "C:\\Users\\zhao\\AppData\\Local\\Temp\\ipykernel_16640\\2387008396.py:18: DtypeWarning: Columns (5) have mixed types. Specify dtype option on import or set low_memory=False.\n",
      "  df = pd.read_csv(file)\n"
     ]
    },
    {
     "name": "stdout",
     "output_type": "stream",
     "text": [
      "  ❌ Error reading extracted_tripdata\\2024\\202401-citibike-tripdata_1.csv: cannot safely cast non-equivalent object to int64\n",
      "  📖 Reading: extracted_tripdata\\2024\\202401-citibike-tripdata_2.csv\n"
     ]
    },
    {
     "name": "stderr",
     "output_type": "stream",
     "text": [
      "C:\\Users\\zhao\\AppData\\Local\\Temp\\ipykernel_16640\\2387008396.py:18: DtypeWarning: Columns (5,7) have mixed types. Specify dtype option on import or set low_memory=False.\n",
      "  df = pd.read_csv(file)\n"
     ]
    },
    {
     "name": "stdout",
     "output_type": "stream",
     "text": [
      "  ❌ Error reading extracted_tripdata\\2024\\202401-citibike-tripdata_2.csv: cannot safely cast non-equivalent object to int64\n",
      "  📖 Reading: extracted_tripdata\\2024\\202402-citibike-tripdata_1.csv\n"
     ]
    },
    {
     "name": "stderr",
     "output_type": "stream",
     "text": [
      "C:\\Users\\zhao\\AppData\\Local\\Temp\\ipykernel_16640\\2387008396.py:18: DtypeWarning: Columns (5,7) have mixed types. Specify dtype option on import or set low_memory=False.\n",
      "  df = pd.read_csv(file)\n"
     ]
    },
    {
     "name": "stdout",
     "output_type": "stream",
     "text": [
      "  ❌ Error reading extracted_tripdata\\2024\\202402-citibike-tripdata_1.csv: cannot safely cast non-equivalent object to int64\n",
      "  📖 Reading: extracted_tripdata\\2024\\202402-citibike-tripdata_2.csv\n"
     ]
    },
    {
     "name": "stderr",
     "output_type": "stream",
     "text": [
      "C:\\Users\\zhao\\AppData\\Local\\Temp\\ipykernel_16640\\2387008396.py:18: DtypeWarning: Columns (7) have mixed types. Specify dtype option on import or set low_memory=False.\n",
      "  df = pd.read_csv(file)\n"
     ]
    },
    {
     "name": "stdout",
     "output_type": "stream",
     "text": [
      "  ❌ Error reading extracted_tripdata\\2024\\202402-citibike-tripdata_2.csv: cannot safely cast non-equivalent object to int64\n",
      "  📖 Reading: extracted_tripdata\\2024\\202402-citibike-tripdata_3.csv\n"
     ]
    },
    {
     "name": "stderr",
     "output_type": "stream",
     "text": [
      "C:\\Users\\zhao\\AppData\\Local\\Temp\\ipykernel_16640\\2387008396.py:18: DtypeWarning: Columns (7) have mixed types. Specify dtype option on import or set low_memory=False.\n",
      "  df = pd.read_csv(file)\n"
     ]
    },
    {
     "name": "stdout",
     "output_type": "stream",
     "text": [
      "  ❌ Error reading extracted_tripdata\\2024\\202402-citibike-tripdata_3.csv: cannot safely cast non-equivalent object to int64\n",
      "  📖 Reading: extracted_tripdata\\2024\\202403-citibike-tripdata_1.csv\n"
     ]
    },
    {
     "name": "stderr",
     "output_type": "stream",
     "text": [
      "C:\\Users\\zhao\\AppData\\Local\\Temp\\ipykernel_16640\\2387008396.py:18: DtypeWarning: Columns (5,7) have mixed types. Specify dtype option on import or set low_memory=False.\n",
      "  df = pd.read_csv(file)\n"
     ]
    },
    {
     "name": "stdout",
     "output_type": "stream",
     "text": [
      "  ❌ Error reading extracted_tripdata\\2024\\202403-citibike-tripdata_1.csv: cannot safely cast non-equivalent object to int64\n",
      "  📖 Reading: extracted_tripdata\\2024\\202403-citibike-tripdata_2.csv\n"
     ]
    },
    {
     "name": "stderr",
     "output_type": "stream",
     "text": [
      "C:\\Users\\zhao\\AppData\\Local\\Temp\\ipykernel_16640\\2387008396.py:18: DtypeWarning: Columns (5,7) have mixed types. Specify dtype option on import or set low_memory=False.\n",
      "  df = pd.read_csv(file)\n"
     ]
    },
    {
     "name": "stdout",
     "output_type": "stream",
     "text": [
      "  ❌ Error reading extracted_tripdata\\2024\\202403-citibike-tripdata_2.csv: cannot safely cast non-equivalent object to int64\n",
      "  📖 Reading: extracted_tripdata\\2024\\202403-citibike-tripdata_3.csv\n"
     ]
    },
    {
     "name": "stderr",
     "output_type": "stream",
     "text": [
      "C:\\Users\\zhao\\AppData\\Local\\Temp\\ipykernel_16640\\2387008396.py:18: DtypeWarning: Columns (5,7) have mixed types. Specify dtype option on import or set low_memory=False.\n",
      "  df = pd.read_csv(file)\n"
     ]
    },
    {
     "name": "stdout",
     "output_type": "stream",
     "text": [
      "  ❌ Error reading extracted_tripdata\\2024\\202403-citibike-tripdata_3.csv: cannot safely cast non-equivalent object to int64\n",
      "  📖 Reading: extracted_tripdata\\2024\\202404-citibike-tripdata_1.csv\n"
     ]
    },
    {
     "name": "stderr",
     "output_type": "stream",
     "text": [
      "C:\\Users\\zhao\\AppData\\Local\\Temp\\ipykernel_16640\\2387008396.py:18: DtypeWarning: Columns (5,7) have mixed types. Specify dtype option on import or set low_memory=False.\n",
      "  df = pd.read_csv(file)\n"
     ]
    },
    {
     "name": "stdout",
     "output_type": "stream",
     "text": [
      "  ❌ Error reading extracted_tripdata\\2024\\202404-citibike-tripdata_1.csv: cannot safely cast non-equivalent object to int64\n",
      "  📖 Reading: extracted_tripdata\\2024\\202404-citibike-tripdata_2.csv\n"
     ]
    },
    {
     "name": "stderr",
     "output_type": "stream",
     "text": [
      "C:\\Users\\zhao\\AppData\\Local\\Temp\\ipykernel_16640\\2387008396.py:18: DtypeWarning: Columns (5) have mixed types. Specify dtype option on import or set low_memory=False.\n",
      "  df = pd.read_csv(file)\n"
     ]
    },
    {
     "name": "stdout",
     "output_type": "stream",
     "text": [
      "  ❌ Error reading extracted_tripdata\\2024\\202404-citibike-tripdata_2.csv: cannot safely cast non-equivalent object to int64\n",
      "  📖 Reading: extracted_tripdata\\2024\\202404-citibike-tripdata_3.csv\n"
     ]
    },
    {
     "name": "stderr",
     "output_type": "stream",
     "text": [
      "C:\\Users\\zhao\\AppData\\Local\\Temp\\ipykernel_16640\\2387008396.py:18: DtypeWarning: Columns (5,7) have mixed types. Specify dtype option on import or set low_memory=False.\n",
      "  df = pd.read_csv(file)\n"
     ]
    },
    {
     "name": "stdout",
     "output_type": "stream",
     "text": [
      "  ❌ Error reading extracted_tripdata\\2024\\202404-citibike-tripdata_3.csv: cannot safely cast non-equivalent object to int64\n",
      "  📖 Reading: extracted_tripdata\\2024\\202404-citibike-tripdata_4.csv\n",
      "  ❌ Error reading extracted_tripdata\\2024\\202404-citibike-tripdata_4.csv: cannot safely cast non-equivalent object to int64\n",
      "  📖 Reading: extracted_tripdata\\2024\\202405-citibike-tripdata_1.csv\n"
     ]
    },
    {
     "name": "stderr",
     "output_type": "stream",
     "text": [
      "C:\\Users\\zhao\\AppData\\Local\\Temp\\ipykernel_16640\\2387008396.py:18: DtypeWarning: Columns (5,7) have mixed types. Specify dtype option on import or set low_memory=False.\n",
      "  df = pd.read_csv(file)\n"
     ]
    },
    {
     "name": "stdout",
     "output_type": "stream",
     "text": [
      "  ❌ Error reading extracted_tripdata\\2024\\202405-citibike-tripdata_1.csv: cannot safely cast non-equivalent object to int64\n",
      "  📖 Reading: extracted_tripdata\\2024\\202405-citibike-tripdata_2.csv\n"
     ]
    },
    {
     "name": "stderr",
     "output_type": "stream",
     "text": [
      "C:\\Users\\zhao\\AppData\\Local\\Temp\\ipykernel_16640\\2387008396.py:18: DtypeWarning: Columns (5,7) have mixed types. Specify dtype option on import or set low_memory=False.\n",
      "  df = pd.read_csv(file)\n"
     ]
    },
    {
     "name": "stdout",
     "output_type": "stream",
     "text": [
      "  ❌ Error reading extracted_tripdata\\2024\\202405-citibike-tripdata_2.csv: cannot safely cast non-equivalent object to int64\n",
      "  📖 Reading: extracted_tripdata\\2024\\202405-citibike-tripdata_3.csv\n"
     ]
    },
    {
     "name": "stderr",
     "output_type": "stream",
     "text": [
      "C:\\Users\\zhao\\AppData\\Local\\Temp\\ipykernel_16640\\2387008396.py:18: DtypeWarning: Columns (5,7) have mixed types. Specify dtype option on import or set low_memory=False.\n",
      "  df = pd.read_csv(file)\n"
     ]
    },
    {
     "name": "stdout",
     "output_type": "stream",
     "text": [
      "  ❌ Error reading extracted_tripdata\\2024\\202405-citibike-tripdata_3.csv: cannot safely cast non-equivalent object to int64\n",
      "  📖 Reading: extracted_tripdata\\2024\\202405-citibike-tripdata_4.csv\n"
     ]
    },
    {
     "name": "stderr",
     "output_type": "stream",
     "text": [
      "C:\\Users\\zhao\\AppData\\Local\\Temp\\ipykernel_16640\\2387008396.py:18: DtypeWarning: Columns (5,7) have mixed types. Specify dtype option on import or set low_memory=False.\n",
      "  df = pd.read_csv(file)\n"
     ]
    },
    {
     "name": "stdout",
     "output_type": "stream",
     "text": [
      "  ❌ Error reading extracted_tripdata\\2024\\202405-citibike-tripdata_4.csv: cannot safely cast non-equivalent object to int64\n",
      "  📖 Reading: extracted_tripdata\\2024\\202405-citibike-tripdata_5.csv\n"
     ]
    },
    {
     "name": "stderr",
     "output_type": "stream",
     "text": [
      "C:\\Users\\zhao\\AppData\\Local\\Temp\\ipykernel_16640\\2387008396.py:18: DtypeWarning: Columns (5) have mixed types. Specify dtype option on import or set low_memory=False.\n",
      "  df = pd.read_csv(file)\n"
     ]
    },
    {
     "name": "stdout",
     "output_type": "stream",
     "text": [
      "  ❌ Error reading extracted_tripdata\\2024\\202405-citibike-tripdata_5.csv: cannot safely cast non-equivalent object to int64\n",
      "  📖 Reading: extracted_tripdata\\2024\\202406-citibike-tripdata_1.csv\n"
     ]
    },
    {
     "name": "stderr",
     "output_type": "stream",
     "text": [
      "C:\\Users\\zhao\\AppData\\Local\\Temp\\ipykernel_16640\\2387008396.py:18: DtypeWarning: Columns (5,7) have mixed types. Specify dtype option on import or set low_memory=False.\n",
      "  df = pd.read_csv(file)\n"
     ]
    },
    {
     "name": "stdout",
     "output_type": "stream",
     "text": [
      "  ❌ Error reading extracted_tripdata\\2024\\202406-citibike-tripdata_1.csv: cannot safely cast non-equivalent object to int64\n",
      "  📖 Reading: extracted_tripdata\\2024\\202406-citibike-tripdata_2.csv\n"
     ]
    },
    {
     "name": "stderr",
     "output_type": "stream",
     "text": [
      "C:\\Users\\zhao\\AppData\\Local\\Temp\\ipykernel_16640\\2387008396.py:18: DtypeWarning: Columns (5,7) have mixed types. Specify dtype option on import or set low_memory=False.\n",
      "  df = pd.read_csv(file)\n"
     ]
    },
    {
     "name": "stdout",
     "output_type": "stream",
     "text": [
      "  ❌ Error reading extracted_tripdata\\2024\\202406-citibike-tripdata_2.csv: cannot safely cast non-equivalent object to int64\n",
      "  📖 Reading: extracted_tripdata\\2024\\202406-citibike-tripdata_3.csv\n"
     ]
    },
    {
     "name": "stderr",
     "output_type": "stream",
     "text": [
      "C:\\Users\\zhao\\AppData\\Local\\Temp\\ipykernel_16640\\2387008396.py:18: DtypeWarning: Columns (5,7) have mixed types. Specify dtype option on import or set low_memory=False.\n",
      "  df = pd.read_csv(file)\n"
     ]
    },
    {
     "name": "stdout",
     "output_type": "stream",
     "text": [
      "  ❌ Error reading extracted_tripdata\\2024\\202406-citibike-tripdata_3.csv: cannot safely cast non-equivalent object to int64\n",
      "  📖 Reading: extracted_tripdata\\2024\\202406-citibike-tripdata_4.csv\n"
     ]
    },
    {
     "name": "stderr",
     "output_type": "stream",
     "text": [
      "C:\\Users\\zhao\\AppData\\Local\\Temp\\ipykernel_16640\\2387008396.py:18: DtypeWarning: Columns (5,7) have mixed types. Specify dtype option on import or set low_memory=False.\n",
      "  df = pd.read_csv(file)\n"
     ]
    },
    {
     "name": "stdout",
     "output_type": "stream",
     "text": [
      "  ❌ Error reading extracted_tripdata\\2024\\202406-citibike-tripdata_4.csv: cannot safely cast non-equivalent object to int64\n",
      "  📖 Reading: extracted_tripdata\\2024\\202406-citibike-tripdata_5.csv\n"
     ]
    },
    {
     "name": "stderr",
     "output_type": "stream",
     "text": [
      "C:\\Users\\zhao\\AppData\\Local\\Temp\\ipykernel_16640\\2387008396.py:18: DtypeWarning: Columns (5,7) have mixed types. Specify dtype option on import or set low_memory=False.\n",
      "  df = pd.read_csv(file)\n"
     ]
    },
    {
     "name": "stdout",
     "output_type": "stream",
     "text": [
      "  ❌ Error reading extracted_tripdata\\2024\\202406-citibike-tripdata_5.csv: cannot safely cast non-equivalent object to int64\n",
      "  📖 Reading: extracted_tripdata\\2024\\202407-citibike-tripdata_1.csv\n"
     ]
    },
    {
     "name": "stderr",
     "output_type": "stream",
     "text": [
      "C:\\Users\\zhao\\AppData\\Local\\Temp\\ipykernel_16640\\2387008396.py:18: DtypeWarning: Columns (5,7) have mixed types. Specify dtype option on import or set low_memory=False.\n",
      "  df = pd.read_csv(file)\n"
     ]
    },
    {
     "name": "stdout",
     "output_type": "stream",
     "text": [
      "  ❌ Error reading extracted_tripdata\\2024\\202407-citibike-tripdata_1.csv: cannot safely cast non-equivalent object to int64\n",
      "  📖 Reading: extracted_tripdata\\2024\\202407-citibike-tripdata_2.csv\n"
     ]
    },
    {
     "name": "stderr",
     "output_type": "stream",
     "text": [
      "C:\\Users\\zhao\\AppData\\Local\\Temp\\ipykernel_16640\\2387008396.py:18: DtypeWarning: Columns (7) have mixed types. Specify dtype option on import or set low_memory=False.\n",
      "  df = pd.read_csv(file)\n"
     ]
    },
    {
     "name": "stdout",
     "output_type": "stream",
     "text": [
      "  ❌ Error reading extracted_tripdata\\2024\\202407-citibike-tripdata_2.csv: cannot safely cast non-equivalent object to int64\n",
      "  📖 Reading: extracted_tripdata\\2024\\202407-citibike-tripdata_3.csv\n"
     ]
    },
    {
     "name": "stderr",
     "output_type": "stream",
     "text": [
      "C:\\Users\\zhao\\AppData\\Local\\Temp\\ipykernel_16640\\2387008396.py:18: DtypeWarning: Columns (7) have mixed types. Specify dtype option on import or set low_memory=False.\n",
      "  df = pd.read_csv(file)\n"
     ]
    },
    {
     "name": "stdout",
     "output_type": "stream",
     "text": [
      "  ❌ Error reading extracted_tripdata\\2024\\202407-citibike-tripdata_3.csv: cannot safely cast non-equivalent object to int64\n",
      "  📖 Reading: extracted_tripdata\\2024\\202407-citibike-tripdata_4.csv\n"
     ]
    },
    {
     "name": "stderr",
     "output_type": "stream",
     "text": [
      "C:\\Users\\zhao\\AppData\\Local\\Temp\\ipykernel_16640\\2387008396.py:18: DtypeWarning: Columns (7) have mixed types. Specify dtype option on import or set low_memory=False.\n",
      "  df = pd.read_csv(file)\n"
     ]
    },
    {
     "name": "stdout",
     "output_type": "stream",
     "text": [
      "  ❌ Error reading extracted_tripdata\\2024\\202407-citibike-tripdata_4.csv: cannot safely cast non-equivalent object to int64\n",
      "  📖 Reading: extracted_tripdata\\2024\\202407-citibike-tripdata_5.csv\n"
     ]
    },
    {
     "name": "stderr",
     "output_type": "stream",
     "text": [
      "C:\\Users\\zhao\\AppData\\Local\\Temp\\ipykernel_16640\\2387008396.py:18: DtypeWarning: Columns (5,7) have mixed types. Specify dtype option on import or set low_memory=False.\n",
      "  df = pd.read_csv(file)\n"
     ]
    },
    {
     "name": "stdout",
     "output_type": "stream",
     "text": [
      "  ❌ Error reading extracted_tripdata\\2024\\202407-citibike-tripdata_5.csv: cannot safely cast non-equivalent object to int64\n",
      "  📖 Reading: extracted_tripdata\\2024\\202408-citibike-tripdata_1.csv\n"
     ]
    },
    {
     "name": "stderr",
     "output_type": "stream",
     "text": [
      "C:\\Users\\zhao\\AppData\\Local\\Temp\\ipykernel_16640\\2387008396.py:18: DtypeWarning: Columns (7) have mixed types. Specify dtype option on import or set low_memory=False.\n",
      "  df = pd.read_csv(file)\n"
     ]
    },
    {
     "name": "stdout",
     "output_type": "stream",
     "text": [
      "  ❌ Error reading extracted_tripdata\\2024\\202408-citibike-tripdata_1.csv: cannot safely cast non-equivalent object to int64\n",
      "  📖 Reading: extracted_tripdata\\2024\\202408-citibike-tripdata_2.csv\n"
     ]
    },
    {
     "name": "stderr",
     "output_type": "stream",
     "text": [
      "C:\\Users\\zhao\\AppData\\Local\\Temp\\ipykernel_16640\\2387008396.py:18: DtypeWarning: Columns (5,7) have mixed types. Specify dtype option on import or set low_memory=False.\n",
      "  df = pd.read_csv(file)\n"
     ]
    },
    {
     "name": "stdout",
     "output_type": "stream",
     "text": [
      "  ❌ Error reading extracted_tripdata\\2024\\202408-citibike-tripdata_2.csv: cannot safely cast non-equivalent object to int64\n",
      "  📖 Reading: extracted_tripdata\\2024\\202408-citibike-tripdata_3.csv\n"
     ]
    },
    {
     "name": "stderr",
     "output_type": "stream",
     "text": [
      "C:\\Users\\zhao\\AppData\\Local\\Temp\\ipykernel_16640\\2387008396.py:18: DtypeWarning: Columns (5,7) have mixed types. Specify dtype option on import or set low_memory=False.\n",
      "  df = pd.read_csv(file)\n"
     ]
    },
    {
     "name": "stdout",
     "output_type": "stream",
     "text": [
      "  ❌ Error reading extracted_tripdata\\2024\\202408-citibike-tripdata_3.csv: cannot safely cast non-equivalent object to int64\n",
      "  📖 Reading: extracted_tripdata\\2024\\202408-citibike-tripdata_4.csv\n"
     ]
    },
    {
     "name": "stderr",
     "output_type": "stream",
     "text": [
      "C:\\Users\\zhao\\AppData\\Local\\Temp\\ipykernel_16640\\2387008396.py:18: DtypeWarning: Columns (5,7) have mixed types. Specify dtype option on import or set low_memory=False.\n",
      "  df = pd.read_csv(file)\n"
     ]
    },
    {
     "name": "stdout",
     "output_type": "stream",
     "text": [
      "  ❌ Error reading extracted_tripdata\\2024\\202408-citibike-tripdata_4.csv: cannot safely cast non-equivalent object to int64\n",
      "  📖 Reading: extracted_tripdata\\2024\\202408-citibike-tripdata_5.csv\n"
     ]
    },
    {
     "name": "stderr",
     "output_type": "stream",
     "text": [
      "C:\\Users\\zhao\\AppData\\Local\\Temp\\ipykernel_16640\\2387008396.py:18: DtypeWarning: Columns (5,7) have mixed types. Specify dtype option on import or set low_memory=False.\n",
      "  df = pd.read_csv(file)\n"
     ]
    },
    {
     "name": "stdout",
     "output_type": "stream",
     "text": [
      "  ❌ Error reading extracted_tripdata\\2024\\202408-citibike-tripdata_5.csv: cannot safely cast non-equivalent object to int64\n",
      "  📖 Reading: extracted_tripdata\\2024\\202409-citibike-tripdata_1.csv\n"
     ]
    },
    {
     "name": "stderr",
     "output_type": "stream",
     "text": [
      "C:\\Users\\zhao\\AppData\\Local\\Temp\\ipykernel_16640\\2387008396.py:18: DtypeWarning: Columns (5,7) have mixed types. Specify dtype option on import or set low_memory=False.\n",
      "  df = pd.read_csv(file)\n"
     ]
    },
    {
     "name": "stdout",
     "output_type": "stream",
     "text": [
      "  ❌ Error reading extracted_tripdata\\2024\\202409-citibike-tripdata_1.csv: cannot safely cast non-equivalent object to int64\n",
      "  📖 Reading: extracted_tripdata\\2024\\202409-citibike-tripdata_2.csv\n"
     ]
    },
    {
     "name": "stderr",
     "output_type": "stream",
     "text": [
      "C:\\Users\\zhao\\AppData\\Local\\Temp\\ipykernel_16640\\2387008396.py:18: DtypeWarning: Columns (7) have mixed types. Specify dtype option on import or set low_memory=False.\n",
      "  df = pd.read_csv(file)\n"
     ]
    },
    {
     "name": "stdout",
     "output_type": "stream",
     "text": [
      "  ❌ Error reading extracted_tripdata\\2024\\202409-citibike-tripdata_2.csv: cannot safely cast non-equivalent object to int64\n",
      "  📖 Reading: extracted_tripdata\\2024\\202409-citibike-tripdata_3.csv\n"
     ]
    },
    {
     "name": "stderr",
     "output_type": "stream",
     "text": [
      "C:\\Users\\zhao\\AppData\\Local\\Temp\\ipykernel_16640\\2387008396.py:18: DtypeWarning: Columns (7) have mixed types. Specify dtype option on import or set low_memory=False.\n",
      "  df = pd.read_csv(file)\n"
     ]
    },
    {
     "name": "stdout",
     "output_type": "stream",
     "text": [
      "  ❌ Error reading extracted_tripdata\\2024\\202409-citibike-tripdata_3.csv: cannot safely cast non-equivalent object to int64\n",
      "  📖 Reading: extracted_tripdata\\2024\\202409-citibike-tripdata_4.csv\n"
     ]
    },
    {
     "name": "stderr",
     "output_type": "stream",
     "text": [
      "C:\\Users\\zhao\\AppData\\Local\\Temp\\ipykernel_16640\\2387008396.py:18: DtypeWarning: Columns (7) have mixed types. Specify dtype option on import or set low_memory=False.\n",
      "  df = pd.read_csv(file)\n"
     ]
    },
    {
     "name": "stdout",
     "output_type": "stream",
     "text": [
      "  ❌ Error reading extracted_tripdata\\2024\\202409-citibike-tripdata_4.csv: cannot safely cast non-equivalent object to int64\n",
      "  📖 Reading: extracted_tripdata\\2024\\202409-citibike-tripdata_5.csv\n"
     ]
    },
    {
     "name": "stderr",
     "output_type": "stream",
     "text": [
      "C:\\Users\\zhao\\AppData\\Local\\Temp\\ipykernel_16640\\2387008396.py:18: DtypeWarning: Columns (5,7) have mixed types. Specify dtype option on import or set low_memory=False.\n",
      "  df = pd.read_csv(file)\n"
     ]
    },
    {
     "name": "stdout",
     "output_type": "stream",
     "text": [
      "  ❌ Error reading extracted_tripdata\\2024\\202409-citibike-tripdata_5.csv: cannot safely cast non-equivalent object to int64\n",
      "  📖 Reading: extracted_tripdata\\2024\\202410-citibike-tripdata_1.csv\n"
     ]
    },
    {
     "name": "stderr",
     "output_type": "stream",
     "text": [
      "C:\\Users\\zhao\\AppData\\Local\\Temp\\ipykernel_16640\\2387008396.py:18: DtypeWarning: Columns (5) have mixed types. Specify dtype option on import or set low_memory=False.\n",
      "  df = pd.read_csv(file)\n"
     ]
    },
    {
     "name": "stdout",
     "output_type": "stream",
     "text": [
      "  ❌ Error reading extracted_tripdata\\2024\\202410-citibike-tripdata_1.csv: cannot safely cast non-equivalent object to int64\n",
      "  📖 Reading: extracted_tripdata\\2024\\202410-citibike-tripdata_2.csv\n"
     ]
    },
    {
     "name": "stderr",
     "output_type": "stream",
     "text": [
      "C:\\Users\\zhao\\AppData\\Local\\Temp\\ipykernel_16640\\2387008396.py:18: DtypeWarning: Columns (5,7) have mixed types. Specify dtype option on import or set low_memory=False.\n",
      "  df = pd.read_csv(file)\n"
     ]
    },
    {
     "name": "stdout",
     "output_type": "stream",
     "text": [
      "  ❌ Error reading extracted_tripdata\\2024\\202410-citibike-tripdata_2.csv: cannot safely cast non-equivalent object to int64\n",
      "  📖 Reading: extracted_tripdata\\2024\\202410-citibike-tripdata_3.csv\n"
     ]
    },
    {
     "name": "stderr",
     "output_type": "stream",
     "text": [
      "C:\\Users\\zhao\\AppData\\Local\\Temp\\ipykernel_16640\\2387008396.py:18: DtypeWarning: Columns (7) have mixed types. Specify dtype option on import or set low_memory=False.\n",
      "  df = pd.read_csv(file)\n"
     ]
    },
    {
     "name": "stdout",
     "output_type": "stream",
     "text": [
      "  ❌ Error reading extracted_tripdata\\2024\\202410-citibike-tripdata_3.csv: cannot safely cast non-equivalent object to int64\n",
      "  📖 Reading: extracted_tripdata\\2024\\202410-citibike-tripdata_4.csv\n"
     ]
    },
    {
     "name": "stderr",
     "output_type": "stream",
     "text": [
      "C:\\Users\\zhao\\AppData\\Local\\Temp\\ipykernel_16640\\2387008396.py:18: DtypeWarning: Columns (7) have mixed types. Specify dtype option on import or set low_memory=False.\n",
      "  df = pd.read_csv(file)\n"
     ]
    },
    {
     "name": "stdout",
     "output_type": "stream",
     "text": [
      "  ❌ Error reading extracted_tripdata\\2024\\202410-citibike-tripdata_4.csv: cannot safely cast non-equivalent object to int64\n",
      "  📖 Reading: extracted_tripdata\\2024\\202410-citibike-tripdata_5.csv\n"
     ]
    },
    {
     "name": "stderr",
     "output_type": "stream",
     "text": [
      "C:\\Users\\zhao\\AppData\\Local\\Temp\\ipykernel_16640\\2387008396.py:18: DtypeWarning: Columns (5,7) have mixed types. Specify dtype option on import or set low_memory=False.\n",
      "  df = pd.read_csv(file)\n"
     ]
    },
    {
     "name": "stdout",
     "output_type": "stream",
     "text": [
      "  ❌ Error reading extracted_tripdata\\2024\\202410-citibike-tripdata_5.csv: cannot safely cast non-equivalent object to int64\n",
      "  📖 Reading: extracted_tripdata\\2024\\202410-citibike-tripdata_6.csv\n"
     ]
    },
    {
     "name": "stderr",
     "output_type": "stream",
     "text": [
      "C:\\Users\\zhao\\AppData\\Local\\Temp\\ipykernel_16640\\2387008396.py:18: DtypeWarning: Columns (5,7) have mixed types. Specify dtype option on import or set low_memory=False.\n",
      "  df = pd.read_csv(file)\n"
     ]
    },
    {
     "name": "stdout",
     "output_type": "stream",
     "text": [
      "  ❌ Error reading extracted_tripdata\\2024\\202410-citibike-tripdata_6.csv: cannot safely cast non-equivalent object to int64\n",
      "  📖 Reading: extracted_tripdata\\2024\\202411-citibike-tripdata_1.csv\n"
     ]
    },
    {
     "name": "stderr",
     "output_type": "stream",
     "text": [
      "C:\\Users\\zhao\\AppData\\Local\\Temp\\ipykernel_16640\\2387008396.py:18: DtypeWarning: Columns (5,7) have mixed types. Specify dtype option on import or set low_memory=False.\n",
      "  df = pd.read_csv(file)\n"
     ]
    },
    {
     "name": "stdout",
     "output_type": "stream",
     "text": [
      "  ❌ Error reading extracted_tripdata\\2024\\202411-citibike-tripdata_1.csv: cannot safely cast non-equivalent object to int64\n",
      "  📖 Reading: extracted_tripdata\\2024\\202411-citibike-tripdata_2.csv\n"
     ]
    },
    {
     "name": "stderr",
     "output_type": "stream",
     "text": [
      "C:\\Users\\zhao\\AppData\\Local\\Temp\\ipykernel_16640\\2387008396.py:18: DtypeWarning: Columns (5,7) have mixed types. Specify dtype option on import or set low_memory=False.\n",
      "  df = pd.read_csv(file)\n"
     ]
    },
    {
     "name": "stdout",
     "output_type": "stream",
     "text": [
      "  ❌ Error reading extracted_tripdata\\2024\\202411-citibike-tripdata_2.csv: cannot safely cast non-equivalent object to int64\n",
      "  📖 Reading: extracted_tripdata\\2024\\202411-citibike-tripdata_3.csv\n"
     ]
    },
    {
     "name": "stderr",
     "output_type": "stream",
     "text": [
      "C:\\Users\\zhao\\AppData\\Local\\Temp\\ipykernel_16640\\2387008396.py:18: DtypeWarning: Columns (5,7) have mixed types. Specify dtype option on import or set low_memory=False.\n",
      "  df = pd.read_csv(file)\n"
     ]
    },
    {
     "name": "stdout",
     "output_type": "stream",
     "text": [
      "  ❌ Error reading extracted_tripdata\\2024\\202411-citibike-tripdata_3.csv: cannot safely cast non-equivalent object to int64\n",
      "  📖 Reading: extracted_tripdata\\2024\\202411-citibike-tripdata_4.csv\n",
      "  ❌ Error reading extracted_tripdata\\2024\\202411-citibike-tripdata_4.csv: cannot safely cast non-equivalent object to int64\n",
      "  📖 Reading: extracted_tripdata\\2024\\202412-citibike-tripdata_1.csv\n"
     ]
    },
    {
     "name": "stderr",
     "output_type": "stream",
     "text": [
      "C:\\Users\\zhao\\AppData\\Local\\Temp\\ipykernel_16640\\2387008396.py:18: DtypeWarning: Columns (7) have mixed types. Specify dtype option on import or set low_memory=False.\n",
      "  df = pd.read_csv(file)\n"
     ]
    },
    {
     "name": "stdout",
     "output_type": "stream",
     "text": [
      "  ❌ Error reading extracted_tripdata\\2024\\202412-citibike-tripdata_1.csv: cannot safely cast non-equivalent object to int64\n",
      "  📖 Reading: extracted_tripdata\\2024\\202412-citibike-tripdata_2.csv\n"
     ]
    },
    {
     "name": "stderr",
     "output_type": "stream",
     "text": [
      "C:\\Users\\zhao\\AppData\\Local\\Temp\\ipykernel_16640\\2387008396.py:18: DtypeWarning: Columns (5,7) have mixed types. Specify dtype option on import or set low_memory=False.\n",
      "  df = pd.read_csv(file)\n"
     ]
    },
    {
     "name": "stdout",
     "output_type": "stream",
     "text": [
      "  ❌ Error reading extracted_tripdata\\2024\\202412-citibike-tripdata_2.csv: cannot safely cast non-equivalent object to int64\n",
      "  📖 Reading: extracted_tripdata\\2024\\202412-citibike-tripdata_3.csv\n",
      "  ❌ Error reading extracted_tripdata\\2024\\202412-citibike-tripdata_3.csv: cannot safely cast non-equivalent object to int64\n",
      "  📖 Reading: extracted_tripdata\\2024\\JC-202401-citibike-tripdata.csv\n",
      "  📖 Reading: extracted_tripdata\\2024\\JC-202402-citibike-tripdata.csv\n",
      "  📖 Reading: extracted_tripdata\\2024\\JC-202403-citibike-tripdata.csv\n",
      "  📖 Reading: extracted_tripdata\\2024\\JC-202404-citibike-tripdata.csv\n",
      "  📖 Reading: extracted_tripdata\\2024\\JC-202405-citibike-tripdata.csv\n",
      "  📖 Reading: extracted_tripdata\\2024\\JC-202406-citibike-tripdata.csv\n",
      "  ❌ Error reading extracted_tripdata\\2024\\JC-202406-citibike-tripdata.csv: cannot safely cast non-equivalent object to int64\n",
      "  📖 Reading: extracted_tripdata\\2024\\JC-202407-citibike-tripdata.csv\n",
      "  ❌ Error reading extracted_tripdata\\2024\\JC-202407-citibike-tripdata.csv: cannot safely cast non-equivalent object to int64\n",
      "  📖 Reading: extracted_tripdata\\2024\\JC-202408-citibike-tripdata.csv\n",
      "  ❌ Error reading extracted_tripdata\\2024\\JC-202408-citibike-tripdata.csv: cannot safely cast non-equivalent object to int64\n",
      "  📖 Reading: extracted_tripdata\\2024\\JC-202409-citibike-tripdata.csv\n",
      "  ❌ Error reading extracted_tripdata\\2024\\JC-202409-citibike-tripdata.csv: cannot safely cast non-equivalent object to int64\n",
      "  📖 Reading: extracted_tripdata\\2024\\JC-202410-citibike-tripdata.csv\n",
      "  ❌ Error reading extracted_tripdata\\2024\\JC-202410-citibike-tripdata.csv: cannot safely cast non-equivalent object to int64\n",
      "  📖 Reading: extracted_tripdata\\2024\\JC-202411-citibike-tripdata.csv\n",
      "  ❌ Error reading extracted_tripdata\\2024\\JC-202411-citibike-tripdata.csv: cannot safely cast non-equivalent object to int64\n",
      "  📖 Reading: extracted_tripdata\\2024\\JC-202412-citibike-tripdata.csv\n",
      "  ❌ Error reading extracted_tripdata\\2024\\JC-202412-citibike-tripdata.csv: cannot safely cast non-equivalent object to int64\n",
      "  🔍 Original rows: 348450\n",
      "  ✅ Merged CSV saved to: merged_tripdata2\\2024_merged.csv\n",
      "\n",
      "📁 Found 50 CSV files in extracted_tripdata\\2025\n",
      "  📖 Reading: extracted_tripdata\\2025\\202501-citibike-tripdata_1.csv\n"
     ]
    },
    {
     "name": "stderr",
     "output_type": "stream",
     "text": [
      "C:\\Users\\zhao\\AppData\\Local\\Temp\\ipykernel_16640\\2387008396.py:18: DtypeWarning: Columns (5,7) have mixed types. Specify dtype option on import or set low_memory=False.\n",
      "  df = pd.read_csv(file)\n"
     ]
    },
    {
     "name": "stdout",
     "output_type": "stream",
     "text": [
      "  ❌ Error reading extracted_tripdata\\2025\\202501-citibike-tripdata_1.csv: cannot safely cast non-equivalent object to int64\n",
      "  📖 Reading: extracted_tripdata\\2025\\202501-citibike-tripdata_2.csv\n"
     ]
    },
    {
     "name": "stderr",
     "output_type": "stream",
     "text": [
      "C:\\Users\\zhao\\AppData\\Local\\Temp\\ipykernel_16640\\2387008396.py:18: DtypeWarning: Columns (5,7) have mixed types. Specify dtype option on import or set low_memory=False.\n",
      "  df = pd.read_csv(file)\n"
     ]
    },
    {
     "name": "stdout",
     "output_type": "stream",
     "text": [
      "  ❌ Error reading extracted_tripdata\\2025\\202501-citibike-tripdata_2.csv: cannot safely cast non-equivalent object to int64\n",
      "  📖 Reading: extracted_tripdata\\2025\\202501-citibike-tripdata_3.csv\n",
      "  ❌ Error reading extracted_tripdata\\2025\\202501-citibike-tripdata_3.csv: cannot safely cast non-equivalent object to int64\n",
      "  📖 Reading: extracted_tripdata\\2025\\202502-citibike-tripdata_1.csv\n"
     ]
    },
    {
     "name": "stderr",
     "output_type": "stream",
     "text": [
      "C:\\Users\\zhao\\AppData\\Local\\Temp\\ipykernel_16640\\2387008396.py:18: DtypeWarning: Columns (7) have mixed types. Specify dtype option on import or set low_memory=False.\n",
      "  df = pd.read_csv(file)\n"
     ]
    },
    {
     "name": "stdout",
     "output_type": "stream",
     "text": [
      "  ❌ Error reading extracted_tripdata\\2025\\202502-citibike-tripdata_1.csv: cannot safely cast non-equivalent object to int64\n",
      "  📖 Reading: extracted_tripdata\\2025\\202502-citibike-tripdata_2.csv\n"
     ]
    },
    {
     "name": "stderr",
     "output_type": "stream",
     "text": [
      "C:\\Users\\zhao\\AppData\\Local\\Temp\\ipykernel_16640\\2387008396.py:18: DtypeWarning: Columns (5,7) have mixed types. Specify dtype option on import or set low_memory=False.\n",
      "  df = pd.read_csv(file)\n"
     ]
    },
    {
     "name": "stdout",
     "output_type": "stream",
     "text": [
      "  ❌ Error reading extracted_tripdata\\2025\\202502-citibike-tripdata_2.csv: cannot safely cast non-equivalent object to int64\n",
      "  📖 Reading: extracted_tripdata\\2025\\202502-citibike-tripdata_3.csv\n",
      "  ❌ Error reading extracted_tripdata\\2025\\202502-citibike-tripdata_3.csv: cannot safely cast non-equivalent object to int64\n",
      "  📖 Reading: extracted_tripdata\\2025\\202503-citibike-tripdata_1.csv\n"
     ]
    },
    {
     "name": "stderr",
     "output_type": "stream",
     "text": [
      "C:\\Users\\zhao\\AppData\\Local\\Temp\\ipykernel_16640\\2387008396.py:18: DtypeWarning: Columns (5,7) have mixed types. Specify dtype option on import or set low_memory=False.\n",
      "  df = pd.read_csv(file)\n"
     ]
    },
    {
     "name": "stdout",
     "output_type": "stream",
     "text": [
      "  ❌ Error reading extracted_tripdata\\2025\\202503-citibike-tripdata_1.csv: cannot safely cast non-equivalent object to int64\n",
      "  📖 Reading: extracted_tripdata\\2025\\202503-citibike-tripdata_2.csv\n"
     ]
    },
    {
     "name": "stderr",
     "output_type": "stream",
     "text": [
      "C:\\Users\\zhao\\AppData\\Local\\Temp\\ipykernel_16640\\2387008396.py:18: DtypeWarning: Columns (5,7) have mixed types. Specify dtype option on import or set low_memory=False.\n",
      "  df = pd.read_csv(file)\n"
     ]
    },
    {
     "name": "stdout",
     "output_type": "stream",
     "text": [
      "  ❌ Error reading extracted_tripdata\\2025\\202503-citibike-tripdata_2.csv: cannot safely cast non-equivalent object to int64\n",
      "  📖 Reading: extracted_tripdata\\2025\\202503-citibike-tripdata_3.csv\n"
     ]
    },
    {
     "name": "stderr",
     "output_type": "stream",
     "text": [
      "C:\\Users\\zhao\\AppData\\Local\\Temp\\ipykernel_16640\\2387008396.py:18: DtypeWarning: Columns (5,7) have mixed types. Specify dtype option on import or set low_memory=False.\n",
      "  df = pd.read_csv(file)\n"
     ]
    },
    {
     "name": "stdout",
     "output_type": "stream",
     "text": [
      "  ❌ Error reading extracted_tripdata\\2025\\202503-citibike-tripdata_3.csv: cannot safely cast non-equivalent object to int64\n",
      "  📖 Reading: extracted_tripdata\\2025\\202503-citibike-tripdata_4.csv\n"
     ]
    },
    {
     "name": "stderr",
     "output_type": "stream",
     "text": [
      "C:\\Users\\zhao\\AppData\\Local\\Temp\\ipykernel_16640\\2387008396.py:18: DtypeWarning: Columns (7) have mixed types. Specify dtype option on import or set low_memory=False.\n",
      "  df = pd.read_csv(file)\n"
     ]
    },
    {
     "name": "stdout",
     "output_type": "stream",
     "text": [
      "  ❌ Error reading extracted_tripdata\\2025\\202503-citibike-tripdata_4.csv: cannot safely cast non-equivalent object to int64\n",
      "  📖 Reading: extracted_tripdata\\2025\\202504-citibike-tripdata_1.csv\n",
      "  ❌ Error reading extracted_tripdata\\2025\\202504-citibike-tripdata_1.csv: cannot safely cast non-equivalent object to int64\n",
      "  📖 Reading: extracted_tripdata\\2025\\202504-citibike-tripdata_2.csv\n"
     ]
    },
    {
     "name": "stderr",
     "output_type": "stream",
     "text": [
      "C:\\Users\\zhao\\AppData\\Local\\Temp\\ipykernel_16640\\2387008396.py:18: DtypeWarning: Columns (7) have mixed types. Specify dtype option on import or set low_memory=False.\n",
      "  df = pd.read_csv(file)\n"
     ]
    },
    {
     "name": "stdout",
     "output_type": "stream",
     "text": [
      "  ❌ Error reading extracted_tripdata\\2025\\202504-citibike-tripdata_2.csv: cannot safely cast non-equivalent object to int64\n",
      "  📖 Reading: extracted_tripdata\\2025\\202504-citibike-tripdata_3.csv\n"
     ]
    },
    {
     "name": "stderr",
     "output_type": "stream",
     "text": [
      "C:\\Users\\zhao\\AppData\\Local\\Temp\\ipykernel_16640\\2387008396.py:18: DtypeWarning: Columns (7) have mixed types. Specify dtype option on import or set low_memory=False.\n",
      "  df = pd.read_csv(file)\n"
     ]
    },
    {
     "name": "stdout",
     "output_type": "stream",
     "text": [
      "  ❌ Error reading extracted_tripdata\\2025\\202504-citibike-tripdata_3.csv: cannot safely cast non-equivalent object to int64\n",
      "  📖 Reading: extracted_tripdata\\2025\\202504-citibike-tripdata_4.csv\n"
     ]
    },
    {
     "name": "stderr",
     "output_type": "stream",
     "text": [
      "C:\\Users\\zhao\\AppData\\Local\\Temp\\ipykernel_16640\\2387008396.py:18: DtypeWarning: Columns (5,7) have mixed types. Specify dtype option on import or set low_memory=False.\n",
      "  df = pd.read_csv(file)\n"
     ]
    },
    {
     "name": "stdout",
     "output_type": "stream",
     "text": [
      "  ❌ Error reading extracted_tripdata\\2025\\202504-citibike-tripdata_4.csv: cannot safely cast non-equivalent object to int64\n",
      "  📖 Reading: extracted_tripdata\\2025\\202505-citibike-tripdata_1.csv\n"
     ]
    },
    {
     "name": "stderr",
     "output_type": "stream",
     "text": [
      "C:\\Users\\zhao\\AppData\\Local\\Temp\\ipykernel_16640\\2387008396.py:18: DtypeWarning: Columns (5,7) have mixed types. Specify dtype option on import or set low_memory=False.\n",
      "  df = pd.read_csv(file)\n"
     ]
    },
    {
     "name": "stdout",
     "output_type": "stream",
     "text": [
      "  ❌ Error reading extracted_tripdata\\2025\\202505-citibike-tripdata_1.csv: cannot safely cast non-equivalent object to int64\n",
      "  📖 Reading: extracted_tripdata\\2025\\202505-citibike-tripdata_2.csv\n"
     ]
    },
    {
     "name": "stderr",
     "output_type": "stream",
     "text": [
      "C:\\Users\\zhao\\AppData\\Local\\Temp\\ipykernel_16640\\2387008396.py:18: DtypeWarning: Columns (7) have mixed types. Specify dtype option on import or set low_memory=False.\n",
      "  df = pd.read_csv(file)\n"
     ]
    },
    {
     "name": "stdout",
     "output_type": "stream",
     "text": [
      "  ❌ Error reading extracted_tripdata\\2025\\202505-citibike-tripdata_2.csv: cannot safely cast non-equivalent object to int64\n",
      "  📖 Reading: extracted_tripdata\\2025\\202505-citibike-tripdata_3.csv\n"
     ]
    },
    {
     "name": "stderr",
     "output_type": "stream",
     "text": [
      "C:\\Users\\zhao\\AppData\\Local\\Temp\\ipykernel_16640\\2387008396.py:18: DtypeWarning: Columns (5,7) have mixed types. Specify dtype option on import or set low_memory=False.\n",
      "  df = pd.read_csv(file)\n"
     ]
    },
    {
     "name": "stdout",
     "output_type": "stream",
     "text": [
      "  ❌ Error reading extracted_tripdata\\2025\\202505-citibike-tripdata_3.csv: cannot safely cast non-equivalent object to int64\n",
      "  📖 Reading: extracted_tripdata\\2025\\202505-citibike-tripdata_4.csv\n"
     ]
    },
    {
     "name": "stderr",
     "output_type": "stream",
     "text": [
      "C:\\Users\\zhao\\AppData\\Local\\Temp\\ipykernel_16640\\2387008396.py:18: DtypeWarning: Columns (5,7) have mixed types. Specify dtype option on import or set low_memory=False.\n",
      "  df = pd.read_csv(file)\n"
     ]
    },
    {
     "name": "stdout",
     "output_type": "stream",
     "text": [
      "  ❌ Error reading extracted_tripdata\\2025\\202505-citibike-tripdata_4.csv: cannot safely cast non-equivalent object to int64\n",
      "  📖 Reading: extracted_tripdata\\2025\\202505-citibike-tripdata_5.csv\n"
     ]
    },
    {
     "name": "stderr",
     "output_type": "stream",
     "text": [
      "C:\\Users\\zhao\\AppData\\Local\\Temp\\ipykernel_16640\\2387008396.py:18: DtypeWarning: Columns (7) have mixed types. Specify dtype option on import or set low_memory=False.\n",
      "  df = pd.read_csv(file)\n"
     ]
    },
    {
     "name": "stdout",
     "output_type": "stream",
     "text": [
      "  ❌ Error reading extracted_tripdata\\2025\\202505-citibike-tripdata_5.csv: cannot safely cast non-equivalent object to int64\n",
      "  📖 Reading: extracted_tripdata\\2025\\202506-citibike-tripdata_1.csv\n"
     ]
    },
    {
     "name": "stderr",
     "output_type": "stream",
     "text": [
      "C:\\Users\\zhao\\AppData\\Local\\Temp\\ipykernel_16640\\2387008396.py:18: DtypeWarning: Columns (7) have mixed types. Specify dtype option on import or set low_memory=False.\n",
      "  df = pd.read_csv(file)\n"
     ]
    },
    {
     "name": "stdout",
     "output_type": "stream",
     "text": [
      "  ❌ Error reading extracted_tripdata\\2025\\202506-citibike-tripdata_1.csv: cannot safely cast non-equivalent object to int64\n",
      "  📖 Reading: extracted_tripdata\\2025\\202506-citibike-tripdata_2.csv\n"
     ]
    },
    {
     "name": "stderr",
     "output_type": "stream",
     "text": [
      "C:\\Users\\zhao\\AppData\\Local\\Temp\\ipykernel_16640\\2387008396.py:18: DtypeWarning: Columns (5,7) have mixed types. Specify dtype option on import or set low_memory=False.\n",
      "  df = pd.read_csv(file)\n"
     ]
    },
    {
     "name": "stdout",
     "output_type": "stream",
     "text": [
      "  ❌ Error reading extracted_tripdata\\2025\\202506-citibike-tripdata_2.csv: cannot safely cast non-equivalent object to int64\n",
      "  📖 Reading: extracted_tripdata\\2025\\202506-citibike-tripdata_3.csv\n"
     ]
    },
    {
     "name": "stderr",
     "output_type": "stream",
     "text": [
      "C:\\Users\\zhao\\AppData\\Local\\Temp\\ipykernel_16640\\2387008396.py:18: DtypeWarning: Columns (7) have mixed types. Specify dtype option on import or set low_memory=False.\n",
      "  df = pd.read_csv(file)\n"
     ]
    },
    {
     "name": "stdout",
     "output_type": "stream",
     "text": [
      "  ❌ Error reading extracted_tripdata\\2025\\202506-citibike-tripdata_3.csv: cannot safely cast non-equivalent object to int64\n",
      "  📖 Reading: extracted_tripdata\\2025\\202506-citibike-tripdata_4.csv\n"
     ]
    },
    {
     "name": "stderr",
     "output_type": "stream",
     "text": [
      "C:\\Users\\zhao\\AppData\\Local\\Temp\\ipykernel_16640\\2387008396.py:18: DtypeWarning: Columns (7) have mixed types. Specify dtype option on import or set low_memory=False.\n",
      "  df = pd.read_csv(file)\n"
     ]
    },
    {
     "name": "stdout",
     "output_type": "stream",
     "text": [
      "  ❌ Error reading extracted_tripdata\\2025\\202506-citibike-tripdata_4.csv: cannot safely cast non-equivalent object to int64\n",
      "  📖 Reading: extracted_tripdata\\2025\\202506-citibike-tripdata_5.csv\n"
     ]
    },
    {
     "name": "stderr",
     "output_type": "stream",
     "text": [
      "C:\\Users\\zhao\\AppData\\Local\\Temp\\ipykernel_16640\\2387008396.py:18: DtypeWarning: Columns (7) have mixed types. Specify dtype option on import or set low_memory=False.\n",
      "  df = pd.read_csv(file)\n"
     ]
    },
    {
     "name": "stdout",
     "output_type": "stream",
     "text": [
      "  ❌ Error reading extracted_tripdata\\2025\\202506-citibike-tripdata_5.csv: cannot safely cast non-equivalent object to int64\n",
      "  📖 Reading: extracted_tripdata\\2025\\202507-citibike-tripdata_1.csv\n"
     ]
    },
    {
     "name": "stderr",
     "output_type": "stream",
     "text": [
      "C:\\Users\\zhao\\AppData\\Local\\Temp\\ipykernel_16640\\2387008396.py:18: DtypeWarning: Columns (7) have mixed types. Specify dtype option on import or set low_memory=False.\n",
      "  df = pd.read_csv(file)\n"
     ]
    },
    {
     "name": "stdout",
     "output_type": "stream",
     "text": [
      "  ❌ Error reading extracted_tripdata\\2025\\202507-citibike-tripdata_1.csv: cannot safely cast non-equivalent object to int64\n",
      "  📖 Reading: extracted_tripdata\\2025\\202507-citibike-tripdata_2.csv\n"
     ]
    },
    {
     "name": "stderr",
     "output_type": "stream",
     "text": [
      "C:\\Users\\zhao\\AppData\\Local\\Temp\\ipykernel_16640\\2387008396.py:18: DtypeWarning: Columns (7) have mixed types. Specify dtype option on import or set low_memory=False.\n",
      "  df = pd.read_csv(file)\n"
     ]
    },
    {
     "name": "stdout",
     "output_type": "stream",
     "text": [
      "  ❌ Error reading extracted_tripdata\\2025\\202507-citibike-tripdata_2.csv: cannot safely cast non-equivalent object to int64\n",
      "  📖 Reading: extracted_tripdata\\2025\\202507-citibike-tripdata_3.csv\n"
     ]
    },
    {
     "name": "stderr",
     "output_type": "stream",
     "text": [
      "C:\\Users\\zhao\\AppData\\Local\\Temp\\ipykernel_16640\\2387008396.py:18: DtypeWarning: Columns (7) have mixed types. Specify dtype option on import or set low_memory=False.\n",
      "  df = pd.read_csv(file)\n"
     ]
    },
    {
     "name": "stdout",
     "output_type": "stream",
     "text": [
      "  ❌ Error reading extracted_tripdata\\2025\\202507-citibike-tripdata_3.csv: cannot safely cast non-equivalent object to int64\n",
      "  📖 Reading: extracted_tripdata\\2025\\202507-citibike-tripdata_4.csv\n"
     ]
    },
    {
     "name": "stderr",
     "output_type": "stream",
     "text": [
      "C:\\Users\\zhao\\AppData\\Local\\Temp\\ipykernel_16640\\2387008396.py:18: DtypeWarning: Columns (7) have mixed types. Specify dtype option on import or set low_memory=False.\n",
      "  df = pd.read_csv(file)\n"
     ]
    },
    {
     "name": "stdout",
     "output_type": "stream",
     "text": [
      "  ❌ Error reading extracted_tripdata\\2025\\202507-citibike-tripdata_4.csv: cannot safely cast non-equivalent object to int64\n",
      "  📖 Reading: extracted_tripdata\\2025\\202507-citibike-tripdata_5.csv\n"
     ]
    },
    {
     "name": "stderr",
     "output_type": "stream",
     "text": [
      "C:\\Users\\zhao\\AppData\\Local\\Temp\\ipykernel_16640\\2387008396.py:18: DtypeWarning: Columns (7) have mixed types. Specify dtype option on import or set low_memory=False.\n",
      "  df = pd.read_csv(file)\n"
     ]
    },
    {
     "name": "stdout",
     "output_type": "stream",
     "text": [
      "  ❌ Error reading extracted_tripdata\\2025\\202507-citibike-tripdata_5.csv: cannot safely cast non-equivalent object to int64\n",
      "  📖 Reading: extracted_tripdata\\2025\\202508-citibike-tripdata_1.csv\n"
     ]
    },
    {
     "name": "stderr",
     "output_type": "stream",
     "text": [
      "C:\\Users\\zhao\\AppData\\Local\\Temp\\ipykernel_16640\\2387008396.py:18: DtypeWarning: Columns (7) have mixed types. Specify dtype option on import or set low_memory=False.\n",
      "  df = pd.read_csv(file)\n"
     ]
    },
    {
     "name": "stdout",
     "output_type": "stream",
     "text": [
      "  ❌ Error reading extracted_tripdata\\2025\\202508-citibike-tripdata_1.csv: cannot safely cast non-equivalent object to int64\n",
      "  📖 Reading: extracted_tripdata\\2025\\202508-citibike-tripdata_2.csv\n"
     ]
    },
    {
     "name": "stderr",
     "output_type": "stream",
     "text": [
      "C:\\Users\\zhao\\AppData\\Local\\Temp\\ipykernel_16640\\2387008396.py:18: DtypeWarning: Columns (7) have mixed types. Specify dtype option on import or set low_memory=False.\n",
      "  df = pd.read_csv(file)\n"
     ]
    },
    {
     "name": "stdout",
     "output_type": "stream",
     "text": [
      "  ❌ Error reading extracted_tripdata\\2025\\202508-citibike-tripdata_2.csv: cannot safely cast non-equivalent object to int64\n",
      "  📖 Reading: extracted_tripdata\\2025\\202508-citibike-tripdata_3.csv\n"
     ]
    },
    {
     "ename": "KeyboardInterrupt",
     "evalue": "",
     "output_type": "error",
     "traceback": [
      "\u001b[1;31m---------------------------------------------------------------------------\u001b[0m",
      "\u001b[1;31mKeyboardInterrupt\u001b[0m                         Traceback (most recent call last)",
      "Cell \u001b[1;32mIn[8], line 85\u001b[0m\n\u001b[0;32m     83\u001b[0m year \u001b[38;5;241m=\u001b[39m folder_name\n\u001b[0;32m     84\u001b[0m output_file \u001b[38;5;241m=\u001b[39m os\u001b[38;5;241m.\u001b[39mpath\u001b[38;5;241m.\u001b[39mjoin(output_root, \u001b[38;5;124mf\u001b[39m\u001b[38;5;124m\"\u001b[39m\u001b[38;5;132;01m{\u001b[39;00myear\u001b[38;5;132;01m}\u001b[39;00m\u001b[38;5;124m_merged.csv\u001b[39m\u001b[38;5;124m\"\u001b[39m)\n\u001b[1;32m---> 85\u001b[0m \u001b[43mmerge_csv_files2022\u001b[49m\u001b[43m(\u001b[49m\u001b[43mfolder_path\u001b[49m\u001b[43m,\u001b[49m\u001b[43m \u001b[49m\u001b[43moutput_file\u001b[49m\u001b[43m,\u001b[49m\u001b[43m \u001b[49m\u001b[43myear\u001b[49m\u001b[43m)\u001b[49m\n",
      "Cell \u001b[1;32mIn[8], line 18\u001b[0m, in \u001b[0;36mmerge_csv_files2022\u001b[1;34m(input_dir, output_file, year)\u001b[0m\n\u001b[0;32m     16\u001b[0m \u001b[38;5;28mprint\u001b[39m(\u001b[38;5;124mf\u001b[39m\u001b[38;5;124m\"\u001b[39m\u001b[38;5;124m  📖 Reading: \u001b[39m\u001b[38;5;132;01m{\u001b[39;00mfile\u001b[38;5;132;01m}\u001b[39;00m\u001b[38;5;124m\"\u001b[39m)\n\u001b[0;32m     17\u001b[0m \u001b[38;5;28;01mtry\u001b[39;00m:\n\u001b[1;32m---> 18\u001b[0m     df \u001b[38;5;241m=\u001b[39m \u001b[43mpd\u001b[49m\u001b[38;5;241;43m.\u001b[39;49m\u001b[43mread_csv\u001b[49m\u001b[43m(\u001b[49m\u001b[43mfile\u001b[49m\u001b[43m)\u001b[49m\n\u001b[0;32m     20\u001b[0m     \u001b[38;5;28;01mif\u001b[39;00m \u001b[38;5;28mint\u001b[39m(year) \u001b[38;5;241m>\u001b[39m\u001b[38;5;241m=\u001b[39m \u001b[38;5;241m2022\u001b[39m:\n\u001b[0;32m     21\u001b[0m         \u001b[38;5;66;03m# Rename new format to match old format\u001b[39;00m\n\u001b[0;32m     22\u001b[0m         df \u001b[38;5;241m=\u001b[39m df\u001b[38;5;241m.\u001b[39mrename(columns\u001b[38;5;241m=\u001b[39m{\n\u001b[0;32m     23\u001b[0m             \u001b[38;5;124m'\u001b[39m\u001b[38;5;124mride_id\u001b[39m\u001b[38;5;124m'\u001b[39m: \u001b[38;5;124m'\u001b[39m\u001b[38;5;124mtrip_id\u001b[39m\u001b[38;5;124m'\u001b[39m,\n\u001b[0;32m     24\u001b[0m             \u001b[38;5;124m'\u001b[39m\u001b[38;5;124mrideable_type\u001b[39m\u001b[38;5;124m'\u001b[39m: \u001b[38;5;124m'\u001b[39m\u001b[38;5;124mbike_type\u001b[39m\u001b[38;5;124m'\u001b[39m,\n\u001b[1;32m   (...)\u001b[0m\n\u001b[0;32m     35\u001b[0m             \u001b[38;5;124m'\u001b[39m\u001b[38;5;124mmember_casual\u001b[39m\u001b[38;5;124m'\u001b[39m: \u001b[38;5;124m'\u001b[39m\u001b[38;5;124musertype\u001b[39m\u001b[38;5;124m'\u001b[39m,\n\u001b[0;32m     36\u001b[0m         })\n",
      "File \u001b[1;32m~\\AppData\\Roaming\\Python\\Python310\\site-packages\\pandas\\io\\parsers\\readers.py:912\u001b[0m, in \u001b[0;36mread_csv\u001b[1;34m(filepath_or_buffer, sep, delimiter, header, names, index_col, usecols, dtype, engine, converters, true_values, false_values, skipinitialspace, skiprows, skipfooter, nrows, na_values, keep_default_na, na_filter, verbose, skip_blank_lines, parse_dates, infer_datetime_format, keep_date_col, date_parser, date_format, dayfirst, cache_dates, iterator, chunksize, compression, thousands, decimal, lineterminator, quotechar, quoting, doublequote, escapechar, comment, encoding, encoding_errors, dialect, on_bad_lines, delim_whitespace, low_memory, memory_map, float_precision, storage_options, dtype_backend)\u001b[0m\n\u001b[0;32m    899\u001b[0m kwds_defaults \u001b[38;5;241m=\u001b[39m _refine_defaults_read(\n\u001b[0;32m    900\u001b[0m     dialect,\n\u001b[0;32m    901\u001b[0m     delimiter,\n\u001b[1;32m   (...)\u001b[0m\n\u001b[0;32m    908\u001b[0m     dtype_backend\u001b[38;5;241m=\u001b[39mdtype_backend,\n\u001b[0;32m    909\u001b[0m )\n\u001b[0;32m    910\u001b[0m kwds\u001b[38;5;241m.\u001b[39mupdate(kwds_defaults)\n\u001b[1;32m--> 912\u001b[0m \u001b[38;5;28;01mreturn\u001b[39;00m \u001b[43m_read\u001b[49m\u001b[43m(\u001b[49m\u001b[43mfilepath_or_buffer\u001b[49m\u001b[43m,\u001b[49m\u001b[43m \u001b[49m\u001b[43mkwds\u001b[49m\u001b[43m)\u001b[49m\n",
      "File \u001b[1;32m~\\AppData\\Roaming\\Python\\Python310\\site-packages\\pandas\\io\\parsers\\readers.py:583\u001b[0m, in \u001b[0;36m_read\u001b[1;34m(filepath_or_buffer, kwds)\u001b[0m\n\u001b[0;32m    580\u001b[0m     \u001b[38;5;28;01mreturn\u001b[39;00m parser\n\u001b[0;32m    582\u001b[0m \u001b[38;5;28;01mwith\u001b[39;00m parser:\n\u001b[1;32m--> 583\u001b[0m     \u001b[38;5;28;01mreturn\u001b[39;00m \u001b[43mparser\u001b[49m\u001b[38;5;241;43m.\u001b[39;49m\u001b[43mread\u001b[49m\u001b[43m(\u001b[49m\u001b[43mnrows\u001b[49m\u001b[43m)\u001b[49m\n",
      "File \u001b[1;32m~\\AppData\\Roaming\\Python\\Python310\\site-packages\\pandas\\io\\parsers\\readers.py:1704\u001b[0m, in \u001b[0;36mTextFileReader.read\u001b[1;34m(self, nrows)\u001b[0m\n\u001b[0;32m   1697\u001b[0m nrows \u001b[38;5;241m=\u001b[39m validate_integer(\u001b[38;5;124m\"\u001b[39m\u001b[38;5;124mnrows\u001b[39m\u001b[38;5;124m\"\u001b[39m, nrows)\n\u001b[0;32m   1698\u001b[0m \u001b[38;5;28;01mtry\u001b[39;00m:\n\u001b[0;32m   1699\u001b[0m     \u001b[38;5;66;03m# error: \"ParserBase\" has no attribute \"read\"\u001b[39;00m\n\u001b[0;32m   1700\u001b[0m     (\n\u001b[0;32m   1701\u001b[0m         index,\n\u001b[0;32m   1702\u001b[0m         columns,\n\u001b[0;32m   1703\u001b[0m         col_dict,\n\u001b[1;32m-> 1704\u001b[0m     ) \u001b[38;5;241m=\u001b[39m \u001b[38;5;28;43mself\u001b[39;49m\u001b[38;5;241;43m.\u001b[39;49m\u001b[43m_engine\u001b[49m\u001b[38;5;241;43m.\u001b[39;49m\u001b[43mread\u001b[49m\u001b[43m(\u001b[49m\u001b[43m  \u001b[49m\u001b[38;5;66;43;03m# type: ignore[attr-defined]\u001b[39;49;00m\n\u001b[0;32m   1705\u001b[0m \u001b[43m        \u001b[49m\u001b[43mnrows\u001b[49m\n\u001b[0;32m   1706\u001b[0m \u001b[43m    \u001b[49m\u001b[43m)\u001b[49m\n\u001b[0;32m   1707\u001b[0m \u001b[38;5;28;01mexcept\u001b[39;00m \u001b[38;5;167;01mException\u001b[39;00m:\n\u001b[0;32m   1708\u001b[0m     \u001b[38;5;28mself\u001b[39m\u001b[38;5;241m.\u001b[39mclose()\n",
      "File \u001b[1;32m~\\AppData\\Roaming\\Python\\Python310\\site-packages\\pandas\\io\\parsers\\c_parser_wrapper.py:234\u001b[0m, in \u001b[0;36mCParserWrapper.read\u001b[1;34m(self, nrows)\u001b[0m\n\u001b[0;32m    232\u001b[0m \u001b[38;5;28;01mtry\u001b[39;00m:\n\u001b[0;32m    233\u001b[0m     \u001b[38;5;28;01mif\u001b[39;00m \u001b[38;5;28mself\u001b[39m\u001b[38;5;241m.\u001b[39mlow_memory:\n\u001b[1;32m--> 234\u001b[0m         chunks \u001b[38;5;241m=\u001b[39m \u001b[38;5;28;43mself\u001b[39;49m\u001b[38;5;241;43m.\u001b[39;49m\u001b[43m_reader\u001b[49m\u001b[38;5;241;43m.\u001b[39;49m\u001b[43mread_low_memory\u001b[49m\u001b[43m(\u001b[49m\u001b[43mnrows\u001b[49m\u001b[43m)\u001b[49m\n\u001b[0;32m    235\u001b[0m         \u001b[38;5;66;03m# destructive to chunks\u001b[39;00m\n\u001b[0;32m    236\u001b[0m         data \u001b[38;5;241m=\u001b[39m _concatenate_chunks(chunks)\n",
      "File \u001b[1;32m~\\AppData\\Roaming\\Python\\Python310\\site-packages\\pandas\\_libs\\parsers.pyx:814\u001b[0m, in \u001b[0;36mpandas._libs.parsers.TextReader.read_low_memory\u001b[1;34m()\u001b[0m\n",
      "File \u001b[1;32m~\\AppData\\Roaming\\Python\\Python310\\site-packages\\pandas\\_libs\\parsers.pyx:891\u001b[0m, in \u001b[0;36mpandas._libs.parsers.TextReader._read_rows\u001b[1;34m()\u001b[0m\n",
      "File \u001b[1;32m~\\AppData\\Roaming\\Python\\Python310\\site-packages\\pandas\\_libs\\parsers.pyx:1036\u001b[0m, in \u001b[0;36mpandas._libs.parsers.TextReader._convert_column_data\u001b[1;34m()\u001b[0m\n",
      "File \u001b[1;32m~\\AppData\\Roaming\\Python\\Python310\\site-packages\\pandas\\_libs\\parsers.pyx:1090\u001b[0m, in \u001b[0;36mpandas._libs.parsers.TextReader._convert_tokens\u001b[1;34m()\u001b[0m\n",
      "File \u001b[1;32m~\\AppData\\Roaming\\Python\\Python310\\site-packages\\pandas\\_libs\\parsers.pyx:1165\u001b[0m, in \u001b[0;36mpandas._libs.parsers.TextReader._convert_with_dtype\u001b[1;34m()\u001b[0m\n",
      "File \u001b[1;32m~\\AppData\\Roaming\\Python\\Python310\\site-packages\\pandas\\core\\dtypes\\common.py:1335\u001b[0m, in \u001b[0;36mis_extension_array_dtype\u001b[1;34m(arr_or_dtype)\u001b[0m\n\u001b[0;32m   1326\u001b[0m     \u001b[38;5;66;03m# Note: if other EA dtypes are ever held in HybridBlock, exclude those\u001b[39;00m\n\u001b[0;32m   1327\u001b[0m     \u001b[38;5;66;03m#  here too.\u001b[39;00m\n\u001b[0;32m   1328\u001b[0m     \u001b[38;5;66;03m# NB: need to check DatetimeTZDtype and not is_datetime64tz_dtype\u001b[39;00m\n\u001b[0;32m   1329\u001b[0m     \u001b[38;5;66;03m#  to exclude ArrowTimestampUSDtype\u001b[39;00m\n\u001b[0;32m   1330\u001b[0m     \u001b[38;5;28;01mreturn\u001b[39;00m \u001b[38;5;28misinstance\u001b[39m(dtype, ExtensionDtype) \u001b[38;5;129;01mand\u001b[39;00m \u001b[38;5;129;01mnot\u001b[39;00m \u001b[38;5;28misinstance\u001b[39m(\n\u001b[0;32m   1331\u001b[0m         dtype, (DatetimeTZDtype, PeriodDtype)\n\u001b[0;32m   1332\u001b[0m     )\n\u001b[1;32m-> 1335\u001b[0m \u001b[38;5;28;01mdef\u001b[39;00m \u001b[38;5;21mis_extension_array_dtype\u001b[39m(arr_or_dtype) \u001b[38;5;241m-\u001b[39m\u001b[38;5;241m>\u001b[39m \u001b[38;5;28mbool\u001b[39m:\n\u001b[0;32m   1336\u001b[0m \u001b[38;5;250m    \u001b[39m\u001b[38;5;124;03m\"\"\"\u001b[39;00m\n\u001b[0;32m   1337\u001b[0m \u001b[38;5;124;03m    Check if an object is a pandas extension array type.\u001b[39;00m\n\u001b[0;32m   1338\u001b[0m \n\u001b[1;32m   (...)\u001b[0m\n\u001b[0;32m   1378\u001b[0m \u001b[38;5;124;03m    False\u001b[39;00m\n\u001b[0;32m   1379\u001b[0m \u001b[38;5;124;03m    \"\"\"\u001b[39;00m\n\u001b[0;32m   1380\u001b[0m     dtype \u001b[38;5;241m=\u001b[39m \u001b[38;5;28mgetattr\u001b[39m(arr_or_dtype, \u001b[38;5;124m\"\u001b[39m\u001b[38;5;124mdtype\u001b[39m\u001b[38;5;124m\"\u001b[39m, arr_or_dtype)\n",
      "\u001b[1;31mKeyboardInterrupt\u001b[0m: "
     ]
    }
   ],
   "source": [
    "# for year 2022 -2025 fixed\n",
    "import os\n",
    "import pandas as pd\n",
    "\n",
    "def merge_csv_files2022(input_dir, output_file, year):\n",
    "    all_csv_files = [\n",
    "        os.path.join(input_dir, f)\n",
    "        for f in os.listdir(input_dir)\n",
    "        if f.lower().endswith('.csv')\n",
    "    ]\n",
    "\n",
    "    print(f\"\\n📁 Found {len(all_csv_files)} CSV files in {input_dir}\")\n",
    "\n",
    "    df_list = []\n",
    "    for file in all_csv_files:\n",
    "        print(f\"  📖 Reading: {file}\")\n",
    "        try:\n",
    "            df = pd.read_csv(file)\n",
    "\n",
    "            if int(year) >= 2022:\n",
    "                # Rename new format to match old format\n",
    "                df = df.rename(columns={\n",
    "                    'ride_id': 'trip_id',\n",
    "                    'rideable_type': 'bike_type',\n",
    "                    'started_at': 'starttime',\n",
    "                    'ended_at': 'stoptime',\n",
    "                    'start_station_name': 'start station name',\n",
    "                    'start_station_id': 'start station id',\n",
    "                    'end_station_name': 'end station name',\n",
    "                    'end_station_id': 'end station id',\n",
    "                    'start_lat': 'start station latitude',\n",
    "                    'start_lng': 'start station longitude',\n",
    "                    'end_lat': 'end station latitude',\n",
    "                    'end_lng': 'end station longitude',\n",
    "                    'member_casual': 'usertype',\n",
    "                })\n",
    "\n",
    "                # Parse datetimes\n",
    "                # Apply to starttime\n",
    "                #df['starttime'] = df['starttime'].apply(parse_datetime)\n",
    "            # (Optional) Drop helper columns if you don't need them\n",
    "                #df['stoptime'] = df['stoptime'].apply(parse_datetime)\n",
    "                df['starttime'] = pd.to_datetime(df['starttime'], errors='coerce')\n",
    "                df['stoptime'] = pd.to_datetime(df['stoptime'], errors='coerce')\n",
    "\n",
    "                # Calculate tripduration in seconds\n",
    "                df['tripduration'] = (df['stoptime'] - df['starttime']).dt.total_seconds()\n",
    "\n",
    "                # Add missing old columns with NaN\n",
    "                for col in ['birth year', 'gender', 'bikeid']:\n",
    "                    if col not in df.columns:\n",
    "                        df[col] = pd.NA\n",
    "\n",
    "            df_list.append(df)\n",
    "        except Exception as e:\n",
    "            print(f\"  ❌ Error reading {file}: {e}\")\n",
    "\n",
    "    if df_list:\n",
    "        merged_df = pd.concat(df_list, ignore_index=True)\n",
    "        print(f\"  🔍 Original rows: {len(merged_df)}\")\n",
    "\n",
    "        # Remove duplicates\n",
    "        merged_df = merged_df.drop_duplicates()\n",
    "\n",
    "        # Sort by start time if available\n",
    "        if 'starttime' in merged_df.columns:\n",
    "            merged_df = merged_df.sort_values(by='starttime')\n",
    "\n",
    "        os.makedirs(os.path.dirname(output_file), exist_ok=True)\n",
    "        merged_df.to_csv(output_file, index=False)\n",
    "        print(f\"  ✅ Merged CSV saved to: {output_file}\")\n",
    "    else:\n",
    "        print(\"  ⚠️ No valid CSV files to merge.\")\n",
    "\n",
    "# === CONFIG ===\n",
    "input_root = r\"extracted_tripdata\"              # Folder with year subfolders\n",
    "output_root = r\"merged_tripdata2\"               # Where to save merged files\n",
    "os.makedirs(output_root, exist_ok=True)\n",
    "\n",
    "# Only merge 2022–2025\n",
    "years_to_process = {'2022', '2023', '2024', '2025'}\n",
    "\n",
    "for folder_name in os.listdir(input_root):\n",
    "    folder_path = os.path.join(input_root, folder_name)\n",
    "    \n",
    "    if os.path.isdir(folder_path) and folder_name.isdigit() and folder_name in years_to_process:\n",
    "        year = folder_name\n",
    "        output_file = os.path.join(output_root, f\"{year}_merged.csv\")\n",
    "        merge_csv_files2022(folder_path, output_file, year)\n"
   ]
  },
  {
   "cell_type": "code",
   "execution_count": null,
   "id": "b4d2279d-bafb-4184-b073-120ba8fc723d",
   "metadata": {},
   "outputs": [],
   "source": []
  },
  {
   "cell_type": "code",
   "execution_count": 20,
   "id": "ee70422a-a0ae-4a88-b234-2e40d7c855c3",
   "metadata": {},
   "outputs": [
    {
     "name": "stdout",
     "output_type": "stream",
     "text": [
      "\n",
      "📁 Found 62 CSV files in extracted_tripdata\\2024\n",
      "  📖 Reading: extracted_tripdata\\2024\\202401-citibike-tripdata_1.csv\n"
     ]
    },
    {
     "name": "stderr",
     "output_type": "stream",
     "text": [
      "C:\\Users\\zhao\\AppData\\Local\\Temp\\ipykernel_16640\\1431574330.py:17: DtypeWarning: Columns (5) have mixed types. Specify dtype option on import or set low_memory=False.\n",
      "  df = pd.read_csv(file)\n"
     ]
    },
    {
     "name": "stdout",
     "output_type": "stream",
     "text": [
      "  📖 Reading: extracted_tripdata\\2024\\202401-citibike-tripdata_2.csv\n"
     ]
    },
    {
     "name": "stderr",
     "output_type": "stream",
     "text": [
      "C:\\Users\\zhao\\AppData\\Local\\Temp\\ipykernel_16640\\1431574330.py:17: DtypeWarning: Columns (5,7) have mixed types. Specify dtype option on import or set low_memory=False.\n",
      "  df = pd.read_csv(file)\n"
     ]
    },
    {
     "name": "stdout",
     "output_type": "stream",
     "text": [
      "  📖 Reading: extracted_tripdata\\2024\\202402-citibike-tripdata_1.csv\n"
     ]
    },
    {
     "name": "stderr",
     "output_type": "stream",
     "text": [
      "C:\\Users\\zhao\\AppData\\Local\\Temp\\ipykernel_16640\\1431574330.py:17: DtypeWarning: Columns (5,7) have mixed types. Specify dtype option on import or set low_memory=False.\n",
      "  df = pd.read_csv(file)\n"
     ]
    },
    {
     "name": "stdout",
     "output_type": "stream",
     "text": [
      "  📖 Reading: extracted_tripdata\\2024\\202402-citibike-tripdata_2.csv\n"
     ]
    },
    {
     "name": "stderr",
     "output_type": "stream",
     "text": [
      "C:\\Users\\zhao\\AppData\\Local\\Temp\\ipykernel_16640\\1431574330.py:17: DtypeWarning: Columns (7) have mixed types. Specify dtype option on import or set low_memory=False.\n",
      "  df = pd.read_csv(file)\n"
     ]
    },
    {
     "name": "stdout",
     "output_type": "stream",
     "text": [
      "  📖 Reading: extracted_tripdata\\2024\\202402-citibike-tripdata_3.csv\n"
     ]
    },
    {
     "name": "stderr",
     "output_type": "stream",
     "text": [
      "C:\\Users\\zhao\\AppData\\Local\\Temp\\ipykernel_16640\\1431574330.py:17: DtypeWarning: Columns (7) have mixed types. Specify dtype option on import or set low_memory=False.\n",
      "  df = pd.read_csv(file)\n"
     ]
    },
    {
     "name": "stdout",
     "output_type": "stream",
     "text": [
      "  📖 Reading: extracted_tripdata\\2024\\202403-citibike-tripdata_1.csv\n"
     ]
    },
    {
     "name": "stderr",
     "output_type": "stream",
     "text": [
      "C:\\Users\\zhao\\AppData\\Local\\Temp\\ipykernel_16640\\1431574330.py:17: DtypeWarning: Columns (5,7) have mixed types. Specify dtype option on import or set low_memory=False.\n",
      "  df = pd.read_csv(file)\n"
     ]
    },
    {
     "name": "stdout",
     "output_type": "stream",
     "text": [
      "  📖 Reading: extracted_tripdata\\2024\\202403-citibike-tripdata_2.csv\n"
     ]
    },
    {
     "name": "stderr",
     "output_type": "stream",
     "text": [
      "C:\\Users\\zhao\\AppData\\Local\\Temp\\ipykernel_16640\\1431574330.py:17: DtypeWarning: Columns (5,7) have mixed types. Specify dtype option on import or set low_memory=False.\n",
      "  df = pd.read_csv(file)\n"
     ]
    },
    {
     "name": "stdout",
     "output_type": "stream",
     "text": [
      "  📖 Reading: extracted_tripdata\\2024\\202403-citibike-tripdata_3.csv\n"
     ]
    },
    {
     "name": "stderr",
     "output_type": "stream",
     "text": [
      "C:\\Users\\zhao\\AppData\\Local\\Temp\\ipykernel_16640\\1431574330.py:17: DtypeWarning: Columns (5,7) have mixed types. Specify dtype option on import or set low_memory=False.\n",
      "  df = pd.read_csv(file)\n"
     ]
    },
    {
     "name": "stdout",
     "output_type": "stream",
     "text": [
      "  📖 Reading: extracted_tripdata\\2024\\202404-citibike-tripdata_1.csv\n"
     ]
    },
    {
     "name": "stderr",
     "output_type": "stream",
     "text": [
      "C:\\Users\\zhao\\AppData\\Local\\Temp\\ipykernel_16640\\1431574330.py:17: DtypeWarning: Columns (5,7) have mixed types. Specify dtype option on import or set low_memory=False.\n",
      "  df = pd.read_csv(file)\n"
     ]
    },
    {
     "name": "stdout",
     "output_type": "stream",
     "text": [
      "  📖 Reading: extracted_tripdata\\2024\\202404-citibike-tripdata_2.csv\n"
     ]
    },
    {
     "name": "stderr",
     "output_type": "stream",
     "text": [
      "C:\\Users\\zhao\\AppData\\Local\\Temp\\ipykernel_16640\\1431574330.py:17: DtypeWarning: Columns (5) have mixed types. Specify dtype option on import or set low_memory=False.\n",
      "  df = pd.read_csv(file)\n"
     ]
    },
    {
     "name": "stdout",
     "output_type": "stream",
     "text": [
      "  📖 Reading: extracted_tripdata\\2024\\202404-citibike-tripdata_3.csv\n"
     ]
    },
    {
     "name": "stderr",
     "output_type": "stream",
     "text": [
      "C:\\Users\\zhao\\AppData\\Local\\Temp\\ipykernel_16640\\1431574330.py:17: DtypeWarning: Columns (5,7) have mixed types. Specify dtype option on import or set low_memory=False.\n",
      "  df = pd.read_csv(file)\n"
     ]
    },
    {
     "name": "stdout",
     "output_type": "stream",
     "text": [
      "  📖 Reading: extracted_tripdata\\2024\\202404-citibike-tripdata_4.csv\n",
      "  📖 Reading: extracted_tripdata\\2024\\202405-citibike-tripdata_1.csv\n"
     ]
    },
    {
     "name": "stderr",
     "output_type": "stream",
     "text": [
      "C:\\Users\\zhao\\AppData\\Local\\Temp\\ipykernel_16640\\1431574330.py:17: DtypeWarning: Columns (5,7) have mixed types. Specify dtype option on import or set low_memory=False.\n",
      "  df = pd.read_csv(file)\n"
     ]
    },
    {
     "name": "stdout",
     "output_type": "stream",
     "text": [
      "  📖 Reading: extracted_tripdata\\2024\\202405-citibike-tripdata_2.csv\n"
     ]
    },
    {
     "name": "stderr",
     "output_type": "stream",
     "text": [
      "C:\\Users\\zhao\\AppData\\Local\\Temp\\ipykernel_16640\\1431574330.py:17: DtypeWarning: Columns (5,7) have mixed types. Specify dtype option on import or set low_memory=False.\n",
      "  df = pd.read_csv(file)\n"
     ]
    },
    {
     "name": "stdout",
     "output_type": "stream",
     "text": [
      "  📖 Reading: extracted_tripdata\\2024\\202405-citibike-tripdata_3.csv\n"
     ]
    },
    {
     "name": "stderr",
     "output_type": "stream",
     "text": [
      "C:\\Users\\zhao\\AppData\\Local\\Temp\\ipykernel_16640\\1431574330.py:17: DtypeWarning: Columns (5,7) have mixed types. Specify dtype option on import or set low_memory=False.\n",
      "  df = pd.read_csv(file)\n"
     ]
    },
    {
     "name": "stdout",
     "output_type": "stream",
     "text": [
      "  📖 Reading: extracted_tripdata\\2024\\202405-citibike-tripdata_4.csv\n"
     ]
    },
    {
     "name": "stderr",
     "output_type": "stream",
     "text": [
      "C:\\Users\\zhao\\AppData\\Local\\Temp\\ipykernel_16640\\1431574330.py:17: DtypeWarning: Columns (5,7) have mixed types. Specify dtype option on import or set low_memory=False.\n",
      "  df = pd.read_csv(file)\n"
     ]
    },
    {
     "name": "stdout",
     "output_type": "stream",
     "text": [
      "  📖 Reading: extracted_tripdata\\2024\\202405-citibike-tripdata_5.csv\n"
     ]
    },
    {
     "name": "stderr",
     "output_type": "stream",
     "text": [
      "C:\\Users\\zhao\\AppData\\Local\\Temp\\ipykernel_16640\\1431574330.py:17: DtypeWarning: Columns (5) have mixed types. Specify dtype option on import or set low_memory=False.\n",
      "  df = pd.read_csv(file)\n"
     ]
    },
    {
     "name": "stdout",
     "output_type": "stream",
     "text": [
      "  📖 Reading: extracted_tripdata\\2024\\202406-citibike-tripdata_1.csv\n"
     ]
    },
    {
     "name": "stderr",
     "output_type": "stream",
     "text": [
      "C:\\Users\\zhao\\AppData\\Local\\Temp\\ipykernel_16640\\1431574330.py:17: DtypeWarning: Columns (5,7) have mixed types. Specify dtype option on import or set low_memory=False.\n",
      "  df = pd.read_csv(file)\n"
     ]
    },
    {
     "name": "stdout",
     "output_type": "stream",
     "text": [
      "  📖 Reading: extracted_tripdata\\2024\\202406-citibike-tripdata_2.csv\n"
     ]
    },
    {
     "name": "stderr",
     "output_type": "stream",
     "text": [
      "C:\\Users\\zhao\\AppData\\Local\\Temp\\ipykernel_16640\\1431574330.py:17: DtypeWarning: Columns (5,7) have mixed types. Specify dtype option on import or set low_memory=False.\n",
      "  df = pd.read_csv(file)\n"
     ]
    },
    {
     "name": "stdout",
     "output_type": "stream",
     "text": [
      "  📖 Reading: extracted_tripdata\\2024\\202406-citibike-tripdata_3.csv\n"
     ]
    },
    {
     "name": "stderr",
     "output_type": "stream",
     "text": [
      "C:\\Users\\zhao\\AppData\\Local\\Temp\\ipykernel_16640\\1431574330.py:17: DtypeWarning: Columns (5,7) have mixed types. Specify dtype option on import or set low_memory=False.\n",
      "  df = pd.read_csv(file)\n"
     ]
    },
    {
     "name": "stdout",
     "output_type": "stream",
     "text": [
      "  📖 Reading: extracted_tripdata\\2024\\202406-citibike-tripdata_4.csv\n"
     ]
    },
    {
     "name": "stderr",
     "output_type": "stream",
     "text": [
      "C:\\Users\\zhao\\AppData\\Local\\Temp\\ipykernel_16640\\1431574330.py:17: DtypeWarning: Columns (5,7) have mixed types. Specify dtype option on import or set low_memory=False.\n",
      "  df = pd.read_csv(file)\n"
     ]
    },
    {
     "name": "stdout",
     "output_type": "stream",
     "text": [
      "  📖 Reading: extracted_tripdata\\2024\\202406-citibike-tripdata_5.csv\n"
     ]
    },
    {
     "name": "stderr",
     "output_type": "stream",
     "text": [
      "C:\\Users\\zhao\\AppData\\Local\\Temp\\ipykernel_16640\\1431574330.py:17: DtypeWarning: Columns (5,7) have mixed types. Specify dtype option on import or set low_memory=False.\n",
      "  df = pd.read_csv(file)\n"
     ]
    },
    {
     "name": "stdout",
     "output_type": "stream",
     "text": [
      "  📖 Reading: extracted_tripdata\\2024\\202407-citibike-tripdata_1.csv\n"
     ]
    },
    {
     "name": "stderr",
     "output_type": "stream",
     "text": [
      "C:\\Users\\zhao\\AppData\\Local\\Temp\\ipykernel_16640\\1431574330.py:17: DtypeWarning: Columns (5,7) have mixed types. Specify dtype option on import or set low_memory=False.\n",
      "  df = pd.read_csv(file)\n"
     ]
    },
    {
     "name": "stdout",
     "output_type": "stream",
     "text": [
      "  📖 Reading: extracted_tripdata\\2024\\202407-citibike-tripdata_2.csv\n"
     ]
    },
    {
     "name": "stderr",
     "output_type": "stream",
     "text": [
      "C:\\Users\\zhao\\AppData\\Local\\Temp\\ipykernel_16640\\1431574330.py:17: DtypeWarning: Columns (7) have mixed types. Specify dtype option on import or set low_memory=False.\n",
      "  df = pd.read_csv(file)\n"
     ]
    },
    {
     "name": "stdout",
     "output_type": "stream",
     "text": [
      "  📖 Reading: extracted_tripdata\\2024\\202407-citibike-tripdata_3.csv\n"
     ]
    },
    {
     "name": "stderr",
     "output_type": "stream",
     "text": [
      "C:\\Users\\zhao\\AppData\\Local\\Temp\\ipykernel_16640\\1431574330.py:17: DtypeWarning: Columns (7) have mixed types. Specify dtype option on import or set low_memory=False.\n",
      "  df = pd.read_csv(file)\n"
     ]
    },
    {
     "name": "stdout",
     "output_type": "stream",
     "text": [
      "  📖 Reading: extracted_tripdata\\2024\\202407-citibike-tripdata_4.csv\n"
     ]
    },
    {
     "name": "stderr",
     "output_type": "stream",
     "text": [
      "C:\\Users\\zhao\\AppData\\Local\\Temp\\ipykernel_16640\\1431574330.py:17: DtypeWarning: Columns (7) have mixed types. Specify dtype option on import or set low_memory=False.\n",
      "  df = pd.read_csv(file)\n"
     ]
    },
    {
     "name": "stdout",
     "output_type": "stream",
     "text": [
      "  📖 Reading: extracted_tripdata\\2024\\202407-citibike-tripdata_5.csv\n"
     ]
    },
    {
     "name": "stderr",
     "output_type": "stream",
     "text": [
      "C:\\Users\\zhao\\AppData\\Local\\Temp\\ipykernel_16640\\1431574330.py:17: DtypeWarning: Columns (5,7) have mixed types. Specify dtype option on import or set low_memory=False.\n",
      "  df = pd.read_csv(file)\n"
     ]
    },
    {
     "name": "stdout",
     "output_type": "stream",
     "text": [
      "  📖 Reading: extracted_tripdata\\2024\\202408-citibike-tripdata_1.csv\n"
     ]
    },
    {
     "name": "stderr",
     "output_type": "stream",
     "text": [
      "C:\\Users\\zhao\\AppData\\Local\\Temp\\ipykernel_16640\\1431574330.py:17: DtypeWarning: Columns (7) have mixed types. Specify dtype option on import or set low_memory=False.\n",
      "  df = pd.read_csv(file)\n"
     ]
    },
    {
     "name": "stdout",
     "output_type": "stream",
     "text": [
      "  📖 Reading: extracted_tripdata\\2024\\202408-citibike-tripdata_2.csv\n"
     ]
    },
    {
     "name": "stderr",
     "output_type": "stream",
     "text": [
      "C:\\Users\\zhao\\AppData\\Local\\Temp\\ipykernel_16640\\1431574330.py:17: DtypeWarning: Columns (5,7) have mixed types. Specify dtype option on import or set low_memory=False.\n",
      "  df = pd.read_csv(file)\n"
     ]
    },
    {
     "name": "stdout",
     "output_type": "stream",
     "text": [
      "  📖 Reading: extracted_tripdata\\2024\\202408-citibike-tripdata_3.csv\n"
     ]
    },
    {
     "name": "stderr",
     "output_type": "stream",
     "text": [
      "C:\\Users\\zhao\\AppData\\Local\\Temp\\ipykernel_16640\\1431574330.py:17: DtypeWarning: Columns (5,7) have mixed types. Specify dtype option on import or set low_memory=False.\n",
      "  df = pd.read_csv(file)\n"
     ]
    },
    {
     "name": "stdout",
     "output_type": "stream",
     "text": [
      "  📖 Reading: extracted_tripdata\\2024\\202408-citibike-tripdata_4.csv\n"
     ]
    },
    {
     "name": "stderr",
     "output_type": "stream",
     "text": [
      "C:\\Users\\zhao\\AppData\\Local\\Temp\\ipykernel_16640\\1431574330.py:17: DtypeWarning: Columns (5,7) have mixed types. Specify dtype option on import or set low_memory=False.\n",
      "  df = pd.read_csv(file)\n"
     ]
    },
    {
     "name": "stdout",
     "output_type": "stream",
     "text": [
      "  📖 Reading: extracted_tripdata\\2024\\202408-citibike-tripdata_5.csv\n"
     ]
    },
    {
     "name": "stderr",
     "output_type": "stream",
     "text": [
      "C:\\Users\\zhao\\AppData\\Local\\Temp\\ipykernel_16640\\1431574330.py:17: DtypeWarning: Columns (5,7) have mixed types. Specify dtype option on import or set low_memory=False.\n",
      "  df = pd.read_csv(file)\n"
     ]
    },
    {
     "name": "stdout",
     "output_type": "stream",
     "text": [
      "  📖 Reading: extracted_tripdata\\2024\\202409-citibike-tripdata_1.csv\n"
     ]
    },
    {
     "name": "stderr",
     "output_type": "stream",
     "text": [
      "C:\\Users\\zhao\\AppData\\Local\\Temp\\ipykernel_16640\\1431574330.py:17: DtypeWarning: Columns (5,7) have mixed types. Specify dtype option on import or set low_memory=False.\n",
      "  df = pd.read_csv(file)\n"
     ]
    },
    {
     "name": "stdout",
     "output_type": "stream",
     "text": [
      "  📖 Reading: extracted_tripdata\\2024\\202409-citibike-tripdata_2.csv\n"
     ]
    },
    {
     "name": "stderr",
     "output_type": "stream",
     "text": [
      "C:\\Users\\zhao\\AppData\\Local\\Temp\\ipykernel_16640\\1431574330.py:17: DtypeWarning: Columns (7) have mixed types. Specify dtype option on import or set low_memory=False.\n",
      "  df = pd.read_csv(file)\n"
     ]
    },
    {
     "name": "stdout",
     "output_type": "stream",
     "text": [
      "  📖 Reading: extracted_tripdata\\2024\\202409-citibike-tripdata_3.csv\n"
     ]
    },
    {
     "name": "stderr",
     "output_type": "stream",
     "text": [
      "C:\\Users\\zhao\\AppData\\Local\\Temp\\ipykernel_16640\\1431574330.py:17: DtypeWarning: Columns (7) have mixed types. Specify dtype option on import or set low_memory=False.\n",
      "  df = pd.read_csv(file)\n"
     ]
    },
    {
     "name": "stdout",
     "output_type": "stream",
     "text": [
      "  📖 Reading: extracted_tripdata\\2024\\202409-citibike-tripdata_4.csv\n"
     ]
    },
    {
     "name": "stderr",
     "output_type": "stream",
     "text": [
      "C:\\Users\\zhao\\AppData\\Local\\Temp\\ipykernel_16640\\1431574330.py:17: DtypeWarning: Columns (7) have mixed types. Specify dtype option on import or set low_memory=False.\n",
      "  df = pd.read_csv(file)\n"
     ]
    },
    {
     "name": "stdout",
     "output_type": "stream",
     "text": [
      "  📖 Reading: extracted_tripdata\\2024\\202409-citibike-tripdata_5.csv\n"
     ]
    },
    {
     "name": "stderr",
     "output_type": "stream",
     "text": [
      "C:\\Users\\zhao\\AppData\\Local\\Temp\\ipykernel_16640\\1431574330.py:17: DtypeWarning: Columns (5,7) have mixed types. Specify dtype option on import or set low_memory=False.\n",
      "  df = pd.read_csv(file)\n"
     ]
    },
    {
     "name": "stdout",
     "output_type": "stream",
     "text": [
      "  📖 Reading: extracted_tripdata\\2024\\202410-citibike-tripdata_1.csv\n"
     ]
    },
    {
     "name": "stderr",
     "output_type": "stream",
     "text": [
      "C:\\Users\\zhao\\AppData\\Local\\Temp\\ipykernel_16640\\1431574330.py:17: DtypeWarning: Columns (5) have mixed types. Specify dtype option on import or set low_memory=False.\n",
      "  df = pd.read_csv(file)\n"
     ]
    },
    {
     "name": "stdout",
     "output_type": "stream",
     "text": [
      "  📖 Reading: extracted_tripdata\\2024\\202410-citibike-tripdata_2.csv\n"
     ]
    },
    {
     "name": "stderr",
     "output_type": "stream",
     "text": [
      "C:\\Users\\zhao\\AppData\\Local\\Temp\\ipykernel_16640\\1431574330.py:17: DtypeWarning: Columns (5,7) have mixed types. Specify dtype option on import or set low_memory=False.\n",
      "  df = pd.read_csv(file)\n"
     ]
    },
    {
     "name": "stdout",
     "output_type": "stream",
     "text": [
      "  📖 Reading: extracted_tripdata\\2024\\202410-citibike-tripdata_3.csv\n"
     ]
    },
    {
     "name": "stderr",
     "output_type": "stream",
     "text": [
      "C:\\Users\\zhao\\AppData\\Local\\Temp\\ipykernel_16640\\1431574330.py:17: DtypeWarning: Columns (7) have mixed types. Specify dtype option on import or set low_memory=False.\n",
      "  df = pd.read_csv(file)\n"
     ]
    },
    {
     "name": "stdout",
     "output_type": "stream",
     "text": [
      "  📖 Reading: extracted_tripdata\\2024\\202410-citibike-tripdata_4.csv\n"
     ]
    },
    {
     "name": "stderr",
     "output_type": "stream",
     "text": [
      "C:\\Users\\zhao\\AppData\\Local\\Temp\\ipykernel_16640\\1431574330.py:17: DtypeWarning: Columns (7) have mixed types. Specify dtype option on import or set low_memory=False.\n",
      "  df = pd.read_csv(file)\n"
     ]
    },
    {
     "name": "stdout",
     "output_type": "stream",
     "text": [
      "  📖 Reading: extracted_tripdata\\2024\\202410-citibike-tripdata_5.csv\n"
     ]
    },
    {
     "name": "stderr",
     "output_type": "stream",
     "text": [
      "C:\\Users\\zhao\\AppData\\Local\\Temp\\ipykernel_16640\\1431574330.py:17: DtypeWarning: Columns (5,7) have mixed types. Specify dtype option on import or set low_memory=False.\n",
      "  df = pd.read_csv(file)\n"
     ]
    },
    {
     "name": "stdout",
     "output_type": "stream",
     "text": [
      "  📖 Reading: extracted_tripdata\\2024\\202410-citibike-tripdata_6.csv\n"
     ]
    },
    {
     "name": "stderr",
     "output_type": "stream",
     "text": [
      "C:\\Users\\zhao\\AppData\\Local\\Temp\\ipykernel_16640\\1431574330.py:17: DtypeWarning: Columns (5,7) have mixed types. Specify dtype option on import or set low_memory=False.\n",
      "  df = pd.read_csv(file)\n"
     ]
    },
    {
     "name": "stdout",
     "output_type": "stream",
     "text": [
      "  📖 Reading: extracted_tripdata\\2024\\202411-citibike-tripdata_1.csv\n"
     ]
    },
    {
     "name": "stderr",
     "output_type": "stream",
     "text": [
      "C:\\Users\\zhao\\AppData\\Local\\Temp\\ipykernel_16640\\1431574330.py:17: DtypeWarning: Columns (5,7) have mixed types. Specify dtype option on import or set low_memory=False.\n",
      "  df = pd.read_csv(file)\n"
     ]
    },
    {
     "name": "stdout",
     "output_type": "stream",
     "text": [
      "  📖 Reading: extracted_tripdata\\2024\\202411-citibike-tripdata_2.csv\n"
     ]
    },
    {
     "name": "stderr",
     "output_type": "stream",
     "text": [
      "C:\\Users\\zhao\\AppData\\Local\\Temp\\ipykernel_16640\\1431574330.py:17: DtypeWarning: Columns (5,7) have mixed types. Specify dtype option on import or set low_memory=False.\n",
      "  df = pd.read_csv(file)\n"
     ]
    },
    {
     "name": "stdout",
     "output_type": "stream",
     "text": [
      "  📖 Reading: extracted_tripdata\\2024\\202411-citibike-tripdata_3.csv\n"
     ]
    },
    {
     "name": "stderr",
     "output_type": "stream",
     "text": [
      "C:\\Users\\zhao\\AppData\\Local\\Temp\\ipykernel_16640\\1431574330.py:17: DtypeWarning: Columns (5,7) have mixed types. Specify dtype option on import or set low_memory=False.\n",
      "  df = pd.read_csv(file)\n"
     ]
    },
    {
     "name": "stdout",
     "output_type": "stream",
     "text": [
      "  📖 Reading: extracted_tripdata\\2024\\202411-citibike-tripdata_4.csv\n",
      "  📖 Reading: extracted_tripdata\\2024\\202412-citibike-tripdata_1.csv\n"
     ]
    },
    {
     "name": "stderr",
     "output_type": "stream",
     "text": [
      "C:\\Users\\zhao\\AppData\\Local\\Temp\\ipykernel_16640\\1431574330.py:17: DtypeWarning: Columns (7) have mixed types. Specify dtype option on import or set low_memory=False.\n",
      "  df = pd.read_csv(file)\n"
     ]
    },
    {
     "name": "stdout",
     "output_type": "stream",
     "text": [
      "  📖 Reading: extracted_tripdata\\2024\\202412-citibike-tripdata_2.csv\n"
     ]
    },
    {
     "name": "stderr",
     "output_type": "stream",
     "text": [
      "C:\\Users\\zhao\\AppData\\Local\\Temp\\ipykernel_16640\\1431574330.py:17: DtypeWarning: Columns (5,7) have mixed types. Specify dtype option on import or set low_memory=False.\n",
      "  df = pd.read_csv(file)\n"
     ]
    },
    {
     "name": "stdout",
     "output_type": "stream",
     "text": [
      "  📖 Reading: extracted_tripdata\\2024\\202412-citibike-tripdata_3.csv\n",
      "  📖 Reading: extracted_tripdata\\2024\\JC-202401-citibike-tripdata.csv\n",
      "  📖 Reading: extracted_tripdata\\2024\\JC-202402-citibike-tripdata.csv\n",
      "  📖 Reading: extracted_tripdata\\2024\\JC-202403-citibike-tripdata.csv\n",
      "  📖 Reading: extracted_tripdata\\2024\\JC-202404-citibike-tripdata.csv\n",
      "  📖 Reading: extracted_tripdata\\2024\\JC-202405-citibike-tripdata.csv\n",
      "  📖 Reading: extracted_tripdata\\2024\\JC-202406-citibike-tripdata.csv\n",
      "  📖 Reading: extracted_tripdata\\2024\\JC-202407-citibike-tripdata.csv\n",
      "  📖 Reading: extracted_tripdata\\2024\\JC-202408-citibike-tripdata.csv\n",
      "  📖 Reading: extracted_tripdata\\2024\\JC-202409-citibike-tripdata.csv\n",
      "  📖 Reading: extracted_tripdata\\2024\\JC-202410-citibike-tripdata.csv\n",
      "  📖 Reading: extracted_tripdata\\2024\\JC-202411-citibike-tripdata.csv\n",
      "  📖 Reading: extracted_tripdata\\2024\\JC-202412-citibike-tripdata.csv\n",
      "  🔍 Original rows: 45355660\n",
      "  ✅ Merged CSV saved to: merged_tripdata2\\2024_merged.csv\n",
      "\n",
      "📁 Found 50 CSV files in extracted_tripdata\\2025\n",
      "  📖 Reading: extracted_tripdata\\2025\\202501-citibike-tripdata_1.csv\n"
     ]
    },
    {
     "name": "stderr",
     "output_type": "stream",
     "text": [
      "C:\\Users\\zhao\\AppData\\Local\\Temp\\ipykernel_16640\\1431574330.py:17: DtypeWarning: Columns (5,7) have mixed types. Specify dtype option on import or set low_memory=False.\n",
      "  df = pd.read_csv(file)\n"
     ]
    },
    {
     "name": "stdout",
     "output_type": "stream",
     "text": [
      "  📖 Reading: extracted_tripdata\\2025\\202501-citibike-tripdata_2.csv\n"
     ]
    },
    {
     "name": "stderr",
     "output_type": "stream",
     "text": [
      "C:\\Users\\zhao\\AppData\\Local\\Temp\\ipykernel_16640\\1431574330.py:17: DtypeWarning: Columns (5,7) have mixed types. Specify dtype option on import or set low_memory=False.\n",
      "  df = pd.read_csv(file)\n"
     ]
    },
    {
     "name": "stdout",
     "output_type": "stream",
     "text": [
      "  📖 Reading: extracted_tripdata\\2025\\202501-citibike-tripdata_3.csv\n",
      "  📖 Reading: extracted_tripdata\\2025\\202502-citibike-tripdata_1.csv\n"
     ]
    },
    {
     "name": "stderr",
     "output_type": "stream",
     "text": [
      "C:\\Users\\zhao\\AppData\\Local\\Temp\\ipykernel_16640\\1431574330.py:17: DtypeWarning: Columns (7) have mixed types. Specify dtype option on import or set low_memory=False.\n",
      "  df = pd.read_csv(file)\n"
     ]
    },
    {
     "name": "stdout",
     "output_type": "stream",
     "text": [
      "  📖 Reading: extracted_tripdata\\2025\\202502-citibike-tripdata_2.csv\n"
     ]
    },
    {
     "name": "stderr",
     "output_type": "stream",
     "text": [
      "C:\\Users\\zhao\\AppData\\Local\\Temp\\ipykernel_16640\\1431574330.py:17: DtypeWarning: Columns (5,7) have mixed types. Specify dtype option on import or set low_memory=False.\n",
      "  df = pd.read_csv(file)\n"
     ]
    },
    {
     "name": "stdout",
     "output_type": "stream",
     "text": [
      "  📖 Reading: extracted_tripdata\\2025\\202502-citibike-tripdata_3.csv\n",
      "  📖 Reading: extracted_tripdata\\2025\\202503-citibike-tripdata_1.csv\n"
     ]
    },
    {
     "name": "stderr",
     "output_type": "stream",
     "text": [
      "C:\\Users\\zhao\\AppData\\Local\\Temp\\ipykernel_16640\\1431574330.py:17: DtypeWarning: Columns (5,7) have mixed types. Specify dtype option on import or set low_memory=False.\n",
      "  df = pd.read_csv(file)\n"
     ]
    },
    {
     "name": "stdout",
     "output_type": "stream",
     "text": [
      "  📖 Reading: extracted_tripdata\\2025\\202503-citibike-tripdata_2.csv\n"
     ]
    },
    {
     "name": "stderr",
     "output_type": "stream",
     "text": [
      "C:\\Users\\zhao\\AppData\\Local\\Temp\\ipykernel_16640\\1431574330.py:17: DtypeWarning: Columns (5,7) have mixed types. Specify dtype option on import or set low_memory=False.\n",
      "  df = pd.read_csv(file)\n"
     ]
    },
    {
     "name": "stdout",
     "output_type": "stream",
     "text": [
      "  📖 Reading: extracted_tripdata\\2025\\202503-citibike-tripdata_3.csv\n"
     ]
    },
    {
     "name": "stderr",
     "output_type": "stream",
     "text": [
      "C:\\Users\\zhao\\AppData\\Local\\Temp\\ipykernel_16640\\1431574330.py:17: DtypeWarning: Columns (5,7) have mixed types. Specify dtype option on import or set low_memory=False.\n",
      "  df = pd.read_csv(file)\n"
     ]
    },
    {
     "name": "stdout",
     "output_type": "stream",
     "text": [
      "  📖 Reading: extracted_tripdata\\2025\\202503-citibike-tripdata_4.csv\n"
     ]
    },
    {
     "name": "stderr",
     "output_type": "stream",
     "text": [
      "C:\\Users\\zhao\\AppData\\Local\\Temp\\ipykernel_16640\\1431574330.py:17: DtypeWarning: Columns (7) have mixed types. Specify dtype option on import or set low_memory=False.\n",
      "  df = pd.read_csv(file)\n"
     ]
    },
    {
     "name": "stdout",
     "output_type": "stream",
     "text": [
      "  📖 Reading: extracted_tripdata\\2025\\202504-citibike-tripdata_1.csv\n",
      "  📖 Reading: extracted_tripdata\\2025\\202504-citibike-tripdata_2.csv\n"
     ]
    },
    {
     "name": "stderr",
     "output_type": "stream",
     "text": [
      "C:\\Users\\zhao\\AppData\\Local\\Temp\\ipykernel_16640\\1431574330.py:17: DtypeWarning: Columns (7) have mixed types. Specify dtype option on import or set low_memory=False.\n",
      "  df = pd.read_csv(file)\n"
     ]
    },
    {
     "name": "stdout",
     "output_type": "stream",
     "text": [
      "  📖 Reading: extracted_tripdata\\2025\\202504-citibike-tripdata_3.csv\n"
     ]
    },
    {
     "name": "stderr",
     "output_type": "stream",
     "text": [
      "C:\\Users\\zhao\\AppData\\Local\\Temp\\ipykernel_16640\\1431574330.py:17: DtypeWarning: Columns (7) have mixed types. Specify dtype option on import or set low_memory=False.\n",
      "  df = pd.read_csv(file)\n"
     ]
    },
    {
     "name": "stdout",
     "output_type": "stream",
     "text": [
      "  📖 Reading: extracted_tripdata\\2025\\202504-citibike-tripdata_4.csv\n"
     ]
    },
    {
     "name": "stderr",
     "output_type": "stream",
     "text": [
      "C:\\Users\\zhao\\AppData\\Local\\Temp\\ipykernel_16640\\1431574330.py:17: DtypeWarning: Columns (5,7) have mixed types. Specify dtype option on import or set low_memory=False.\n",
      "  df = pd.read_csv(file)\n"
     ]
    },
    {
     "name": "stdout",
     "output_type": "stream",
     "text": [
      "  📖 Reading: extracted_tripdata\\2025\\202505-citibike-tripdata_1.csv\n"
     ]
    },
    {
     "name": "stderr",
     "output_type": "stream",
     "text": [
      "C:\\Users\\zhao\\AppData\\Local\\Temp\\ipykernel_16640\\1431574330.py:17: DtypeWarning: Columns (5,7) have mixed types. Specify dtype option on import or set low_memory=False.\n",
      "  df = pd.read_csv(file)\n"
     ]
    },
    {
     "name": "stdout",
     "output_type": "stream",
     "text": [
      "  📖 Reading: extracted_tripdata\\2025\\202505-citibike-tripdata_2.csv\n"
     ]
    },
    {
     "name": "stderr",
     "output_type": "stream",
     "text": [
      "C:\\Users\\zhao\\AppData\\Local\\Temp\\ipykernel_16640\\1431574330.py:17: DtypeWarning: Columns (7) have mixed types. Specify dtype option on import or set low_memory=False.\n",
      "  df = pd.read_csv(file)\n"
     ]
    },
    {
     "name": "stdout",
     "output_type": "stream",
     "text": [
      "  📖 Reading: extracted_tripdata\\2025\\202505-citibike-tripdata_3.csv\n"
     ]
    },
    {
     "name": "stderr",
     "output_type": "stream",
     "text": [
      "C:\\Users\\zhao\\AppData\\Local\\Temp\\ipykernel_16640\\1431574330.py:17: DtypeWarning: Columns (5,7) have mixed types. Specify dtype option on import or set low_memory=False.\n",
      "  df = pd.read_csv(file)\n"
     ]
    },
    {
     "name": "stdout",
     "output_type": "stream",
     "text": [
      "  📖 Reading: extracted_tripdata\\2025\\202505-citibike-tripdata_4.csv\n"
     ]
    },
    {
     "name": "stderr",
     "output_type": "stream",
     "text": [
      "C:\\Users\\zhao\\AppData\\Local\\Temp\\ipykernel_16640\\1431574330.py:17: DtypeWarning: Columns (5,7) have mixed types. Specify dtype option on import or set low_memory=False.\n",
      "  df = pd.read_csv(file)\n"
     ]
    },
    {
     "name": "stdout",
     "output_type": "stream",
     "text": [
      "  📖 Reading: extracted_tripdata\\2025\\202505-citibike-tripdata_5.csv\n"
     ]
    },
    {
     "name": "stderr",
     "output_type": "stream",
     "text": [
      "C:\\Users\\zhao\\AppData\\Local\\Temp\\ipykernel_16640\\1431574330.py:17: DtypeWarning: Columns (7) have mixed types. Specify dtype option on import or set low_memory=False.\n",
      "  df = pd.read_csv(file)\n"
     ]
    },
    {
     "name": "stdout",
     "output_type": "stream",
     "text": [
      "  📖 Reading: extracted_tripdata\\2025\\202506-citibike-tripdata_1.csv\n"
     ]
    },
    {
     "name": "stderr",
     "output_type": "stream",
     "text": [
      "C:\\Users\\zhao\\AppData\\Local\\Temp\\ipykernel_16640\\1431574330.py:17: DtypeWarning: Columns (7) have mixed types. Specify dtype option on import or set low_memory=False.\n",
      "  df = pd.read_csv(file)\n"
     ]
    },
    {
     "name": "stdout",
     "output_type": "stream",
     "text": [
      "  📖 Reading: extracted_tripdata\\2025\\202506-citibike-tripdata_2.csv\n"
     ]
    },
    {
     "name": "stderr",
     "output_type": "stream",
     "text": [
      "C:\\Users\\zhao\\AppData\\Local\\Temp\\ipykernel_16640\\1431574330.py:17: DtypeWarning: Columns (5,7) have mixed types. Specify dtype option on import or set low_memory=False.\n",
      "  df = pd.read_csv(file)\n"
     ]
    },
    {
     "name": "stdout",
     "output_type": "stream",
     "text": [
      "  📖 Reading: extracted_tripdata\\2025\\202506-citibike-tripdata_3.csv\n"
     ]
    },
    {
     "name": "stderr",
     "output_type": "stream",
     "text": [
      "C:\\Users\\zhao\\AppData\\Local\\Temp\\ipykernel_16640\\1431574330.py:17: DtypeWarning: Columns (7) have mixed types. Specify dtype option on import or set low_memory=False.\n",
      "  df = pd.read_csv(file)\n"
     ]
    },
    {
     "name": "stdout",
     "output_type": "stream",
     "text": [
      "  📖 Reading: extracted_tripdata\\2025\\202506-citibike-tripdata_4.csv\n"
     ]
    },
    {
     "name": "stderr",
     "output_type": "stream",
     "text": [
      "C:\\Users\\zhao\\AppData\\Local\\Temp\\ipykernel_16640\\1431574330.py:17: DtypeWarning: Columns (7) have mixed types. Specify dtype option on import or set low_memory=False.\n",
      "  df = pd.read_csv(file)\n"
     ]
    },
    {
     "name": "stdout",
     "output_type": "stream",
     "text": [
      "  📖 Reading: extracted_tripdata\\2025\\202506-citibike-tripdata_5.csv\n"
     ]
    },
    {
     "name": "stderr",
     "output_type": "stream",
     "text": [
      "C:\\Users\\zhao\\AppData\\Local\\Temp\\ipykernel_16640\\1431574330.py:17: DtypeWarning: Columns (7) have mixed types. Specify dtype option on import or set low_memory=False.\n",
      "  df = pd.read_csv(file)\n"
     ]
    },
    {
     "name": "stdout",
     "output_type": "stream",
     "text": [
      "  📖 Reading: extracted_tripdata\\2025\\202507-citibike-tripdata_1.csv\n"
     ]
    },
    {
     "name": "stderr",
     "output_type": "stream",
     "text": [
      "C:\\Users\\zhao\\AppData\\Local\\Temp\\ipykernel_16640\\1431574330.py:17: DtypeWarning: Columns (7) have mixed types. Specify dtype option on import or set low_memory=False.\n",
      "  df = pd.read_csv(file)\n"
     ]
    },
    {
     "name": "stdout",
     "output_type": "stream",
     "text": [
      "  📖 Reading: extracted_tripdata\\2025\\202507-citibike-tripdata_2.csv\n"
     ]
    },
    {
     "name": "stderr",
     "output_type": "stream",
     "text": [
      "C:\\Users\\zhao\\AppData\\Local\\Temp\\ipykernel_16640\\1431574330.py:17: DtypeWarning: Columns (7) have mixed types. Specify dtype option on import or set low_memory=False.\n",
      "  df = pd.read_csv(file)\n"
     ]
    },
    {
     "name": "stdout",
     "output_type": "stream",
     "text": [
      "  📖 Reading: extracted_tripdata\\2025\\202507-citibike-tripdata_3.csv\n"
     ]
    },
    {
     "name": "stderr",
     "output_type": "stream",
     "text": [
      "C:\\Users\\zhao\\AppData\\Local\\Temp\\ipykernel_16640\\1431574330.py:17: DtypeWarning: Columns (7) have mixed types. Specify dtype option on import or set low_memory=False.\n",
      "  df = pd.read_csv(file)\n"
     ]
    },
    {
     "name": "stdout",
     "output_type": "stream",
     "text": [
      "  📖 Reading: extracted_tripdata\\2025\\202507-citibike-tripdata_4.csv\n"
     ]
    },
    {
     "name": "stderr",
     "output_type": "stream",
     "text": [
      "C:\\Users\\zhao\\AppData\\Local\\Temp\\ipykernel_16640\\1431574330.py:17: DtypeWarning: Columns (7) have mixed types. Specify dtype option on import or set low_memory=False.\n",
      "  df = pd.read_csv(file)\n"
     ]
    },
    {
     "name": "stdout",
     "output_type": "stream",
     "text": [
      "  📖 Reading: extracted_tripdata\\2025\\202507-citibike-tripdata_5.csv\n"
     ]
    },
    {
     "name": "stderr",
     "output_type": "stream",
     "text": [
      "C:\\Users\\zhao\\AppData\\Local\\Temp\\ipykernel_16640\\1431574330.py:17: DtypeWarning: Columns (7) have mixed types. Specify dtype option on import or set low_memory=False.\n",
      "  df = pd.read_csv(file)\n"
     ]
    },
    {
     "name": "stdout",
     "output_type": "stream",
     "text": [
      "  📖 Reading: extracted_tripdata\\2025\\202508-citibike-tripdata_1.csv\n"
     ]
    },
    {
     "name": "stderr",
     "output_type": "stream",
     "text": [
      "C:\\Users\\zhao\\AppData\\Local\\Temp\\ipykernel_16640\\1431574330.py:17: DtypeWarning: Columns (7) have mixed types. Specify dtype option on import or set low_memory=False.\n",
      "  df = pd.read_csv(file)\n"
     ]
    },
    {
     "name": "stdout",
     "output_type": "stream",
     "text": [
      "  📖 Reading: extracted_tripdata\\2025\\202508-citibike-tripdata_2.csv\n"
     ]
    },
    {
     "name": "stderr",
     "output_type": "stream",
     "text": [
      "C:\\Users\\zhao\\AppData\\Local\\Temp\\ipykernel_16640\\1431574330.py:17: DtypeWarning: Columns (7) have mixed types. Specify dtype option on import or set low_memory=False.\n",
      "  df = pd.read_csv(file)\n"
     ]
    },
    {
     "name": "stdout",
     "output_type": "stream",
     "text": [
      "  📖 Reading: extracted_tripdata\\2025\\202508-citibike-tripdata_3.csv\n"
     ]
    },
    {
     "name": "stderr",
     "output_type": "stream",
     "text": [
      "C:\\Users\\zhao\\AppData\\Local\\Temp\\ipykernel_16640\\1431574330.py:17: DtypeWarning: Columns (7) have mixed types. Specify dtype option on import or set low_memory=False.\n",
      "  df = pd.read_csv(file)\n"
     ]
    },
    {
     "name": "stdout",
     "output_type": "stream",
     "text": [
      "  📖 Reading: extracted_tripdata\\2025\\202508-citibike-tripdata_4.csv\n"
     ]
    },
    {
     "name": "stderr",
     "output_type": "stream",
     "text": [
      "C:\\Users\\zhao\\AppData\\Local\\Temp\\ipykernel_16640\\1431574330.py:17: DtypeWarning: Columns (7) have mixed types. Specify dtype option on import or set low_memory=False.\n",
      "  df = pd.read_csv(file)\n"
     ]
    },
    {
     "name": "stdout",
     "output_type": "stream",
     "text": [
      "  📖 Reading: extracted_tripdata\\2025\\202508-citibike-tripdata_5.csv\n"
     ]
    },
    {
     "name": "stderr",
     "output_type": "stream",
     "text": [
      "C:\\Users\\zhao\\AppData\\Local\\Temp\\ipykernel_16640\\1431574330.py:17: DtypeWarning: Columns (7) have mixed types. Specify dtype option on import or set low_memory=False.\n",
      "  df = pd.read_csv(file)\n"
     ]
    },
    {
     "name": "stdout",
     "output_type": "stream",
     "text": [
      "  📖 Reading: extracted_tripdata\\2025\\202508-citibike-tripdata_6.csv\n"
     ]
    },
    {
     "name": "stderr",
     "output_type": "stream",
     "text": [
      "C:\\Users\\zhao\\AppData\\Local\\Temp\\ipykernel_16640\\1431574330.py:17: DtypeWarning: Columns (7) have mixed types. Specify dtype option on import or set low_memory=False.\n",
      "  df = pd.read_csv(file)\n"
     ]
    },
    {
     "name": "stdout",
     "output_type": "stream",
     "text": [
      "  📖 Reading: extracted_tripdata\\2025\\202509-citibike-tripdata_1.csv\n"
     ]
    },
    {
     "name": "stderr",
     "output_type": "stream",
     "text": [
      "C:\\Users\\zhao\\AppData\\Local\\Temp\\ipykernel_16640\\1431574330.py:17: DtypeWarning: Columns (7) have mixed types. Specify dtype option on import or set low_memory=False.\n",
      "  df = pd.read_csv(file)\n"
     ]
    },
    {
     "name": "stdout",
     "output_type": "stream",
     "text": [
      "  📖 Reading: extracted_tripdata\\2025\\202509-citibike-tripdata_2.csv\n"
     ]
    },
    {
     "name": "stderr",
     "output_type": "stream",
     "text": [
      "C:\\Users\\zhao\\AppData\\Local\\Temp\\ipykernel_16640\\1431574330.py:17: DtypeWarning: Columns (7) have mixed types. Specify dtype option on import or set low_memory=False.\n",
      "  df = pd.read_csv(file)\n"
     ]
    },
    {
     "name": "stdout",
     "output_type": "stream",
     "text": [
      "  📖 Reading: extracted_tripdata\\2025\\202509-citibike-tripdata_3.csv\n"
     ]
    },
    {
     "name": "stderr",
     "output_type": "stream",
     "text": [
      "C:\\Users\\zhao\\AppData\\Local\\Temp\\ipykernel_16640\\1431574330.py:17: DtypeWarning: Columns (7) have mixed types. Specify dtype option on import or set low_memory=False.\n",
      "  df = pd.read_csv(file)\n"
     ]
    },
    {
     "name": "stdout",
     "output_type": "stream",
     "text": [
      "  📖 Reading: extracted_tripdata\\2025\\202509-citibike-tripdata_4.csv\n"
     ]
    },
    {
     "name": "stderr",
     "output_type": "stream",
     "text": [
      "C:\\Users\\zhao\\AppData\\Local\\Temp\\ipykernel_16640\\1431574330.py:17: DtypeWarning: Columns (7) have mixed types. Specify dtype option on import or set low_memory=False.\n",
      "  df = pd.read_csv(file)\n"
     ]
    },
    {
     "name": "stdout",
     "output_type": "stream",
     "text": [
      "  📖 Reading: extracted_tripdata\\2025\\202509-citibike-tripdata_5.csv\n"
     ]
    },
    {
     "name": "stderr",
     "output_type": "stream",
     "text": [
      "C:\\Users\\zhao\\AppData\\Local\\Temp\\ipykernel_16640\\1431574330.py:17: DtypeWarning: Columns (7) have mixed types. Specify dtype option on import or set low_memory=False.\n",
      "  df = pd.read_csv(file)\n"
     ]
    },
    {
     "name": "stdout",
     "output_type": "stream",
     "text": [
      "  📖 Reading: extracted_tripdata\\2025\\202509-citibike-tripdata_6.csv\n",
      "  📖 Reading: extracted_tripdata\\2025\\JC-202501-citibike-tripdata.csv\n",
      "  📖 Reading: extracted_tripdata\\2025\\JC-202502-citibike-tripdata.csv\n",
      "  📖 Reading: extracted_tripdata\\2025\\JC-202503-citibike-tripdata.csv\n",
      "  📖 Reading: extracted_tripdata\\2025\\JC-202504-citibike-tripdata.csv\n",
      "  📖 Reading: extracted_tripdata\\2025\\JC-202505-citibike-tripdata.csv\n",
      "  📖 Reading: extracted_tripdata\\2025\\JC-202506-citibike-tripdata.csv\n",
      "  📖 Reading: extracted_tripdata\\2025\\JC-202507-citibike-tripdata.csv\n",
      "  📖 Reading: extracted_tripdata\\2025\\JC-202508-citibike-tripdata.csv\n",
      "  📖 Reading: extracted_tripdata\\2025\\JC-202509-citibike-tripdata.csv\n",
      "  🔍 Original rows: 36303831\n",
      "  ✅ Merged CSV saved to: merged_tripdata2\\2025_merged.csv\n"
     ]
    }
   ],
   "source": [
    "import os\n",
    "import pandas as pd\n",
    "\n",
    "def merge_csv_files(input_dir, output_file, year):\n",
    "    all_csv_files = [\n",
    "        os.path.join(input_dir, f)\n",
    "        for f in os.listdir(input_dir)\n",
    "        if f.lower().endswith('.csv')\n",
    "    ]\n",
    "\n",
    "    print(f\"\\n📁 Found {len(all_csv_files)} CSV files in {input_dir}\")\n",
    "\n",
    "    df_list = []\n",
    "    for file in all_csv_files:\n",
    "        print(f\"  📖 Reading: {file}\")\n",
    "        try:\n",
    "            df = pd.read_csv(file)\n",
    "            #df.head(5)\n",
    "\n",
    "            year_int = int(year)\n",
    "\n",
    "            if year_int >= 2024:\n",
    "                # Columns for 2024–2025 format\n",
    "                df = df.rename(columns={\n",
    "                    'ride_id': 'trip_id',\n",
    "                    'rideable_type': 'bike_type',\n",
    "                    'started_at': 'starttime',\n",
    "                    'ended_at': 'stoptime',\n",
    "                    'start_station_name': 'start station name',\n",
    "                    'start_station_id': 'start station id',\n",
    "                    'end_station_name': 'end station name',\n",
    "                    'end_station_id': 'end station id',\n",
    "                    'start_lat': 'start station latitude',\n",
    "                    'start_lng': 'start station longitude',\n",
    "                    'end_lat': 'end station latitude',\n",
    "                    'end_lng': 'end station longitude',\n",
    "                    'member_casual': 'usertype',\n",
    "                })\n",
    "\n",
    "            elif year_int >= 2022:\n",
    "                # 2022–2023 format\n",
    "                df = df.rename(columns={\n",
    "                    'ride_id': 'trip_id',\n",
    "                    'rideable_type': 'bike_type',\n",
    "                    'started_at': 'starttime',\n",
    "                    'ended_at': 'stoptime',\n",
    "                    'start_station_name': 'start station name',\n",
    "                    'start_station_id': 'start station id',\n",
    "                    'end_station_name': 'end station name',\n",
    "                    'end_station_id': 'end station id',\n",
    "                    'start_lat': 'start station latitude',\n",
    "                    'start_lng': 'start station longitude',\n",
    "                    'end_lat': 'end station latitude',\n",
    "                    'end_lng': 'end station longitude',\n",
    "                    'member_casual': 'usertype',\n",
    "                })\n",
    "\n",
    "            # Parse datetime and calculate duration\n",
    "            df['starttime'] = pd.to_datetime(df['starttime'], errors='coerce')\n",
    "            df['stoptime'] = pd.to_datetime(df['stoptime'], errors='coerce')\n",
    "            #df['tripduration'] = (df['stoptime'] - df['starttime']).dt.total_seconds().astype('Int64')\n",
    "            # Compute tripduration in seconds, safely\n",
    "            df['tripduration'] = (df['stoptime'] - df['starttime']).dt.total_seconds()\n",
    "\n",
    "\n",
    "\n",
    "            # Add missing legacy columns\n",
    "            for col in ['birth year', 'gender', 'bikeid']:\n",
    "                if col not in df.columns:\n",
    "                    df[col] = pd.NA\n",
    "\n",
    "            df_list.append(df)\n",
    "\n",
    "        except Exception as e:\n",
    "            print(f\"  ❌ Error reading {file}: {e}\")\n",
    "\n",
    "    if df_list:\n",
    "        merged_df = pd.concat(df_list, ignore_index=True)\n",
    "        print(f\"  🔍 Original rows: {len(merged_df)}\")\n",
    "\n",
    "        # Drop duplicates\n",
    "        merged_df = merged_df.drop_duplicates()\n",
    "\n",
    "        # Sort by starttime\n",
    "        if 'starttime' in merged_df.columns:\n",
    "            merged_df = merged_df.sort_values(by='starttime')\n",
    "\n",
    "        # Save\n",
    "        os.makedirs(os.path.dirname(output_file), exist_ok=True)\n",
    "        merged_df.to_csv(output_file, index=False)\n",
    "        print(f\"  ✅ Merged CSV saved to: {output_file}\")\n",
    "    else:\n",
    "        print(\"  ⚠️ No valid CSV files to merge.\")\n",
    "\n",
    "# === CONFIG ===\n",
    "input_root = r\"extracted_tripdata\"\n",
    "output_root = r\"merged_tripdata2\"\n",
    "os.makedirs(output_root, exist_ok=True)\n",
    "\n",
    "# Only merge 2022–2025\n",
    "years_to_process = {'2024', '2025'}\n",
    "\n",
    "for folder_name in os.listdir(input_root):\n",
    "    folder_path = os.path.join(input_root, folder_name)\n",
    "    \n",
    "    if os.path.isdir(folder_path) and folder_name.isdigit() and folder_name in years_to_process:\n",
    "        year = folder_name\n",
    "        output_file = os.path.join(output_root, f\"{year}_merged.csv\")\n",
    "        merge_csv_files(folder_path, output_file, year)\n"
   ]
  },
  {
   "cell_type": "code",
   "execution_count": 15,
   "id": "5e6b5965-18fa-497c-b488-bc2e6cf9b9d9",
   "metadata": {},
   "outputs": [
    {
     "name": "stderr",
     "output_type": "stream",
     "text": [
      "C:\\Users\\zhao\\AppData\\Local\\Temp\\ipykernel_16640\\1807306714.py:2: DtypeWarning: Columns (5) have mixed types. Specify dtype option on import or set low_memory=False.\n",
      "  df = pd.read_csv(filepath)\n"
     ]
    }
   ],
   "source": [
    "filepath = r\"C:\\Users\\zhao\\Documents\\workspace\\task\\extracted_tripdata\\2024\\202401-citibike-tripdata_1.csv\"\n",
    "df = pd.read_csv(filepath)"
   ]
  },
  {
   "cell_type": "code",
   "execution_count": 16,
   "id": "009b2e2e-9496-4386-826b-b61cb2daba19",
   "metadata": {},
   "outputs": [
    {
     "data": {
      "text/html": [
       "<div>\n",
       "<style scoped>\n",
       "    .dataframe tbody tr th:only-of-type {\n",
       "        vertical-align: middle;\n",
       "    }\n",
       "\n",
       "    .dataframe tbody tr th {\n",
       "        vertical-align: top;\n",
       "    }\n",
       "\n",
       "    .dataframe thead th {\n",
       "        text-align: right;\n",
       "    }\n",
       "</style>\n",
       "<table border=\"1\" class=\"dataframe\">\n",
       "  <thead>\n",
       "    <tr style=\"text-align: right;\">\n",
       "      <th></th>\n",
       "      <th>ride_id</th>\n",
       "      <th>rideable_type</th>\n",
       "      <th>started_at</th>\n",
       "      <th>ended_at</th>\n",
       "      <th>start_station_name</th>\n",
       "      <th>start_station_id</th>\n",
       "      <th>end_station_name</th>\n",
       "      <th>end_station_id</th>\n",
       "      <th>start_lat</th>\n",
       "      <th>start_lng</th>\n",
       "      <th>end_lat</th>\n",
       "      <th>end_lng</th>\n",
       "      <th>member_casual</th>\n",
       "    </tr>\n",
       "  </thead>\n",
       "  <tbody>\n",
       "    <tr>\n",
       "      <th>0</th>\n",
       "      <td>8E865410DBDE0CA9</td>\n",
       "      <td>electric_bike</td>\n",
       "      <td>2024-01-01 13:00:04.563</td>\n",
       "      <td>2024-01-01 13:04:04.652</td>\n",
       "      <td>3 St &amp; 3 Ave</td>\n",
       "      <td>4028.03</td>\n",
       "      <td>Carroll St &amp; Smith St</td>\n",
       "      <td>4225.14</td>\n",
       "      <td>40.675070</td>\n",
       "      <td>-73.987752</td>\n",
       "      <td>40.680611</td>\n",
       "      <td>-73.994758</td>\n",
       "      <td>casual</td>\n",
       "    </tr>\n",
       "    <tr>\n",
       "      <th>1</th>\n",
       "      <td>0403D0B3FC9CA77D</td>\n",
       "      <td>electric_bike</td>\n",
       "      <td>2024-01-08 19:36:43.520</td>\n",
       "      <td>2024-01-08 19:53:16.266</td>\n",
       "      <td>Franklin Ave &amp; St Marks Ave</td>\n",
       "      <td>4107.05</td>\n",
       "      <td>Bedford Ave &amp; Bergen St</td>\n",
       "      <td>4066.15</td>\n",
       "      <td>40.675832</td>\n",
       "      <td>-73.956168</td>\n",
       "      <td>40.676368</td>\n",
       "      <td>-73.952918</td>\n",
       "      <td>casual</td>\n",
       "    </tr>\n",
       "    <tr>\n",
       "      <th>2</th>\n",
       "      <td>F6DE7BB42FF550BE</td>\n",
       "      <td>electric_bike</td>\n",
       "      <td>2024-01-12 15:00:41.580</td>\n",
       "      <td>2024-01-12 15:36:29.622</td>\n",
       "      <td>W 67 St &amp; Broadway</td>\n",
       "      <td>7116.04</td>\n",
       "      <td>Central Park W &amp; W 103 St</td>\n",
       "      <td>7577.27</td>\n",
       "      <td>40.774925</td>\n",
       "      <td>-73.982666</td>\n",
       "      <td>40.795590</td>\n",
       "      <td>-73.961884</td>\n",
       "      <td>casual</td>\n",
       "    </tr>\n",
       "    <tr>\n",
       "      <th>3</th>\n",
       "      <td>84A995BFD98030D4</td>\n",
       "      <td>classic_bike</td>\n",
       "      <td>2024-01-12 16:52:19.025</td>\n",
       "      <td>2024-01-12 17:17:29.773</td>\n",
       "      <td>Central Park West &amp; W 68 St</td>\n",
       "      <td>7079.06</td>\n",
       "      <td>E 5 St &amp; Ave C</td>\n",
       "      <td>5545.04</td>\n",
       "      <td>40.773407</td>\n",
       "      <td>-73.977825</td>\n",
       "      <td>40.722992</td>\n",
       "      <td>-73.979955</td>\n",
       "      <td>member</td>\n",
       "    </tr>\n",
       "    <tr>\n",
       "      <th>4</th>\n",
       "      <td>7BBEAD4F2B535813</td>\n",
       "      <td>electric_bike</td>\n",
       "      <td>2024-01-05 19:50:19.202</td>\n",
       "      <td>2024-01-05 20:34:42.517</td>\n",
       "      <td>W 67 St &amp; Broadway</td>\n",
       "      <td>7116.04</td>\n",
       "      <td>Ave A &amp; E 14 St</td>\n",
       "      <td>5779.11</td>\n",
       "      <td>40.774925</td>\n",
       "      <td>-73.982666</td>\n",
       "      <td>40.730311</td>\n",
       "      <td>-73.980472</td>\n",
       "      <td>member</td>\n",
       "    </tr>\n",
       "    <tr>\n",
       "      <th>...</th>\n",
       "      <td>...</td>\n",
       "      <td>...</td>\n",
       "      <td>...</td>\n",
       "      <td>...</td>\n",
       "      <td>...</td>\n",
       "      <td>...</td>\n",
       "      <td>...</td>\n",
       "      <td>...</td>\n",
       "      <td>...</td>\n",
       "      <td>...</td>\n",
       "      <td>...</td>\n",
       "      <td>...</td>\n",
       "      <td>...</td>\n",
       "    </tr>\n",
       "    <tr>\n",
       "      <th>999995</th>\n",
       "      <td>53C5A7DDC930FE68</td>\n",
       "      <td>electric_bike</td>\n",
       "      <td>2024-01-19 08:11:31.812</td>\n",
       "      <td>2024-01-19 08:18:23.659</td>\n",
       "      <td>Devoe St &amp; Lorimer St</td>\n",
       "      <td>5259.06</td>\n",
       "      <td>Meserole Ave &amp; Manhattan Ave</td>\n",
       "      <td>5666.04</td>\n",
       "      <td>40.713352</td>\n",
       "      <td>-73.949103</td>\n",
       "      <td>40.727086</td>\n",
       "      <td>-73.952991</td>\n",
       "      <td>member</td>\n",
       "    </tr>\n",
       "    <tr>\n",
       "      <th>999996</th>\n",
       "      <td>80C14103C204CD47</td>\n",
       "      <td>electric_bike</td>\n",
       "      <td>2024-01-23 08:50:57.782</td>\n",
       "      <td>2024-01-23 09:12:37.637</td>\n",
       "      <td>Fulton St &amp; Waverly Ave</td>\n",
       "      <td>4345.11</td>\n",
       "      <td>Broad St &amp; Bridge St</td>\n",
       "      <td>4962.08</td>\n",
       "      <td>40.683239</td>\n",
       "      <td>-73.965996</td>\n",
       "      <td>40.703652</td>\n",
       "      <td>-74.011678</td>\n",
       "      <td>member</td>\n",
       "    </tr>\n",
       "    <tr>\n",
       "      <th>999997</th>\n",
       "      <td>E1EE9037A8CB6101</td>\n",
       "      <td>electric_bike</td>\n",
       "      <td>2024-01-21 14:16:24.984</td>\n",
       "      <td>2024-01-21 14:22:14.498</td>\n",
       "      <td>Driggs Ave &amp; N 9 St</td>\n",
       "      <td>5411.08</td>\n",
       "      <td>Meserole Ave &amp; Manhattan Ave</td>\n",
       "      <td>5666.04</td>\n",
       "      <td>40.718170</td>\n",
       "      <td>-73.955201</td>\n",
       "      <td>40.727086</td>\n",
       "      <td>-73.952991</td>\n",
       "      <td>member</td>\n",
       "    </tr>\n",
       "    <tr>\n",
       "      <th>999998</th>\n",
       "      <td>DA5E681B117190A0</td>\n",
       "      <td>electric_bike</td>\n",
       "      <td>2024-01-23 09:02:49.848</td>\n",
       "      <td>2024-01-23 09:21:19.513</td>\n",
       "      <td>Driggs Ave &amp; N 9 St</td>\n",
       "      <td>5411.08</td>\n",
       "      <td>Pearl St &amp; Hanover Square</td>\n",
       "      <td>4993.02</td>\n",
       "      <td>40.718170</td>\n",
       "      <td>-73.955201</td>\n",
       "      <td>40.704718</td>\n",
       "      <td>-74.009260</td>\n",
       "      <td>member</td>\n",
       "    </tr>\n",
       "    <tr>\n",
       "      <th>999999</th>\n",
       "      <td>C29B38D0D93E10BA</td>\n",
       "      <td>classic_bike</td>\n",
       "      <td>2024-01-26 09:39:15.238</td>\n",
       "      <td>2024-01-26 09:42:45.447</td>\n",
       "      <td>E 102 St &amp; 1 Ave</td>\n",
       "      <td>7407.13</td>\n",
       "      <td>E 103 St &amp; Lexington Ave</td>\n",
       "      <td>7463.09</td>\n",
       "      <td>40.786995</td>\n",
       "      <td>-73.941648</td>\n",
       "      <td>40.790305</td>\n",
       "      <td>-73.947558</td>\n",
       "      <td>member</td>\n",
       "    </tr>\n",
       "  </tbody>\n",
       "</table>\n",
       "<p>1000000 rows × 13 columns</p>\n",
       "</div>"
      ],
      "text/plain": [
       "                 ride_id  rideable_type               started_at  \\\n",
       "0       8E865410DBDE0CA9  electric_bike  2024-01-01 13:00:04.563   \n",
       "1       0403D0B3FC9CA77D  electric_bike  2024-01-08 19:36:43.520   \n",
       "2       F6DE7BB42FF550BE  electric_bike  2024-01-12 15:00:41.580   \n",
       "3       84A995BFD98030D4   classic_bike  2024-01-12 16:52:19.025   \n",
       "4       7BBEAD4F2B535813  electric_bike  2024-01-05 19:50:19.202   \n",
       "...                  ...            ...                      ...   \n",
       "999995  53C5A7DDC930FE68  electric_bike  2024-01-19 08:11:31.812   \n",
       "999996  80C14103C204CD47  electric_bike  2024-01-23 08:50:57.782   \n",
       "999997  E1EE9037A8CB6101  electric_bike  2024-01-21 14:16:24.984   \n",
       "999998  DA5E681B117190A0  electric_bike  2024-01-23 09:02:49.848   \n",
       "999999  C29B38D0D93E10BA   classic_bike  2024-01-26 09:39:15.238   \n",
       "\n",
       "                       ended_at           start_station_name start_station_id  \\\n",
       "0       2024-01-01 13:04:04.652                 3 St & 3 Ave          4028.03   \n",
       "1       2024-01-08 19:53:16.266  Franklin Ave & St Marks Ave          4107.05   \n",
       "2       2024-01-12 15:36:29.622           W 67 St & Broadway          7116.04   \n",
       "3       2024-01-12 17:17:29.773  Central Park West & W 68 St          7079.06   \n",
       "4       2024-01-05 20:34:42.517           W 67 St & Broadway          7116.04   \n",
       "...                         ...                          ...              ...   \n",
       "999995  2024-01-19 08:18:23.659        Devoe St & Lorimer St          5259.06   \n",
       "999996  2024-01-23 09:12:37.637      Fulton St & Waverly Ave          4345.11   \n",
       "999997  2024-01-21 14:22:14.498          Driggs Ave & N 9 St          5411.08   \n",
       "999998  2024-01-23 09:21:19.513          Driggs Ave & N 9 St          5411.08   \n",
       "999999  2024-01-26 09:42:45.447             E 102 St & 1 Ave          7407.13   \n",
       "\n",
       "                    end_station_name end_station_id  start_lat  start_lng  \\\n",
       "0              Carroll St & Smith St        4225.14  40.675070 -73.987752   \n",
       "1            Bedford Ave & Bergen St        4066.15  40.675832 -73.956168   \n",
       "2          Central Park W & W 103 St        7577.27  40.774925 -73.982666   \n",
       "3                     E 5 St & Ave C        5545.04  40.773407 -73.977825   \n",
       "4                    Ave A & E 14 St        5779.11  40.774925 -73.982666   \n",
       "...                              ...            ...        ...        ...   \n",
       "999995  Meserole Ave & Manhattan Ave        5666.04  40.713352 -73.949103   \n",
       "999996          Broad St & Bridge St        4962.08  40.683239 -73.965996   \n",
       "999997  Meserole Ave & Manhattan Ave        5666.04  40.718170 -73.955201   \n",
       "999998     Pearl St & Hanover Square        4993.02  40.718170 -73.955201   \n",
       "999999      E 103 St & Lexington Ave        7463.09  40.786995 -73.941648   \n",
       "\n",
       "          end_lat    end_lng member_casual  \n",
       "0       40.680611 -73.994758        casual  \n",
       "1       40.676368 -73.952918        casual  \n",
       "2       40.795590 -73.961884        casual  \n",
       "3       40.722992 -73.979955        member  \n",
       "4       40.730311 -73.980472        member  \n",
       "...           ...        ...           ...  \n",
       "999995  40.727086 -73.952991        member  \n",
       "999996  40.703652 -74.011678        member  \n",
       "999997  40.727086 -73.952991        member  \n",
       "999998  40.704718 -74.009260        member  \n",
       "999999  40.790305 -73.947558        member  \n",
       "\n",
       "[1000000 rows x 13 columns]"
      ]
     },
     "execution_count": 16,
     "metadata": {},
     "output_type": "execute_result"
    }
   ],
   "source": [
    "df"
   ]
  },
  {
   "cell_type": "code",
   "execution_count": 17,
   "id": "b5ba72bb-cdbb-4a46-a938-c5136a09bf85",
   "metadata": {},
   "outputs": [],
   "source": [
    "df = df.rename(columns={\n",
    "                    'ride_id': 'trip_id',\n",
    "                    'rideable_type': 'bike_type',\n",
    "                    'started_at': 'starttime',\n",
    "                    'ended_at': 'stoptime',\n",
    "                    'start_station_name': 'start station name',\n",
    "                    'start_station_id': 'start station id',\n",
    "                    'end_station_name': 'end station name',\n",
    "                    'end_station_id': 'end station id',\n",
    "                    'start_lat': 'start station latitude',\n",
    "                    'start_lng': 'start station longitude',\n",
    "                    'end_lat': 'end station latitude',\n",
    "                    'end_lng': 'end station longitude',\n",
    "                    'member_casual': 'usertype',\n",
    "                })\n",
    "\n",
    "            # Parse datetime and calculate duration\n",
    "df['starttime'] = pd.to_datetime(df['starttime'], errors='coerce')\n",
    "df['stoptime'] = pd.to_datetime(df['stoptime'], errors='coerce')"
   ]
  },
  {
   "cell_type": "code",
   "execution_count": 18,
   "id": "ac6fa68b-2ea8-4ee0-8ed1-bde75a386210",
   "metadata": {},
   "outputs": [],
   "source": [
    "df['tripduration'] = (df['stoptime'] - df['starttime']).dt.total_seconds()\n"
   ]
  },
  {
   "cell_type": "code",
   "execution_count": 19,
   "id": "0fbc95d5-ce48-46a0-bbf6-06eb4806fc59",
   "metadata": {},
   "outputs": [
    {
     "data": {
      "text/plain": [
       "0          240.089\n",
       "1          992.746\n",
       "2         2148.042\n",
       "3         1510.748\n",
       "4         2663.315\n",
       "            ...   \n",
       "999995     411.847\n",
       "999996    1299.855\n",
       "999997     349.514\n",
       "999998    1109.665\n",
       "999999     210.209\n",
       "Name: tripduration, Length: 1000000, dtype: float64"
      ]
     },
     "execution_count": 19,
     "metadata": {},
     "output_type": "execute_result"
    }
   ],
   "source": [
    "df['tripduration'] "
   ]
  },
  {
   "cell_type": "code",
   "execution_count": null,
   "id": "18059d9f-8631-4507-9ab4-cd7785c9dddc",
   "metadata": {},
   "outputs": [],
   "source": []
  }
 ],
 "metadata": {
  "kernelspec": {
   "display_name": "Python 3 (ipykernel)",
   "language": "python",
   "name": "python3"
  },
  "language_info": {
   "codemirror_mode": {
    "name": "ipython",
    "version": 3
   },
   "file_extension": ".py",
   "mimetype": "text/x-python",
   "name": "python",
   "nbconvert_exporter": "python",
   "pygments_lexer": "ipython3",
   "version": "3.10.2"
  }
 },
 "nbformat": 4,
 "nbformat_minor": 5
}
