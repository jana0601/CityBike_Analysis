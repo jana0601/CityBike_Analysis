{
 "cells": [
  {
   "cell_type": "code",
   "execution_count": null,
   "id": "f65118ad-c354-46b2-ae7b-771b8fec1ebf",
   "metadata": {},
   "outputs": [],
   "source": []
  },
  {
   "cell_type": "code",
   "execution_count": null,
   "id": "43bd4fe2-fc45-4b58-a9be-d669ffe2b2c6",
   "metadata": {},
   "outputs": [],
   "source": []
  },
  {
   "cell_type": "code",
   "execution_count": 14,
   "id": "9cdb7a2d-afb8-4701-8268-c2fee398133c",
   "metadata": {},
   "outputs": [
    {
     "data": {
      "text/plain": [
       "'C:\\\\Users\\\\zhao\\\\Documents\\\\workspace\\\\task\\\\extracted_tripdata\\\\2013'"
      ]
     },
     "execution_count": 14,
     "metadata": {},
     "output_type": "execute_result"
    }
   ],
   "source": []
  },
  {
   "cell_type": "code",
   "execution_count": 2,
   "id": "31f5bc02",
   "metadata": {},
   "outputs": [],
   "source": [
    "# thisone "
   ]
  },
  {
   "cell_type": "code",
   "execution_count": 4,
   "id": "fce09c2b-7525-426d-9b89-9330929460b6",
   "metadata": {},
   "outputs": [
    {
     "name": "stdout",
     "output_type": "stream",
     "text": [
      "Extracted contents from C:\\Users\\yanhu\\Documents\\Python_Notebook\\AXA_task\\tripdata_zips\\2013-citibike-tripdata.zip to C:\\Users\\yanhu\\Documents\\Python_Notebook\\AXA_task\\extracted_tripdata\\2013 (excluding __MACOSX)\n",
      "  → Found 34 CSV file(s) in C:\\Users\\yanhu\\Documents\\Python_Notebook\\AXA_task\\extracted_tripdata\\2013\n",
      "    Moved C:\\Users\\yanhu\\Documents\\Python_Notebook\\AXA_task\\extracted_tripdata\\2013\\2013-citibike-tripdata\\201306-citibike-tripdata.csv → C:\\Users\\yanhu\\Documents\\Python_Notebook\\AXA_task\\extracted_tripdata\\2013\\201306-citibike-tripdata.csv\n",
      "    Moved C:\\Users\\yanhu\\Documents\\Python_Notebook\\AXA_task\\extracted_tripdata\\2013\\2013-citibike-tripdata\\201307-citibike-tripdata.csv → C:\\Users\\yanhu\\Documents\\Python_Notebook\\AXA_task\\extracted_tripdata\\2013\\201307-citibike-tripdata.csv\n",
      "    Moved C:\\Users\\yanhu\\Documents\\Python_Notebook\\AXA_task\\extracted_tripdata\\2013\\2013-citibike-tripdata\\201308-citibike-tripdata.csv → C:\\Users\\yanhu\\Documents\\Python_Notebook\\AXA_task\\extracted_tripdata\\2013\\201308-citibike-tripdata.csv\n",
      "    Moved C:\\Users\\yanhu\\Documents\\Python_Notebook\\AXA_task\\extracted_tripdata\\2013\\2013-citibike-tripdata\\201309-citibike-tripdata.csv → C:\\Users\\yanhu\\Documents\\Python_Notebook\\AXA_task\\extracted_tripdata\\2013\\201309-citibike-tripdata.csv\n",
      "    Moved C:\\Users\\yanhu\\Documents\\Python_Notebook\\AXA_task\\extracted_tripdata\\2013\\2013-citibike-tripdata\\201310-citibike-tripdata.csv → C:\\Users\\yanhu\\Documents\\Python_Notebook\\AXA_task\\extracted_tripdata\\2013\\201310-citibike-tripdata.csv\n",
      "    Moved C:\\Users\\yanhu\\Documents\\Python_Notebook\\AXA_task\\extracted_tripdata\\2013\\2013-citibike-tripdata\\201311-citibike-tripdata.csv → C:\\Users\\yanhu\\Documents\\Python_Notebook\\AXA_task\\extracted_tripdata\\2013\\201311-citibike-tripdata.csv\n",
      "    Moved C:\\Users\\yanhu\\Documents\\Python_Notebook\\AXA_task\\extracted_tripdata\\2013\\2013-citibike-tripdata\\201312-citibike-tripdata.csv → C:\\Users\\yanhu\\Documents\\Python_Notebook\\AXA_task\\extracted_tripdata\\2013\\201312-citibike-tripdata.csv\n",
      "    Moved C:\\Users\\yanhu\\Documents\\Python_Notebook\\AXA_task\\extracted_tripdata\\2013\\2013-citibike-tripdata\\10_October\\201310-citibike-tripdata_1.csv → C:\\Users\\yanhu\\Documents\\Python_Notebook\\AXA_task\\extracted_tripdata\\2013\\201310-citibike-tripdata_1.csv\n",
      "    Moved C:\\Users\\yanhu\\Documents\\Python_Notebook\\AXA_task\\extracted_tripdata\\2013\\2013-citibike-tripdata\\10_October\\201310-citibike-tripdata_2.csv → C:\\Users\\yanhu\\Documents\\Python_Notebook\\AXA_task\\extracted_tripdata\\2013\\201310-citibike-tripdata_2.csv\n",
      "    Moved C:\\Users\\yanhu\\Documents\\Python_Notebook\\AXA_task\\extracted_tripdata\\2013\\2013-citibike-tripdata\\11_November\\201311-citibike-tripdata_1.csv → C:\\Users\\yanhu\\Documents\\Python_Notebook\\AXA_task\\extracted_tripdata\\2013\\201311-citibike-tripdata_1.csv\n",
      "    Moved C:\\Users\\yanhu\\Documents\\Python_Notebook\\AXA_task\\extracted_tripdata\\2013\\2013-citibike-tripdata\\12_December\\201312-citibike-tripdata_1.csv → C:\\Users\\yanhu\\Documents\\Python_Notebook\\AXA_task\\extracted_tripdata\\2013\\201312-citibike-tripdata_1.csv\n",
      "    Moved C:\\Users\\yanhu\\Documents\\Python_Notebook\\AXA_task\\extracted_tripdata\\2013\\2013-citibike-tripdata\\6_June\\201306-citibike-tripdata_1.csv → C:\\Users\\yanhu\\Documents\\Python_Notebook\\AXA_task\\extracted_tripdata\\2013\\201306-citibike-tripdata_1.csv\n",
      "    Moved C:\\Users\\yanhu\\Documents\\Python_Notebook\\AXA_task\\extracted_tripdata\\2013\\2013-citibike-tripdata\\7_July\\201307-citibike-tripdata_1.csv → C:\\Users\\yanhu\\Documents\\Python_Notebook\\AXA_task\\extracted_tripdata\\2013\\201307-citibike-tripdata_1.csv\n",
      "    Moved C:\\Users\\yanhu\\Documents\\Python_Notebook\\AXA_task\\extracted_tripdata\\2013\\2013-citibike-tripdata\\8_August\\201308-citibike-tripdata_1.csv → C:\\Users\\yanhu\\Documents\\Python_Notebook\\AXA_task\\extracted_tripdata\\2013\\201308-citibike-tripdata_1.csv\n",
      "    Moved C:\\Users\\yanhu\\Documents\\Python_Notebook\\AXA_task\\extracted_tripdata\\2013\\2013-citibike-tripdata\\8_August\\201308-citibike-tripdata_2.csv → C:\\Users\\yanhu\\Documents\\Python_Notebook\\AXA_task\\extracted_tripdata\\2013\\201308-citibike-tripdata_2.csv\n",
      "    Moved C:\\Users\\yanhu\\Documents\\Python_Notebook\\AXA_task\\extracted_tripdata\\2013\\2013-citibike-tripdata\\9_September\\201309-citibike-tripdata_1.csv → C:\\Users\\yanhu\\Documents\\Python_Notebook\\AXA_task\\extracted_tripdata\\2013\\201309-citibike-tripdata_1.csv\n",
      "    Moved C:\\Users\\yanhu\\Documents\\Python_Notebook\\AXA_task\\extracted_tripdata\\2013\\2013-citibike-tripdata\\9_September\\201309-citibike-tripdata_2.csv → C:\\Users\\yanhu\\Documents\\Python_Notebook\\AXA_task\\extracted_tripdata\\2013\\201309-citibike-tripdata_2.csv\n"
     ]
    },
    {
     "ename": "PermissionError",
     "evalue": "[Errno 13] Permission denied: 'C:\\\\Users\\\\yanhu\\\\Documents\\\\Python_Notebook\\\\AXA_task\\\\extracted_tripdata\\\\2014\\\\2014-citibike-tripdata\\\\.DS_Store'",
     "output_type": "error",
     "traceback": [
      "\u001b[1;31m---------------------------------------------------------------------------\u001b[0m",
      "\u001b[1;31mPermissionError\u001b[0m                           Traceback (most recent call last)",
      "Input \u001b[1;32mIn [4]\u001b[0m, in \u001b[0;36m<module>\u001b[1;34m\u001b[0m\n\u001b[0;32m     53\u001b[0m os\u001b[38;5;241m.\u001b[39mmakedirs(year_folder, exist_ok\u001b[38;5;241m=\u001b[39m\u001b[38;5;28;01mTrue\u001b[39;00m)\n\u001b[0;32m     55\u001b[0m \u001b[38;5;66;03m# Extract all contents to year folder\u001b[39;00m\n\u001b[1;32m---> 56\u001b[0m \u001b[43mextract_csv_from_zip\u001b[49m\u001b[43m(\u001b[49m\u001b[43mzip_file\u001b[49m\u001b[43m,\u001b[49m\u001b[43m \u001b[49m\u001b[43moutput_dir\u001b[49m\u001b[38;5;241;43m=\u001b[39;49m\u001b[43myear_folder\u001b[49m\u001b[43m)\u001b[49m\n\u001b[0;32m     58\u001b[0m \u001b[38;5;66;03m# Find all CSVs inside the extracted content\u001b[39;00m\n\u001b[0;32m     59\u001b[0m csv_files \u001b[38;5;241m=\u001b[39m find_all_csvs(year_folder)\n",
      "Input \u001b[1;32mIn [4]\u001b[0m, in \u001b[0;36mextract_csv_from_zip\u001b[1;34m(zip_path, output_dir)\u001b[0m\n\u001b[0;32m     10\u001b[0m \u001b[38;5;28;01mfor\u001b[39;00m file \u001b[38;5;129;01min\u001b[39;00m zip_ref\u001b[38;5;241m.\u001b[39mnamelist():\n\u001b[0;32m     11\u001b[0m     \u001b[38;5;28;01mif\u001b[39;00m \u001b[38;5;124m\"\u001b[39m\u001b[38;5;124m__MACOSX\u001b[39m\u001b[38;5;124m\"\u001b[39m \u001b[38;5;129;01mnot\u001b[39;00m \u001b[38;5;129;01min\u001b[39;00m file:\n\u001b[1;32m---> 12\u001b[0m         \u001b[43mzip_ref\u001b[49m\u001b[38;5;241;43m.\u001b[39;49m\u001b[43mextract\u001b[49m\u001b[43m(\u001b[49m\u001b[43mfile\u001b[49m\u001b[43m,\u001b[49m\u001b[43m \u001b[49m\u001b[43moutput_dir\u001b[49m\u001b[43m)\u001b[49m\n\u001b[0;32m     13\u001b[0m \u001b[38;5;28mprint\u001b[39m(\u001b[38;5;124mf\u001b[39m\u001b[38;5;124m\"\u001b[39m\u001b[38;5;124mExtracted contents from \u001b[39m\u001b[38;5;132;01m{\u001b[39;00mzip_path\u001b[38;5;132;01m}\u001b[39;00m\u001b[38;5;124m to \u001b[39m\u001b[38;5;132;01m{\u001b[39;00moutput_dir\u001b[38;5;132;01m}\u001b[39;00m\u001b[38;5;124m (excluding __MACOSX)\u001b[39m\u001b[38;5;124m\"\u001b[39m)\n",
      "File \u001b[1;32m~\\AppData\\Local\\Programs\\Python\\Python310\\lib\\zipfile.py:1617\u001b[0m, in \u001b[0;36mZipFile.extract\u001b[1;34m(self, member, path, pwd)\u001b[0m\n\u001b[0;32m   1614\u001b[0m \u001b[38;5;28;01melse\u001b[39;00m:\n\u001b[0;32m   1615\u001b[0m     path \u001b[38;5;241m=\u001b[39m os\u001b[38;5;241m.\u001b[39mfspath(path)\n\u001b[1;32m-> 1617\u001b[0m \u001b[38;5;28;01mreturn\u001b[39;00m \u001b[38;5;28;43mself\u001b[39;49m\u001b[38;5;241;43m.\u001b[39;49m\u001b[43m_extract_member\u001b[49m\u001b[43m(\u001b[49m\u001b[43mmember\u001b[49m\u001b[43m,\u001b[49m\u001b[43m \u001b[49m\u001b[43mpath\u001b[49m\u001b[43m,\u001b[49m\u001b[43m \u001b[49m\u001b[43mpwd\u001b[49m\u001b[43m)\u001b[49m\n",
      "File \u001b[1;32m~\\AppData\\Local\\Programs\\Python\\Python310\\lib\\zipfile.py:1688\u001b[0m, in \u001b[0;36mZipFile._extract_member\u001b[1;34m(self, member, targetpath, pwd)\u001b[0m\n\u001b[0;32m   1684\u001b[0m         os\u001b[38;5;241m.\u001b[39mmkdir(targetpath)\n\u001b[0;32m   1685\u001b[0m     \u001b[38;5;28;01mreturn\u001b[39;00m targetpath\n\u001b[0;32m   1687\u001b[0m \u001b[38;5;28;01mwith\u001b[39;00m \u001b[38;5;28mself\u001b[39m\u001b[38;5;241m.\u001b[39mopen(member, pwd\u001b[38;5;241m=\u001b[39mpwd) \u001b[38;5;28;01mas\u001b[39;00m source, \\\n\u001b[1;32m-> 1688\u001b[0m      \u001b[38;5;28;43mopen\u001b[39;49m\u001b[43m(\u001b[49m\u001b[43mtargetpath\u001b[49m\u001b[43m,\u001b[49m\u001b[43m \u001b[49m\u001b[38;5;124;43m\"\u001b[39;49m\u001b[38;5;124;43mwb\u001b[39;49m\u001b[38;5;124;43m\"\u001b[39;49m\u001b[43m)\u001b[49m \u001b[38;5;28;01mas\u001b[39;00m target:\n\u001b[0;32m   1689\u001b[0m     shutil\u001b[38;5;241m.\u001b[39mcopyfileobj(source, target)\n\u001b[0;32m   1691\u001b[0m \u001b[38;5;28;01mreturn\u001b[39;00m targetpath\n",
      "\u001b[1;31mPermissionError\u001b[0m: [Errno 13] Permission denied: 'C:\\\\Users\\\\yanhu\\\\Documents\\\\Python_Notebook\\\\AXA_task\\\\extracted_tripdata\\\\2014\\\\2014-citibike-tripdata\\\\.DS_Store'"
     ]
    }
   ],
   "source": [
    "import os\n",
    "import zipfile\n",
    "import glob\n",
    "import re\n",
    "import shutil\n",
    "\n",
    "def extract_csv_from_zip(zip_path, output_dir):\n",
    "    \"\"\"Extract all non-__MACOSX contents of the ZIP file to output_dir.\"\"\"\n",
    "    with zipfile.ZipFile(zip_path, 'r') as zip_ref:\n",
    "        for file in zip_ref.namelist():\n",
    "            if \"__MACOSX\" not in file:\n",
    "                zip_ref.extract(file, output_dir)\n",
    "        print(f\"Extracted contents from {zip_path} to {output_dir} (excluding __MACOSX)\")\n",
    "\n",
    "def find_all_csvs(folder_path):\n",
    "    \"\"\"Recursively find all CSV files, ignoring __MACOSX folders.\"\"\"\n",
    "    csv_files = []\n",
    "    for root, dirs, files in os.walk(folder_path):\n",
    "        if '__MACOSX' in root:\n",
    "            continue\n",
    "        for file in files:\n",
    "            if file.endswith('.csv'):\n",
    "                full_path = os.path.join(root, file)\n",
    "                csv_files.append(full_path)\n",
    "    return csv_files\n",
    "\n",
    "\n",
    "# Folder containing ZIP files\n",
    "zip_folder = r\"C:\\Users\\yanhu\\Documents\\Python_Notebook\\AXA_task\\tripdata_zips\"\n",
    "\n",
    "# Base output folder\n",
    "base_output_folder = r\"C:\\Users\\yanhu\\Documents\\Python_Notebook\\AXA_task\\extracted_tripdata\"\n",
    "os.makedirs(base_output_folder, exist_ok=True)\n",
    "\n",
    "# Regex to extract years from 2013 to 2025\n",
    "year_pattern = re.compile(r\"(201[3-9]|202[0-5])\")\n",
    "\n",
    "# Get all ZIP files in the folder\n",
    "zip_files = glob.glob(os.path.join(zip_folder, \"*.zip\"))\n",
    "\n",
    "for zip_file in zip_files:\n",
    "    base_name = os.path.basename(zip_file)\n",
    "\n",
    "    # Extract year from filename\n",
    "    match = year_pattern.search(base_name)\n",
    "    if not match:\n",
    "        print(f\"No valid year found in {base_name}, skipping.\")\n",
    "        continue\n",
    "    year = match.group(0)\n",
    "\n",
    "    # Create year output folder\n",
    "    year_folder = os.path.join(base_output_folder, year)\n",
    "    os.makedirs(year_folder, exist_ok=True)\n",
    "\n",
    "    # Extract all contents to year folder\n",
    "    extract_csv_from_zip(zip_file, output_dir=year_folder)\n",
    "\n",
    "    # Find all CSVs inside the extracted content\n",
    "    csv_files = find_all_csvs(year_folder)\n",
    "    print(f\"  → Found {len(csv_files)} CSV file(s) in {year_folder}\")\n",
    "\n",
    "    # Optional: move all CSVs to year folder (flatten structure)\n",
    "    for csv_path in csv_files:\n",
    "        filename = os.path.basename(csv_path)\n",
    "        new_path = os.path.join(year_folder, filename)\n",
    "\n",
    "        # Avoid overwriting files with same name\n",
    "        if os.path.abspath(csv_path) != os.path.abspath(new_path):\n",
    "            shutil.move(csv_path, new_path)\n",
    "            print(f\"    Moved {csv_path} → {new_path}\")\n"
   ]
  },
  {
   "cell_type": "code",
   "execution_count": null,
   "id": "e281f6f4-31e5-4377-affb-b0728f0027be",
   "metadata": {},
   "outputs": [],
   "source": []
  }
 ],
 "metadata": {
  "kernelspec": {
   "display_name": "Python 3 (ipykernel)",
   "language": "python",
   "name": "python3"
  },
  "language_info": {
   "codemirror_mode": {
    "name": "ipython",
    "version": 3
   },
   "file_extension": ".py",
   "mimetype": "text/x-python",
   "name": "python",
   "nbconvert_exporter": "python",
   "pygments_lexer": "ipython3",
   "version": "3.10.2"
  }
 },
 "nbformat": 4,
 "nbformat_minor": 5
}
