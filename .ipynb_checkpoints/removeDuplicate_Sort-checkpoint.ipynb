{
 "cells": [
  {
   "cell_type": "code",
   "execution_count": 1,
   "id": "1eb27038-8e1c-4b73-b67c-25e612a4b33f",
   "metadata": {},
   "outputs": [
    {
     "name": "stderr",
     "output_type": "stream",
     "text": [
      "C:\\Users\\zhao\\AppData\\Local\\Temp\\ipykernel_23032\\260885863.py:7: DtypeWarning: Columns (13) have mixed types. Specify dtype option on import or set low_memory=False.\n",
      "  df = pd.read_csv(file_path)\n"
     ]
    },
    {
     "name": "stdout",
     "output_type": "stream",
     "text": [
      "Original rows: 11229776\n",
      "Rows after removing duplicates: 5638582\n"
     ]
    }
   ],
   "source": [
    "import pandas as pd\n",
    "\n",
    "# Full path to the merged CSV file\n",
    "file_path = r\"C:\\Users\\zhao\\Documents\\workspace\\task\\clean_data_bike\\2013_merged.csv\"\n",
    "\n",
    "# Read CSV\n",
    "df = pd.read_csv(file_path)\n",
    "\n",
    "print(f\"Original rows: {len(df)}\")\n",
    "\n",
    "# Remove duplicates (based on all columns)\n",
    "df_cleaned = df.drop_duplicates()\n",
    "df_sorted = df_cleaned.sort_values(by='starttime')\n",
    "\n",
    "print(f\"Rows after removing duplicates: {len(df_sorted)}\")\n",
    "\n",
    "# Save cleaned dataframe back to the same file (overwrite)\n",
    "#df_cleaned.to_csv(file_path, index=False)\n",
    "\n",
    "#print(f\"Duplicates removed and file saved: {file_path}\")\n"
   ]
  },
  {
   "cell_type": "code",
   "execution_count": 21,
   "id": "b20b7e91-c91e-4e3b-b275-44730f89567e",
   "metadata": {},
   "outputs": [],
   "source": [
    "# cleaning\n",
    "# Step 1: Remove '.0' from string values (if any)\n",
    "df_sorted['birth year'] = df_sorted['birth year'].str.replace('.0', '', regex=False)\n",
    "\n",
    "# Step 2: Convert to numeric (handles errors and NaNs gracefully)\n",
    "df_sorted['birth year'] = pd.to_numeric(df_sorted['birth year'], errors='coerce')\n",
    "\n",
    "# Step 3: Fill NaNs with 0 (optional) and convert to int\n",
    "df_sorted['birth year'] = df_sorted['birth year'].fillna(0).astype(int)\n"
   ]
  },
  {
   "cell_type": "code",
   "execution_count": null,
   "id": "d4ac1e3a-299e-4125-aeca-bafdf18e4c5f",
   "metadata": {},
   "outputs": [],
   "source": []
  },
  {
   "cell_type": "code",
   "execution_count": null,
   "id": "f1cd4c95-25b3-4178-b5b9-f85a11235af1",
   "metadata": {},
   "outputs": [],
   "source": []
  },
  {
   "cell_type": "code",
   "execution_count": 15,
   "id": "611c4381-1c05-4d71-a560-3f242d6c7580",
   "metadata": {},
   "outputs": [],
   "source": []
  },
  {
   "cell_type": "code",
   "execution_count": 18,
   "id": "bd00a54a-1f08-4821-a1fb-de28d86ab027",
   "metadata": {},
   "outputs": [],
   "source": []
  },
  {
   "cell_type": "code",
   "execution_count": 19,
   "id": "fdb1c023-f1cb-44b9-8da9-71608053a601",
   "metadata": {},
   "outputs": [
    {
     "data": {
      "text/plain": [
       "0           1983\n",
       "1           1984\n",
       "2              0\n",
       "3           1960\n",
       "4           1983\n",
       "            ... \n",
       "10785805    1973\n",
       "10785806    1986\n",
       "10785807    1985\n",
       "10785808    1955\n",
       "10785809    1986\n",
       "Name: birth year, Length: 5638582, dtype: int32"
      ]
     },
     "execution_count": 19,
     "metadata": {},
     "output_type": "execute_result"
    }
   ],
   "source": [
    "df_sorted['birth year'] "
   ]
  },
  {
   "cell_type": "code",
   "execution_count": 23,
   "id": "1db011fa-8aa3-4959-9a85-c17e05811f93",
   "metadata": {},
   "outputs": [
    {
     "name": "stdout",
     "output_type": "stream",
     "text": [
      "Cleaned file saved as: C:\\Users\\zhao\\Documents\\workspace\\task\\clean_data_bike\\2013_merged_no_duplicate.csv\n"
     ]
    }
   ],
   "source": [
    "# New filename with \"no_duplicate\" added before extension\n",
    "new_file_path = r\"C:\\Users\\zhao\\Documents\\workspace\\task\\clean_data_bike\\2013_merged_no_duplicate.csv\"\n",
    "\n",
    "# Save cleaned DataFrame to the new file\n",
    "df_sorted.to_csv(new_file_path, index=False)\n",
    "print(f\"Cleaned file saved as: {new_file_path}\")"
   ]
  },
  {
   "cell_type": "code",
   "execution_count": null,
   "id": "b8590b55-343f-41af-a317-a5521beedce9",
   "metadata": {},
   "outputs": [],
   "source": []
  },
  {
   "cell_type": "code",
   "execution_count": 5,
   "id": "3fa1de36-0763-4682-8624-fe7f498ef6a9",
   "metadata": {},
   "outputs": [],
   "source": []
  },
  {
   "cell_type": "code",
   "execution_count": 8,
   "id": "744150fa-a5af-45d2-9702-50dd19510a49",
   "metadata": {},
   "outputs": [
    {
     "name": "stdout",
     "output_type": "stream",
     "text": [
      "Number of NaN values in 'birth year': 240321\n"
     ]
    }
   ],
   "source": [
    "nan_count = df_sorted['birth year'].isna().sum()\n",
    "print(f\"Number of NaN values in 'birth year': {nan_count}\")"
   ]
  },
  {
   "cell_type": "code",
   "execution_count": null,
   "id": "efb3a945-8485-48fd-92e7-9d635d0aa237",
   "metadata": {},
   "outputs": [],
   "source": []
  }
 ],
 "metadata": {
  "kernelspec": {
   "display_name": "Python 3 (ipykernel)",
   "language": "python",
   "name": "python3"
  },
  "language_info": {
   "codemirror_mode": {
    "name": "ipython",
    "version": 3
   },
   "file_extension": ".py",
   "mimetype": "text/x-python",
   "name": "python",
   "nbconvert_exporter": "python",
   "pygments_lexer": "ipython3",
   "version": "3.10.2"
  }
 },
 "nbformat": 4,
 "nbformat_minor": 5
}
