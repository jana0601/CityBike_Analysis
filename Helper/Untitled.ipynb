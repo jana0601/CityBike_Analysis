{
 "cells": [
  {
   "cell_type": "code",
   "execution_count": 1,
   "id": "84154ff8",
   "metadata": {},
   "outputs": [],
   "source": [
    "from data_association import match_crashes_to_trips_optimized, merge_all_matched_crash_data, match_crashes_to_trips, match_crashes_to_trips_faster,match_crashes_to_trips_fastest\n",
    "import pandas as pd\n",
    "from pathlib import Path"
   ]
  },
  {
   "cell_type": "code",
   "execution_count": null,
   "id": "2a03333f",
   "metadata": {},
   "outputs": [
    {
     "name": "stdout",
     "output_type": "stream",
     "text": [
      "\n",
      "📦 Processing trips for year: 2020\n"
     ]
    },
    {
     "name": "stderr",
     "output_type": "stream",
     "text": [
      "C:\\Users\\yanhu\\Documents\\Python_Notebook\\AXA_task\\Helper\\data_association.py:109: DtypeWarning: Columns (5,7) have mixed types. Specify dtype option on import or set low_memory=False.\n",
      "  trip_df = pd.read_csv(trip_file)\n"
     ]
    },
    {
     "name": "stdout",
     "output_type": "stream",
     "text": [
      "🚨 9748 crash records within trip time range.\n"
     ]
    }
   ],
   "source": [
    "import time\n",
    "# Load crash data once\n",
    "start = time.time()\n",
    "match_crashes_to_trips(\n",
    "    trip_data_folder=Path(\"..\") / \"merged_tripdata3\",\n",
    "    crash_file=Path(\"..\") / \"accident_data\" / \"sorted_bike_crashes.csv\",\n",
    "    results_folder=Path(\"..\") / \"results\" / \"matched_trips\",\n",
    "    max_time_diff=1,\n",
    "    max_distance_m=100,\n",
    "    start_year=2020,\n",
    "    end_year=2023\n",
    ")\n",
    "\n",
    "print(f\"Total processing time: {time.time() - start:.2f} seconds\")"
   ]
  },
  {
   "cell_type": "code",
   "execution_count": null,
   "id": "42bbe05b",
   "metadata": {},
   "outputs": [],
   "source": []
  }
 ],
 "metadata": {
  "kernelspec": {
   "display_name": "Python 3 (ipykernel)",
   "language": "python",
   "name": "python3"
  },
  "language_info": {
   "codemirror_mode": {
    "name": "ipython",
    "version": 3
   },
   "file_extension": ".py",
   "mimetype": "text/x-python",
   "name": "python",
   "nbconvert_exporter": "python",
   "pygments_lexer": "ipython3",
   "version": "3.10.2"
  }
 },
 "nbformat": 4,
 "nbformat_minor": 5
}
