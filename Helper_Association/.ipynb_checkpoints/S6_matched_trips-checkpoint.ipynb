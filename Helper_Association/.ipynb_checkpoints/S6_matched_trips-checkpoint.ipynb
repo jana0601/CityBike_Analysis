{
 "cells": [
  {
   "cell_type": "markdown",
   "id": "ac5525e5",
   "metadata": {},
   "source": [
    "# Link bike trip data to NYPD crash records based on time and location proximity"
   ]
  },
  {
   "cell_type": "code",
   "execution_count": 1,
   "id": "e8d1d0b2",
   "metadata": {},
   "outputs": [],
   "source": [
    "from data_association import merge_all_matched_crash_data, match_crashes_to_trips\n",
    "import pandas as pd\n",
    "from pathlib import Path"
   ]
  },
  {
   "cell_type": "code",
   "execution_count": 2,
   "id": "71b1d1aa",
   "metadata": {},
   "outputs": [
    {
     "name": "stdout",
     "output_type": "stream",
     "text": [
      "C:\\Users\\yanhu\\Documents\\Python_Notebook\\AXA_task\\Helper\n"
     ]
    }
   ],
   "source": [
    "import os\n",
    "print(os.getcwd())"
   ]
  },
  {
   "cell_type": "code",
   "execution_count": 3,
   "id": "582cb93a",
   "metadata": {},
   "outputs": [
    {
     "name": "stdout",
     "output_type": "stream",
     "text": [
      "\n",
      "📦 Processing trips for year: 2020\n"
     ]
    },
    {
     "name": "stderr",
     "output_type": "stream",
     "text": [
      "C:\\Users\\yanhu\\Documents\\Python_Notebook\\AXA_task\\Helper\\data_association.py:109: DtypeWarning: Columns (5,7) have mixed types. Specify dtype option on import or set low_memory=False.\n",
      "  trip_df = pd.read_csv(trip_file)\n"
     ]
    },
    {
     "name": "stdout",
     "output_type": "stream",
     "text": [
      "🚨 9748 crash records within trip time range.\n",
      "✅ Matched trips found: 521\n",
      "💾 Saved to: ..\\results\\matched_trips\\matched_trips_2020.csv\n",
      "\n",
      "📦 Processing trips for year: 2021\n"
     ]
    },
    {
     "name": "stderr",
     "output_type": "stream",
     "text": [
      "C:\\Users\\yanhu\\Documents\\Python_Notebook\\AXA_task\\Helper\\data_association.py:109: DtypeWarning: Columns (5,7) have mixed types. Specify dtype option on import or set low_memory=False.\n",
      "  trip_df = pd.read_csv(trip_file)\n"
     ]
    },
    {
     "name": "stdout",
     "output_type": "stream",
     "text": [
      "🚨 13694 crash records within trip time range.\n",
      "✅ Matched trips found: 806\n",
      "💾 Saved to: ..\\results\\matched_trips\\matched_trips_2021.csv\n",
      "\n",
      "📦 Processing trips for year: 2022\n",
      "🚨 9028 crash records within trip time range.\n",
      "✅ Matched trips found: 945\n",
      "💾 Saved to: ..\\results\\matched_trips\\matched_trips_2022.csv\n",
      "\n",
      "📦 Processing trips for year: 2023\n",
      "🚨 4990 crash records within trip time range.\n",
      "✅ Matched trips found: 1025\n",
      "💾 Saved to: ..\\results\\matched_trips\\matched_trips_2023.csv\n"
     ]
    }
   ],
   "source": [
    "# Part of it\n",
    "match_crashes_to_trips(\n",
    "    trip_data_folder=Path(\"..\") / \"merged_tripdata3\",\n",
    "    crash_file=Path(\"..\") / \"accident_data\" / \"sorted_bike_crashes.csv\",\n",
    "    results_folder=Path(\"..\") / \"results\" / \"matched_trips\",\n",
    "    max_time_diff=1,\n",
    "    max_distance_m=100,\n",
    "    start_year=2020,\n",
    "    end_year=2023\n",
    ")\n"
   ]
  },
  {
   "cell_type": "code",
   "execution_count": 5,
   "id": "450343b8",
   "metadata": {},
   "outputs": [
    {
     "name": "stdout",
     "output_type": "stream",
     "text": [
      "\n",
      "📦 Processing trips for year: 2013\n"
     ]
    },
    {
     "name": "stderr",
     "output_type": "stream",
     "text": [
      "C:\\Users\\yanhu\\Documents\\Python_Notebook\\AXA_task\\Helper\\data_association.py:109: DtypeWarning: Columns (13) have mixed types. Specify dtype option on import or set low_memory=False.\n",
      "  trip_df = pd.read_csv(trip_file)\n"
     ]
    },
    {
     "name": "stdout",
     "output_type": "stream",
     "text": [
      "🚨 2597 crash records within trip time range.\n",
      "✅ Matched trips found: 202\n",
      "💾 Saved to: ..\\results\\matched_trips\\matched_trips_2013.csv\n",
      "Total processing time: 244.16 seconds\n"
     ]
    }
   ],
   "source": [
    "# test with one year\n",
    "import time\n",
    "# Load crash data once\n",
    "start = time.time()\n",
    "match_crashes_to_trips(\n",
    "    trip_data_folder=Path(\"..\") / \"merged_tripdata3\",\n",
    "    crash_file=Path(\"..\") / \"accident_data\" / \"sorted_bike_crashes.csv\",\n",
    "    results_folder=Path(\"..\") / \"results\" / \"matched_trips\",\n",
    "    max_time_diff=1,\n",
    "    max_distance_m=100,\n",
    "    start_year=2013,\n",
    "    end_year=2013\n",
    ")\n",
    "\n",
    "print(f\"Total processing time: {time.time() - start:.2f} seconds\")"
   ]
  },
  {
   "cell_type": "code",
   "execution_count": null,
   "id": "4052042d",
   "metadata": {},
   "outputs": [],
   "source": []
  },
  {
   "cell_type": "code",
   "execution_count": null,
   "id": "4db93e7e",
   "metadata": {},
   "outputs": [],
   "source": []
  },
  {
   "cell_type": "code",
   "execution_count": null,
   "id": "50d3bf70",
   "metadata": {},
   "outputs": [],
   "source": []
  },
  {
   "cell_type": "code",
   "execution_count": null,
   "id": "6edc9c64",
   "metadata": {},
   "outputs": [],
   "source": []
  },
  {
   "cell_type": "markdown",
   "id": "f1977555",
   "metadata": {},
   "source": [
    "# Go through all years"
   ]
  },
  {
   "cell_type": "code",
   "execution_count": null,
   "id": "3de036db",
   "metadata": {},
   "outputs": [],
   "source": [
    "# Need long time\n",
    "match_crashes_to_trips(\n",
    "    trip_data_folder=Path(\"..\") / \"merged_tripdata3\",\n",
    "    crash_file=Path(\"..\") / \"accident_data\" / \"sorted_bike_crashes.csv\",\n",
    "    results_folder=Path(\"..\") / \"results\" / \"matched_trips\",\n",
    "    max_time_diff=1,\n",
    "    max_distance_m=100,\n",
    "    start_year=2013,\n",
    "    end_year=2025\n",
    ")"
   ]
  },
  {
   "cell_type": "markdown",
   "id": "04d65f24",
   "metadata": {},
   "source": [
    "# Merged all matched trips"
   ]
  },
  {
   "cell_type": "code",
   "execution_count": 10,
   "id": "236b7441",
   "metadata": {},
   "outputs": [
    {
     "name": "stdout",
     "output_type": "stream",
     "text": [
      "Loading crash data from: ..\\results\\matched_trips\\matched_trips_2013.csv\n",
      "Loading crash data from: ..\\results\\matched_trips\\matched_trips_2014.csv\n",
      "Loading crash data from: ..\\results\\matched_trips\\matched_trips_2015.csv\n",
      "Loading crash data from: ..\\results\\matched_trips\\matched_trips_2016.csv\n",
      "Loading crash data from: ..\\results\\matched_trips\\matched_trips_2017.csv\n",
      "Loading crash data from: ..\\results\\matched_trips\\matched_trips_2018.csv\n",
      "Loading crash data from: ..\\results\\matched_trips\\matched_trips_2019.csv\n",
      "Loading crash data from: ..\\results\\matched_trips\\matched_trips_2020.csv\n",
      "Loading crash data from: ..\\results\\matched_trips\\matched_trips_2021.csv\n",
      "Loading crash data from: ..\\results\\matched_trips\\matched_trips_2022.csv\n",
      "Loading crash data from: ..\\results\\matched_trips\\matched_trips_2023.csv\n",
      "Loading crash data from: ..\\results\\matched_trips\\matched_trips_2024.csv\n",
      "Loading crash data from: ..\\results\\matched_trips\\matched_trips_2025.csv\n",
      "\n",
      "✅ Combined crash data saved: ..\\results\\matched_trips\\matched_crashes_all\\all_years_matched_crashes.csv\n",
      "  tripduration            starttime             stoptime start_station_id  \\\n",
      "0         1354  2013-06-03 17:08:18  2013-06-03 17:30:52              311   \n",
      "1         1525  2013-06-05 17:34:04  2013-06-05 17:59:29              352   \n",
      "2          627  2013-06-05 18:00:34  2013-06-05 18:11:01              352   \n",
      "3         1154  2013-06-06 12:19:17  2013-06-06 12:38:31              152   \n",
      "4          866  2013-06-06 18:33:21  2013-06-06 18:47:47              375   \n",
      "\n",
      "          start station name start station latitude start station longitude  \\\n",
      "0     Norfolk St & Broome St              40.717227              -73.988021   \n",
      "1            W 56 St & 6 Ave              40.763406              -73.977225   \n",
      "2            W 56 St & 6 Ave              40.763406              -73.977225   \n",
      "3      Warren St & Church St               40.71474              -74.009106   \n",
      "4  Mercer St & Bleecker St S              40.726795              -73.996951   \n",
      "\n",
      "  end_station_id    end station name end station latitude  ... Gender ride_id  \\\n",
      "0          532.0     S 5 Pl & S 5 St            40.710451  ...    NaN     NaN   \n",
      "1          116.0     W 17 St & 8 Ave            40.741776  ...    NaN     NaN   \n",
      "2          529.0     W 42 St & 8 Ave             40.75757  ...    NaN     NaN   \n",
      "3          402.0  Broadway & E 22 St            40.740343  ...    NaN     NaN   \n",
      "4          477.0     W 41 St & 8 Ave            40.756405  ...    NaN     NaN   \n",
      "\n",
      "  rideable_type start_station_name end_station_name start_lat start_lng  \\\n",
      "0           NaN                NaN              NaN       NaN       NaN   \n",
      "1           NaN                NaN              NaN       NaN       NaN   \n",
      "2           NaN                NaN              NaN       NaN       NaN   \n",
      "3           NaN                NaN              NaN       NaN       NaN   \n",
      "4           NaN                NaN              NaN       NaN       NaN   \n",
      "\n",
      "  end_lat end_lng bike_type  \n",
      "0     NaN     NaN       NaN  \n",
      "1     NaN     NaN       NaN  \n",
      "2     NaN     NaN       NaN  \n",
      "3     NaN     NaN       NaN  \n",
      "4     NaN     NaN       NaN  \n",
      "\n",
      "[5 rows x 47 columns]\n"
     ]
    }
   ],
   "source": [
    "# Run the merging function\n",
    "base_dir = Path(\"..\") / \"results\" / \"matched_trips\"\n",
    "output_dir = os.path.join(base_dir, \"matched_crashes_all\")\n",
    "\n",
    "merge_all_matched_crash_data(base_dir, output_dir)"
   ]
  },
  {
   "cell_type": "code",
   "execution_count": null,
   "id": "3373c2f1",
   "metadata": {},
   "outputs": [],
   "source": []
  }
 ],
 "metadata": {
  "kernelspec": {
   "display_name": "Python 3 (ipykernel)",
   "language": "python",
   "name": "python3"
  },
  "language_info": {
   "codemirror_mode": {
    "name": "ipython",
    "version": 3
   },
   "file_extension": ".py",
   "mimetype": "text/x-python",
   "name": "python",
   "nbconvert_exporter": "python",
   "pygments_lexer": "ipython3",
   "version": "3.10.2"
  }
 },
 "nbformat": 4,
 "nbformat_minor": 5
}
