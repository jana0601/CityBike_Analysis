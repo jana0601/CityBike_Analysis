{
 "cells": [
  {
   "cell_type": "markdown",
   "id": "689555eb",
   "metadata": {},
   "source": [
    "# Generating monthly usage with crashes & merge all matched trips to one file"
   ]
  },
  {
   "cell_type": "code",
   "execution_count": 2,
   "id": "ffafb941",
   "metadata": {},
   "outputs": [
    {
     "name": "stdout",
     "output_type": "stream",
     "text": [
      "\n",
      "📅 Processing year: 2013\n",
      "✅ Saved: ..//results//dataAnalysis//2013//monthly_usage_with_crashes.csv\n",
      "\n",
      "📅 Processing year: 2014\n",
      "✅ Saved: ..//results//dataAnalysis//2014//monthly_usage_with_crashes.csv\n",
      "\n",
      "📅 Processing year: 2015\n",
      "✅ Saved: ..//results//dataAnalysis//2015//monthly_usage_with_crashes.csv\n",
      "\n",
      "📅 Processing year: 2016\n",
      "✅ Saved: ..//results//dataAnalysis//2016//monthly_usage_with_crashes.csv\n",
      "\n",
      "📅 Processing year: 2017\n",
      "✅ Saved: ..//results//dataAnalysis//2017//monthly_usage_with_crashes.csv\n",
      "\n",
      "📅 Processing year: 2018\n",
      "✅ Saved: ..//results//dataAnalysis//2018//monthly_usage_with_crashes.csv\n",
      "\n",
      "📅 Processing year: 2019\n",
      "✅ Saved: ..//results//dataAnalysis//2019//monthly_usage_with_crashes.csv\n",
      "\n",
      "📅 Processing year: 2020\n",
      "✅ Saved: ..//results//dataAnalysis//2020//monthly_usage_with_crashes.csv\n",
      "\n",
      "📅 Processing year: 2021\n",
      "✅ Saved: ..//results//dataAnalysis//2021//monthly_usage_with_crashes.csv\n",
      "\n",
      "📅 Processing year: 2022\n",
      "✅ Saved: ..//results//dataAnalysis//2022//monthly_usage_with_crashes.csv\n",
      "\n",
      "📅 Processing year: 2023\n",
      "✅ Saved: ..//results//dataAnalysis//2023//monthly_usage_with_crashes.csv\n",
      "\n",
      "📅 Processing year: 2024\n",
      "✅ Saved: ..//results//dataAnalysis//2024//monthly_usage_with_crashes.csv\n",
      "\n",
      "📅 Processing year: 2025\n",
      "✅ Saved: ..//results//dataAnalysis//2025//monthly_usage_with_crashes.csv\n"
     ]
    },
    {
     "name": "stderr",
     "output_type": "stream",
     "text": [
      "C:\\Users\\yanhu\\AppData\\Local\\Programs\\Python\\Python310\\lib\\site-packages\\pandas\\core\\reshape\\merge.py:1204: RuntimeWarning: invalid value encountered in cast\n",
      "  if not (lk == lk.astype(rk.dtype))[~np.isnan(lk)].all():\n"
     ]
    }
   ],
   "source": [
    "from data_association import run_for_all_years\n",
    "\n",
    "run_for_all_years()"
   ]
  },
  {
   "cell_type": "code",
   "execution_count": null,
   "id": "0f7fcdde",
   "metadata": {},
   "outputs": [],
   "source": []
  },
  {
   "cell_type": "markdown",
   "id": "07b17ae4",
   "metadata": {},
   "source": [
    "# merge_all_matched_crash_data"
   ]
  },
  {
   "cell_type": "code",
   "execution_count": 3,
   "id": "ef13c092",
   "metadata": {},
   "outputs": [
    {
     "name": "stdout",
     "output_type": "stream",
     "text": [
      "Loading crash data from: ..//results//matched_trips\\matched_trips_2013.csv\n",
      "Loading crash data from: ..//results//matched_trips\\matched_trips_2014.csv\n",
      "Loading crash data from: ..//results//matched_trips\\matched_trips_2015.csv\n",
      "Loading crash data from: ..//results//matched_trips\\matched_trips_2016.csv\n",
      "Loading crash data from: ..//results//matched_trips\\matched_trips_2017.csv\n",
      "Loading crash data from: ..//results//matched_trips\\matched_trips_2018.csv\n",
      "Loading crash data from: ..//results//matched_trips\\matched_trips_2019.csv\n",
      "Loading crash data from: ..//results//matched_trips\\matched_trips_2020.csv\n",
      "Loading crash data from: ..//results//matched_trips\\matched_trips_2021.csv\n",
      "Loading crash data from: ..//results//matched_trips\\matched_trips_2022.csv\n",
      "Loading crash data from: ..//results//matched_trips\\matched_trips_2023.csv\n",
      "Loading crash data from: ..//results//matched_trips\\matched_trips_2024.csv\n",
      "Loading crash data from: ..//results//matched_trips\\matched_trips_2025.csv\n",
      "\n",
      "✅ Combined crash data saved: ..//results//matched_trips//matched_crashes_all\\all_years_matched_crashes.csv\n",
      "   tripduration            starttime             stoptime start_station_id  \\\n",
      "0        1354.0  2013-06-03 17:08:18  2013-06-03 17:30:52              311   \n",
      "1        1525.0  2013-06-05 17:34:04  2013-06-05 17:59:29              352   \n",
      "2         627.0  2013-06-05 18:00:34  2013-06-05 18:11:01              352   \n",
      "3        1154.0  2013-06-06 12:19:17  2013-06-06 12:38:31              152   \n",
      "4         866.0  2013-06-06 18:33:21  2013-06-06 18:47:47              375   \n",
      "\n",
      "          start station name  start station latitude  start station longitude  \\\n",
      "0     Norfolk St & Broome St               40.717227               -73.988021   \n",
      "1            W 56 St & 6 Ave               40.763406               -73.977225   \n",
      "2            W 56 St & 6 Ave               40.763406               -73.977225   \n",
      "3      Warren St & Church St               40.714740               -74.009106   \n",
      "4  Mercer St & Bleecker St S               40.726795               -73.996951   \n",
      "\n",
      "  end_station_id    end station name  end station latitude  ...  \\\n",
      "0          532.0     S 5 Pl & S 5 St             40.710451  ...   \n",
      "1          116.0     W 17 St & 8 Ave             40.741776  ...   \n",
      "2          529.0     W 42 St & 8 Ave             40.757570  ...   \n",
      "3          402.0  Broadway & E 22 St             40.740343  ...   \n",
      "4          477.0     W 41 St & 8 Ave             40.756405  ...   \n",
      "\n",
      "   End Station ID  End Station Name End Station Latitude  \\\n",
      "0             NaN               NaN                  NaN   \n",
      "1             NaN               NaN                  NaN   \n",
      "2             NaN               NaN                  NaN   \n",
      "3             NaN               NaN                  NaN   \n",
      "4             NaN               NaN                  NaN   \n",
      "\n",
      "  End Station Longitude  Bike ID User Type  Birth Year  Gender  ride_id  \\\n",
      "0                   NaN      NaN       NaN         NaN     NaN      NaN   \n",
      "1                   NaN      NaN       NaN         NaN     NaN      NaN   \n",
      "2                   NaN      NaN       NaN         NaN     NaN      NaN   \n",
      "3                   NaN      NaN       NaN         NaN     NaN      NaN   \n",
      "4                   NaN      NaN       NaN         NaN     NaN      NaN   \n",
      "\n",
      "   bike_type  \n",
      "0        NaN  \n",
      "1        NaN  \n",
      "2        NaN  \n",
      "3        NaN  \n",
      "4        NaN  \n",
      "\n",
      "[5 rows x 40 columns]\n"
     ]
    }
   ],
   "source": [
    "from data_association import merge_all_matched_crash_data\n",
    "base_dir = \"..//results//matched_trips\"\n",
    "output_dir =  \"..//results//matched_trips//matched_crashes_all\"\n",
    "merge_all_matched_crash_data(base_dir,output_dir )"
   ]
  },
  {
   "cell_type": "code",
   "execution_count": null,
   "id": "9341b5f3",
   "metadata": {},
   "outputs": [],
   "source": []
  }
 ],
 "metadata": {
  "kernelspec": {
   "display_name": "Python 3 (ipykernel)",
   "language": "python",
   "name": "python3"
  },
  "language_info": {
   "codemirror_mode": {
    "name": "ipython",
    "version": 3
   },
   "file_extension": ".py",
   "mimetype": "text/x-python",
   "name": "python",
   "nbconvert_exporter": "python",
   "pygments_lexer": "ipython3",
   "version": "3.10.2"
  }
 },
 "nbformat": 4,
 "nbformat_minor": 5
}
