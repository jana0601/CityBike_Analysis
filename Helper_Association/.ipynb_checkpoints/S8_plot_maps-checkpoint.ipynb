{
 "cells": [
  {
   "cell_type": "markdown",
   "id": "1c91d49a",
   "metadata": {},
   "source": [
    "# Map for Matched Crashes and All times Bike Involved Crashes"
   ]
  },
  {
   "cell_type": "code",
   "execution_count": 3,
   "id": "aaf80eca",
   "metadata": {},
   "outputs": [],
   "source": [
    "from data_association import create_crash_map\n",
    "import pandas as pd\n",
    "import folium\n",
    "from folium.plugins import MarkerCluster\n",
    "from pathlib import Path"
   ]
  },
  {
   "cell_type": "code",
   "execution_count": 4,
   "id": "53507b97",
   "metadata": {},
   "outputs": [
    {
     "name": "stdout",
     "output_type": "stream",
     "text": [
      "C:\\Users\\yanhu\\Documents\\Python_Notebook\\AXA_task\\Helper\n"
     ]
    },
    {
     "data": {
      "text/plain": [
       "WindowsPath('C:/Users/yanhu/Documents/Python_Notebook/AXA_task/Helper')"
      ]
     },
     "execution_count": 4,
     "metadata": {},
     "output_type": "execute_result"
    }
   ],
   "source": [
    "import os\n",
    "print(os.getcwd())\n",
    "# Get current working directory\n",
    "cwd = Path.cwd()\n",
    "cwd"
   ]
  },
  {
   "cell_type": "code",
   "execution_count": 5,
   "id": "32090bd9",
   "metadata": {},
   "outputs": [
    {
     "name": "stdout",
     "output_type": "stream",
     "text": [
      "✅ Map saved to: ..//results//matched_trips//matched_crashes_all//matched_crashes_map_by_month_and_year.html\n"
     ]
    }
   ],
   "source": [
    "matched_file = \"..//results//matched_trips//matched_crashes_all//all_years_matched_crashes.csv\"\n",
    "matched_df = pd.read_csv(matched_file)\n",
    "#output_file = cwd.parent.parent / \"results\" / \"matched_trips\" / \"matched_crashes_all\" / \"matched_crashes_map_by_month_and_year.html\"\n",
    "output_file = \"..//results//matched_trips//matched_crashes_all//matched_crashes_map_by_month_and_year.html\"\n",
    "\n",
    "create_crash_map(\n",
    "    df=matched_df,\n",
    "    lat_col='CRASH_LATITUDE',\n",
    "    lon_col='CRASH_LONGITUDE',\n",
    "    datetime_col='CRASH_DATETIME',\n",
    "    id_col='matched_crash_id',\n",
    "    output_file=str(output_file)\n",
    ")\n"
   ]
  },
  {
   "cell_type": "code",
   "execution_count": null,
   "id": "bca91474",
   "metadata": {},
   "outputs": [],
   "source": []
  },
  {
   "cell_type": "markdown",
   "id": "f4085f54",
   "metadata": {},
   "source": [
    "# All bike involved  crashes data from NYPD\n"
   ]
  },
  {
   "cell_type": "code",
   "execution_count": 7,
   "id": "2e0b81e8",
   "metadata": {},
   "outputs": [
    {
     "name": "stdout",
     "output_type": "stream",
     "text": [
      "✅ Map saved to: ..//results//matched_trips//matched_crashes_all//All_bike_crash_map_by_time_layers.html\n"
     ]
    }
   ],
   "source": [
    "sorted_file = r\"..\\accident_data\\sorted_bike_crashes.csv\"\n",
    "\n",
    "output_file = \"..//results//matched_trips//matched_crashes_all//All_bike_crash_map_by_time_layers.html\"\n",
    "\n",
    "sorted_df = pd.read_csv(sorted_file)\n",
    "\n",
    "# Ensure datetime column exists\n",
    "sorted_df['CRASH_DATETIME'] = pd.to_datetime(sorted_df['CRASH_DATETIME'], errors='coerce')\n",
    "\n",
    "create_crash_map(\n",
    "    df=sorted_df,\n",
    "    lat_col='LATITUDE',\n",
    "    lon_col='LONGITUDE',\n",
    "    datetime_col='CRASH_DATETIME',\n",
    "    id_col='COLLISION_ID',\n",
    "    output_file=output_file\n",
    ")\n"
   ]
  },
  {
   "cell_type": "code",
   "execution_count": null,
   "id": "81af2545",
   "metadata": {},
   "outputs": [],
   "source": []
  }
 ],
 "metadata": {
  "kernelspec": {
   "display_name": "Python 3 (ipykernel)",
   "language": "python",
   "name": "python3"
  },
  "language_info": {
   "codemirror_mode": {
    "name": "ipython",
    "version": 3
   },
   "file_extension": ".py",
   "mimetype": "text/x-python",
   "name": "python",
   "nbconvert_exporter": "python",
   "pygments_lexer": "ipython3",
   "version": "3.10.2"
  }
 },
 "nbformat": 4,
 "nbformat_minor": 5
}
