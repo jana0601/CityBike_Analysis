{
 "cells": [
  {
   "cell_type": "code",
   "execution_count": 2,
   "id": "59da9a25",
   "metadata": {},
   "outputs": [],
   "source": [
    "# Helper function: convert only if not already datetime\n",
    "def safe_convert_to_datetime(series):\n",
    "    if not pd.api.types.is_datetime64_any_dtype(series):\n",
    "        # Clean multiple spaces, strip whitespace\n",
    "        series = series.astype(str).str.replace(r\"\\s+\", \" \", regex=True).str.strip()\n",
    "        return pd.to_datetime(series, errors='coerce', infer_datetime_format=True)\n",
    "    return series\n",
    "\n",
    "# === Step 2: Normalize different schemas to common format ===\n",
    "def normalize_columns(df):\n",
    "    col_map = {\n",
    "        # Time columns\n",
    "        'starttime': 'starttime',\n",
    "        'Start Time': 'starttime',\n",
    "        'started_at': 'starttime',\n",
    "\n",
    "        'stoptime': 'stoptime',\n",
    "        'Stop Time': 'stoptime',\n",
    "        'ended_at': 'stoptime',\n",
    "\n",
    "        # Optional: unify naming for trip duration or other fields\n",
    "        'tripduration': 'tripduration',\n",
    "        'Trip Duration': 'tripduration',\n",
    "\n",
    "        # User type\n",
    "        'usertype': 'usertype',\n",
    "        'User Type': 'usertype',\n",
    "        'member_casual': 'usertype',\n",
    "\n",
    "        # Start station ID\n",
    "        'start station id': 'start_station_id',\n",
    "        'Start Station ID': 'start_station_id',\n",
    "        'start_station_id': 'start_station_id',\n",
    "\n",
    "        # End station ID\n",
    "        'end station id': 'end_station_id',\n",
    "        'End Station ID': 'end_station_id',\n",
    "        'end_station_id': 'end_station_id',\n",
    "\n",
    "        # Optional: bike id\n",
    "        'bikeid': 'bike_id',\n",
    "        'Bike ID': 'bike_id',\n",
    "\n",
    "        # Ride ID (Divvy)\n",
    "        'ride_id': 'ride_id',\n",
    "        'rideable_type': 'rideable_type',\n",
    "        \n",
    "        'start station name': 'start station name' ,\n",
    "        'start_station_name': 'start station name' ,\n",
    "        'end station name':  'end station name',\n",
    "        'end_station_name':  'end station name',\n",
    "        \n",
    "        'end station latitude': 'end station latitude',\n",
    "        'end_lat':'end station latitude',\n",
    "        'end station longitude': 'end station longitude',\n",
    "        'end_lng':'end station longitude',\n",
    "        \n",
    "        \n",
    "        \n",
    "        'bike_type': 'bike_type',\n",
    "        'rideable_type': 'bike_type',\n",
    "        \n",
    "        'start station latitude': 'start station latitude',\n",
    "        'start_lat':'start station latitude',\n",
    "        'start station longitude': 'start station longitude',\n",
    "        'start_lng':'start station longitude'\n",
    "\n",
    "        \n",
    "    }\n",
    "\n",
    "    # Rename columns based on known mappings\n",
    "    df = df.rename(columns={k: v for k, v in col_map.items() if k in df.columns})\n",
    "\n",
    "    return df\n"
   ]
  },
  {
   "cell_type": "code",
   "execution_count": 3,
   "id": "a4f2c784",
   "metadata": {},
   "outputs": [
    {
     "name": "stdout",
     "output_type": "stream",
     "text": [
      "\n",
      "📁 Found 17 CSV files in ..//extracted_tripdata4\\2013\n",
      "  📖 Reading: ..//extracted_tripdata4\\2013\\201306-citibike-tripdata.csv\n",
      "  📖 Reading: ..//extracted_tripdata4\\2013\\201306-citibike-tripdata_1.csv\n",
      "  📖 Reading: ..//extracted_tripdata4\\2013\\201307-citibike-tripdata.csv\n",
      "  📖 Reading: ..//extracted_tripdata4\\2013\\201307-citibike-tripdata_1.csv\n",
      "  📖 Reading: ..//extracted_tripdata4\\2013\\201308-citibike-tripdata.csv\n",
      "  📖 Reading: ..//extracted_tripdata4\\2013\\201308-citibike-tripdata_1.csv\n",
      "  📖 Reading: ..//extracted_tripdata4\\2013\\201308-citibike-tripdata_2.csv\n",
      "  📖 Reading: ..//extracted_tripdata4\\2013\\201309-citibike-tripdata.csv\n",
      "  📖 Reading: ..//extracted_tripdata4\\2013\\201309-citibike-tripdata_1.csv\n",
      "  📖 Reading: ..//extracted_tripdata4\\2013\\201309-citibike-tripdata_2.csv\n",
      "  📖 Reading: ..//extracted_tripdata4\\2013\\201310-citibike-tripdata.csv\n",
      "  📖 Reading: ..//extracted_tripdata4\\2013\\201310-citibike-tripdata_1.csv\n",
      "  📖 Reading: ..//extracted_tripdata4\\2013\\201310-citibike-tripdata_2.csv\n",
      "  📖 Reading: ..//extracted_tripdata4\\2013\\201311-citibike-tripdata.csv\n",
      "  📖 Reading: ..//extracted_tripdata4\\2013\\201311-citibike-tripdata_1.csv\n",
      "  📖 Reading: ..//extracted_tripdata4\\2013\\201312-citibike-tripdata.csv\n",
      "  📖 Reading: ..//extracted_tripdata4\\2013\\201312-citibike-tripdata_1.csv\n",
      "Original rows: 11229776\n",
      "  ✅ Merged CSV saved to: ..//merged_tripdata3\\2013_merged.csv\n",
      "\n",
      "📁 Found 12 CSV files in ..//extracted_tripdata4\\2014\n",
      "  📖 Reading: ..//extracted_tripdata4\\2014\\201401-citibike-tripdata_1.csv\n",
      "  📖 Reading: ..//extracted_tripdata4\\2014\\201402-citibike-tripdata_1.csv\n",
      "  📖 Reading: ..//extracted_tripdata4\\2014\\201403-citibike-tripdata_1.csv\n",
      "  📖 Reading: ..//extracted_tripdata4\\2014\\201404-citibike-tripdata_1.csv\n",
      "  📖 Reading: ..//extracted_tripdata4\\2014\\201405-citibike-tripdata_1.csv\n",
      "  📖 Reading: ..//extracted_tripdata4\\2014\\201406-citibike-tripdata_1.csv\n",
      "  📖 Reading: ..//extracted_tripdata4\\2014\\201407-citibike-tripdata_1.csv\n",
      "  📖 Reading: ..//extracted_tripdata4\\2014\\201408-citibike-tripdata_1.csv\n",
      "  📖 Reading: ..//extracted_tripdata4\\2014\\201409-citibike-tripdata_1.csv\n",
      "  📖 Reading: ..//extracted_tripdata4\\2014\\201410-citibike-tripdata_1.csv\n",
      "  📖 Reading: ..//extracted_tripdata4\\2014\\201411-citibike-tripdata_1.csv\n",
      "  📖 Reading: ..//extracted_tripdata4\\2014\\201412-citibike-tripdata_1.csv\n",
      "Original rows: 8081216\n",
      "  ✅ Merged CSV saved to: ..//merged_tripdata3\\2014_merged.csv\n",
      "\n",
      "📁 Found 20 CSV files in ..//extracted_tripdata4\\2015\n",
      "  📖 Reading: ..//extracted_tripdata4\\2015\\201501-citibike-tripdata_1.csv\n",
      "  📖 Reading: ..//extracted_tripdata4\\2015\\201502-citibike-tripdata_1.csv\n",
      "  📖 Reading: ..//extracted_tripdata4\\2015\\201503-citibike-tripdata_1.csv\n",
      "  📖 Reading: ..//extracted_tripdata4\\2015\\201504-citibike-tripdata_1.csv\n",
      "  📖 Reading: ..//extracted_tripdata4\\2015\\201505-citibike-tripdata_1.csv\n",
      "  📖 Reading: ..//extracted_tripdata4\\2015\\201506-citibike-tripdata_1.csv\n",
      "  📖 Reading: ..//extracted_tripdata4\\2015\\201507-citibike-tripdata_1.csv\n",
      "  📖 Reading: ..//extracted_tripdata4\\2015\\201507-citibike-tripdata_2.csv\n",
      "  📖 Reading: ..//extracted_tripdata4\\2015\\201508-citibike-tripdata_1.csv\n",
      "  📖 Reading: ..//extracted_tripdata4\\2015\\201508-citibike-tripdata_2.csv\n",
      "  📖 Reading: ..//extracted_tripdata4\\2015\\201509-citibike-tripdata_1.csv\n",
      "  📖 Reading: ..//extracted_tripdata4\\2015\\201509-citibike-tripdata_2.csv\n",
      "  📖 Reading: ..//extracted_tripdata4\\2015\\201510-citibike-tripdata_1.csv\n",
      "  📖 Reading: ..//extracted_tripdata4\\2015\\201510-citibike-tripdata_2.csv\n",
      "  📖 Reading: ..//extracted_tripdata4\\2015\\201511-citibike-tripdata_1.csv\n",
      "  📖 Reading: ..//extracted_tripdata4\\2015\\201512-citibike-tripdata_1.csv\n",
      "  📖 Reading: ..//extracted_tripdata4\\2015\\JC-201509-citibike-tripdata.csv\n",
      "  📖 Reading: ..//extracted_tripdata4\\2015\\JC-201510-citibike-tripdata.csv\n",
      "  📖 Reading: ..//extracted_tripdata4\\2015\\JC-201511-citibike-tripdata.csv\n",
      "  📖 Reading: ..//extracted_tripdata4\\2015\\JC-201512-citibike-tripdata.csv\n",
      "Original rows: 9990852\n",
      "  ✅ Merged CSV saved to: ..//merged_tripdata3\\2015_merged.csv\n",
      "\n",
      "📁 Found 32 CSV files in ..//extracted_tripdata4\\2016\n",
      "  📖 Reading: ..//extracted_tripdata4\\2016\\201601-citibike-tripdata_1.csv\n",
      "  📖 Reading: ..//extracted_tripdata4\\2016\\201602-citibike-tripdata_1.csv\n",
      "  📖 Reading: ..//extracted_tripdata4\\2016\\201603-citibike-tripdata_1.csv\n",
      "  📖 Reading: ..//extracted_tripdata4\\2016\\201604-citibike-tripdata_1.csv\n",
      "  📖 Reading: ..//extracted_tripdata4\\2016\\201604-citibike-tripdata_2.csv\n",
      "  📖 Reading: ..//extracted_tripdata4\\2016\\201605-citibike-tripdata_1.csv\n",
      "  📖 Reading: ..//extracted_tripdata4\\2016\\201605-citibike-tripdata_2.csv\n",
      "  📖 Reading: ..//extracted_tripdata4\\2016\\201606-citibike-tripdata_1.csv\n",
      "  📖 Reading: ..//extracted_tripdata4\\2016\\201606-citibike-tripdata_2.csv\n",
      "  📖 Reading: ..//extracted_tripdata4\\2016\\201607-citibike-tripdata_1.csv\n",
      "  📖 Reading: ..//extracted_tripdata4\\2016\\201607-citibike-tripdata_2.csv\n",
      "  📖 Reading: ..//extracted_tripdata4\\2016\\201608-citibike-tripdata_1.csv\n",
      "  📖 Reading: ..//extracted_tripdata4\\2016\\201608-citibike-tripdata_2.csv\n",
      "  📖 Reading: ..//extracted_tripdata4\\2016\\201609-citibike-tripdata_1.csv\n",
      "  📖 Reading: ..//extracted_tripdata4\\2016\\201609-citibike-tripdata_2.csv\n",
      "  📖 Reading: ..//extracted_tripdata4\\2016\\201610-citibike-tripdata_1.csv\n",
      "  📖 Reading: ..//extracted_tripdata4\\2016\\201610-citibike-tripdata_2.csv\n",
      "  📖 Reading: ..//extracted_tripdata4\\2016\\201611-citibike-tripdata_1.csv\n",
      "  📖 Reading: ..//extracted_tripdata4\\2016\\201611-citibike-tripdata_2.csv\n",
      "  📖 Reading: ..//extracted_tripdata4\\2016\\201612-citibike-tripdata_1.csv\n",
      "  📖 Reading: ..//extracted_tripdata4\\2016\\JC-201604-citibike-tripdata.csv\n",
      "  📖 Reading: ..//extracted_tripdata4\\2016\\JC-201605-citibike-tripdata.csv\n",
      "  📖 Reading: ..//extracted_tripdata4\\2016\\JC-201606-citibike-tripdata.csv\n",
      "  📖 Reading: ..//extracted_tripdata4\\2016\\JC-201607-citibike-tripdata.csv\n",
      "  📖 Reading: ..//extracted_tripdata4\\2016\\JC-201608-citibike-tripdata.csv\n",
      "  📖 Reading: ..//extracted_tripdata4\\2016\\JC-201609-citibike-tripdata.csv\n",
      "  📖 Reading: ..//extracted_tripdata4\\2016\\JC-20161-citibike-tripdata.csv\n",
      "  📖 Reading: ..//extracted_tripdata4\\2016\\JC-201610-citibike-tripdata.csv\n",
      "  📖 Reading: ..//extracted_tripdata4\\2016\\JC-201611-citibike-tripdata.csv\n",
      "  📖 Reading: ..//extracted_tripdata4\\2016\\JC-201612-citibike-tripdata.csv\n",
      "  📖 Reading: ..//extracted_tripdata4\\2016\\JC-20162-citibike-tripdata.csv\n",
      "  📖 Reading: ..//extracted_tripdata4\\2016\\JC-20163-citibike-tripdata.csv\n",
      "Original rows: 14093239\n",
      "  ✅ Merged CSV saved to: ..//merged_tripdata3\\2016_merged.csv\n",
      "\n",
      "📁 Found 32 CSV files in ..//extracted_tripdata4\\2017\n",
      "  📖 Reading: ..//extracted_tripdata4\\2017\\201701-citibike-tripdata.csv_1.csv\n",
      "  📖 Reading: ..//extracted_tripdata4\\2017\\201702-citibike-tripdata.csv_1.csv\n",
      "  📖 Reading: ..//extracted_tripdata4\\2017\\201703-citibike-tripdata.csv_1.csv\n",
      "  📖 Reading: ..//extracted_tripdata4\\2017\\201704-citibike-tripdata.csv_1.csv\n",
      "  📖 Reading: ..//extracted_tripdata4\\2017\\201704-citibike-tripdata.csv_2.csv\n",
      "  📖 Reading: ..//extracted_tripdata4\\2017\\201705-citibike-tripdata.csv_1.csv\n",
      "  📖 Reading: ..//extracted_tripdata4\\2017\\201705-citibike-tripdata.csv_2.csv\n",
      "  📖 Reading: ..//extracted_tripdata4\\2017\\201706-citibike-tripdata.csv_1.csv\n",
      "  📖 Reading: ..//extracted_tripdata4\\2017\\201706-citibike-tripdata.csv_2.csv\n",
      "  📖 Reading: ..//extracted_tripdata4\\2017\\201707-citibike-tripdata.csv_1.csv\n",
      "  📖 Reading: ..//extracted_tripdata4\\2017\\201707-citibike-tripdata.csv_2.csv\n",
      "  📖 Reading: ..//extracted_tripdata4\\2017\\201708-citibike-tripdata.csv_1.csv\n",
      "  📖 Reading: ..//extracted_tripdata4\\2017\\201708-citibike-tripdata.csv_2.csv\n",
      "  📖 Reading: ..//extracted_tripdata4\\2017\\201709-citibike-tripdata.csv_1.csv\n",
      "  📖 Reading: ..//extracted_tripdata4\\2017\\201709-citibike-tripdata.csv_2.csv\n",
      "  📖 Reading: ..//extracted_tripdata4\\2017\\201710-citibike-tripdata.csv_1.csv\n",
      "  📖 Reading: ..//extracted_tripdata4\\2017\\201710-citibike-tripdata.csv_2.csv\n",
      "  📖 Reading: ..//extracted_tripdata4\\2017\\201711-citibike-tripdata.csv_1.csv\n",
      "  📖 Reading: ..//extracted_tripdata4\\2017\\201711-citibike-tripdata.csv_2.csv\n",
      "  📖 Reading: ..//extracted_tripdata4\\2017\\201712-citibike-tripdata.csv_1.csv\n",
      "  📖 Reading: ..//extracted_tripdata4\\2017\\JC-201701-citibike-tripdata.csv\n"
     ]
    },
    {
     "name": "stdout",
     "output_type": "stream",
     "text": [
      "  📖 Reading: ..//extracted_tripdata4\\2017\\JC-201702-citibike-tripdata.csv\n",
      "  📖 Reading: ..//extracted_tripdata4\\2017\\JC-201703-citibike-tripdata.csv\n",
      "  📖 Reading: ..//extracted_tripdata4\\2017\\JC-201704-citibike-tripdata.csv\n",
      "  📖 Reading: ..//extracted_tripdata4\\2017\\JC-201705-citibike-tripdata.csv\n",
      "  📖 Reading: ..//extracted_tripdata4\\2017\\JC-201706-citibike-tripdata.csv\n",
      "  📖 Reading: ..//extracted_tripdata4\\2017\\JC-201707-citibike-tripdata.csv\n",
      "  📖 Reading: ..//extracted_tripdata4\\2017\\JC-201708 citibike-tripdata.csv\n",
      "  📖 Reading: ..//extracted_tripdata4\\2017\\JC-201709-citibike-tripdata.csv\n",
      "  📖 Reading: ..//extracted_tripdata4\\2017\\JC-201710-citibike-tripdata.csv\n",
      "  📖 Reading: ..//extracted_tripdata4\\2017\\JC-201711-citibike-tripdata.csv\n",
      "  📖 Reading: ..//extracted_tripdata4\\2017\\JC-201712-citibike-tripdata.csv\n",
      "Original rows: 16659585\n",
      "  ✅ Merged CSV saved to: ..//merged_tripdata3\\2017_merged.csv\n",
      "\n",
      "📁 Found 45 CSV files in ..//extracted_tripdata4\\2018\n",
      "  📖 Reading: ..//extracted_tripdata4\\2018\\201801-citibike-tripdata.csv\n",
      "  📖 Reading: ..//extracted_tripdata4\\2018\\201801-citibike-tripdata_1.csv\n",
      "  📖 Reading: ..//extracted_tripdata4\\2018\\201802-citibike-tripdata.csv\n",
      "  📖 Reading: ..//extracted_tripdata4\\2018\\201802-citibike-tripdata_1.csv\n",
      "  📖 Reading: ..//extracted_tripdata4\\2018\\201803-citibike-tripdata.csv\n",
      "  📖 Reading: ..//extracted_tripdata4\\2018\\201803-citibike-tripdata_1.csv\n",
      "  📖 Reading: ..//extracted_tripdata4\\2018\\201804-citibike-tripdata.csv\n",
      "  📖 Reading: ..//extracted_tripdata4\\2018\\201804-citibike-tripdata_1.csv\n",
      "  📖 Reading: ..//extracted_tripdata4\\2018\\201804-citibike-tripdata_2.csv\n",
      "  📖 Reading: ..//extracted_tripdata4\\2018\\201805-citibike-tripdata.csv\n",
      "  📖 Reading: ..//extracted_tripdata4\\2018\\201805-citibike-tripdata_1.csv\n",
      "  📖 Reading: ..//extracted_tripdata4\\2018\\201805-citibike-tripdata_2.csv\n",
      "  📖 Reading: ..//extracted_tripdata4\\2018\\201806-citibike-tripdata.csv\n",
      "  📖 Reading: ..//extracted_tripdata4\\2018\\201806-citibike-tripdata_1.csv\n",
      "  📖 Reading: ..//extracted_tripdata4\\2018\\201806-citibike-tripdata_2.csv\n",
      "  📖 Reading: ..//extracted_tripdata4\\2018\\201807-citibike-tripdata.csv\n",
      "  📖 Reading: ..//extracted_tripdata4\\2018\\201807-citibike-tripdata_1.csv\n",
      "  📖 Reading: ..//extracted_tripdata4\\2018\\201807-citibike-tripdata_2.csv\n",
      "  📖 Reading: ..//extracted_tripdata4\\2018\\201808-citibike-tripdata.csv\n",
      "  📖 Reading: ..//extracted_tripdata4\\2018\\201808-citibike-tripdata_1.csv\n",
      "  📖 Reading: ..//extracted_tripdata4\\2018\\201808-citibike-tripdata_2.csv\n",
      "  📖 Reading: ..//extracted_tripdata4\\2018\\201809-citibike-tripdata.csv\n",
      "  📖 Reading: ..//extracted_tripdata4\\2018\\201809-citibike-tripdata_1.csv\n",
      "  📖 Reading: ..//extracted_tripdata4\\2018\\201809-citibike-tripdata_2.csv\n",
      "  📖 Reading: ..//extracted_tripdata4\\2018\\201810-citibike-tripdata.csv\n",
      "  📖 Reading: ..//extracted_tripdata4\\2018\\201810-citibike-tripdata_1.csv\n",
      "  📖 Reading: ..//extracted_tripdata4\\2018\\201810-citibike-tripdata_2.csv\n",
      "  📖 Reading: ..//extracted_tripdata4\\2018\\201811-citibike-tripdata.csv\n",
      "  📖 Reading: ..//extracted_tripdata4\\2018\\201811-citibike-tripdata_1.csv\n",
      "  📖 Reading: ..//extracted_tripdata4\\2018\\201811-citibike-tripdata_2.csv\n",
      "  📖 Reading: ..//extracted_tripdata4\\2018\\201812-citibike-tripdata.csv\n",
      "  📖 Reading: ..//extracted_tripdata4\\2018\\201812-citibike-tripdata_1.csv\n",
      "  📖 Reading: ..//extracted_tripdata4\\2018\\201812-citibike-tripdata_2.csv\n",
      "  📖 Reading: ..//extracted_tripdata4\\2018\\JC-201801-citibike-tripdata.csv\n",
      "  📖 Reading: ..//extracted_tripdata4\\2018\\JC-201802-citibike-tripdata.csv\n",
      "  📖 Reading: ..//extracted_tripdata4\\2018\\JC-201803-citibike-tripdata.csv\n",
      "  📖 Reading: ..//extracted_tripdata4\\2018\\JC-201804-citibike-tripdata.csv\n",
      "  📖 Reading: ..//extracted_tripdata4\\2018\\JC-201805-citibike-tripdata.csv\n",
      "  📖 Reading: ..//extracted_tripdata4\\2018\\JC-201806-citibike-tripdata.csv\n",
      "  📖 Reading: ..//extracted_tripdata4\\2018\\JC-201807-citibike-tripdata.csv\n",
      "  📖 Reading: ..//extracted_tripdata4\\2018\\JC-201808-citibike-tripdata.csv\n",
      "  📖 Reading: ..//extracted_tripdata4\\2018\\JC-201809-citibike-tripdata.csv\n",
      "  📖 Reading: ..//extracted_tripdata4\\2018\\JC-201810-citibike-tripdata.csv\n",
      "  📖 Reading: ..//extracted_tripdata4\\2018\\JC-201811-citibike-tripdata.csv\n",
      "  📖 Reading: ..//extracted_tripdata4\\2018\\JC-201812-citibike-tripdata.csv\n",
      "Original rows: 35450570\n",
      "  ✅ Merged CSV saved to: ..//merged_tripdata3\\2018_merged.csv\n",
      "\n",
      "📁 Found 38 CSV files in ..//extracted_tripdata4\\2019\n",
      "  📖 Reading: ..//extracted_tripdata4\\2019\\201901-citibike-tripdata_1.csv\n",
      "  📖 Reading: ..//extracted_tripdata4\\2019\\201902-citibike-tripdata_1.csv\n",
      "  📖 Reading: ..//extracted_tripdata4\\2019\\201903-citibike-tripdata_1.csv\n",
      "  📖 Reading: ..//extracted_tripdata4\\2019\\201903-citibike-tripdata_2.csv\n",
      "  📖 Reading: ..//extracted_tripdata4\\2019\\201904-citibike-tripdata_1.csv\n",
      "  📖 Reading: ..//extracted_tripdata4\\2019\\201904-citibike-tripdata_2.csv\n",
      "  📖 Reading: ..//extracted_tripdata4\\2019\\201905-citibike-tripdata_1.csv\n",
      "  📖 Reading: ..//extracted_tripdata4\\2019\\201905-citibike-tripdata_2.csv\n",
      "  📖 Reading: ..//extracted_tripdata4\\2019\\201906-citibike-tripdata_1.csv\n",
      "  📖 Reading: ..//extracted_tripdata4\\2019\\201906-citibike-tripdata_2.csv\n",
      "  📖 Reading: ..//extracted_tripdata4\\2019\\201906-citibike-tripdata_3.csv\n",
      "  📖 Reading: ..//extracted_tripdata4\\2019\\201907-citibike-tripdata_1.csv\n",
      "  📖 Reading: ..//extracted_tripdata4\\2019\\201907-citibike-tripdata_2.csv\n",
      "  📖 Reading: ..//extracted_tripdata4\\2019\\201907-citibike-tripdata_3.csv\n",
      "  📖 Reading: ..//extracted_tripdata4\\2019\\201908-citibike-tripdata_1.csv\n",
      "  📖 Reading: ..//extracted_tripdata4\\2019\\201908-citibike-tripdata_2.csv\n",
      "  📖 Reading: ..//extracted_tripdata4\\2019\\201908-citibike-tripdata_3.csv\n",
      "  📖 Reading: ..//extracted_tripdata4\\2019\\201909-citibike-tripdata_1.csv\n",
      "  📖 Reading: ..//extracted_tripdata4\\2019\\201909-citibike-tripdata_2.csv\n",
      "  📖 Reading: ..//extracted_tripdata4\\2019\\201909-citibike-tripdata_3.csv\n",
      "  📖 Reading: ..//extracted_tripdata4\\2019\\201910-citibike-tripdata_1.csv\n",
      "  📖 Reading: ..//extracted_tripdata4\\2019\\201910-citibike-tripdata_2.csv\n",
      "  📖 Reading: ..//extracted_tripdata4\\2019\\201910-citibike-tripdata_3.csv\n",
      "  📖 Reading: ..//extracted_tripdata4\\2019\\201911-citibike-tripdata_1.csv\n",
      "  📖 Reading: ..//extracted_tripdata4\\2019\\201911-citibike-tripdata_2.csv\n",
      "  📖 Reading: ..//extracted_tripdata4\\2019\\201912-citibike-tripdata_1.csv\n",
      "  📖 Reading: ..//extracted_tripdata4\\2019\\JC-201901-citibike-tripdata.csv\n",
      "  📖 Reading: ..//extracted_tripdata4\\2019\\JC-201902-citibike-tripdata.csv\n",
      "  📖 Reading: ..//extracted_tripdata4\\2019\\JC-201903-citibike-tripdata.csv\n",
      "  📖 Reading: ..//extracted_tripdata4\\2019\\JC-201904-citibike-tripdata.csv\n",
      "  📖 Reading: ..//extracted_tripdata4\\2019\\JC-201905-citibike-tripdata.csv\n",
      "  📖 Reading: ..//extracted_tripdata4\\2019\\JC-201906-citibike-tripdata.csv\n",
      "  📖 Reading: ..//extracted_tripdata4\\2019\\JC-201907-citibike-tripdata.csv\n",
      "  📖 Reading: ..//extracted_tripdata4\\2019\\JC-201908-citibike-tripdata.csv\n",
      "  📖 Reading: ..//extracted_tripdata4\\2019\\JC-201909-citibike-tripdata.csv\n",
      "  📖 Reading: ..//extracted_tripdata4\\2019\\JC-201910-citibike-tripdata.csv\n",
      "  📖 Reading: ..//extracted_tripdata4\\2019\\JC-201911-citibike-tripdata.csv\n",
      "  📖 Reading: ..//extracted_tripdata4\\2019\\JC-201912-citibike-tripdata.csv\n",
      "Original rows: 20956644\n",
      "  ✅ Merged CSV saved to: ..//merged_tripdata3\\2019_merged.csv\n",
      "\n",
      "📁 Found 39 CSV files in ..//extracted_tripdata4\\2020\n",
      "  📖 Reading: ..//extracted_tripdata4\\2020\\202001-citibike-tripdata_1.csv\n"
     ]
    },
    {
     "name": "stderr",
     "output_type": "stream",
     "text": [
      "C:\\Users\\yanhu\\AppData\\Local\\Temp\\ipykernel_17936\\1067256146.py:17: DtypeWarning: Columns (5,7) have mixed types. Specify dtype option on import or set low_memory=False.\n",
      "  df = pd.read_csv(file)\n"
     ]
    },
    {
     "name": "stdout",
     "output_type": "stream",
     "text": [
      "  📖 Reading: ..//extracted_tripdata4\\2020\\202001-citibike-tripdata_2.csv\n"
     ]
    },
    {
     "name": "stderr",
     "output_type": "stream",
     "text": [
      "C:\\Users\\yanhu\\AppData\\Local\\Temp\\ipykernel_17936\\1067256146.py:17: DtypeWarning: Columns (5,7) have mixed types. Specify dtype option on import or set low_memory=False.\n",
      "  df = pd.read_csv(file)\n"
     ]
    },
    {
     "name": "stdout",
     "output_type": "stream",
     "text": [
      "  📖 Reading: ..//extracted_tripdata4\\2020\\202002-citibike-tripdata_1.csv\n"
     ]
    },
    {
     "name": "stderr",
     "output_type": "stream",
     "text": [
      "C:\\Users\\yanhu\\AppData\\Local\\Temp\\ipykernel_17936\\1067256146.py:17: DtypeWarning: Columns (5,7) have mixed types. Specify dtype option on import or set low_memory=False.\n",
      "  df = pd.read_csv(file)\n"
     ]
    },
    {
     "name": "stdout",
     "output_type": "stream",
     "text": [
      "  📖 Reading: ..//extracted_tripdata4\\2020\\202002-citibike-tripdata_2.csv\n"
     ]
    },
    {
     "name": "stderr",
     "output_type": "stream",
     "text": [
      "C:\\Users\\yanhu\\AppData\\Local\\Temp\\ipykernel_17936\\1067256146.py:17: DtypeWarning: Columns (5) have mixed types. Specify dtype option on import or set low_memory=False.\n",
      "  df = pd.read_csv(file)\n"
     ]
    },
    {
     "name": "stdout",
     "output_type": "stream",
     "text": [
      "  📖 Reading: ..//extracted_tripdata4\\2020\\202003-citibike-tripdata_1.csv\n"
     ]
    },
    {
     "name": "stderr",
     "output_type": "stream",
     "text": [
      "C:\\Users\\yanhu\\AppData\\Local\\Temp\\ipykernel_17936\\1067256146.py:17: DtypeWarning: Columns (7) have mixed types. Specify dtype option on import or set low_memory=False.\n",
      "  df = pd.read_csv(file)\n"
     ]
    },
    {
     "name": "stdout",
     "output_type": "stream",
     "text": [
      "  📖 Reading: ..//extracted_tripdata4\\2020\\202003-citibike-tripdata_2.csv\n"
     ]
    },
    {
     "name": "stderr",
     "output_type": "stream",
     "text": [
      "C:\\Users\\yanhu\\AppData\\Local\\Temp\\ipykernel_17936\\1067256146.py:17: DtypeWarning: Columns (5,7) have mixed types. Specify dtype option on import or set low_memory=False.\n",
      "  df = pd.read_csv(file)\n"
     ]
    },
    {
     "name": "stdout",
     "output_type": "stream",
     "text": [
      "  📖 Reading: ..//extracted_tripdata4\\2020\\202004-citibike-tripdata_1.csv\n"
     ]
    },
    {
     "name": "stderr",
     "output_type": "stream",
     "text": [
      "C:\\Users\\yanhu\\AppData\\Local\\Temp\\ipykernel_17936\\1067256146.py:17: DtypeWarning: Columns (5,7) have mixed types. Specify dtype option on import or set low_memory=False.\n",
      "  df = pd.read_csv(file)\n"
     ]
    },
    {
     "name": "stdout",
     "output_type": "stream",
     "text": [
      "  📖 Reading: ..//extracted_tripdata4\\2020\\202005-citibike-tripdata_1.csv\n"
     ]
    },
    {
     "name": "stderr",
     "output_type": "stream",
     "text": [
      "C:\\Users\\yanhu\\AppData\\Local\\Temp\\ipykernel_17936\\1067256146.py:17: DtypeWarning: Columns (5,7) have mixed types. Specify dtype option on import or set low_memory=False.\n",
      "  df = pd.read_csv(file)\n"
     ]
    },
    {
     "name": "stdout",
     "output_type": "stream",
     "text": [
      "  📖 Reading: ..//extracted_tripdata4\\2020\\202005-citibike-tripdata_2.csv\n"
     ]
    },
    {
     "name": "stderr",
     "output_type": "stream",
     "text": [
      "C:\\Users\\yanhu\\AppData\\Local\\Temp\\ipykernel_17936\\1067256146.py:17: DtypeWarning: Columns (5,7) have mixed types. Specify dtype option on import or set low_memory=False.\n",
      "  df = pd.read_csv(file)\n"
     ]
    },
    {
     "name": "stdout",
     "output_type": "stream",
     "text": [
      "  📖 Reading: ..//extracted_tripdata4\\2020\\202006-citibike-tripdata_1.csv\n"
     ]
    },
    {
     "name": "stderr",
     "output_type": "stream",
     "text": [
      "C:\\Users\\yanhu\\AppData\\Local\\Temp\\ipykernel_17936\\1067256146.py:17: DtypeWarning: Columns (5,7) have mixed types. Specify dtype option on import or set low_memory=False.\n",
      "  df = pd.read_csv(file)\n"
     ]
    },
    {
     "name": "stdout",
     "output_type": "stream",
     "text": [
      "  📖 Reading: ..//extracted_tripdata4\\2020\\202006-citibike-tripdata_2.csv\n"
     ]
    },
    {
     "name": "stderr",
     "output_type": "stream",
     "text": [
      "C:\\Users\\yanhu\\AppData\\Local\\Temp\\ipykernel_17936\\1067256146.py:17: DtypeWarning: Columns (5,7) have mixed types. Specify dtype option on import or set low_memory=False.\n",
      "  df = pd.read_csv(file)\n"
     ]
    },
    {
     "name": "stdout",
     "output_type": "stream",
     "text": [
      "  📖 Reading: ..//extracted_tripdata4\\2020\\202007-citibike-tripdata_1.csv\n"
     ]
    },
    {
     "name": "stderr",
     "output_type": "stream",
     "text": [
      "C:\\Users\\yanhu\\AppData\\Local\\Temp\\ipykernel_17936\\1067256146.py:17: DtypeWarning: Columns (5,7) have mixed types. Specify dtype option on import or set low_memory=False.\n",
      "  df = pd.read_csv(file)\n"
     ]
    },
    {
     "name": "stdout",
     "output_type": "stream",
     "text": [
      "  📖 Reading: ..//extracted_tripdata4\\2020\\202007-citibike-tripdata_2.csv\n"
     ]
    },
    {
     "name": "stderr",
     "output_type": "stream",
     "text": [
      "C:\\Users\\yanhu\\AppData\\Local\\Temp\\ipykernel_17936\\1067256146.py:17: DtypeWarning: Columns (5,7) have mixed types. Specify dtype option on import or set low_memory=False.\n",
      "  df = pd.read_csv(file)\n"
     ]
    },
    {
     "name": "stdout",
     "output_type": "stream",
     "text": [
      "  📖 Reading: ..//extracted_tripdata4\\2020\\202007-citibike-tripdata_3.csv\n"
     ]
    },
    {
     "name": "stderr",
     "output_type": "stream",
     "text": [
      "C:\\Users\\yanhu\\AppData\\Local\\Temp\\ipykernel_17936\\1067256146.py:17: DtypeWarning: Columns (7) have mixed types. Specify dtype option on import or set low_memory=False.\n",
      "  df = pd.read_csv(file)\n"
     ]
    },
    {
     "name": "stdout",
     "output_type": "stream",
     "text": [
      "  📖 Reading: ..//extracted_tripdata4\\2020\\202008-citibike-tripdata_1.csv\n"
     ]
    },
    {
     "name": "stderr",
     "output_type": "stream",
     "text": [
      "C:\\Users\\yanhu\\AppData\\Local\\Temp\\ipykernel_17936\\1067256146.py:17: DtypeWarning: Columns (5,7) have mixed types. Specify dtype option on import or set low_memory=False.\n",
      "  df = pd.read_csv(file)\n"
     ]
    },
    {
     "name": "stdout",
     "output_type": "stream",
     "text": [
      "  📖 Reading: ..//extracted_tripdata4\\2020\\202008-citibike-tripdata_2.csv\n"
     ]
    },
    {
     "name": "stderr",
     "output_type": "stream",
     "text": [
      "C:\\Users\\yanhu\\AppData\\Local\\Temp\\ipykernel_17936\\1067256146.py:17: DtypeWarning: Columns (5,7) have mixed types. Specify dtype option on import or set low_memory=False.\n",
      "  df = pd.read_csv(file)\n"
     ]
    },
    {
     "name": "stdout",
     "output_type": "stream",
     "text": [
      "  📖 Reading: ..//extracted_tripdata4\\2020\\202008-citibike-tripdata_3.csv\n"
     ]
    },
    {
     "name": "stderr",
     "output_type": "stream",
     "text": [
      "C:\\Users\\yanhu\\AppData\\Local\\Temp\\ipykernel_17936\\1067256146.py:17: DtypeWarning: Columns (5,7) have mixed types. Specify dtype option on import or set low_memory=False.\n",
      "  df = pd.read_csv(file)\n"
     ]
    },
    {
     "name": "stdout",
     "output_type": "stream",
     "text": [
      "  📖 Reading: ..//extracted_tripdata4\\2020\\202009-citibike-tripdata_1.csv\n"
     ]
    },
    {
     "name": "stderr",
     "output_type": "stream",
     "text": [
      "C:\\Users\\yanhu\\AppData\\Local\\Temp\\ipykernel_17936\\1067256146.py:17: DtypeWarning: Columns (5,7) have mixed types. Specify dtype option on import or set low_memory=False.\n",
      "  df = pd.read_csv(file)\n"
     ]
    },
    {
     "name": "stdout",
     "output_type": "stream",
     "text": [
      "  📖 Reading: ..//extracted_tripdata4\\2020\\202009-citibike-tripdata_2.csv\n"
     ]
    },
    {
     "name": "stderr",
     "output_type": "stream",
     "text": [
      "C:\\Users\\yanhu\\AppData\\Local\\Temp\\ipykernel_17936\\1067256146.py:17: DtypeWarning: Columns (5,7) have mixed types. Specify dtype option on import or set low_memory=False.\n",
      "  df = pd.read_csv(file)\n"
     ]
    },
    {
     "name": "stdout",
     "output_type": "stream",
     "text": [
      "  📖 Reading: ..//extracted_tripdata4\\2020\\202009-citibike-tripdata_3.csv\n"
     ]
    },
    {
     "name": "stderr",
     "output_type": "stream",
     "text": [
      "C:\\Users\\yanhu\\AppData\\Local\\Temp\\ipykernel_17936\\1067256146.py:17: DtypeWarning: Columns (5,7) have mixed types. Specify dtype option on import or set low_memory=False.\n",
      "  df = pd.read_csv(file)\n"
     ]
    },
    {
     "name": "stdout",
     "output_type": "stream",
     "text": [
      "  📖 Reading: ..//extracted_tripdata4\\2020\\202010-citibike-tripdata_1.csv\n"
     ]
    },
    {
     "name": "stderr",
     "output_type": "stream",
     "text": [
      "C:\\Users\\yanhu\\AppData\\Local\\Temp\\ipykernel_17936\\1067256146.py:17: DtypeWarning: Columns (5,7) have mixed types. Specify dtype option on import or set low_memory=False.\n",
      "  df = pd.read_csv(file)\n"
     ]
    },
    {
     "name": "stdout",
     "output_type": "stream",
     "text": [
      "  📖 Reading: ..//extracted_tripdata4\\2020\\202010-citibike-tripdata_2.csv\n"
     ]
    },
    {
     "name": "stderr",
     "output_type": "stream",
     "text": [
      "C:\\Users\\yanhu\\AppData\\Local\\Temp\\ipykernel_17936\\1067256146.py:17: DtypeWarning: Columns (5,7) have mixed types. Specify dtype option on import or set low_memory=False.\n",
      "  df = pd.read_csv(file)\n"
     ]
    },
    {
     "name": "stdout",
     "output_type": "stream",
     "text": [
      "  📖 Reading: ..//extracted_tripdata4\\2020\\202010-citibike-tripdata_3.csv\n"
     ]
    },
    {
     "name": "stderr",
     "output_type": "stream",
     "text": [
      "C:\\Users\\yanhu\\AppData\\Local\\Temp\\ipykernel_17936\\1067256146.py:17: DtypeWarning: Columns (7) have mixed types. Specify dtype option on import or set low_memory=False.\n",
      "  df = pd.read_csv(file)\n"
     ]
    },
    {
     "name": "stdout",
     "output_type": "stream",
     "text": [
      "  📖 Reading: ..//extracted_tripdata4\\2020\\202011-citibike-tripdata_1.csv\n"
     ]
    },
    {
     "name": "stderr",
     "output_type": "stream",
     "text": [
      "C:\\Users\\yanhu\\AppData\\Local\\Temp\\ipykernel_17936\\1067256146.py:17: DtypeWarning: Columns (5,7) have mixed types. Specify dtype option on import or set low_memory=False.\n",
      "  df = pd.read_csv(file)\n"
     ]
    },
    {
     "name": "stdout",
     "output_type": "stream",
     "text": [
      "  📖 Reading: ..//extracted_tripdata4\\2020\\202011-citibike-tripdata_2.csv\n"
     ]
    },
    {
     "name": "stderr",
     "output_type": "stream",
     "text": [
      "C:\\Users\\yanhu\\AppData\\Local\\Temp\\ipykernel_17936\\1067256146.py:17: DtypeWarning: Columns (5,7) have mixed types. Specify dtype option on import or set low_memory=False.\n",
      "  df = pd.read_csv(file)\n"
     ]
    },
    {
     "name": "stdout",
     "output_type": "stream",
     "text": [
      "  📖 Reading: ..//extracted_tripdata4\\2020\\202012-citibike-tripdata_1.csv\n"
     ]
    },
    {
     "name": "stderr",
     "output_type": "stream",
     "text": [
      "C:\\Users\\yanhu\\AppData\\Local\\Temp\\ipykernel_17936\\1067256146.py:17: DtypeWarning: Columns (5,7) have mixed types. Specify dtype option on import or set low_memory=False.\n",
      "  df = pd.read_csv(file)\n"
     ]
    },
    {
     "name": "stdout",
     "output_type": "stream",
     "text": [
      "  📖 Reading: ..//extracted_tripdata4\\2020\\202012-citibike-tripdata_2.csv\n",
      "  📖 Reading: ..//extracted_tripdata4\\2020\\JC-202001-citibike-tripdata.csv\n",
      "  📖 Reading: ..//extracted_tripdata4\\2020\\JC-202002-citibike-tripdata.csv\n",
      "  📖 Reading: ..//extracted_tripdata4\\2020\\JC-202003-citibike-tripdata.csv\n",
      "  📖 Reading: ..//extracted_tripdata4\\2020\\JC-202004-citibike-tripdata.csv\n",
      "  📖 Reading: ..//extracted_tripdata4\\2020\\JC-202005-citibike-tripdata.csv\n",
      "  📖 Reading: ..//extracted_tripdata4\\2020\\JC-202006-citibike-tripdata.csv\n",
      "  📖 Reading: ..//extracted_tripdata4\\2020\\JC-202007-citibike-tripdata.csv\n",
      "  📖 Reading: ..//extracted_tripdata4\\2020\\JC-202008-citibike-tripdata.csv\n",
      "  📖 Reading: ..//extracted_tripdata4\\2020\\JC-202009-citibike-tripdata.csv\n",
      "  📖 Reading: ..//extracted_tripdata4\\2020\\JC-202010-citibike-tripdata.csv\n",
      "  📖 Reading: ..//extracted_tripdata4\\2020\\JC-202011-citibike-tripdata.csv\n",
      "  📖 Reading: ..//extracted_tripdata4\\2020\\JC-202012-citibike-tripdata.csv\n",
      "Original rows: 19899116\n",
      "  ✅ Merged CSV saved to: ..//merged_tripdata3\\2020_merged.csv\n",
      "\n",
      "📁 Found 48 CSV files in ..//extracted_tripdata4\\2021\n",
      "  📖 Reading: ..//extracted_tripdata4\\2021\\202101-citibike-tripdata_1.csv\n"
     ]
    },
    {
     "name": "stderr",
     "output_type": "stream",
     "text": [
      "C:\\Users\\yanhu\\AppData\\Local\\Temp\\ipykernel_17936\\1067256146.py:17: DtypeWarning: Columns (5,7) have mixed types. Specify dtype option on import or set low_memory=False.\n",
      "  df = pd.read_csv(file)\n"
     ]
    },
    {
     "name": "stdout",
     "output_type": "stream",
     "text": [
      "  📖 Reading: ..//extracted_tripdata4\\2021\\202101-citibike-tripdata_2.csv\n",
      "  📖 Reading: ..//extracted_tripdata4\\2021\\202102-citibike-tripdata_1.csv\n"
     ]
    },
    {
     "name": "stderr",
     "output_type": "stream",
     "text": [
      "C:\\Users\\yanhu\\AppData\\Local\\Temp\\ipykernel_17936\\1067256146.py:17: DtypeWarning: Columns (5,7) have mixed types. Specify dtype option on import or set low_memory=False.\n",
      "  df = pd.read_csv(file)\n"
     ]
    },
    {
     "name": "stdout",
     "output_type": "stream",
     "text": [
      "  📖 Reading: ..//extracted_tripdata4\\2021\\202103-citibike-tripdata_1.csv\n"
     ]
    },
    {
     "name": "stderr",
     "output_type": "stream",
     "text": [
      "C:\\Users\\yanhu\\AppData\\Local\\Temp\\ipykernel_17936\\1067256146.py:17: DtypeWarning: Columns (5,7) have mixed types. Specify dtype option on import or set low_memory=False.\n",
      "  df = pd.read_csv(file)\n"
     ]
    },
    {
     "name": "stdout",
     "output_type": "stream",
     "text": [
      "  📖 Reading: ..//extracted_tripdata4\\2021\\202103-citibike-tripdata_2.csv\n"
     ]
    },
    {
     "name": "stderr",
     "output_type": "stream",
     "text": [
      "C:\\Users\\yanhu\\AppData\\Local\\Temp\\ipykernel_17936\\1067256146.py:17: DtypeWarning: Columns (7) have mixed types. Specify dtype option on import or set low_memory=False.\n",
      "  df = pd.read_csv(file)\n"
     ]
    },
    {
     "name": "stdout",
     "output_type": "stream",
     "text": [
      "  📖 Reading: ..//extracted_tripdata4\\2021\\202104-citibike-tripdata_1.csv\n"
     ]
    },
    {
     "name": "stderr",
     "output_type": "stream",
     "text": [
      "C:\\Users\\yanhu\\AppData\\Local\\Temp\\ipykernel_17936\\1067256146.py:17: DtypeWarning: Columns (5,7) have mixed types. Specify dtype option on import or set low_memory=False.\n",
      "  df = pd.read_csv(file)\n"
     ]
    },
    {
     "name": "stdout",
     "output_type": "stream",
     "text": [
      "  📖 Reading: ..//extracted_tripdata4\\2021\\202104-citibike-tripdata_2.csv\n"
     ]
    },
    {
     "name": "stderr",
     "output_type": "stream",
     "text": [
      "C:\\Users\\yanhu\\AppData\\Local\\Temp\\ipykernel_17936\\1067256146.py:17: DtypeWarning: Columns (7) have mixed types. Specify dtype option on import or set low_memory=False.\n",
      "  df = pd.read_csv(file)\n"
     ]
    },
    {
     "name": "stdout",
     "output_type": "stream",
     "text": [
      "  📖 Reading: ..//extracted_tripdata4\\2021\\202104-citibike-tripdata_3.csv\n",
      "  📖 Reading: ..//extracted_tripdata4\\2021\\202105-citibike-tripdata_1.csv\n"
     ]
    },
    {
     "name": "stderr",
     "output_type": "stream",
     "text": [
      "C:\\Users\\yanhu\\AppData\\Local\\Temp\\ipykernel_17936\\1067256146.py:17: DtypeWarning: Columns (5,7) have mixed types. Specify dtype option on import or set low_memory=False.\n",
      "  df = pd.read_csv(file)\n"
     ]
    },
    {
     "name": "stdout",
     "output_type": "stream",
     "text": [
      "  📖 Reading: ..//extracted_tripdata4\\2021\\202105-citibike-tripdata_2.csv\n"
     ]
    },
    {
     "name": "stderr",
     "output_type": "stream",
     "text": [
      "C:\\Users\\yanhu\\AppData\\Local\\Temp\\ipykernel_17936\\1067256146.py:17: DtypeWarning: Columns (7) have mixed types. Specify dtype option on import or set low_memory=False.\n",
      "  df = pd.read_csv(file)\n"
     ]
    },
    {
     "name": "stdout",
     "output_type": "stream",
     "text": [
      "  📖 Reading: ..//extracted_tripdata4\\2021\\202105-citibike-tripdata_3.csv\n"
     ]
    },
    {
     "name": "stderr",
     "output_type": "stream",
     "text": [
      "C:\\Users\\yanhu\\AppData\\Local\\Temp\\ipykernel_17936\\1067256146.py:17: DtypeWarning: Columns (7) have mixed types. Specify dtype option on import or set low_memory=False.\n",
      "  df = pd.read_csv(file)\n"
     ]
    },
    {
     "name": "stdout",
     "output_type": "stream",
     "text": [
      "  📖 Reading: ..//extracted_tripdata4\\2021\\202106-citibike-tripdata_1.csv\n"
     ]
    },
    {
     "name": "stderr",
     "output_type": "stream",
     "text": [
      "C:\\Users\\yanhu\\AppData\\Local\\Temp\\ipykernel_17936\\1067256146.py:17: DtypeWarning: Columns (7) have mixed types. Specify dtype option on import or set low_memory=False.\n",
      "  df = pd.read_csv(file)\n"
     ]
    },
    {
     "name": "stdout",
     "output_type": "stream",
     "text": [
      "  📖 Reading: ..//extracted_tripdata4\\2021\\202106-citibike-tripdata_2.csv\n"
     ]
    },
    {
     "name": "stderr",
     "output_type": "stream",
     "text": [
      "C:\\Users\\yanhu\\AppData\\Local\\Temp\\ipykernel_17936\\1067256146.py:17: DtypeWarning: Columns (7) have mixed types. Specify dtype option on import or set low_memory=False.\n",
      "  df = pd.read_csv(file)\n"
     ]
    },
    {
     "name": "stdout",
     "output_type": "stream",
     "text": [
      "  📖 Reading: ..//extracted_tripdata4\\2021\\202106-citibike-tripdata_3.csv\n"
     ]
    },
    {
     "name": "stderr",
     "output_type": "stream",
     "text": [
      "C:\\Users\\yanhu\\AppData\\Local\\Temp\\ipykernel_17936\\1067256146.py:17: DtypeWarning: Columns (7) have mixed types. Specify dtype option on import or set low_memory=False.\n",
      "  df = pd.read_csv(file)\n"
     ]
    },
    {
     "name": "stdout",
     "output_type": "stream",
     "text": [
      "  📖 Reading: ..//extracted_tripdata4\\2021\\202106-citibike-tripdata_4.csv\n"
     ]
    },
    {
     "name": "stderr",
     "output_type": "stream",
     "text": [
      "C:\\Users\\yanhu\\AppData\\Local\\Temp\\ipykernel_17936\\1067256146.py:17: DtypeWarning: Columns (7) have mixed types. Specify dtype option on import or set low_memory=False.\n",
      "  df = pd.read_csv(file)\n"
     ]
    },
    {
     "name": "stdout",
     "output_type": "stream",
     "text": [
      "  📖 Reading: ..//extracted_tripdata4\\2021\\202107-citibike-tripdata_1.csv\n"
     ]
    },
    {
     "name": "stderr",
     "output_type": "stream",
     "text": [
      "C:\\Users\\yanhu\\AppData\\Local\\Temp\\ipykernel_17936\\1067256146.py:17: DtypeWarning: Columns (7) have mixed types. Specify dtype option on import or set low_memory=False.\n",
      "  df = pd.read_csv(file)\n"
     ]
    },
    {
     "name": "stdout",
     "output_type": "stream",
     "text": [
      "  📖 Reading: ..//extracted_tripdata4\\2021\\202107-citibike-tripdata_2.csv\n"
     ]
    },
    {
     "name": "stderr",
     "output_type": "stream",
     "text": [
      "C:\\Users\\yanhu\\AppData\\Local\\Temp\\ipykernel_17936\\1067256146.py:17: DtypeWarning: Columns (7) have mixed types. Specify dtype option on import or set low_memory=False.\n",
      "  df = pd.read_csv(file)\n"
     ]
    },
    {
     "name": "stdout",
     "output_type": "stream",
     "text": [
      "  📖 Reading: ..//extracted_tripdata4\\2021\\202107-citibike-tripdata_3.csv\n"
     ]
    },
    {
     "name": "stderr",
     "output_type": "stream",
     "text": [
      "C:\\Users\\yanhu\\AppData\\Local\\Temp\\ipykernel_17936\\1067256146.py:17: DtypeWarning: Columns (7) have mixed types. Specify dtype option on import or set low_memory=False.\n",
      "  df = pd.read_csv(file)\n"
     ]
    },
    {
     "name": "stdout",
     "output_type": "stream",
     "text": [
      "  📖 Reading: ..//extracted_tripdata4\\2021\\202107-citibike-tripdata_4.csv\n",
      "  📖 Reading: ..//extracted_tripdata4\\2021\\202108-citibike-tripdata_1.csv\n"
     ]
    },
    {
     "name": "stderr",
     "output_type": "stream",
     "text": [
      "C:\\Users\\yanhu\\AppData\\Local\\Temp\\ipykernel_17936\\1067256146.py:17: DtypeWarning: Columns (7) have mixed types. Specify dtype option on import or set low_memory=False.\n",
      "  df = pd.read_csv(file)\n"
     ]
    },
    {
     "name": "stdout",
     "output_type": "stream",
     "text": [
      "  📖 Reading: ..//extracted_tripdata4\\2021\\202108-citibike-tripdata_2.csv\n"
     ]
    },
    {
     "name": "stderr",
     "output_type": "stream",
     "text": [
      "C:\\Users\\yanhu\\AppData\\Local\\Temp\\ipykernel_17936\\1067256146.py:17: DtypeWarning: Columns (7) have mixed types. Specify dtype option on import or set low_memory=False.\n",
      "  df = pd.read_csv(file)\n"
     ]
    },
    {
     "name": "stdout",
     "output_type": "stream",
     "text": [
      "  📖 Reading: ..//extracted_tripdata4\\2021\\202108-citibike-tripdata_3.csv\n"
     ]
    },
    {
     "name": "stderr",
     "output_type": "stream",
     "text": [
      "C:\\Users\\yanhu\\AppData\\Local\\Temp\\ipykernel_17936\\1067256146.py:17: DtypeWarning: Columns (7) have mixed types. Specify dtype option on import or set low_memory=False.\n",
      "  df = pd.read_csv(file)\n"
     ]
    },
    {
     "name": "stdout",
     "output_type": "stream",
     "text": [
      "  📖 Reading: ..//extracted_tripdata4\\2021\\202108-citibike-tripdata_4.csv\n",
      "  📖 Reading: ..//extracted_tripdata4\\2021\\202109-citibike-tripdata_1.csv\n"
     ]
    },
    {
     "name": "stderr",
     "output_type": "stream",
     "text": [
      "C:\\Users\\yanhu\\AppData\\Local\\Temp\\ipykernel_17936\\1067256146.py:17: DtypeWarning: Columns (7) have mixed types. Specify dtype option on import or set low_memory=False.\n",
      "  df = pd.read_csv(file)\n"
     ]
    },
    {
     "name": "stdout",
     "output_type": "stream",
     "text": [
      "  📖 Reading: ..//extracted_tripdata4\\2021\\202109-citibike-tripdata_2.csv\n"
     ]
    },
    {
     "name": "stderr",
     "output_type": "stream",
     "text": [
      "C:\\Users\\yanhu\\AppData\\Local\\Temp\\ipykernel_17936\\1067256146.py:17: DtypeWarning: Columns (7) have mixed types. Specify dtype option on import or set low_memory=False.\n",
      "  df = pd.read_csv(file)\n"
     ]
    },
    {
     "name": "stdout",
     "output_type": "stream",
     "text": [
      "  📖 Reading: ..//extracted_tripdata4\\2021\\202109-citibike-tripdata_3.csv\n"
     ]
    },
    {
     "name": "stderr",
     "output_type": "stream",
     "text": [
      "C:\\Users\\yanhu\\AppData\\Local\\Temp\\ipykernel_17936\\1067256146.py:17: DtypeWarning: Columns (7) have mixed types. Specify dtype option on import or set low_memory=False.\n",
      "  df = pd.read_csv(file)\n"
     ]
    },
    {
     "name": "stdout",
     "output_type": "stream",
     "text": [
      "  📖 Reading: ..//extracted_tripdata4\\2021\\202109-citibike-tripdata_4.csv\n"
     ]
    },
    {
     "name": "stderr",
     "output_type": "stream",
     "text": [
      "C:\\Users\\yanhu\\AppData\\Local\\Temp\\ipykernel_17936\\1067256146.py:17: DtypeWarning: Columns (7) have mixed types. Specify dtype option on import or set low_memory=False.\n",
      "  df = pd.read_csv(file)\n"
     ]
    },
    {
     "name": "stdout",
     "output_type": "stream",
     "text": [
      "  📖 Reading: ..//extracted_tripdata4\\2021\\202110-citibike-tripdata_1.csv\n"
     ]
    },
    {
     "name": "stderr",
     "output_type": "stream",
     "text": [
      "C:\\Users\\yanhu\\AppData\\Local\\Temp\\ipykernel_17936\\1067256146.py:17: DtypeWarning: Columns (5,7) have mixed types. Specify dtype option on import or set low_memory=False.\n",
      "  df = pd.read_csv(file)\n"
     ]
    },
    {
     "name": "stdout",
     "output_type": "stream",
     "text": [
      "  📖 Reading: ..//extracted_tripdata4\\2021\\202110-citibike-tripdata_2.csv\n"
     ]
    },
    {
     "name": "stderr",
     "output_type": "stream",
     "text": [
      "C:\\Users\\yanhu\\AppData\\Local\\Temp\\ipykernel_17936\\1067256146.py:17: DtypeWarning: Columns (5,7) have mixed types. Specify dtype option on import or set low_memory=False.\n",
      "  df = pd.read_csv(file)\n"
     ]
    },
    {
     "name": "stdout",
     "output_type": "stream",
     "text": [
      "  📖 Reading: ..//extracted_tripdata4\\2021\\202110-citibike-tripdata_3.csv\n"
     ]
    },
    {
     "name": "stderr",
     "output_type": "stream",
     "text": [
      "C:\\Users\\yanhu\\AppData\\Local\\Temp\\ipykernel_17936\\1067256146.py:17: DtypeWarning: Columns (5,7) have mixed types. Specify dtype option on import or set low_memory=False.\n",
      "  df = pd.read_csv(file)\n"
     ]
    },
    {
     "name": "stdout",
     "output_type": "stream",
     "text": [
      "  📖 Reading: ..//extracted_tripdata4\\2021\\202110-citibike-tripdata_4.csv\n",
      "  📖 Reading: ..//extracted_tripdata4\\2021\\202111-citibike-tripdata_1.csv\n"
     ]
    },
    {
     "name": "stderr",
     "output_type": "stream",
     "text": [
      "C:\\Users\\yanhu\\AppData\\Local\\Temp\\ipykernel_17936\\1067256146.py:17: DtypeWarning: Columns (5,7) have mixed types. Specify dtype option on import or set low_memory=False.\n",
      "  df = pd.read_csv(file)\n"
     ]
    },
    {
     "name": "stdout",
     "output_type": "stream",
     "text": [
      "  📖 Reading: ..//extracted_tripdata4\\2021\\202111-citibike-tripdata_2.csv\n"
     ]
    },
    {
     "name": "stderr",
     "output_type": "stream",
     "text": [
      "C:\\Users\\yanhu\\AppData\\Local\\Temp\\ipykernel_17936\\1067256146.py:17: DtypeWarning: Columns (5,7) have mixed types. Specify dtype option on import or set low_memory=False.\n",
      "  df = pd.read_csv(file)\n"
     ]
    },
    {
     "name": "stdout",
     "output_type": "stream",
     "text": [
      "  📖 Reading: ..//extracted_tripdata4\\2021\\202111-citibike-tripdata_3.csv\n"
     ]
    },
    {
     "name": "stderr",
     "output_type": "stream",
     "text": [
      "C:\\Users\\yanhu\\AppData\\Local\\Temp\\ipykernel_17936\\1067256146.py:17: DtypeWarning: Columns (5,7) have mixed types. Specify dtype option on import or set low_memory=False.\n",
      "  df = pd.read_csv(file)\n"
     ]
    },
    {
     "name": "stdout",
     "output_type": "stream",
     "text": [
      "  📖 Reading: ..//extracted_tripdata4\\2021\\202112-citibike-tripdata_1.csv\n"
     ]
    },
    {
     "name": "stderr",
     "output_type": "stream",
     "text": [
      "C:\\Users\\yanhu\\AppData\\Local\\Temp\\ipykernel_17936\\1067256146.py:17: DtypeWarning: Columns (5,7) have mixed types. Specify dtype option on import or set low_memory=False.\n",
      "  df = pd.read_csv(file)\n"
     ]
    },
    {
     "name": "stdout",
     "output_type": "stream",
     "text": [
      "  📖 Reading: ..//extracted_tripdata4\\2021\\202112-citibike-tripdata_2.csv\n"
     ]
    },
    {
     "name": "stderr",
     "output_type": "stream",
     "text": [
      "C:\\Users\\yanhu\\AppData\\Local\\Temp\\ipykernel_17936\\1067256146.py:17: DtypeWarning: Columns (5,7) have mixed types. Specify dtype option on import or set low_memory=False.\n",
      "  df = pd.read_csv(file)\n"
     ]
    },
    {
     "name": "stdout",
     "output_type": "stream",
     "text": [
      "  📖 Reading: ..//extracted_tripdata4\\2021\\JC-202101-citibike-tripdata.csv\n",
      "  📖 Reading: ..//extracted_tripdata4\\2021\\JC-202102-citibike-tripdata.csv\n",
      "  📖 Reading: ..//extracted_tripdata4\\2021\\JC-202103-citibike-tripdata.csv\n",
      "  📖 Reading: ..//extracted_tripdata4\\2021\\JC-202104-citibike-tripdata.csv\n",
      "  📖 Reading: ..//extracted_tripdata4\\2021\\JC-202105-citibike-tripdata.csv\n",
      "  📖 Reading: ..//extracted_tripdata4\\2021\\JC-202106-citibike-tripdata.csv\n",
      "  📖 Reading: ..//extracted_tripdata4\\2021\\JC-202107-citibike-tripdata.csv\n",
      "  📖 Reading: ..//extracted_tripdata4\\2021\\JC-202108-citibike-tripdata.csv\n",
      "  📖 Reading: ..//extracted_tripdata4\\2021\\JC-202109-citibike-tripdata.csv\n",
      "  📖 Reading: ..//extracted_tripdata4\\2021\\JC-202110-citibike-tripdata.csv\n",
      "  📖 Reading: ..//extracted_tripdata4\\2021\\JC-202111-citibike-tripdata.csv\n",
      "  📖 Reading: ..//extracted_tripdata4\\2021\\JC-202112-citibike-tripdata.csv\n",
      "Original rows: 27774565\n",
      "  ✅ Merged CSV saved to: ..//merged_tripdata3\\2021_merged.csv\n",
      "\n",
      "📁 Found 48 CSV files in ..//extracted_tripdata4\\2022\n",
      "  📖 Reading: ..//extracted_tripdata4\\2022\\202201-citibike-tripdata_1.csv\n"
     ]
    },
    {
     "name": "stderr",
     "output_type": "stream",
     "text": [
      "C:\\Users\\yanhu\\AppData\\Local\\Temp\\ipykernel_17936\\1067256146.py:17: DtypeWarning: Columns (5,7) have mixed types. Specify dtype option on import or set low_memory=False.\n",
      "  df = pd.read_csv(file)\n"
     ]
    },
    {
     "name": "stdout",
     "output_type": "stream",
     "text": [
      "  📖 Reading: ..//extracted_tripdata4\\2022\\202201-citibike-tripdata_2.csv\n",
      "  📖 Reading: ..//extracted_tripdata4\\2022\\202202-citibike-tripdata_1.csv\n"
     ]
    },
    {
     "name": "stderr",
     "output_type": "stream",
     "text": [
      "C:\\Users\\yanhu\\AppData\\Local\\Temp\\ipykernel_17936\\1067256146.py:17: DtypeWarning: Columns (5,7) have mixed types. Specify dtype option on import or set low_memory=False.\n",
      "  df = pd.read_csv(file)\n"
     ]
    },
    {
     "name": "stdout",
     "output_type": "stream",
     "text": [
      "  📖 Reading: ..//extracted_tripdata4\\2022\\202202-citibike-tripdata_2.csv\n"
     ]
    },
    {
     "name": "stderr",
     "output_type": "stream",
     "text": [
      "C:\\Users\\yanhu\\AppData\\Local\\Temp\\ipykernel_17936\\1067256146.py:17: DtypeWarning: Columns (7) have mixed types. Specify dtype option on import or set low_memory=False.\n",
      "  df = pd.read_csv(file)\n"
     ]
    },
    {
     "name": "stdout",
     "output_type": "stream",
     "text": [
      "  📖 Reading: ..//extracted_tripdata4\\2022\\202203-citibike-tripdata_1.csv\n"
     ]
    },
    {
     "name": "stderr",
     "output_type": "stream",
     "text": [
      "C:\\Users\\yanhu\\AppData\\Local\\Temp\\ipykernel_17936\\1067256146.py:17: DtypeWarning: Columns (5,7) have mixed types. Specify dtype option on import or set low_memory=False.\n",
      "  df = pd.read_csv(file)\n"
     ]
    },
    {
     "name": "stdout",
     "output_type": "stream",
     "text": [
      "  📖 Reading: ..//extracted_tripdata4\\2022\\202203-citibike-tripdata_2.csv\n"
     ]
    },
    {
     "name": "stderr",
     "output_type": "stream",
     "text": [
      "C:\\Users\\yanhu\\AppData\\Local\\Temp\\ipykernel_17936\\1067256146.py:17: DtypeWarning: Columns (5,7) have mixed types. Specify dtype option on import or set low_memory=False.\n",
      "  df = pd.read_csv(file)\n"
     ]
    },
    {
     "name": "stdout",
     "output_type": "stream",
     "text": [
      "  📖 Reading: ..//extracted_tripdata4\\2022\\202204-citibike-tripdata_1.csv\n"
     ]
    },
    {
     "name": "stderr",
     "output_type": "stream",
     "text": [
      "C:\\Users\\yanhu\\AppData\\Local\\Temp\\ipykernel_17936\\1067256146.py:17: DtypeWarning: Columns (5,7) have mixed types. Specify dtype option on import or set low_memory=False.\n",
      "  df = pd.read_csv(file)\n"
     ]
    },
    {
     "name": "stdout",
     "output_type": "stream",
     "text": [
      "  📖 Reading: ..//extracted_tripdata4\\2022\\202204-citibike-tripdata_2.csv\n"
     ]
    },
    {
     "name": "stderr",
     "output_type": "stream",
     "text": [
      "C:\\Users\\yanhu\\AppData\\Local\\Temp\\ipykernel_17936\\1067256146.py:17: DtypeWarning: Columns (5,7) have mixed types. Specify dtype option on import or set low_memory=False.\n",
      "  df = pd.read_csv(file)\n"
     ]
    },
    {
     "name": "stdout",
     "output_type": "stream",
     "text": [
      "  📖 Reading: ..//extracted_tripdata4\\2022\\202204-citibike-tripdata_3.csv\n"
     ]
    },
    {
     "name": "stderr",
     "output_type": "stream",
     "text": [
      "C:\\Users\\yanhu\\AppData\\Local\\Temp\\ipykernel_17936\\1067256146.py:17: DtypeWarning: Columns (5,7) have mixed types. Specify dtype option on import or set low_memory=False.\n",
      "  df = pd.read_csv(file)\n"
     ]
    },
    {
     "name": "stdout",
     "output_type": "stream",
     "text": [
      "  📖 Reading: ..//extracted_tripdata4\\2022\\202205-citibike-tripdata_1.csv\n"
     ]
    },
    {
     "name": "stderr",
     "output_type": "stream",
     "text": [
      "C:\\Users\\yanhu\\AppData\\Local\\Temp\\ipykernel_17936\\1067256146.py:17: DtypeWarning: Columns (5,7) have mixed types. Specify dtype option on import or set low_memory=False.\n",
      "  df = pd.read_csv(file)\n"
     ]
    },
    {
     "name": "stdout",
     "output_type": "stream",
     "text": [
      "  📖 Reading: ..//extracted_tripdata4\\2022\\202205-citibike-tripdata_2.csv\n"
     ]
    },
    {
     "name": "stderr",
     "output_type": "stream",
     "text": [
      "C:\\Users\\yanhu\\AppData\\Local\\Temp\\ipykernel_17936\\1067256146.py:17: DtypeWarning: Columns (5,7) have mixed types. Specify dtype option on import or set low_memory=False.\n",
      "  df = pd.read_csv(file)\n"
     ]
    },
    {
     "name": "stdout",
     "output_type": "stream",
     "text": [
      "  📖 Reading: ..//extracted_tripdata4\\2022\\202205-citibike-tripdata_3.csv\n"
     ]
    },
    {
     "name": "stderr",
     "output_type": "stream",
     "text": [
      "C:\\Users\\yanhu\\AppData\\Local\\Temp\\ipykernel_17936\\1067256146.py:17: DtypeWarning: Columns (5,7) have mixed types. Specify dtype option on import or set low_memory=False.\n",
      "  df = pd.read_csv(file)\n"
     ]
    },
    {
     "name": "stdout",
     "output_type": "stream",
     "text": [
      "  📖 Reading: ..//extracted_tripdata4\\2022\\202206-citibike-tripdata_1.csv\n"
     ]
    },
    {
     "name": "stderr",
     "output_type": "stream",
     "text": [
      "C:\\Users\\yanhu\\AppData\\Local\\Temp\\ipykernel_17936\\1067256146.py:17: DtypeWarning: Columns (5,7) have mixed types. Specify dtype option on import or set low_memory=False.\n",
      "  df = pd.read_csv(file)\n"
     ]
    },
    {
     "name": "stdout",
     "output_type": "stream",
     "text": [
      "  📖 Reading: ..//extracted_tripdata4\\2022\\202206-citibike-tripdata_2.csv\n"
     ]
    },
    {
     "name": "stderr",
     "output_type": "stream",
     "text": [
      "C:\\Users\\yanhu\\AppData\\Local\\Temp\\ipykernel_17936\\1067256146.py:17: DtypeWarning: Columns (5,7) have mixed types. Specify dtype option on import or set low_memory=False.\n",
      "  df = pd.read_csv(file)\n"
     ]
    },
    {
     "name": "stdout",
     "output_type": "stream",
     "text": [
      "  📖 Reading: ..//extracted_tripdata4\\2022\\202206-citibike-tripdata_3.csv\n"
     ]
    },
    {
     "name": "stderr",
     "output_type": "stream",
     "text": [
      "C:\\Users\\yanhu\\AppData\\Local\\Temp\\ipykernel_17936\\1067256146.py:17: DtypeWarning: Columns (5,7) have mixed types. Specify dtype option on import or set low_memory=False.\n",
      "  df = pd.read_csv(file)\n"
     ]
    },
    {
     "name": "stdout",
     "output_type": "stream",
     "text": [
      "  📖 Reading: ..//extracted_tripdata4\\2022\\202206-citibike-tripdata_4.csv\n"
     ]
    },
    {
     "name": "stderr",
     "output_type": "stream",
     "text": [
      "C:\\Users\\yanhu\\AppData\\Local\\Temp\\ipykernel_17936\\1067256146.py:17: DtypeWarning: Columns (5,7) have mixed types. Specify dtype option on import or set low_memory=False.\n",
      "  df = pd.read_csv(file)\n"
     ]
    },
    {
     "name": "stdout",
     "output_type": "stream",
     "text": [
      "  📖 Reading: ..//extracted_tripdata4\\2022\\202207-citibike-tripdata_1.csv\n"
     ]
    },
    {
     "name": "stderr",
     "output_type": "stream",
     "text": [
      "C:\\Users\\yanhu\\AppData\\Local\\Temp\\ipykernel_17936\\1067256146.py:17: DtypeWarning: Columns (5,7) have mixed types. Specify dtype option on import or set low_memory=False.\n",
      "  df = pd.read_csv(file)\n"
     ]
    },
    {
     "name": "stdout",
     "output_type": "stream",
     "text": [
      "  📖 Reading: ..//extracted_tripdata4\\2022\\202207-citibike-tripdata_2.csv\n"
     ]
    },
    {
     "name": "stderr",
     "output_type": "stream",
     "text": [
      "C:\\Users\\yanhu\\AppData\\Local\\Temp\\ipykernel_17936\\1067256146.py:17: DtypeWarning: Columns (5,7) have mixed types. Specify dtype option on import or set low_memory=False.\n",
      "  df = pd.read_csv(file)\n"
     ]
    },
    {
     "name": "stdout",
     "output_type": "stream",
     "text": [
      "  📖 Reading: ..//extracted_tripdata4\\2022\\202207-citibike-tripdata_3.csv\n"
     ]
    },
    {
     "name": "stderr",
     "output_type": "stream",
     "text": [
      "C:\\Users\\yanhu\\AppData\\Local\\Temp\\ipykernel_17936\\1067256146.py:17: DtypeWarning: Columns (5,7) have mixed types. Specify dtype option on import or set low_memory=False.\n",
      "  df = pd.read_csv(file)\n"
     ]
    },
    {
     "name": "stdout",
     "output_type": "stream",
     "text": [
      "  📖 Reading: ..//extracted_tripdata4\\2022\\202207-citibike-tripdata_4.csv\n"
     ]
    },
    {
     "name": "stderr",
     "output_type": "stream",
     "text": [
      "C:\\Users\\yanhu\\AppData\\Local\\Temp\\ipykernel_17936\\1067256146.py:17: DtypeWarning: Columns (5,7) have mixed types. Specify dtype option on import or set low_memory=False.\n",
      "  df = pd.read_csv(file)\n"
     ]
    },
    {
     "name": "stdout",
     "output_type": "stream",
     "text": [
      "  📖 Reading: ..//extracted_tripdata4\\2022\\202208-citibike-tripdata_1.csv\n"
     ]
    },
    {
     "name": "stderr",
     "output_type": "stream",
     "text": [
      "C:\\Users\\yanhu\\AppData\\Local\\Temp\\ipykernel_17936\\1067256146.py:17: DtypeWarning: Columns (5,7) have mixed types. Specify dtype option on import or set low_memory=False.\n",
      "  df = pd.read_csv(file)\n"
     ]
    },
    {
     "name": "stdout",
     "output_type": "stream",
     "text": [
      "  📖 Reading: ..//extracted_tripdata4\\2022\\202208-citibike-tripdata_2.csv\n"
     ]
    },
    {
     "name": "stderr",
     "output_type": "stream",
     "text": [
      "C:\\Users\\yanhu\\AppData\\Local\\Temp\\ipykernel_17936\\1067256146.py:17: DtypeWarning: Columns (5,7) have mixed types. Specify dtype option on import or set low_memory=False.\n",
      "  df = pd.read_csv(file)\n"
     ]
    },
    {
     "name": "stdout",
     "output_type": "stream",
     "text": [
      "  📖 Reading: ..//extracted_tripdata4\\2022\\202208-citibike-tripdata_3.csv\n"
     ]
    },
    {
     "name": "stderr",
     "output_type": "stream",
     "text": [
      "C:\\Users\\yanhu\\AppData\\Local\\Temp\\ipykernel_17936\\1067256146.py:17: DtypeWarning: Columns (5,7) have mixed types. Specify dtype option on import or set low_memory=False.\n",
      "  df = pd.read_csv(file)\n"
     ]
    },
    {
     "name": "stdout",
     "output_type": "stream",
     "text": [
      "  📖 Reading: ..//extracted_tripdata4\\2022\\202208-citibike-tripdata_4.csv\n"
     ]
    },
    {
     "name": "stderr",
     "output_type": "stream",
     "text": [
      "C:\\Users\\yanhu\\AppData\\Local\\Temp\\ipykernel_17936\\1067256146.py:17: DtypeWarning: Columns (5,7) have mixed types. Specify dtype option on import or set low_memory=False.\n",
      "  df = pd.read_csv(file)\n"
     ]
    },
    {
     "name": "stdout",
     "output_type": "stream",
     "text": [
      "  📖 Reading: ..//extracted_tripdata4\\2022\\202209-citibike-tripdata_1.csv\n"
     ]
    },
    {
     "name": "stderr",
     "output_type": "stream",
     "text": [
      "C:\\Users\\yanhu\\AppData\\Local\\Temp\\ipykernel_17936\\1067256146.py:17: DtypeWarning: Columns (5,7) have mixed types. Specify dtype option on import or set low_memory=False.\n",
      "  df = pd.read_csv(file)\n"
     ]
    },
    {
     "name": "stdout",
     "output_type": "stream",
     "text": [
      "  📖 Reading: ..//extracted_tripdata4\\2022\\202209-citibike-tripdata_2.csv\n"
     ]
    },
    {
     "name": "stderr",
     "output_type": "stream",
     "text": [
      "C:\\Users\\yanhu\\AppData\\Local\\Temp\\ipykernel_17936\\1067256146.py:17: DtypeWarning: Columns (5,7) have mixed types. Specify dtype option on import or set low_memory=False.\n",
      "  df = pd.read_csv(file)\n"
     ]
    },
    {
     "name": "stdout",
     "output_type": "stream",
     "text": [
      "  📖 Reading: ..//extracted_tripdata4\\2022\\202209-citibike-tripdata_3.csv\n"
     ]
    },
    {
     "name": "stderr",
     "output_type": "stream",
     "text": [
      "C:\\Users\\yanhu\\AppData\\Local\\Temp\\ipykernel_17936\\1067256146.py:17: DtypeWarning: Columns (5,7) have mixed types. Specify dtype option on import or set low_memory=False.\n",
      "  df = pd.read_csv(file)\n"
     ]
    },
    {
     "name": "stdout",
     "output_type": "stream",
     "text": [
      "  📖 Reading: ..//extracted_tripdata4\\2022\\202209-citibike-tripdata_4.csv\n"
     ]
    },
    {
     "name": "stderr",
     "output_type": "stream",
     "text": [
      "C:\\Users\\yanhu\\AppData\\Local\\Temp\\ipykernel_17936\\1067256146.py:17: DtypeWarning: Columns (5,7) have mixed types. Specify dtype option on import or set low_memory=False.\n",
      "  df = pd.read_csv(file)\n"
     ]
    },
    {
     "name": "stdout",
     "output_type": "stream",
     "text": [
      "  📖 Reading: ..//extracted_tripdata4\\2022\\202210-citibike-tripdata_1.csv\n"
     ]
    },
    {
     "name": "stderr",
     "output_type": "stream",
     "text": [
      "C:\\Users\\yanhu\\AppData\\Local\\Temp\\ipykernel_17936\\1067256146.py:17: DtypeWarning: Columns (5,7) have mixed types. Specify dtype option on import or set low_memory=False.\n",
      "  df = pd.read_csv(file)\n"
     ]
    },
    {
     "name": "stdout",
     "output_type": "stream",
     "text": [
      "  📖 Reading: ..//extracted_tripdata4\\2022\\202210-citibike-tripdata_2.csv\n"
     ]
    },
    {
     "name": "stderr",
     "output_type": "stream",
     "text": [
      "C:\\Users\\yanhu\\AppData\\Local\\Temp\\ipykernel_17936\\1067256146.py:17: DtypeWarning: Columns (5,7) have mixed types. Specify dtype option on import or set low_memory=False.\n",
      "  df = pd.read_csv(file)\n"
     ]
    },
    {
     "name": "stdout",
     "output_type": "stream",
     "text": [
      "  📖 Reading: ..//extracted_tripdata4\\2022\\202210-citibike-tripdata_3.csv\n"
     ]
    },
    {
     "name": "stderr",
     "output_type": "stream",
     "text": [
      "C:\\Users\\yanhu\\AppData\\Local\\Temp\\ipykernel_17936\\1067256146.py:17: DtypeWarning: Columns (5,7) have mixed types. Specify dtype option on import or set low_memory=False.\n",
      "  df = pd.read_csv(file)\n"
     ]
    },
    {
     "name": "stdout",
     "output_type": "stream",
     "text": [
      "  📖 Reading: ..//extracted_tripdata4\\2022\\202211-citibike-tripdata_1.csv\n"
     ]
    },
    {
     "name": "stderr",
     "output_type": "stream",
     "text": [
      "C:\\Users\\yanhu\\AppData\\Local\\Temp\\ipykernel_17936\\1067256146.py:17: DtypeWarning: Columns (5,7) have mixed types. Specify dtype option on import or set low_memory=False.\n",
      "  df = pd.read_csv(file)\n"
     ]
    },
    {
     "name": "stdout",
     "output_type": "stream",
     "text": [
      "  📖 Reading: ..//extracted_tripdata4\\2022\\202211-citibike-tripdata_2.csv\n"
     ]
    },
    {
     "name": "stderr",
     "output_type": "stream",
     "text": [
      "C:\\Users\\yanhu\\AppData\\Local\\Temp\\ipykernel_17936\\1067256146.py:17: DtypeWarning: Columns (5,7) have mixed types. Specify dtype option on import or set low_memory=False.\n",
      "  df = pd.read_csv(file)\n"
     ]
    },
    {
     "name": "stdout",
     "output_type": "stream",
     "text": [
      "  📖 Reading: ..//extracted_tripdata4\\2022\\202211-citibike-tripdata_3.csv\n"
     ]
    },
    {
     "name": "stderr",
     "output_type": "stream",
     "text": [
      "C:\\Users\\yanhu\\AppData\\Local\\Temp\\ipykernel_17936\\1067256146.py:17: DtypeWarning: Columns (7) have mixed types. Specify dtype option on import or set low_memory=False.\n",
      "  df = pd.read_csv(file)\n"
     ]
    },
    {
     "name": "stdout",
     "output_type": "stream",
     "text": [
      "  📖 Reading: ..//extracted_tripdata4\\2022\\202212-citibike-tripdata_1.csv\n"
     ]
    },
    {
     "name": "stderr",
     "output_type": "stream",
     "text": [
      "C:\\Users\\yanhu\\AppData\\Local\\Temp\\ipykernel_17936\\1067256146.py:17: DtypeWarning: Columns (5,7) have mixed types. Specify dtype option on import or set low_memory=False.\n",
      "  df = pd.read_csv(file)\n"
     ]
    },
    {
     "name": "stdout",
     "output_type": "stream",
     "text": [
      "  📖 Reading: ..//extracted_tripdata4\\2022\\202212-citibike-tripdata_2.csv\n"
     ]
    },
    {
     "name": "stderr",
     "output_type": "stream",
     "text": [
      "C:\\Users\\yanhu\\AppData\\Local\\Temp\\ipykernel_17936\\1067256146.py:17: DtypeWarning: Columns (5,7) have mixed types. Specify dtype option on import or set low_memory=False.\n",
      "  df = pd.read_csv(file)\n"
     ]
    },
    {
     "name": "stdout",
     "output_type": "stream",
     "text": [
      "  📖 Reading: ..//extracted_tripdata4\\2022\\JC-202201-citibike-tripdata.csv\n",
      "  📖 Reading: ..//extracted_tripdata4\\2022\\JC-202202-citibike-tripdata.csv\n",
      "  📖 Reading: ..//extracted_tripdata4\\2022\\JC-202203-citibike-tripdata.csv\n",
      "  📖 Reading: ..//extracted_tripdata4\\2022\\JC-202204-citibike-tripdata.csv\n",
      "  📖 Reading: ..//extracted_tripdata4\\2022\\JC-202205-citibike-tripdata.csv\n",
      "  📖 Reading: ..//extracted_tripdata4\\2022\\JC-202206-citibike-tripdata.csv\n",
      "  📖 Reading: ..//extracted_tripdata4\\2022\\JC-202207-citbike-tripdata.csv\n",
      "  📖 Reading: ..//extracted_tripdata4\\2022\\JC-202208-citibike-tripdata.csv\n",
      "  📖 Reading: ..//extracted_tripdata4\\2022\\JC-202209-citibike-tripdata.csv\n",
      "  📖 Reading: ..//extracted_tripdata4\\2022\\JC-202210-citibike-tripdata.csv\n",
      "  📖 Reading: ..//extracted_tripdata4\\2022\\JC-202211-citibike-tripdata.csv\n",
      "  📖 Reading: ..//extracted_tripdata4\\2022\\JC-202212-citibike-tripdata.csv\n",
      "Original rows: 30734291\n",
      "  ✅ Merged CSV saved to: ..//merged_tripdata3\\2022_merged.csv\n",
      "\n",
      "📁 Found 52 CSV files in ..//extracted_tripdata4\\2023\n",
      "  📖 Reading: ..//extracted_tripdata4\\2023\\202301-citibike-tripdata_1.csv\n"
     ]
    },
    {
     "name": "stderr",
     "output_type": "stream",
     "text": [
      "C:\\Users\\yanhu\\AppData\\Local\\Temp\\ipykernel_17936\\1067256146.py:17: DtypeWarning: Columns (5,7) have mixed types. Specify dtype option on import or set low_memory=False.\n",
      "  df = pd.read_csv(file)\n"
     ]
    },
    {
     "name": "stdout",
     "output_type": "stream",
     "text": [
      "  📖 Reading: ..//extracted_tripdata4\\2023\\202301-citibike-tripdata_2.csv\n"
     ]
    },
    {
     "name": "stderr",
     "output_type": "stream",
     "text": [
      "C:\\Users\\yanhu\\AppData\\Local\\Temp\\ipykernel_17936\\1067256146.py:17: DtypeWarning: Columns (5,7) have mixed types. Specify dtype option on import or set low_memory=False.\n",
      "  df = pd.read_csv(file)\n"
     ]
    },
    {
     "name": "stdout",
     "output_type": "stream",
     "text": [
      "  📖 Reading: ..//extracted_tripdata4\\2023\\202302-citibike-tripdata_1.csv\n"
     ]
    },
    {
     "name": "stderr",
     "output_type": "stream",
     "text": [
      "C:\\Users\\yanhu\\AppData\\Local\\Temp\\ipykernel_17936\\1067256146.py:17: DtypeWarning: Columns (5,7) have mixed types. Specify dtype option on import or set low_memory=False.\n",
      "  df = pd.read_csv(file)\n"
     ]
    },
    {
     "name": "stdout",
     "output_type": "stream",
     "text": [
      "  📖 Reading: ..//extracted_tripdata4\\2023\\202302-citibike-tripdata_2.csv\n"
     ]
    },
    {
     "name": "stderr",
     "output_type": "stream",
     "text": [
      "C:\\Users\\yanhu\\AppData\\Local\\Temp\\ipykernel_17936\\1067256146.py:17: DtypeWarning: Columns (5) have mixed types. Specify dtype option on import or set low_memory=False.\n",
      "  df = pd.read_csv(file)\n"
     ]
    },
    {
     "name": "stdout",
     "output_type": "stream",
     "text": [
      "  📖 Reading: ..//extracted_tripdata4\\2023\\202303-citibike-tripdata_1.csv\n"
     ]
    },
    {
     "name": "stderr",
     "output_type": "stream",
     "text": [
      "C:\\Users\\yanhu\\AppData\\Local\\Temp\\ipykernel_17936\\1067256146.py:17: DtypeWarning: Columns (7) have mixed types. Specify dtype option on import or set low_memory=False.\n",
      "  df = pd.read_csv(file)\n"
     ]
    },
    {
     "name": "stdout",
     "output_type": "stream",
     "text": [
      "  📖 Reading: ..//extracted_tripdata4\\2023\\202303-citibike-tripdata_2.csv\n"
     ]
    },
    {
     "name": "stderr",
     "output_type": "stream",
     "text": [
      "C:\\Users\\yanhu\\AppData\\Local\\Temp\\ipykernel_17936\\1067256146.py:17: DtypeWarning: Columns (7) have mixed types. Specify dtype option on import or set low_memory=False.\n",
      "  df = pd.read_csv(file)\n"
     ]
    },
    {
     "name": "stdout",
     "output_type": "stream",
     "text": [
      "  📖 Reading: ..//extracted_tripdata4\\2023\\202303-citibike-tripdata_3.csv\n"
     ]
    },
    {
     "name": "stderr",
     "output_type": "stream",
     "text": [
      "C:\\Users\\yanhu\\AppData\\Local\\Temp\\ipykernel_17936\\1067256146.py:17: DtypeWarning: Columns (7) have mixed types. Specify dtype option on import or set low_memory=False.\n",
      "  df = pd.read_csv(file)\n"
     ]
    },
    {
     "name": "stdout",
     "output_type": "stream",
     "text": [
      "  📖 Reading: ..//extracted_tripdata4\\2023\\202304-citibike-tripdata_1.csv\n"
     ]
    },
    {
     "name": "stderr",
     "output_type": "stream",
     "text": [
      "C:\\Users\\yanhu\\AppData\\Local\\Temp\\ipykernel_17936\\1067256146.py:17: DtypeWarning: Columns (5) have mixed types. Specify dtype option on import or set low_memory=False.\n",
      "  df = pd.read_csv(file)\n"
     ]
    },
    {
     "name": "stdout",
     "output_type": "stream",
     "text": [
      "  📖 Reading: ..//extracted_tripdata4\\2023\\202304-citibike-tripdata_2.csv\n"
     ]
    },
    {
     "name": "stderr",
     "output_type": "stream",
     "text": [
      "C:\\Users\\yanhu\\AppData\\Local\\Temp\\ipykernel_17936\\1067256146.py:17: DtypeWarning: Columns (5,7) have mixed types. Specify dtype option on import or set low_memory=False.\n",
      "  df = pd.read_csv(file)\n"
     ]
    },
    {
     "name": "stdout",
     "output_type": "stream",
     "text": [
      "  📖 Reading: ..//extracted_tripdata4\\2023\\202304-citibike-tripdata_3.csv\n"
     ]
    },
    {
     "name": "stderr",
     "output_type": "stream",
     "text": [
      "C:\\Users\\yanhu\\AppData\\Local\\Temp\\ipykernel_17936\\1067256146.py:17: DtypeWarning: Columns (5,7) have mixed types. Specify dtype option on import or set low_memory=False.\n",
      "  df = pd.read_csv(file)\n"
     ]
    },
    {
     "name": "stdout",
     "output_type": "stream",
     "text": [
      "  📖 Reading: ..//extracted_tripdata4\\2023\\202305-citibike-tripdata_1.csv\n"
     ]
    },
    {
     "name": "stderr",
     "output_type": "stream",
     "text": [
      "C:\\Users\\yanhu\\AppData\\Local\\Temp\\ipykernel_17936\\1067256146.py:17: DtypeWarning: Columns (7) have mixed types. Specify dtype option on import or set low_memory=False.\n",
      "  df = pd.read_csv(file)\n"
     ]
    },
    {
     "name": "stdout",
     "output_type": "stream",
     "text": [
      "  📖 Reading: ..//extracted_tripdata4\\2023\\202305-citibike-tripdata_2.csv\n"
     ]
    },
    {
     "name": "stderr",
     "output_type": "stream",
     "text": [
      "C:\\Users\\yanhu\\AppData\\Local\\Temp\\ipykernel_17936\\1067256146.py:17: DtypeWarning: Columns (7) have mixed types. Specify dtype option on import or set low_memory=False.\n",
      "  df = pd.read_csv(file)\n"
     ]
    },
    {
     "name": "stdout",
     "output_type": "stream",
     "text": [
      "  📖 Reading: ..//extracted_tripdata4\\2023\\202305-citibike-tripdata_3.csv\n"
     ]
    },
    {
     "name": "stderr",
     "output_type": "stream",
     "text": [
      "C:\\Users\\yanhu\\AppData\\Local\\Temp\\ipykernel_17936\\1067256146.py:17: DtypeWarning: Columns (5,7) have mixed types. Specify dtype option on import or set low_memory=False.\n",
      "  df = pd.read_csv(file)\n"
     ]
    },
    {
     "name": "stdout",
     "output_type": "stream",
     "text": [
      "  📖 Reading: ..//extracted_tripdata4\\2023\\202305-citibike-tripdata_4.csv\n"
     ]
    },
    {
     "name": "stderr",
     "output_type": "stream",
     "text": [
      "C:\\Users\\yanhu\\AppData\\Local\\Temp\\ipykernel_17936\\1067256146.py:17: DtypeWarning: Columns (7) have mixed types. Specify dtype option on import or set low_memory=False.\n",
      "  df = pd.read_csv(file)\n"
     ]
    },
    {
     "name": "stdout",
     "output_type": "stream",
     "text": [
      "  📖 Reading: ..//extracted_tripdata4\\2023\\202306-citibike-tripdata_1.csv\n"
     ]
    },
    {
     "name": "stderr",
     "output_type": "stream",
     "text": [
      "C:\\Users\\yanhu\\AppData\\Local\\Temp\\ipykernel_17936\\1067256146.py:17: DtypeWarning: Columns (5,7) have mixed types. Specify dtype option on import or set low_memory=False.\n",
      "  df = pd.read_csv(file)\n"
     ]
    },
    {
     "name": "stdout",
     "output_type": "stream",
     "text": [
      "  📖 Reading: ..//extracted_tripdata4\\2023\\202306-citibike-tripdata_2.csv\n"
     ]
    },
    {
     "name": "stderr",
     "output_type": "stream",
     "text": [
      "C:\\Users\\yanhu\\AppData\\Local\\Temp\\ipykernel_17936\\1067256146.py:17: DtypeWarning: Columns (5,7) have mixed types. Specify dtype option on import or set low_memory=False.\n",
      "  df = pd.read_csv(file)\n"
     ]
    },
    {
     "name": "stdout",
     "output_type": "stream",
     "text": [
      "  📖 Reading: ..//extracted_tripdata4\\2023\\202306-citibike-tripdata_3.csv\n"
     ]
    },
    {
     "name": "stderr",
     "output_type": "stream",
     "text": [
      "C:\\Users\\yanhu\\AppData\\Local\\Temp\\ipykernel_17936\\1067256146.py:17: DtypeWarning: Columns (5,7) have mixed types. Specify dtype option on import or set low_memory=False.\n",
      "  df = pd.read_csv(file)\n"
     ]
    },
    {
     "name": "stdout",
     "output_type": "stream",
     "text": [
      "  📖 Reading: ..//extracted_tripdata4\\2023\\202306-citibike-tripdata_4.csv\n"
     ]
    },
    {
     "name": "stderr",
     "output_type": "stream",
     "text": [
      "C:\\Users\\yanhu\\AppData\\Local\\Temp\\ipykernel_17936\\1067256146.py:17: DtypeWarning: Columns (5) have mixed types. Specify dtype option on import or set low_memory=False.\n",
      "  df = pd.read_csv(file)\n"
     ]
    },
    {
     "name": "stdout",
     "output_type": "stream",
     "text": [
      "  📖 Reading: ..//extracted_tripdata4\\2023\\202307-citibike-tripdata_1.csv\n",
      "  📖 Reading: ..//extracted_tripdata4\\2023\\202307-citibike-tripdata_2.csv\n"
     ]
    },
    {
     "name": "stderr",
     "output_type": "stream",
     "text": [
      "C:\\Users\\yanhu\\AppData\\Local\\Temp\\ipykernel_17936\\1067256146.py:17: DtypeWarning: Columns (5,7) have mixed types. Specify dtype option on import or set low_memory=False.\n",
      "  df = pd.read_csv(file)\n"
     ]
    },
    {
     "name": "stdout",
     "output_type": "stream",
     "text": [
      "  📖 Reading: ..//extracted_tripdata4\\2023\\202307-citibike-tripdata_3.csv\n"
     ]
    },
    {
     "name": "stderr",
     "output_type": "stream",
     "text": [
      "C:\\Users\\yanhu\\AppData\\Local\\Temp\\ipykernel_17936\\1067256146.py:17: DtypeWarning: Columns (5) have mixed types. Specify dtype option on import or set low_memory=False.\n",
      "  df = pd.read_csv(file)\n"
     ]
    },
    {
     "name": "stdout",
     "output_type": "stream",
     "text": [
      "  📖 Reading: ..//extracted_tripdata4\\2023\\202307-citibike-tripdata_4.csv\n"
     ]
    },
    {
     "name": "stderr",
     "output_type": "stream",
     "text": [
      "C:\\Users\\yanhu\\AppData\\Local\\Temp\\ipykernel_17936\\1067256146.py:17: DtypeWarning: Columns (5,7) have mixed types. Specify dtype option on import or set low_memory=False.\n",
      "  df = pd.read_csv(file)\n"
     ]
    },
    {
     "name": "stdout",
     "output_type": "stream",
     "text": [
      "  📖 Reading: ..//extracted_tripdata4\\2023\\202308-citibike-tripdata_1.csv\n"
     ]
    },
    {
     "name": "stderr",
     "output_type": "stream",
     "text": [
      "C:\\Users\\yanhu\\AppData\\Local\\Temp\\ipykernel_17936\\1067256146.py:17: DtypeWarning: Columns (5,7) have mixed types. Specify dtype option on import or set low_memory=False.\n",
      "  df = pd.read_csv(file)\n"
     ]
    },
    {
     "name": "stdout",
     "output_type": "stream",
     "text": [
      "  📖 Reading: ..//extracted_tripdata4\\2023\\202308-citibike-tripdata_2.csv\n"
     ]
    },
    {
     "name": "stderr",
     "output_type": "stream",
     "text": [
      "C:\\Users\\yanhu\\AppData\\Local\\Temp\\ipykernel_17936\\1067256146.py:17: DtypeWarning: Columns (5,7) have mixed types. Specify dtype option on import or set low_memory=False.\n",
      "  df = pd.read_csv(file)\n"
     ]
    },
    {
     "name": "stdout",
     "output_type": "stream",
     "text": [
      "  📖 Reading: ..//extracted_tripdata4\\2023\\202308-citibike-tripdata_3.csv\n"
     ]
    },
    {
     "name": "stderr",
     "output_type": "stream",
     "text": [
      "C:\\Users\\yanhu\\AppData\\Local\\Temp\\ipykernel_17936\\1067256146.py:17: DtypeWarning: Columns (5,7) have mixed types. Specify dtype option on import or set low_memory=False.\n",
      "  df = pd.read_csv(file)\n"
     ]
    },
    {
     "name": "stdout",
     "output_type": "stream",
     "text": [
      "  📖 Reading: ..//extracted_tripdata4\\2023\\202308-citibike-tripdata_4.csv\n"
     ]
    },
    {
     "name": "stderr",
     "output_type": "stream",
     "text": [
      "C:\\Users\\yanhu\\AppData\\Local\\Temp\\ipykernel_17936\\1067256146.py:17: DtypeWarning: Columns (5,7) have mixed types. Specify dtype option on import or set low_memory=False.\n",
      "  df = pd.read_csv(file)\n"
     ]
    },
    {
     "name": "stdout",
     "output_type": "stream",
     "text": [
      "  📖 Reading: ..//extracted_tripdata4\\2023\\202309-citibike-tripdata_1.csv\n"
     ]
    },
    {
     "name": "stderr",
     "output_type": "stream",
     "text": [
      "C:\\Users\\yanhu\\AppData\\Local\\Temp\\ipykernel_17936\\1067256146.py:17: DtypeWarning: Columns (5,7) have mixed types. Specify dtype option on import or set low_memory=False.\n",
      "  df = pd.read_csv(file)\n"
     ]
    },
    {
     "name": "stdout",
     "output_type": "stream",
     "text": [
      "  📖 Reading: ..//extracted_tripdata4\\2023\\202309-citibike-tripdata_2.csv\n"
     ]
    },
    {
     "name": "stderr",
     "output_type": "stream",
     "text": [
      "C:\\Users\\yanhu\\AppData\\Local\\Temp\\ipykernel_17936\\1067256146.py:17: DtypeWarning: Columns (5,7) have mixed types. Specify dtype option on import or set low_memory=False.\n",
      "  df = pd.read_csv(file)\n"
     ]
    },
    {
     "name": "stdout",
     "output_type": "stream",
     "text": [
      "  📖 Reading: ..//extracted_tripdata4\\2023\\202309-citibike-tripdata_3.csv\n"
     ]
    },
    {
     "name": "stderr",
     "output_type": "stream",
     "text": [
      "C:\\Users\\yanhu\\AppData\\Local\\Temp\\ipykernel_17936\\1067256146.py:17: DtypeWarning: Columns (5,7) have mixed types. Specify dtype option on import or set low_memory=False.\n",
      "  df = pd.read_csv(file)\n"
     ]
    },
    {
     "name": "stdout",
     "output_type": "stream",
     "text": [
      "  📖 Reading: ..//extracted_tripdata4\\2023\\202309-citibike-tripdata_4.csv\n"
     ]
    },
    {
     "name": "stderr",
     "output_type": "stream",
     "text": [
      "C:\\Users\\yanhu\\AppData\\Local\\Temp\\ipykernel_17936\\1067256146.py:17: DtypeWarning: Columns (5,7) have mixed types. Specify dtype option on import or set low_memory=False.\n",
      "  df = pd.read_csv(file)\n"
     ]
    },
    {
     "name": "stdout",
     "output_type": "stream",
     "text": [
      "  📖 Reading: ..//extracted_tripdata4\\2023\\202310-citibike-tripdata_1.csv\n"
     ]
    },
    {
     "name": "stderr",
     "output_type": "stream",
     "text": [
      "C:\\Users\\yanhu\\AppData\\Local\\Temp\\ipykernel_17936\\1067256146.py:17: DtypeWarning: Columns (5,7) have mixed types. Specify dtype option on import or set low_memory=False.\n",
      "  df = pd.read_csv(file)\n"
     ]
    },
    {
     "name": "stdout",
     "output_type": "stream",
     "text": [
      "  📖 Reading: ..//extracted_tripdata4\\2023\\202310-citibike-tripdata_2.csv\n"
     ]
    },
    {
     "name": "stderr",
     "output_type": "stream",
     "text": [
      "C:\\Users\\yanhu\\AppData\\Local\\Temp\\ipykernel_17936\\1067256146.py:17: DtypeWarning: Columns (5,7) have mixed types. Specify dtype option on import or set low_memory=False.\n",
      "  df = pd.read_csv(file)\n"
     ]
    },
    {
     "name": "stdout",
     "output_type": "stream",
     "text": [
      "  📖 Reading: ..//extracted_tripdata4\\2023\\202310-citibike-tripdata_3.csv\n"
     ]
    },
    {
     "name": "stderr",
     "output_type": "stream",
     "text": [
      "C:\\Users\\yanhu\\AppData\\Local\\Temp\\ipykernel_17936\\1067256146.py:17: DtypeWarning: Columns (7) have mixed types. Specify dtype option on import or set low_memory=False.\n",
      "  df = pd.read_csv(file)\n"
     ]
    },
    {
     "name": "stdout",
     "output_type": "stream",
     "text": [
      "  📖 Reading: ..//extracted_tripdata4\\2023\\202310-citibike-tripdata_4.csv\n"
     ]
    },
    {
     "name": "stderr",
     "output_type": "stream",
     "text": [
      "C:\\Users\\yanhu\\AppData\\Local\\Temp\\ipykernel_17936\\1067256146.py:17: DtypeWarning: Columns (7) have mixed types. Specify dtype option on import or set low_memory=False.\n",
      "  df = pd.read_csv(file)\n"
     ]
    },
    {
     "name": "stdout",
     "output_type": "stream",
     "text": [
      "  📖 Reading: ..//extracted_tripdata4\\2023\\202311-citibike-tripdata_1.csv\n"
     ]
    },
    {
     "name": "stderr",
     "output_type": "stream",
     "text": [
      "C:\\Users\\yanhu\\AppData\\Local\\Temp\\ipykernel_17936\\1067256146.py:17: DtypeWarning: Columns (7) have mixed types. Specify dtype option on import or set low_memory=False.\n",
      "  df = pd.read_csv(file)\n"
     ]
    },
    {
     "name": "stdout",
     "output_type": "stream",
     "text": [
      "  📖 Reading: ..//extracted_tripdata4\\2023\\202311-citibike-tripdata_2.csv\n"
     ]
    },
    {
     "name": "stderr",
     "output_type": "stream",
     "text": [
      "C:\\Users\\yanhu\\AppData\\Local\\Temp\\ipykernel_17936\\1067256146.py:17: DtypeWarning: Columns (7) have mixed types. Specify dtype option on import or set low_memory=False.\n",
      "  df = pd.read_csv(file)\n"
     ]
    },
    {
     "name": "stdout",
     "output_type": "stream",
     "text": [
      "  📖 Reading: ..//extracted_tripdata4\\2023\\202311-citibike-tripdata_3.csv\n"
     ]
    },
    {
     "name": "stderr",
     "output_type": "stream",
     "text": [
      "C:\\Users\\yanhu\\AppData\\Local\\Temp\\ipykernel_17936\\1067256146.py:17: DtypeWarning: Columns (7) have mixed types. Specify dtype option on import or set low_memory=False.\n",
      "  df = pd.read_csv(file)\n"
     ]
    },
    {
     "name": "stdout",
     "output_type": "stream",
     "text": [
      "  📖 Reading: ..//extracted_tripdata4\\2023\\202312-citibike-tripdata_1.csv\n",
      "  📖 Reading: ..//extracted_tripdata4\\2023\\202312-citibike-tripdata_2.csv\n"
     ]
    },
    {
     "name": "stderr",
     "output_type": "stream",
     "text": [
      "C:\\Users\\yanhu\\AppData\\Local\\Temp\\ipykernel_17936\\1067256146.py:17: DtypeWarning: Columns (5,7) have mixed types. Specify dtype option on import or set low_memory=False.\n",
      "  df = pd.read_csv(file)\n"
     ]
    },
    {
     "name": "stdout",
     "output_type": "stream",
     "text": [
      "  📖 Reading: ..//extracted_tripdata4\\2023\\202312-citibike-tripdata_3.csv\n"
     ]
    },
    {
     "name": "stderr",
     "output_type": "stream",
     "text": [
      "C:\\Users\\yanhu\\AppData\\Local\\Temp\\ipykernel_17936\\1067256146.py:17: DtypeWarning: Columns (7) have mixed types. Specify dtype option on import or set low_memory=False.\n",
      "  df = pd.read_csv(file)\n"
     ]
    },
    {
     "name": "stdout",
     "output_type": "stream",
     "text": [
      "  📖 Reading: ..//extracted_tripdata4\\2023\\JC-202301-citibike-tripdata.csv\n",
      "  📖 Reading: ..//extracted_tripdata4\\2023\\JC-202302-citibike-tripdata.csv\n",
      "  📖 Reading: ..//extracted_tripdata4\\2023\\JC-202303-citibike-tripdata.csv\n",
      "  📖 Reading: ..//extracted_tripdata4\\2023\\JC-202304-citibike-tripdata.csv\n",
      "  📖 Reading: ..//extracted_tripdata4\\2023\\JC-202305-citibike-tripdata.csv\n",
      "  📖 Reading: ..//extracted_tripdata4\\2023\\JC-202306-citibike-tripdata.csv\n",
      "  📖 Reading: ..//extracted_tripdata4\\2023\\JC-202307-citibike-tripdata.csv\n",
      "  📖 Reading: ..//extracted_tripdata4\\2023\\JC-202308-citibike-tripdata.csv\n",
      "  📖 Reading: ..//extracted_tripdata4\\2023\\JC-202309-citibike-tripdata.csv\n",
      "  📖 Reading: ..//extracted_tripdata4\\2023\\JC-202310-citibike-tripdata.csv\n",
      "  📖 Reading: ..//extracted_tripdata4\\2023\\JC-202311-citibike-tripdata.csv\n",
      "  📖 Reading: ..//extracted_tripdata4\\2023\\JC-202312-citibike-tripdata.csv\n",
      "Original rows: 36095837\n",
      "  ✅ Merged CSV saved to: ..//merged_tripdata3\\2023_merged.csv\n",
      "\n",
      "📁 Found 62 CSV files in ..//extracted_tripdata4\\2024\n",
      "  📖 Reading: ..//extracted_tripdata4\\2024\\202401-citibike-tripdata_1.csv\n"
     ]
    },
    {
     "name": "stderr",
     "output_type": "stream",
     "text": [
      "C:\\Users\\yanhu\\AppData\\Local\\Temp\\ipykernel_17936\\1067256146.py:17: DtypeWarning: Columns (5) have mixed types. Specify dtype option on import or set low_memory=False.\n",
      "  df = pd.read_csv(file)\n"
     ]
    },
    {
     "name": "stdout",
     "output_type": "stream",
     "text": [
      "  📖 Reading: ..//extracted_tripdata4\\2024\\202401-citibike-tripdata_2.csv\n"
     ]
    },
    {
     "name": "stderr",
     "output_type": "stream",
     "text": [
      "C:\\Users\\yanhu\\AppData\\Local\\Temp\\ipykernel_17936\\1067256146.py:17: DtypeWarning: Columns (5,7) have mixed types. Specify dtype option on import or set low_memory=False.\n",
      "  df = pd.read_csv(file)\n"
     ]
    },
    {
     "name": "stdout",
     "output_type": "stream",
     "text": [
      "  📖 Reading: ..//extracted_tripdata4\\2024\\202402-citibike-tripdata_1.csv\n"
     ]
    },
    {
     "name": "stderr",
     "output_type": "stream",
     "text": [
      "C:\\Users\\yanhu\\AppData\\Local\\Temp\\ipykernel_17936\\1067256146.py:17: DtypeWarning: Columns (5,7) have mixed types. Specify dtype option on import or set low_memory=False.\n",
      "  df = pd.read_csv(file)\n"
     ]
    },
    {
     "name": "stdout",
     "output_type": "stream",
     "text": [
      "  📖 Reading: ..//extracted_tripdata4\\2024\\202402-citibike-tripdata_2.csv\n"
     ]
    },
    {
     "name": "stderr",
     "output_type": "stream",
     "text": [
      "C:\\Users\\yanhu\\AppData\\Local\\Temp\\ipykernel_17936\\1067256146.py:17: DtypeWarning: Columns (7) have mixed types. Specify dtype option on import or set low_memory=False.\n",
      "  df = pd.read_csv(file)\n"
     ]
    },
    {
     "name": "stdout",
     "output_type": "stream",
     "text": [
      "  📖 Reading: ..//extracted_tripdata4\\2024\\202402-citibike-tripdata_3.csv\n"
     ]
    },
    {
     "name": "stderr",
     "output_type": "stream",
     "text": [
      "C:\\Users\\yanhu\\AppData\\Local\\Temp\\ipykernel_17936\\1067256146.py:17: DtypeWarning: Columns (7) have mixed types. Specify dtype option on import or set low_memory=False.\n",
      "  df = pd.read_csv(file)\n"
     ]
    },
    {
     "name": "stdout",
     "output_type": "stream",
     "text": [
      "  📖 Reading: ..//extracted_tripdata4\\2024\\202403-citibike-tripdata_1.csv\n"
     ]
    },
    {
     "name": "stderr",
     "output_type": "stream",
     "text": [
      "C:\\Users\\yanhu\\AppData\\Local\\Temp\\ipykernel_17936\\1067256146.py:17: DtypeWarning: Columns (5,7) have mixed types. Specify dtype option on import or set low_memory=False.\n",
      "  df = pd.read_csv(file)\n"
     ]
    },
    {
     "name": "stdout",
     "output_type": "stream",
     "text": [
      "  📖 Reading: ..//extracted_tripdata4\\2024\\202403-citibike-tripdata_2.csv\n"
     ]
    },
    {
     "name": "stderr",
     "output_type": "stream",
     "text": [
      "C:\\Users\\yanhu\\AppData\\Local\\Temp\\ipykernel_17936\\1067256146.py:17: DtypeWarning: Columns (5,7) have mixed types. Specify dtype option on import or set low_memory=False.\n",
      "  df = pd.read_csv(file)\n"
     ]
    },
    {
     "name": "stdout",
     "output_type": "stream",
     "text": [
      "  📖 Reading: ..//extracted_tripdata4\\2024\\202403-citibike-tripdata_3.csv\n"
     ]
    },
    {
     "name": "stderr",
     "output_type": "stream",
     "text": [
      "C:\\Users\\yanhu\\AppData\\Local\\Temp\\ipykernel_17936\\1067256146.py:17: DtypeWarning: Columns (5,7) have mixed types. Specify dtype option on import or set low_memory=False.\n",
      "  df = pd.read_csv(file)\n"
     ]
    },
    {
     "name": "stdout",
     "output_type": "stream",
     "text": [
      "  📖 Reading: ..//extracted_tripdata4\\2024\\202404-citibike-tripdata_1.csv\n"
     ]
    },
    {
     "name": "stderr",
     "output_type": "stream",
     "text": [
      "C:\\Users\\yanhu\\AppData\\Local\\Temp\\ipykernel_17936\\1067256146.py:17: DtypeWarning: Columns (5,7) have mixed types. Specify dtype option on import or set low_memory=False.\n",
      "  df = pd.read_csv(file)\n"
     ]
    },
    {
     "name": "stdout",
     "output_type": "stream",
     "text": [
      "  📖 Reading: ..//extracted_tripdata4\\2024\\202404-citibike-tripdata_2.csv\n"
     ]
    },
    {
     "name": "stderr",
     "output_type": "stream",
     "text": [
      "C:\\Users\\yanhu\\AppData\\Local\\Temp\\ipykernel_17936\\1067256146.py:17: DtypeWarning: Columns (5) have mixed types. Specify dtype option on import or set low_memory=False.\n",
      "  df = pd.read_csv(file)\n"
     ]
    },
    {
     "name": "stdout",
     "output_type": "stream",
     "text": [
      "  📖 Reading: ..//extracted_tripdata4\\2024\\202404-citibike-tripdata_3.csv\n"
     ]
    },
    {
     "name": "stderr",
     "output_type": "stream",
     "text": [
      "C:\\Users\\yanhu\\AppData\\Local\\Temp\\ipykernel_17936\\1067256146.py:17: DtypeWarning: Columns (5,7) have mixed types. Specify dtype option on import or set low_memory=False.\n",
      "  df = pd.read_csv(file)\n"
     ]
    },
    {
     "name": "stdout",
     "output_type": "stream",
     "text": [
      "  📖 Reading: ..//extracted_tripdata4\\2024\\202404-citibike-tripdata_4.csv\n",
      "  📖 Reading: ..//extracted_tripdata4\\2024\\202405-citibike-tripdata_1.csv\n"
     ]
    },
    {
     "name": "stderr",
     "output_type": "stream",
     "text": [
      "C:\\Users\\yanhu\\AppData\\Local\\Temp\\ipykernel_17936\\1067256146.py:17: DtypeWarning: Columns (5,7) have mixed types. Specify dtype option on import or set low_memory=False.\n",
      "  df = pd.read_csv(file)\n"
     ]
    },
    {
     "name": "stdout",
     "output_type": "stream",
     "text": [
      "  📖 Reading: ..//extracted_tripdata4\\2024\\202405-citibike-tripdata_2.csv\n"
     ]
    },
    {
     "name": "stderr",
     "output_type": "stream",
     "text": [
      "C:\\Users\\yanhu\\AppData\\Local\\Temp\\ipykernel_17936\\1067256146.py:17: DtypeWarning: Columns (5,7) have mixed types. Specify dtype option on import or set low_memory=False.\n",
      "  df = pd.read_csv(file)\n"
     ]
    },
    {
     "name": "stdout",
     "output_type": "stream",
     "text": [
      "  📖 Reading: ..//extracted_tripdata4\\2024\\202405-citibike-tripdata_3.csv\n"
     ]
    },
    {
     "name": "stderr",
     "output_type": "stream",
     "text": [
      "C:\\Users\\yanhu\\AppData\\Local\\Temp\\ipykernel_17936\\1067256146.py:17: DtypeWarning: Columns (5,7) have mixed types. Specify dtype option on import or set low_memory=False.\n",
      "  df = pd.read_csv(file)\n"
     ]
    },
    {
     "name": "stdout",
     "output_type": "stream",
     "text": [
      "  📖 Reading: ..//extracted_tripdata4\\2024\\202405-citibike-tripdata_4.csv\n"
     ]
    },
    {
     "name": "stderr",
     "output_type": "stream",
     "text": [
      "C:\\Users\\yanhu\\AppData\\Local\\Temp\\ipykernel_17936\\1067256146.py:17: DtypeWarning: Columns (5,7) have mixed types. Specify dtype option on import or set low_memory=False.\n",
      "  df = pd.read_csv(file)\n"
     ]
    },
    {
     "name": "stdout",
     "output_type": "stream",
     "text": [
      "  📖 Reading: ..//extracted_tripdata4\\2024\\202405-citibike-tripdata_5.csv\n"
     ]
    },
    {
     "name": "stderr",
     "output_type": "stream",
     "text": [
      "C:\\Users\\yanhu\\AppData\\Local\\Temp\\ipykernel_17936\\1067256146.py:17: DtypeWarning: Columns (5) have mixed types. Specify dtype option on import or set low_memory=False.\n",
      "  df = pd.read_csv(file)\n"
     ]
    },
    {
     "name": "stdout",
     "output_type": "stream",
     "text": [
      "  📖 Reading: ..//extracted_tripdata4\\2024\\202406-citibike-tripdata_1.csv\n"
     ]
    },
    {
     "name": "stderr",
     "output_type": "stream",
     "text": [
      "C:\\Users\\yanhu\\AppData\\Local\\Temp\\ipykernel_17936\\1067256146.py:17: DtypeWarning: Columns (5,7) have mixed types. Specify dtype option on import or set low_memory=False.\n",
      "  df = pd.read_csv(file)\n"
     ]
    },
    {
     "name": "stdout",
     "output_type": "stream",
     "text": [
      "  📖 Reading: ..//extracted_tripdata4\\2024\\202406-citibike-tripdata_2.csv\n"
     ]
    },
    {
     "name": "stderr",
     "output_type": "stream",
     "text": [
      "C:\\Users\\yanhu\\AppData\\Local\\Temp\\ipykernel_17936\\1067256146.py:17: DtypeWarning: Columns (5,7) have mixed types. Specify dtype option on import or set low_memory=False.\n",
      "  df = pd.read_csv(file)\n"
     ]
    },
    {
     "name": "stdout",
     "output_type": "stream",
     "text": [
      "  📖 Reading: ..//extracted_tripdata4\\2024\\202406-citibike-tripdata_3.csv\n"
     ]
    },
    {
     "name": "stderr",
     "output_type": "stream",
     "text": [
      "C:\\Users\\yanhu\\AppData\\Local\\Temp\\ipykernel_17936\\1067256146.py:17: DtypeWarning: Columns (5,7) have mixed types. Specify dtype option on import or set low_memory=False.\n",
      "  df = pd.read_csv(file)\n"
     ]
    },
    {
     "name": "stdout",
     "output_type": "stream",
     "text": [
      "  📖 Reading: ..//extracted_tripdata4\\2024\\202406-citibike-tripdata_4.csv\n"
     ]
    },
    {
     "name": "stderr",
     "output_type": "stream",
     "text": [
      "C:\\Users\\yanhu\\AppData\\Local\\Temp\\ipykernel_17936\\1067256146.py:17: DtypeWarning: Columns (5,7) have mixed types. Specify dtype option on import or set low_memory=False.\n",
      "  df = pd.read_csv(file)\n"
     ]
    },
    {
     "name": "stdout",
     "output_type": "stream",
     "text": [
      "  📖 Reading: ..//extracted_tripdata4\\2024\\202406-citibike-tripdata_5.csv\n"
     ]
    },
    {
     "name": "stderr",
     "output_type": "stream",
     "text": [
      "C:\\Users\\yanhu\\AppData\\Local\\Temp\\ipykernel_17936\\1067256146.py:17: DtypeWarning: Columns (5,7) have mixed types. Specify dtype option on import or set low_memory=False.\n",
      "  df = pd.read_csv(file)\n"
     ]
    },
    {
     "name": "stdout",
     "output_type": "stream",
     "text": [
      "  📖 Reading: ..//extracted_tripdata4\\2024\\202407-citibike-tripdata_1.csv\n"
     ]
    },
    {
     "name": "stderr",
     "output_type": "stream",
     "text": [
      "C:\\Users\\yanhu\\AppData\\Local\\Temp\\ipykernel_17936\\1067256146.py:17: DtypeWarning: Columns (5,7) have mixed types. Specify dtype option on import or set low_memory=False.\n",
      "  df = pd.read_csv(file)\n"
     ]
    },
    {
     "name": "stdout",
     "output_type": "stream",
     "text": [
      "  📖 Reading: ..//extracted_tripdata4\\2024\\202407-citibike-tripdata_2.csv\n"
     ]
    },
    {
     "name": "stderr",
     "output_type": "stream",
     "text": [
      "C:\\Users\\yanhu\\AppData\\Local\\Temp\\ipykernel_17936\\1067256146.py:17: DtypeWarning: Columns (7) have mixed types. Specify dtype option on import or set low_memory=False.\n",
      "  df = pd.read_csv(file)\n"
     ]
    },
    {
     "name": "stdout",
     "output_type": "stream",
     "text": [
      "  📖 Reading: ..//extracted_tripdata4\\2024\\202407-citibike-tripdata_3.csv\n"
     ]
    },
    {
     "name": "stderr",
     "output_type": "stream",
     "text": [
      "C:\\Users\\yanhu\\AppData\\Local\\Temp\\ipykernel_17936\\1067256146.py:17: DtypeWarning: Columns (7) have mixed types. Specify dtype option on import or set low_memory=False.\n",
      "  df = pd.read_csv(file)\n"
     ]
    },
    {
     "name": "stdout",
     "output_type": "stream",
     "text": [
      "  📖 Reading: ..//extracted_tripdata4\\2024\\202407-citibike-tripdata_4.csv\n"
     ]
    },
    {
     "name": "stderr",
     "output_type": "stream",
     "text": [
      "C:\\Users\\yanhu\\AppData\\Local\\Temp\\ipykernel_17936\\1067256146.py:17: DtypeWarning: Columns (7) have mixed types. Specify dtype option on import or set low_memory=False.\n",
      "  df = pd.read_csv(file)\n"
     ]
    },
    {
     "name": "stdout",
     "output_type": "stream",
     "text": [
      "  📖 Reading: ..//extracted_tripdata4\\2024\\202407-citibike-tripdata_5.csv\n"
     ]
    },
    {
     "name": "stderr",
     "output_type": "stream",
     "text": [
      "C:\\Users\\yanhu\\AppData\\Local\\Temp\\ipykernel_17936\\1067256146.py:17: DtypeWarning: Columns (5,7) have mixed types. Specify dtype option on import or set low_memory=False.\n",
      "  df = pd.read_csv(file)\n"
     ]
    },
    {
     "name": "stdout",
     "output_type": "stream",
     "text": [
      "  📖 Reading: ..//extracted_tripdata4\\2024\\202408-citibike-tripdata_1.csv\n"
     ]
    },
    {
     "name": "stderr",
     "output_type": "stream",
     "text": [
      "C:\\Users\\yanhu\\AppData\\Local\\Temp\\ipykernel_17936\\1067256146.py:17: DtypeWarning: Columns (7) have mixed types. Specify dtype option on import or set low_memory=False.\n",
      "  df = pd.read_csv(file)\n"
     ]
    },
    {
     "name": "stdout",
     "output_type": "stream",
     "text": [
      "  📖 Reading: ..//extracted_tripdata4\\2024\\202408-citibike-tripdata_2.csv\n"
     ]
    },
    {
     "name": "stderr",
     "output_type": "stream",
     "text": [
      "C:\\Users\\yanhu\\AppData\\Local\\Temp\\ipykernel_17936\\1067256146.py:17: DtypeWarning: Columns (5,7) have mixed types. Specify dtype option on import or set low_memory=False.\n",
      "  df = pd.read_csv(file)\n"
     ]
    },
    {
     "name": "stdout",
     "output_type": "stream",
     "text": [
      "  📖 Reading: ..//extracted_tripdata4\\2024\\202408-citibike-tripdata_3.csv\n"
     ]
    },
    {
     "name": "stderr",
     "output_type": "stream",
     "text": [
      "C:\\Users\\yanhu\\AppData\\Local\\Temp\\ipykernel_17936\\1067256146.py:17: DtypeWarning: Columns (5,7) have mixed types. Specify dtype option on import or set low_memory=False.\n",
      "  df = pd.read_csv(file)\n"
     ]
    },
    {
     "name": "stdout",
     "output_type": "stream",
     "text": [
      "  📖 Reading: ..//extracted_tripdata4\\2024\\202408-citibike-tripdata_4.csv\n"
     ]
    },
    {
     "name": "stderr",
     "output_type": "stream",
     "text": [
      "C:\\Users\\yanhu\\AppData\\Local\\Temp\\ipykernel_17936\\1067256146.py:17: DtypeWarning: Columns (5,7) have mixed types. Specify dtype option on import or set low_memory=False.\n",
      "  df = pd.read_csv(file)\n"
     ]
    },
    {
     "name": "stdout",
     "output_type": "stream",
     "text": [
      "  📖 Reading: ..//extracted_tripdata4\\2024\\202408-citibike-tripdata_5.csv\n"
     ]
    },
    {
     "name": "stderr",
     "output_type": "stream",
     "text": [
      "C:\\Users\\yanhu\\AppData\\Local\\Temp\\ipykernel_17936\\1067256146.py:17: DtypeWarning: Columns (5,7) have mixed types. Specify dtype option on import or set low_memory=False.\n",
      "  df = pd.read_csv(file)\n"
     ]
    },
    {
     "name": "stdout",
     "output_type": "stream",
     "text": [
      "  📖 Reading: ..//extracted_tripdata4\\2024\\202409-citibike-tripdata_1.csv\n"
     ]
    },
    {
     "name": "stderr",
     "output_type": "stream",
     "text": [
      "C:\\Users\\yanhu\\AppData\\Local\\Temp\\ipykernel_17936\\1067256146.py:17: DtypeWarning: Columns (5,7) have mixed types. Specify dtype option on import or set low_memory=False.\n",
      "  df = pd.read_csv(file)\n"
     ]
    },
    {
     "name": "stdout",
     "output_type": "stream",
     "text": [
      "  📖 Reading: ..//extracted_tripdata4\\2024\\202409-citibike-tripdata_2.csv\n"
     ]
    },
    {
     "name": "stderr",
     "output_type": "stream",
     "text": [
      "C:\\Users\\yanhu\\AppData\\Local\\Temp\\ipykernel_17936\\1067256146.py:17: DtypeWarning: Columns (7) have mixed types. Specify dtype option on import or set low_memory=False.\n",
      "  df = pd.read_csv(file)\n"
     ]
    },
    {
     "name": "stdout",
     "output_type": "stream",
     "text": [
      "  📖 Reading: ..//extracted_tripdata4\\2024\\202409-citibike-tripdata_3.csv\n"
     ]
    },
    {
     "name": "stderr",
     "output_type": "stream",
     "text": [
      "C:\\Users\\yanhu\\AppData\\Local\\Temp\\ipykernel_17936\\1067256146.py:17: DtypeWarning: Columns (7) have mixed types. Specify dtype option on import or set low_memory=False.\n",
      "  df = pd.read_csv(file)\n"
     ]
    },
    {
     "name": "stdout",
     "output_type": "stream",
     "text": [
      "  📖 Reading: ..//extracted_tripdata4\\2024\\202409-citibike-tripdata_4.csv\n"
     ]
    },
    {
     "name": "stderr",
     "output_type": "stream",
     "text": [
      "C:\\Users\\yanhu\\AppData\\Local\\Temp\\ipykernel_17936\\1067256146.py:17: DtypeWarning: Columns (7) have mixed types. Specify dtype option on import or set low_memory=False.\n",
      "  df = pd.read_csv(file)\n"
     ]
    },
    {
     "name": "stdout",
     "output_type": "stream",
     "text": [
      "  📖 Reading: ..//extracted_tripdata4\\2024\\202409-citibike-tripdata_5.csv\n"
     ]
    },
    {
     "name": "stderr",
     "output_type": "stream",
     "text": [
      "C:\\Users\\yanhu\\AppData\\Local\\Temp\\ipykernel_17936\\1067256146.py:17: DtypeWarning: Columns (5,7) have mixed types. Specify dtype option on import or set low_memory=False.\n",
      "  df = pd.read_csv(file)\n"
     ]
    },
    {
     "name": "stdout",
     "output_type": "stream",
     "text": [
      "  📖 Reading: ..//extracted_tripdata4\\2024\\202410-citibike-tripdata_1.csv\n"
     ]
    },
    {
     "name": "stderr",
     "output_type": "stream",
     "text": [
      "C:\\Users\\yanhu\\AppData\\Local\\Temp\\ipykernel_17936\\1067256146.py:17: DtypeWarning: Columns (5) have mixed types. Specify dtype option on import or set low_memory=False.\n",
      "  df = pd.read_csv(file)\n"
     ]
    },
    {
     "name": "stdout",
     "output_type": "stream",
     "text": [
      "  📖 Reading: ..//extracted_tripdata4\\2024\\202410-citibike-tripdata_2.csv\n"
     ]
    },
    {
     "name": "stderr",
     "output_type": "stream",
     "text": [
      "C:\\Users\\yanhu\\AppData\\Local\\Temp\\ipykernel_17936\\1067256146.py:17: DtypeWarning: Columns (5,7) have mixed types. Specify dtype option on import or set low_memory=False.\n",
      "  df = pd.read_csv(file)\n"
     ]
    },
    {
     "name": "stdout",
     "output_type": "stream",
     "text": [
      "  📖 Reading: ..//extracted_tripdata4\\2024\\202410-citibike-tripdata_3.csv\n"
     ]
    },
    {
     "name": "stderr",
     "output_type": "stream",
     "text": [
      "C:\\Users\\yanhu\\AppData\\Local\\Temp\\ipykernel_17936\\1067256146.py:17: DtypeWarning: Columns (7) have mixed types. Specify dtype option on import or set low_memory=False.\n",
      "  df = pd.read_csv(file)\n"
     ]
    },
    {
     "name": "stdout",
     "output_type": "stream",
     "text": [
      "  📖 Reading: ..//extracted_tripdata4\\2024\\202410-citibike-tripdata_4.csv\n"
     ]
    },
    {
     "name": "stderr",
     "output_type": "stream",
     "text": [
      "C:\\Users\\yanhu\\AppData\\Local\\Temp\\ipykernel_17936\\1067256146.py:17: DtypeWarning: Columns (7) have mixed types. Specify dtype option on import or set low_memory=False.\n",
      "  df = pd.read_csv(file)\n"
     ]
    },
    {
     "name": "stdout",
     "output_type": "stream",
     "text": [
      "  📖 Reading: ..//extracted_tripdata4\\2024\\202410-citibike-tripdata_5.csv\n"
     ]
    },
    {
     "name": "stderr",
     "output_type": "stream",
     "text": [
      "C:\\Users\\yanhu\\AppData\\Local\\Temp\\ipykernel_17936\\1067256146.py:17: DtypeWarning: Columns (5,7) have mixed types. Specify dtype option on import or set low_memory=False.\n",
      "  df = pd.read_csv(file)\n"
     ]
    },
    {
     "name": "stdout",
     "output_type": "stream",
     "text": [
      "  📖 Reading: ..//extracted_tripdata4\\2024\\202410-citibike-tripdata_6.csv\n"
     ]
    },
    {
     "name": "stderr",
     "output_type": "stream",
     "text": [
      "C:\\Users\\yanhu\\AppData\\Local\\Temp\\ipykernel_17936\\1067256146.py:17: DtypeWarning: Columns (5,7) have mixed types. Specify dtype option on import or set low_memory=False.\n",
      "  df = pd.read_csv(file)\n"
     ]
    },
    {
     "name": "stdout",
     "output_type": "stream",
     "text": [
      "  📖 Reading: ..//extracted_tripdata4\\2024\\202411-citibike-tripdata_1.csv\n"
     ]
    },
    {
     "name": "stderr",
     "output_type": "stream",
     "text": [
      "C:\\Users\\yanhu\\AppData\\Local\\Temp\\ipykernel_17936\\1067256146.py:17: DtypeWarning: Columns (5,7) have mixed types. Specify dtype option on import or set low_memory=False.\n",
      "  df = pd.read_csv(file)\n"
     ]
    },
    {
     "name": "stdout",
     "output_type": "stream",
     "text": [
      "  📖 Reading: ..//extracted_tripdata4\\2024\\202411-citibike-tripdata_2.csv\n"
     ]
    },
    {
     "name": "stderr",
     "output_type": "stream",
     "text": [
      "C:\\Users\\yanhu\\AppData\\Local\\Temp\\ipykernel_17936\\1067256146.py:17: DtypeWarning: Columns (5,7) have mixed types. Specify dtype option on import or set low_memory=False.\n",
      "  df = pd.read_csv(file)\n"
     ]
    },
    {
     "name": "stdout",
     "output_type": "stream",
     "text": [
      "  📖 Reading: ..//extracted_tripdata4\\2024\\202411-citibike-tripdata_3.csv\n"
     ]
    },
    {
     "name": "stderr",
     "output_type": "stream",
     "text": [
      "C:\\Users\\yanhu\\AppData\\Local\\Temp\\ipykernel_17936\\1067256146.py:17: DtypeWarning: Columns (5,7) have mixed types. Specify dtype option on import or set low_memory=False.\n",
      "  df = pd.read_csv(file)\n"
     ]
    },
    {
     "name": "stdout",
     "output_type": "stream",
     "text": [
      "  📖 Reading: ..//extracted_tripdata4\\2024\\202411-citibike-tripdata_4.csv\n",
      "  📖 Reading: ..//extracted_tripdata4\\2024\\202412-citibike-tripdata_1.csv\n"
     ]
    },
    {
     "name": "stderr",
     "output_type": "stream",
     "text": [
      "C:\\Users\\yanhu\\AppData\\Local\\Temp\\ipykernel_17936\\1067256146.py:17: DtypeWarning: Columns (7) have mixed types. Specify dtype option on import or set low_memory=False.\n",
      "  df = pd.read_csv(file)\n"
     ]
    },
    {
     "name": "stdout",
     "output_type": "stream",
     "text": [
      "  📖 Reading: ..//extracted_tripdata4\\2024\\202412-citibike-tripdata_2.csv\n"
     ]
    },
    {
     "name": "stderr",
     "output_type": "stream",
     "text": [
      "C:\\Users\\yanhu\\AppData\\Local\\Temp\\ipykernel_17936\\1067256146.py:17: DtypeWarning: Columns (5,7) have mixed types. Specify dtype option on import or set low_memory=False.\n",
      "  df = pd.read_csv(file)\n"
     ]
    },
    {
     "name": "stdout",
     "output_type": "stream",
     "text": [
      "  📖 Reading: ..//extracted_tripdata4\\2024\\202412-citibike-tripdata_3.csv\n",
      "  📖 Reading: ..//extracted_tripdata4\\2024\\JC-202401-citibike-tripdata.csv\n",
      "  📖 Reading: ..//extracted_tripdata4\\2024\\JC-202402-citibike-tripdata.csv\n",
      "  📖 Reading: ..//extracted_tripdata4\\2024\\JC-202403-citibike-tripdata.csv\n",
      "  📖 Reading: ..//extracted_tripdata4\\2024\\JC-202404-citibike-tripdata.csv\n",
      "  📖 Reading: ..//extracted_tripdata4\\2024\\JC-202405-citibike-tripdata.csv\n",
      "  📖 Reading: ..//extracted_tripdata4\\2024\\JC-202406-citibike-tripdata.csv\n",
      "  📖 Reading: ..//extracted_tripdata4\\2024\\JC-202407-citibike-tripdata.csv\n",
      "  📖 Reading: ..//extracted_tripdata4\\2024\\JC-202408-citibike-tripdata.csv\n",
      "  📖 Reading: ..//extracted_tripdata4\\2024\\JC-202409-citibike-tripdata.csv\n",
      "  📖 Reading: ..//extracted_tripdata4\\2024\\JC-202410-citibike-tripdata.csv\n",
      "  📖 Reading: ..//extracted_tripdata4\\2024\\JC-202411-citibike-tripdata.csv\n",
      "  📖 Reading: ..//extracted_tripdata4\\2024\\JC-202412-citibike-tripdata.csv\n",
      "Original rows: 45355660\n",
      "  ✅ Merged CSV saved to: ..//merged_tripdata3\\2024_merged.csv\n",
      "\n",
      "📁 Found 50 CSV files in ..//extracted_tripdata4\\2025\n",
      "  📖 Reading: ..//extracted_tripdata4\\2025\\202501-citibike-tripdata_1.csv\n"
     ]
    },
    {
     "name": "stderr",
     "output_type": "stream",
     "text": [
      "C:\\Users\\yanhu\\AppData\\Local\\Temp\\ipykernel_17936\\1067256146.py:17: DtypeWarning: Columns (5,7) have mixed types. Specify dtype option on import or set low_memory=False.\n",
      "  df = pd.read_csv(file)\n"
     ]
    },
    {
     "name": "stdout",
     "output_type": "stream",
     "text": [
      "  📖 Reading: ..//extracted_tripdata4\\2025\\202501-citibike-tripdata_2.csv\n"
     ]
    },
    {
     "name": "stderr",
     "output_type": "stream",
     "text": [
      "C:\\Users\\yanhu\\AppData\\Local\\Temp\\ipykernel_17936\\1067256146.py:17: DtypeWarning: Columns (5,7) have mixed types. Specify dtype option on import or set low_memory=False.\n",
      "  df = pd.read_csv(file)\n"
     ]
    },
    {
     "name": "stdout",
     "output_type": "stream",
     "text": [
      "  📖 Reading: ..//extracted_tripdata4\\2025\\202501-citibike-tripdata_3.csv\n",
      "  📖 Reading: ..//extracted_tripdata4\\2025\\202502-citibike-tripdata_1.csv\n"
     ]
    },
    {
     "name": "stderr",
     "output_type": "stream",
     "text": [
      "C:\\Users\\yanhu\\AppData\\Local\\Temp\\ipykernel_17936\\1067256146.py:17: DtypeWarning: Columns (7) have mixed types. Specify dtype option on import or set low_memory=False.\n",
      "  df = pd.read_csv(file)\n"
     ]
    },
    {
     "name": "stdout",
     "output_type": "stream",
     "text": [
      "  📖 Reading: ..//extracted_tripdata4\\2025\\202502-citibike-tripdata_2.csv\n"
     ]
    },
    {
     "name": "stderr",
     "output_type": "stream",
     "text": [
      "C:\\Users\\yanhu\\AppData\\Local\\Temp\\ipykernel_17936\\1067256146.py:17: DtypeWarning: Columns (5,7) have mixed types. Specify dtype option on import or set low_memory=False.\n",
      "  df = pd.read_csv(file)\n"
     ]
    },
    {
     "name": "stdout",
     "output_type": "stream",
     "text": [
      "  📖 Reading: ..//extracted_tripdata4\\2025\\202502-citibike-tripdata_3.csv\n",
      "  📖 Reading: ..//extracted_tripdata4\\2025\\202503-citibike-tripdata_1.csv\n"
     ]
    },
    {
     "name": "stderr",
     "output_type": "stream",
     "text": [
      "C:\\Users\\yanhu\\AppData\\Local\\Temp\\ipykernel_17936\\1067256146.py:17: DtypeWarning: Columns (5,7) have mixed types. Specify dtype option on import or set low_memory=False.\n",
      "  df = pd.read_csv(file)\n"
     ]
    },
    {
     "name": "stdout",
     "output_type": "stream",
     "text": [
      "  📖 Reading: ..//extracted_tripdata4\\2025\\202503-citibike-tripdata_2.csv\n"
     ]
    },
    {
     "name": "stderr",
     "output_type": "stream",
     "text": [
      "C:\\Users\\yanhu\\AppData\\Local\\Temp\\ipykernel_17936\\1067256146.py:17: DtypeWarning: Columns (5,7) have mixed types. Specify dtype option on import or set low_memory=False.\n",
      "  df = pd.read_csv(file)\n"
     ]
    },
    {
     "name": "stdout",
     "output_type": "stream",
     "text": [
      "  📖 Reading: ..//extracted_tripdata4\\2025\\202503-citibike-tripdata_3.csv\n"
     ]
    },
    {
     "name": "stderr",
     "output_type": "stream",
     "text": [
      "C:\\Users\\yanhu\\AppData\\Local\\Temp\\ipykernel_17936\\1067256146.py:17: DtypeWarning: Columns (5,7) have mixed types. Specify dtype option on import or set low_memory=False.\n",
      "  df = pd.read_csv(file)\n"
     ]
    },
    {
     "name": "stdout",
     "output_type": "stream",
     "text": [
      "  📖 Reading: ..//extracted_tripdata4\\2025\\202503-citibike-tripdata_4.csv\n"
     ]
    },
    {
     "name": "stderr",
     "output_type": "stream",
     "text": [
      "C:\\Users\\yanhu\\AppData\\Local\\Temp\\ipykernel_17936\\1067256146.py:17: DtypeWarning: Columns (7) have mixed types. Specify dtype option on import or set low_memory=False.\n",
      "  df = pd.read_csv(file)\n"
     ]
    },
    {
     "name": "stdout",
     "output_type": "stream",
     "text": [
      "  📖 Reading: ..//extracted_tripdata4\\2025\\202504-citibike-tripdata_1.csv\n",
      "  📖 Reading: ..//extracted_tripdata4\\2025\\202504-citibike-tripdata_2.csv\n"
     ]
    },
    {
     "name": "stderr",
     "output_type": "stream",
     "text": [
      "C:\\Users\\yanhu\\AppData\\Local\\Temp\\ipykernel_17936\\1067256146.py:17: DtypeWarning: Columns (7) have mixed types. Specify dtype option on import or set low_memory=False.\n",
      "  df = pd.read_csv(file)\n"
     ]
    },
    {
     "name": "stdout",
     "output_type": "stream",
     "text": [
      "  📖 Reading: ..//extracted_tripdata4\\2025\\202504-citibike-tripdata_3.csv\n"
     ]
    },
    {
     "name": "stderr",
     "output_type": "stream",
     "text": [
      "C:\\Users\\yanhu\\AppData\\Local\\Temp\\ipykernel_17936\\1067256146.py:17: DtypeWarning: Columns (7) have mixed types. Specify dtype option on import or set low_memory=False.\n",
      "  df = pd.read_csv(file)\n"
     ]
    },
    {
     "name": "stdout",
     "output_type": "stream",
     "text": [
      "  📖 Reading: ..//extracted_tripdata4\\2025\\202504-citibike-tripdata_4.csv\n"
     ]
    },
    {
     "name": "stderr",
     "output_type": "stream",
     "text": [
      "C:\\Users\\yanhu\\AppData\\Local\\Temp\\ipykernel_17936\\1067256146.py:17: DtypeWarning: Columns (5,7) have mixed types. Specify dtype option on import or set low_memory=False.\n",
      "  df = pd.read_csv(file)\n"
     ]
    },
    {
     "name": "stdout",
     "output_type": "stream",
     "text": [
      "  📖 Reading: ..//extracted_tripdata4\\2025\\202505-citibike-tripdata_1.csv\n"
     ]
    },
    {
     "name": "stderr",
     "output_type": "stream",
     "text": [
      "C:\\Users\\yanhu\\AppData\\Local\\Temp\\ipykernel_17936\\1067256146.py:17: DtypeWarning: Columns (5,7) have mixed types. Specify dtype option on import or set low_memory=False.\n",
      "  df = pd.read_csv(file)\n"
     ]
    },
    {
     "name": "stdout",
     "output_type": "stream",
     "text": [
      "  📖 Reading: ..//extracted_tripdata4\\2025\\202505-citibike-tripdata_2.csv\n"
     ]
    },
    {
     "name": "stderr",
     "output_type": "stream",
     "text": [
      "C:\\Users\\yanhu\\AppData\\Local\\Temp\\ipykernel_17936\\1067256146.py:17: DtypeWarning: Columns (7) have mixed types. Specify dtype option on import or set low_memory=False.\n",
      "  df = pd.read_csv(file)\n"
     ]
    },
    {
     "name": "stdout",
     "output_type": "stream",
     "text": [
      "  📖 Reading: ..//extracted_tripdata4\\2025\\202505-citibike-tripdata_3.csv\n"
     ]
    },
    {
     "name": "stderr",
     "output_type": "stream",
     "text": [
      "C:\\Users\\yanhu\\AppData\\Local\\Temp\\ipykernel_17936\\1067256146.py:17: DtypeWarning: Columns (5,7) have mixed types. Specify dtype option on import or set low_memory=False.\n",
      "  df = pd.read_csv(file)\n"
     ]
    },
    {
     "name": "stdout",
     "output_type": "stream",
     "text": [
      "  📖 Reading: ..//extracted_tripdata4\\2025\\202505-citibike-tripdata_4.csv\n"
     ]
    },
    {
     "name": "stderr",
     "output_type": "stream",
     "text": [
      "C:\\Users\\yanhu\\AppData\\Local\\Temp\\ipykernel_17936\\1067256146.py:17: DtypeWarning: Columns (5,7) have mixed types. Specify dtype option on import or set low_memory=False.\n",
      "  df = pd.read_csv(file)\n"
     ]
    },
    {
     "name": "stdout",
     "output_type": "stream",
     "text": [
      "  📖 Reading: ..//extracted_tripdata4\\2025\\202505-citibike-tripdata_5.csv\n"
     ]
    },
    {
     "name": "stderr",
     "output_type": "stream",
     "text": [
      "C:\\Users\\yanhu\\AppData\\Local\\Temp\\ipykernel_17936\\1067256146.py:17: DtypeWarning: Columns (7) have mixed types. Specify dtype option on import or set low_memory=False.\n",
      "  df = pd.read_csv(file)\n"
     ]
    },
    {
     "name": "stdout",
     "output_type": "stream",
     "text": [
      "  📖 Reading: ..//extracted_tripdata4\\2025\\202506-citibike-tripdata_1.csv\n"
     ]
    },
    {
     "name": "stderr",
     "output_type": "stream",
     "text": [
      "C:\\Users\\yanhu\\AppData\\Local\\Temp\\ipykernel_17936\\1067256146.py:17: DtypeWarning: Columns (7) have mixed types. Specify dtype option on import or set low_memory=False.\n",
      "  df = pd.read_csv(file)\n"
     ]
    },
    {
     "name": "stdout",
     "output_type": "stream",
     "text": [
      "  📖 Reading: ..//extracted_tripdata4\\2025\\202506-citibike-tripdata_2.csv\n"
     ]
    },
    {
     "name": "stderr",
     "output_type": "stream",
     "text": [
      "C:\\Users\\yanhu\\AppData\\Local\\Temp\\ipykernel_17936\\1067256146.py:17: DtypeWarning: Columns (5,7) have mixed types. Specify dtype option on import or set low_memory=False.\n",
      "  df = pd.read_csv(file)\n"
     ]
    },
    {
     "name": "stdout",
     "output_type": "stream",
     "text": [
      "  📖 Reading: ..//extracted_tripdata4\\2025\\202506-citibike-tripdata_3.csv\n"
     ]
    },
    {
     "name": "stderr",
     "output_type": "stream",
     "text": [
      "C:\\Users\\yanhu\\AppData\\Local\\Temp\\ipykernel_17936\\1067256146.py:17: DtypeWarning: Columns (7) have mixed types. Specify dtype option on import or set low_memory=False.\n",
      "  df = pd.read_csv(file)\n"
     ]
    },
    {
     "name": "stdout",
     "output_type": "stream",
     "text": [
      "  📖 Reading: ..//extracted_tripdata4\\2025\\202506-citibike-tripdata_4.csv\n"
     ]
    },
    {
     "name": "stderr",
     "output_type": "stream",
     "text": [
      "C:\\Users\\yanhu\\AppData\\Local\\Temp\\ipykernel_17936\\1067256146.py:17: DtypeWarning: Columns (7) have mixed types. Specify dtype option on import or set low_memory=False.\n",
      "  df = pd.read_csv(file)\n"
     ]
    },
    {
     "name": "stdout",
     "output_type": "stream",
     "text": [
      "  📖 Reading: ..//extracted_tripdata4\\2025\\202506-citibike-tripdata_5.csv\n"
     ]
    },
    {
     "name": "stderr",
     "output_type": "stream",
     "text": [
      "C:\\Users\\yanhu\\AppData\\Local\\Temp\\ipykernel_17936\\1067256146.py:17: DtypeWarning: Columns (7) have mixed types. Specify dtype option on import or set low_memory=False.\n",
      "  df = pd.read_csv(file)\n"
     ]
    },
    {
     "name": "stdout",
     "output_type": "stream",
     "text": [
      "  📖 Reading: ..//extracted_tripdata4\\2025\\202507-citibike-tripdata_1.csv\n"
     ]
    },
    {
     "name": "stderr",
     "output_type": "stream",
     "text": [
      "C:\\Users\\yanhu\\AppData\\Local\\Temp\\ipykernel_17936\\1067256146.py:17: DtypeWarning: Columns (7) have mixed types. Specify dtype option on import or set low_memory=False.\n",
      "  df = pd.read_csv(file)\n"
     ]
    },
    {
     "name": "stdout",
     "output_type": "stream",
     "text": [
      "  📖 Reading: ..//extracted_tripdata4\\2025\\202507-citibike-tripdata_2.csv\n"
     ]
    },
    {
     "name": "stderr",
     "output_type": "stream",
     "text": [
      "C:\\Users\\yanhu\\AppData\\Local\\Temp\\ipykernel_17936\\1067256146.py:17: DtypeWarning: Columns (7) have mixed types. Specify dtype option on import or set low_memory=False.\n",
      "  df = pd.read_csv(file)\n"
     ]
    },
    {
     "name": "stdout",
     "output_type": "stream",
     "text": [
      "  📖 Reading: ..//extracted_tripdata4\\2025\\202507-citibike-tripdata_3.csv\n"
     ]
    },
    {
     "name": "stderr",
     "output_type": "stream",
     "text": [
      "C:\\Users\\yanhu\\AppData\\Local\\Temp\\ipykernel_17936\\1067256146.py:17: DtypeWarning: Columns (7) have mixed types. Specify dtype option on import or set low_memory=False.\n",
      "  df = pd.read_csv(file)\n"
     ]
    },
    {
     "name": "stdout",
     "output_type": "stream",
     "text": [
      "  📖 Reading: ..//extracted_tripdata4\\2025\\202507-citibike-tripdata_4.csv\n"
     ]
    },
    {
     "name": "stderr",
     "output_type": "stream",
     "text": [
      "C:\\Users\\yanhu\\AppData\\Local\\Temp\\ipykernel_17936\\1067256146.py:17: DtypeWarning: Columns (7) have mixed types. Specify dtype option on import or set low_memory=False.\n",
      "  df = pd.read_csv(file)\n"
     ]
    },
    {
     "name": "stdout",
     "output_type": "stream",
     "text": [
      "  📖 Reading: ..//extracted_tripdata4\\2025\\202507-citibike-tripdata_5.csv\n"
     ]
    },
    {
     "name": "stderr",
     "output_type": "stream",
     "text": [
      "C:\\Users\\yanhu\\AppData\\Local\\Temp\\ipykernel_17936\\1067256146.py:17: DtypeWarning: Columns (7) have mixed types. Specify dtype option on import or set low_memory=False.\n",
      "  df = pd.read_csv(file)\n"
     ]
    },
    {
     "name": "stdout",
     "output_type": "stream",
     "text": [
      "  📖 Reading: ..//extracted_tripdata4\\2025\\202508-citibike-tripdata_1.csv\n"
     ]
    },
    {
     "name": "stderr",
     "output_type": "stream",
     "text": [
      "C:\\Users\\yanhu\\AppData\\Local\\Temp\\ipykernel_17936\\1067256146.py:17: DtypeWarning: Columns (7) have mixed types. Specify dtype option on import or set low_memory=False.\n",
      "  df = pd.read_csv(file)\n"
     ]
    },
    {
     "name": "stdout",
     "output_type": "stream",
     "text": [
      "  📖 Reading: ..//extracted_tripdata4\\2025\\202508-citibike-tripdata_2.csv\n"
     ]
    },
    {
     "name": "stderr",
     "output_type": "stream",
     "text": [
      "C:\\Users\\yanhu\\AppData\\Local\\Temp\\ipykernel_17936\\1067256146.py:17: DtypeWarning: Columns (7) have mixed types. Specify dtype option on import or set low_memory=False.\n",
      "  df = pd.read_csv(file)\n"
     ]
    },
    {
     "name": "stdout",
     "output_type": "stream",
     "text": [
      "  📖 Reading: ..//extracted_tripdata4\\2025\\202508-citibike-tripdata_3.csv\n"
     ]
    },
    {
     "name": "stderr",
     "output_type": "stream",
     "text": [
      "C:\\Users\\yanhu\\AppData\\Local\\Temp\\ipykernel_17936\\1067256146.py:17: DtypeWarning: Columns (7) have mixed types. Specify dtype option on import or set low_memory=False.\n",
      "  df = pd.read_csv(file)\n"
     ]
    },
    {
     "name": "stdout",
     "output_type": "stream",
     "text": [
      "  📖 Reading: ..//extracted_tripdata4\\2025\\202508-citibike-tripdata_4.csv\n"
     ]
    },
    {
     "name": "stderr",
     "output_type": "stream",
     "text": [
      "C:\\Users\\yanhu\\AppData\\Local\\Temp\\ipykernel_17936\\1067256146.py:17: DtypeWarning: Columns (7) have mixed types. Specify dtype option on import or set low_memory=False.\n",
      "  df = pd.read_csv(file)\n"
     ]
    },
    {
     "name": "stdout",
     "output_type": "stream",
     "text": [
      "  📖 Reading: ..//extracted_tripdata4\\2025\\202508-citibike-tripdata_5.csv\n"
     ]
    },
    {
     "name": "stderr",
     "output_type": "stream",
     "text": [
      "C:\\Users\\yanhu\\AppData\\Local\\Temp\\ipykernel_17936\\1067256146.py:17: DtypeWarning: Columns (7) have mixed types. Specify dtype option on import or set low_memory=False.\n",
      "  df = pd.read_csv(file)\n"
     ]
    },
    {
     "name": "stdout",
     "output_type": "stream",
     "text": [
      "  📖 Reading: ..//extracted_tripdata4\\2025\\202508-citibike-tripdata_6.csv\n"
     ]
    },
    {
     "name": "stderr",
     "output_type": "stream",
     "text": [
      "C:\\Users\\yanhu\\AppData\\Local\\Temp\\ipykernel_17936\\1067256146.py:17: DtypeWarning: Columns (7) have mixed types. Specify dtype option on import or set low_memory=False.\n",
      "  df = pd.read_csv(file)\n"
     ]
    },
    {
     "name": "stdout",
     "output_type": "stream",
     "text": [
      "  📖 Reading: ..//extracted_tripdata4\\2025\\202509-citibike-tripdata_1.csv\n"
     ]
    },
    {
     "name": "stderr",
     "output_type": "stream",
     "text": [
      "C:\\Users\\yanhu\\AppData\\Local\\Temp\\ipykernel_17936\\1067256146.py:17: DtypeWarning: Columns (7) have mixed types. Specify dtype option on import or set low_memory=False.\n",
      "  df = pd.read_csv(file)\n"
     ]
    },
    {
     "name": "stdout",
     "output_type": "stream",
     "text": [
      "  📖 Reading: ..//extracted_tripdata4\\2025\\202509-citibike-tripdata_2.csv\n"
     ]
    },
    {
     "name": "stderr",
     "output_type": "stream",
     "text": [
      "C:\\Users\\yanhu\\AppData\\Local\\Temp\\ipykernel_17936\\1067256146.py:17: DtypeWarning: Columns (7) have mixed types. Specify dtype option on import or set low_memory=False.\n",
      "  df = pd.read_csv(file)\n"
     ]
    },
    {
     "name": "stdout",
     "output_type": "stream",
     "text": [
      "  📖 Reading: ..//extracted_tripdata4\\2025\\202509-citibike-tripdata_3.csv\n"
     ]
    },
    {
     "name": "stderr",
     "output_type": "stream",
     "text": [
      "C:\\Users\\yanhu\\AppData\\Local\\Temp\\ipykernel_17936\\1067256146.py:17: DtypeWarning: Columns (7) have mixed types. Specify dtype option on import or set low_memory=False.\n",
      "  df = pd.read_csv(file)\n"
     ]
    },
    {
     "name": "stdout",
     "output_type": "stream",
     "text": [
      "  📖 Reading: ..//extracted_tripdata4\\2025\\202509-citibike-tripdata_4.csv\n"
     ]
    },
    {
     "name": "stderr",
     "output_type": "stream",
     "text": [
      "C:\\Users\\yanhu\\AppData\\Local\\Temp\\ipykernel_17936\\1067256146.py:17: DtypeWarning: Columns (7) have mixed types. Specify dtype option on import or set low_memory=False.\n",
      "  df = pd.read_csv(file)\n"
     ]
    },
    {
     "name": "stdout",
     "output_type": "stream",
     "text": [
      "  📖 Reading: ..//extracted_tripdata4\\2025\\202509-citibike-tripdata_5.csv\n"
     ]
    },
    {
     "name": "stderr",
     "output_type": "stream",
     "text": [
      "C:\\Users\\yanhu\\AppData\\Local\\Temp\\ipykernel_17936\\1067256146.py:17: DtypeWarning: Columns (7) have mixed types. Specify dtype option on import or set low_memory=False.\n",
      "  df = pd.read_csv(file)\n"
     ]
    },
    {
     "name": "stdout",
     "output_type": "stream",
     "text": [
      "  📖 Reading: ..//extracted_tripdata4\\2025\\202509-citibike-tripdata_6.csv\n",
      "  📖 Reading: ..//extracted_tripdata4\\2025\\JC-202501-citibike-tripdata.csv\n",
      "  📖 Reading: ..//extracted_tripdata4\\2025\\JC-202502-citibike-tripdata.csv\n",
      "  📖 Reading: ..//extracted_tripdata4\\2025\\JC-202503-citibike-tripdata.csv\n",
      "  📖 Reading: ..//extracted_tripdata4\\2025\\JC-202504-citibike-tripdata.csv\n",
      "  📖 Reading: ..//extracted_tripdata4\\2025\\JC-202505-citibike-tripdata.csv\n",
      "  📖 Reading: ..//extracted_tripdata4\\2025\\JC-202506-citibike-tripdata.csv\n",
      "  📖 Reading: ..//extracted_tripdata4\\2025\\JC-202507-citibike-tripdata.csv\n",
      "  📖 Reading: ..//extracted_tripdata4\\2025\\JC-202508-citibike-tripdata.csv\n",
      "  📖 Reading: ..//extracted_tripdata4\\2025\\JC-202509-citibike-tripdata.csv\n",
      "Original rows: 36303831\n",
      "  ✅ Merged CSV saved to: ..//merged_tripdata3\\2025_merged.csv\n"
     ]
    }
   ],
   "source": [
    "import os\n",
    "import pandas as pd\n",
    "\n",
    "def merge_csv_files(input_dir, output_file):\n",
    "    all_csv_files = [\n",
    "        os.path.join(input_dir, f)\n",
    "        for f in os.listdir(input_dir)\n",
    "        if f.lower().endswith('.csv')\n",
    "    ]\n",
    "\n",
    "    print(f\"\\n📁 Found {len(all_csv_files)} CSV files in {input_dir}\")\n",
    "\n",
    "    df_list = []\n",
    "    for file in all_csv_files:\n",
    "        print(f\"  📖 Reading: {file}\")\n",
    "        try:\n",
    "            df = pd.read_csv(file)\n",
    "            # Normalize columns\n",
    "            df = normalize_columns(df)\n",
    "            # Apply safe conversion\n",
    "            df['starttime'] = safe_convert_to_datetime(df['starttime'])\n",
    "            df['stoptime'] = safe_convert_to_datetime(df['stoptime'])\n",
    "            df_list.append(df)\n",
    "        except Exception as e:\n",
    "            print(f\"  ❌ Error reading {file}: {e}\")\n",
    "\n",
    "    if df_list:\n",
    "        \n",
    "        merged_df = pd.concat(df_list, ignore_index=True)\n",
    "        #cleaning\n",
    "        print(f\"Original rows: {len(merged_df)}\")\n",
    "        # Remove duplicates (based on all columns)\n",
    "        merged_df = merged_df.drop_duplicates()\n",
    "        merged_df = merged_df.sort_values(by='starttime')\n",
    "\n",
    "    \t#print(f\"Rows after removing duplicates: {len(merged_df)}\")\n",
    "        os.makedirs(os.path.dirname(output_file), exist_ok=True)\n",
    "        merged_df.to_csv(output_file, index=False)\n",
    "        print(f\"  ✅ Merged CSV saved to: {output_file}\")\n",
    "    else:\n",
    "        print(\"  ⚠️ No valid CSV files to merge.\")\n",
    "\n",
    "# === CONFIG ===\n",
    "input_root = \"..//extracted_tripdata4\"              # Parent folder with year subfolders\n",
    "output_root = \"..//merged_tripdata3\"                # Where to save merged CSVs\n",
    "os.makedirs(output_root, exist_ok=True)\n",
    "#selected_years = ['2022','2023','2024','2025']\n",
    "selected_years = [str(year) for year in range(2013, 2026)]\n",
    "for year in selected_years:\n",
    "# Loop over all subfolders (years)\n",
    "#for folder_name in os.listdir(input_root):\n",
    "    folder_path = os.path.join(input_root, year)\n",
    "    \n",
    "    if os.path.isdir(folder_path) and year.isdigit():\n",
    "        year = year\n",
    "        output_file = os.path.join(output_root, f\"{year}_merged.csv\")\n",
    "        merge_csv_files(folder_path, output_file)\n"
   ]
  },
  {
   "cell_type": "code",
   "execution_count": null,
   "id": "a54ff24d",
   "metadata": {},
   "outputs": [],
   "source": []
  }
 ],
 "metadata": {
  "kernelspec": {
   "display_name": "Python 3 (ipykernel)",
   "language": "python",
   "name": "python3"
  },
  "language_info": {
   "codemirror_mode": {
    "name": "ipython",
    "version": 3
   },
   "file_extension": ".py",
   "mimetype": "text/x-python",
   "name": "python",
   "nbconvert_exporter": "python",
   "pygments_lexer": "ipython3",
   "version": "3.10.2"
  }
 },
 "nbformat": 4,
 "nbformat_minor": 5
}
